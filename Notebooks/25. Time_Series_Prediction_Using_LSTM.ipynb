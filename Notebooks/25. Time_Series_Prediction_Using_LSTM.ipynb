{
 "cells": [
  {
   "cell_type": "markdown",
   "metadata": {
    "colab_type": "text",
    "id": "5FzgXsQiOqYI"
   },
   "source": [
    "## Time Series Prediction using LSTM"
   ]
  },
  {
   "cell_type": "markdown",
   "metadata": {
    "colab_type": "text",
    "id": "TN7FO8B1OqYW"
   },
   "source": [
    "### Download Data\n",
    "Link: https://datamarket.com/data/set/2324/daily-minimum-temperatures-in-melbourne-australia-1981-1990#!ds=2324&display=line\n",
    "\n",
    "#### Description\n",
    "Daily minimum temperatures in Melbourne, Australia, 1981-1990\n",
    "\n",
    "Units: Degrees Celcius\n",
    "\n",
    "#### Steps before loading\n",
    "- Rename the column name with temprature values to \"Temprature\"\n",
    "- In the last, there is one extra row in the data, remove it by opening the file and save it again.\n",
    "- There are some values in Temprature column which have a \"?\" before them, they will give error, remove \"?\" before them and save the file\n",
    "- If you don't want to do these steps, just load the data file given by Great Learning."
   ]
  },
  {
   "cell_type": "markdown",
   "metadata": {
    "colab_type": "text",
    "id": "soYpSKy-OqYc"
   },
   "source": [
    "#### Mount google drive"
   ]
  },
  {
   "cell_type": "code",
   "execution_count": 1,
   "metadata": {
    "colab": {
     "base_uri": "https://localhost:8080/",
     "height": 34
    },
    "colab_type": "code",
    "executionInfo": {
     "elapsed": 943,
     "status": "ok",
     "timestamp": 1583677046454,
     "user": {
      "displayName": "Vihan Parmar",
      "photoUrl": "https://lh3.googleusercontent.com/a-/AOh14GgAssvLmn_w5xeX9qyFZBLdGe5MZ0CgOc0JVaqgyg=s64",
      "userId": "11448973563679387390"
     },
     "user_tz": -330
    },
    "id": "VjoLRSg57qlt",
    "outputId": "f92d05c0-9a62-4bb3-c545-e789855f2ce1"
   },
   "outputs": [
    {
     "name": "stdout",
     "output_type": "stream",
     "text": [
      "Drive already mounted at /content/drive/; to attempt to forcibly remount, call drive.mount(\"/content/drive/\", force_remount=True).\n"
     ]
    }
   ],
   "source": [
    "from google.colab import drive\n",
    "drive.mount('/content/drive/')"
   ]
  },
  {
   "cell_type": "markdown",
   "metadata": {
    "colab_type": "text",
    "id": "utl15Az5OqY2"
   },
   "source": [
    "#### Change your present working directory"
   ]
  },
  {
   "cell_type": "code",
   "execution_count": 0,
   "metadata": {
    "colab": {},
    "colab_type": "code",
    "id": "xDmyrLSbOqY6"
   },
   "outputs": [],
   "source": [
    "import os\n",
    "os.chdir('/content/drive/My Drive')"
   ]
  },
  {
   "cell_type": "code",
   "execution_count": 3,
   "metadata": {
    "colab": {
     "base_uri": "https://localhost:8080/",
     "height": 34
    },
    "colab_type": "code",
    "executionInfo": {
     "elapsed": 806,
     "status": "ok",
     "timestamp": 1583677053867,
     "user": {
      "displayName": "Vihan Parmar",
      "photoUrl": "https://lh3.googleusercontent.com/a-/AOh14GgAssvLmn_w5xeX9qyFZBLdGe5MZ0CgOc0JVaqgyg=s64",
      "userId": "11448973563679387390"
     },
     "user_tz": -330
    },
    "id": "3xjOPYzeQVWW",
    "outputId": "826e6bf0-c727-49bc-87ec-ee2bfbf08519"
   },
   "outputs": [
    {
     "data": {
      "text/plain": [
       "'/content/drive/My Drive'"
      ]
     },
     "execution_count": 3,
     "metadata": {
      "tags": []
     },
     "output_type": "execute_result"
    }
   ],
   "source": [
    "os.getcwd()"
   ]
  },
  {
   "cell_type": "markdown",
   "metadata": {
    "colab_type": "text",
    "id": "7OwIOJ8SOqZK"
   },
   "source": [
    "### Load your data file"
   ]
  },
  {
   "cell_type": "code",
   "execution_count": 0,
   "metadata": {
    "colab": {},
    "colab_type": "code",
    "id": "AanHqGBu7Jw2"
   },
   "outputs": [],
   "source": [
    "import pandas as pd\n",
    "DF = pd.read_csv('/content/drive/My Drive/minimum_temperature.csv')"
   ]
  },
  {
   "cell_type": "code",
   "execution_count": 5,
   "metadata": {
    "colab": {
     "base_uri": "https://localhost:8080/",
     "height": 343
    },
    "colab_type": "code",
    "executionInfo": {
     "elapsed": 939,
     "status": "ok",
     "timestamp": 1583677060533,
     "user": {
      "displayName": "Vihan Parmar",
      "photoUrl": "https://lh3.googleusercontent.com/a-/AOh14GgAssvLmn_w5xeX9qyFZBLdGe5MZ0CgOc0JVaqgyg=s64",
      "userId": "11448973563679387390"
     },
     "user_tz": -330
    },
    "id": "pWA28G2jQy7x",
    "outputId": "373cb274-6b5d-4479-c698-d5602f753c36"
   },
   "outputs": [
    {
     "data": {
      "text/html": [
       "<div>\n",
       "<style scoped>\n",
       "    .dataframe tbody tr th:only-of-type {\n",
       "        vertical-align: middle;\n",
       "    }\n",
       "\n",
       "    .dataframe tbody tr th {\n",
       "        vertical-align: top;\n",
       "    }\n",
       "\n",
       "    .dataframe thead th {\n",
       "        text-align: right;\n",
       "    }\n",
       "</style>\n",
       "<table border=\"1\" class=\"dataframe\">\n",
       "  <thead>\n",
       "    <tr style=\"text-align: right;\">\n",
       "      <th></th>\n",
       "      <th>Date</th>\n",
       "      <th>Temperature</th>\n",
       "    </tr>\n",
       "  </thead>\n",
       "  <tbody>\n",
       "    <tr>\n",
       "      <th>0</th>\n",
       "      <td>1981-01-01</td>\n",
       "      <td>20.7</td>\n",
       "    </tr>\n",
       "    <tr>\n",
       "      <th>1</th>\n",
       "      <td>1981-01-02</td>\n",
       "      <td>17.9</td>\n",
       "    </tr>\n",
       "    <tr>\n",
       "      <th>2</th>\n",
       "      <td>1981-01-03</td>\n",
       "      <td>18.8</td>\n",
       "    </tr>\n",
       "    <tr>\n",
       "      <th>3</th>\n",
       "      <td>1981-01-04</td>\n",
       "      <td>14.6</td>\n",
       "    </tr>\n",
       "    <tr>\n",
       "      <th>4</th>\n",
       "      <td>1981-01-05</td>\n",
       "      <td>15.8</td>\n",
       "    </tr>\n",
       "    <tr>\n",
       "      <th>5</th>\n",
       "      <td>1981-01-06</td>\n",
       "      <td>15.8</td>\n",
       "    </tr>\n",
       "    <tr>\n",
       "      <th>6</th>\n",
       "      <td>1981-01-07</td>\n",
       "      <td>15.8</td>\n",
       "    </tr>\n",
       "    <tr>\n",
       "      <th>7</th>\n",
       "      <td>1981-01-08</td>\n",
       "      <td>17.4</td>\n",
       "    </tr>\n",
       "    <tr>\n",
       "      <th>8</th>\n",
       "      <td>1981-01-09</td>\n",
       "      <td>21.8</td>\n",
       "    </tr>\n",
       "    <tr>\n",
       "      <th>9</th>\n",
       "      <td>1981-01-10</td>\n",
       "      <td>20.0</td>\n",
       "    </tr>\n",
       "  </tbody>\n",
       "</table>\n",
       "</div>"
      ],
      "text/plain": [
       "         Date  Temperature\n",
       "0  1981-01-01         20.7\n",
       "1  1981-01-02         17.9\n",
       "2  1981-01-03         18.8\n",
       "3  1981-01-04         14.6\n",
       "4  1981-01-05         15.8\n",
       "5  1981-01-06         15.8\n",
       "6  1981-01-07         15.8\n",
       "7  1981-01-08         17.4\n",
       "8  1981-01-09         21.8\n",
       "9  1981-01-10         20.0"
      ]
     },
     "execution_count": 5,
     "metadata": {
      "tags": []
     },
     "output_type": "execute_result"
    }
   ],
   "source": [
    "DF.head(10)"
   ]
  },
  {
   "cell_type": "code",
   "execution_count": 0,
   "metadata": {
    "colab": {},
    "colab_type": "code",
    "id": "I2CiMqLtZfek"
   },
   "outputs": [],
   "source": [
    "DF1 = DF.copy()"
   ]
  },
  {
   "cell_type": "markdown",
   "metadata": {
    "colab_type": "text",
    "id": "jfinbs4JOqZX"
   },
   "source": [
    "#### Plot data"
   ]
  },
  {
   "cell_type": "code",
   "execution_count": 7,
   "metadata": {
    "colab": {
     "base_uri": "https://localhost:8080/",
     "height": 313
    },
    "colab_type": "code",
    "executionInfo": {
     "elapsed": 83653,
     "status": "ok",
     "timestamp": 1583677147749,
     "user": {
      "displayName": "Vihan Parmar",
      "photoUrl": "https://lh3.googleusercontent.com/a-/AOh14GgAssvLmn_w5xeX9qyFZBLdGe5MZ0CgOc0JVaqgyg=s64",
      "userId": "11448973563679387390"
     },
     "user_tz": -330
    },
    "id": "0c33iHtMOqZZ",
    "outputId": "02755530-5df6-4925-ee4d-776e57be1943"
   },
   "outputs": [
    {
     "data": {
      "text/plain": [
       "Text(0.5, 1.0, 'Time-series graph for Temperature')"
      ]
     },
     "execution_count": 7,
     "metadata": {
      "tags": []
     },
     "output_type": "execute_result"
    },
    {
     "data": {
      "image/png": "[encoded data removed]",
      "text/plain": [
       "<Figure size 432x288 with 1 Axes>"
      ]
     },
     "metadata": {
      "tags": []
     },
     "output_type": "display_data"
    }
   ],
   "source": [
    "import matplotlib.pyplot as plt\n",
    "\n",
    "plt.plot(DF1['Date'],DF1['Temperature'])\n",
    "plt.xlabel('Dates')\n",
    "plt.ylabel('Temperature')\n",
    "plt.title('Time-series graph for Temperature')"
   ]
  },
  {
   "cell_type": "markdown",
   "metadata": {
    "colab_type": "text",
    "id": "DdlJxl_9OqZf"
   },
   "source": [
    "#### Descibe your dataframe"
   ]
  },
  {
   "cell_type": "code",
   "execution_count": 8,
   "metadata": {
    "colab": {
     "base_uri": "https://localhost:8080/",
     "height": 284
    },
    "colab_type": "code",
    "executionInfo": {
     "elapsed": 6313,
     "status": "ok",
     "timestamp": 1583677147750,
     "user": {
      "displayName": "Vihan Parmar",
      "photoUrl": "https://lh3.googleusercontent.com/a-/AOh14GgAssvLmn_w5xeX9qyFZBLdGe5MZ0CgOc0JVaqgyg=s64",
      "userId": "11448973563679387390"
     },
     "user_tz": -330
    },
    "id": "oBWNA_kG7JxC",
    "outputId": "5217a02a-0a99-4aef-c4fb-6b5c51dd8de9"
   },
   "outputs": [
    {
     "data": {
      "text/html": [
       "<div>\n",
       "<style scoped>\n",
       "    .dataframe tbody tr th:only-of-type {\n",
       "        vertical-align: middle;\n",
       "    }\n",
       "\n",
       "    .dataframe tbody tr th {\n",
       "        vertical-align: top;\n",
       "    }\n",
       "\n",
       "    .dataframe thead th {\n",
       "        text-align: right;\n",
       "    }\n",
       "</style>\n",
       "<table border=\"1\" class=\"dataframe\">\n",
       "  <thead>\n",
       "    <tr style=\"text-align: right;\">\n",
       "      <th></th>\n",
       "      <th>Temperature</th>\n",
       "    </tr>\n",
       "  </thead>\n",
       "  <tbody>\n",
       "    <tr>\n",
       "      <th>count</th>\n",
       "      <td>3650.000000</td>\n",
       "    </tr>\n",
       "    <tr>\n",
       "      <th>mean</th>\n",
       "      <td>11.177753</td>\n",
       "    </tr>\n",
       "    <tr>\n",
       "      <th>std</th>\n",
       "      <td>4.071837</td>\n",
       "    </tr>\n",
       "    <tr>\n",
       "      <th>min</th>\n",
       "      <td>0.000000</td>\n",
       "    </tr>\n",
       "    <tr>\n",
       "      <th>25%</th>\n",
       "      <td>8.300000</td>\n",
       "    </tr>\n",
       "    <tr>\n",
       "      <th>50%</th>\n",
       "      <td>11.000000</td>\n",
       "    </tr>\n",
       "    <tr>\n",
       "      <th>75%</th>\n",
       "      <td>14.000000</td>\n",
       "    </tr>\n",
       "    <tr>\n",
       "      <th>max</th>\n",
       "      <td>26.300000</td>\n",
       "    </tr>\n",
       "  </tbody>\n",
       "</table>\n",
       "</div>"
      ],
      "text/plain": [
       "       Temperature\n",
       "count  3650.000000\n",
       "mean     11.177753\n",
       "std       4.071837\n",
       "min       0.000000\n",
       "25%       8.300000\n",
       "50%      11.000000\n",
       "75%      14.000000\n",
       "max      26.300000"
      ]
     },
     "execution_count": 8,
     "metadata": {
      "tags": []
     },
     "output_type": "execute_result"
    }
   ],
   "source": [
    "DF1.describe()"
   ]
  },
  {
   "cell_type": "code",
   "execution_count": 9,
   "metadata": {
    "colab": {
     "base_uri": "https://localhost:8080/",
     "height": 282
    },
    "colab_type": "code",
    "executionInfo": {
     "elapsed": 4292,
     "status": "ok",
     "timestamp": 1583677147750,
     "user": {
      "displayName": "Vihan Parmar",
      "photoUrl": "https://lh3.googleusercontent.com/a-/AOh14GgAssvLmn_w5xeX9qyFZBLdGe5MZ0CgOc0JVaqgyg=s64",
      "userId": "11448973563679387390"
     },
     "user_tz": -330
    },
    "id": "_-OIhexNRtiW",
    "outputId": "5977b099-0fa8-40cc-8c56-f0773764ef93"
   },
   "outputs": [
    {
     "data": {
      "text/plain": [
       "<matplotlib.axes._subplots.AxesSubplot at 0x7fdd220639b0>"
      ]
     },
     "execution_count": 9,
     "metadata": {
      "tags": []
     },
     "output_type": "execute_result"
    },
    {
     "data": {
      "image/png": "[encoded data removed]",
      "text/plain": [
       "<Figure size 432x288 with 1 Axes>"
      ]
     },
     "metadata": {
      "tags": []
     },
     "output_type": "display_data"
    }
   ],
   "source": [
    "DF1.boxplot(column='Temperature')"
   ]
  },
  {
   "cell_type": "markdown",
   "metadata": {
    "colab_type": "text",
    "id": "jxOPDxieOqZm"
   },
   "source": [
    "#### Check for null values"
   ]
  },
  {
   "cell_type": "code",
   "execution_count": 10,
   "metadata": {
    "colab": {
     "base_uri": "https://localhost:8080/",
     "height": 70
    },
    "colab_type": "code",
    "executionInfo": {
     "elapsed": 2442,
     "status": "ok",
     "timestamp": 1583677147751,
     "user": {
      "displayName": "Vihan Parmar",
      "photoUrl": "https://lh3.googleusercontent.com/a-/AOh14GgAssvLmn_w5xeX9qyFZBLdGe5MZ0CgOc0JVaqgyg=s64",
      "userId": "11448973563679387390"
     },
     "user_tz": -330
    },
    "id": "97MVIy_N7JxH",
    "outputId": "be158da9-7a02-4007-80e8-86b30cb37323"
   },
   "outputs": [
    {
     "data": {
      "text/plain": [
       "Date           0\n",
       "Temperature    0\n",
       "dtype: int64"
      ]
     },
     "execution_count": 10,
     "metadata": {
      "tags": []
     },
     "output_type": "execute_result"
    }
   ],
   "source": [
    "DF1.isnull().sum()"
   ]
  },
  {
   "cell_type": "markdown",
   "metadata": {
    "colab_type": "text",
    "id": "8Ge1d5CzOqZr"
   },
   "source": [
    "#### Drop null values"
   ]
  },
  {
   "cell_type": "code",
   "execution_count": 0,
   "metadata": {
    "colab": {},
    "colab_type": "code",
    "id": "fgh7mdOI7JxS"
   },
   "outputs": [],
   "source": [
    "#There are no null values. "
   ]
  },
  {
   "cell_type": "markdown",
   "metadata": {
    "colab_type": "text",
    "id": "w191hq8kOqZw"
   },
   "source": [
    "#### Get the representation of the distribution of data in the form of histogram"
   ]
  },
  {
   "cell_type": "code",
   "execution_count": 12,
   "metadata": {
    "colab": {
     "base_uri": "https://localhost:8080/",
     "height": 335
    },
    "colab_type": "code",
    "executionInfo": {
     "elapsed": 966,
     "status": "ok",
     "timestamp": 1583677162693,
     "user": {
      "displayName": "Vihan Parmar",
      "photoUrl": "https://lh3.googleusercontent.com/a-/AOh14GgAssvLmn_w5xeX9qyFZBLdGe5MZ0CgOc0JVaqgyg=s64",
      "userId": "11448973563679387390"
     },
     "user_tz": -330
    },
    "id": "659sLAx27Jxc",
    "outputId": "5af57e0d-8ee0-44a0-9269-fdce67b49c16"
   },
   "outputs": [
    {
     "data": {
      "text/plain": [
       "(array([ 53., 181., 564., 862., 830., 670., 347., 102.,  32.,   9.]),\n",
       " array([ 0.  ,  2.63,  5.26,  7.89, 10.52, 13.15, 15.78, 18.41, 21.04,\n",
       "        23.67, 26.3 ]),\n",
       " <a list of 10 Patch objects>)"
      ]
     },
     "execution_count": 12,
     "metadata": {
      "tags": []
     },
     "output_type": "execute_result"
    },
    {
     "data": {
      "image/png": "[encoded data removed]",
      "text/plain": [
       "<Figure size 432x288 with 1 Axes>"
      ]
     },
     "metadata": {
      "tags": []
     },
     "output_type": "display_data"
    }
   ],
   "source": [
    "plt.hist(DF1['Temperature'])"
   ]
  },
  {
   "cell_type": "markdown",
   "metadata": {
    "colab_type": "text",
    "id": "YXwnk78nOqZ0"
   },
   "source": [
    "#### Check the maximum and minimum values"
   ]
  },
  {
   "cell_type": "code",
   "execution_count": 13,
   "metadata": {
    "colab": {
     "base_uri": "https://localhost:8080/",
     "height": 122
    },
    "colab_type": "code",
    "executionInfo": {
     "elapsed": 703,
     "status": "ok",
     "timestamp": 1583677163922,
     "user": {
      "displayName": "Vihan Parmar",
      "photoUrl": "https://lh3.googleusercontent.com/a-/AOh14GgAssvLmn_w5xeX9qyFZBLdGe5MZ0CgOc0JVaqgyg=s64",
      "userId": "11448973563679387390"
     },
     "user_tz": -330
    },
    "id": "WmkjCx8c7Jxn",
    "outputId": "355612fc-8a0f-44e9-938a-f6f1898498bd"
   },
   "outputs": [
    {
     "name": "stdout",
     "output_type": "stream",
     "text": [
      "The maximum value is: Date           1990-12-31\n",
      "Temperature          26.3\n",
      "dtype: object\n",
      "The minimum value is: Date           1981-01-01\n",
      "Temperature             0\n",
      "dtype: object\n"
     ]
    }
   ],
   "source": [
    "print(\"The maximum value is:\", DF1.max())\n",
    "print(\"The minimum value is:\", DF1.min())"
   ]
  },
  {
   "cell_type": "markdown",
   "metadata": {
    "colab_type": "text",
    "id": "wQX2oikDOqZ4"
   },
   "source": [
    "### Normalize the data"
   ]
  },
  {
   "cell_type": "code",
   "execution_count": 0,
   "metadata": {
    "colab": {},
    "colab_type": "code",
    "id": "fb4SNzD27Jxw"
   },
   "outputs": [],
   "source": [
    "\n",
    "DF1.drop(columns = 'Date', inplace = True)"
   ]
  },
  {
   "cell_type": "code",
   "execution_count": 15,
   "metadata": {
    "colab": {
     "base_uri": "https://localhost:8080/",
     "height": 34
    },
    "colab_type": "code",
    "executionInfo": {
     "elapsed": 957,
     "status": "ok",
     "timestamp": 1583677170118,
     "user": {
      "displayName": "Vihan Parmar",
      "photoUrl": "https://lh3.googleusercontent.com/a-/AOh14GgAssvLmn_w5xeX9qyFZBLdGe5MZ0CgOc0JVaqgyg=s64",
      "userId": "11448973563679387390"
     },
     "user_tz": -330
    },
    "id": "ODdaPY0sSpIn",
    "outputId": "2cca76ce-859f-438e-8a68-faff2c7b50c0"
   },
   "outputs": [
    {
     "data": {
      "text/plain": [
       "(3650, 1)"
      ]
     },
     "execution_count": 15,
     "metadata": {
      "tags": []
     },
     "output_type": "execute_result"
    }
   ],
   "source": [
    "DF1.shape"
   ]
  },
  {
   "cell_type": "code",
   "execution_count": 0,
   "metadata": {
    "colab": {},
    "colab_type": "code",
    "id": "g3KuJrlOSpCP"
   },
   "outputs": [],
   "source": [
    "import numpy as np"
   ]
  },
  {
   "cell_type": "code",
   "execution_count": 0,
   "metadata": {
    "colab": {},
    "colab_type": "code",
    "id": "xNKgchrbSou6"
   },
   "outputs": [],
   "source": [
    "from sklearn.preprocessing import MinMaxScaler\n",
    "\n",
    "scale = MinMaxScaler()\n",
    "\n",
    "DF1 = scale.fit_transform(DF1)"
   ]
  },
  {
   "cell_type": "markdown",
   "metadata": {
    "colab_type": "text",
    "id": "rKCDjSEWOqZ9"
   },
   "source": [
    "#### Check the maximum and minimum values of scaled data"
   ]
  },
  {
   "cell_type": "code",
   "execution_count": 18,
   "metadata": {
    "colab": {
     "base_uri": "https://localhost:8080/",
     "height": 52
    },
    "colab_type": "code",
    "executionInfo": {
     "elapsed": 694,
     "status": "ok",
     "timestamp": 1583677178802,
     "user": {
      "displayName": "Vihan Parmar",
      "photoUrl": "https://lh3.googleusercontent.com/a-/AOh14GgAssvLmn_w5xeX9qyFZBLdGe5MZ0CgOc0JVaqgyg=s64",
      "userId": "11448973563679387390"
     },
     "user_tz": -330
    },
    "id": "clv2rSfL7Jx4",
    "outputId": "d02db428-04b4-4011-e667-ba54de5c3e15"
   },
   "outputs": [
    {
     "name": "stdout",
     "output_type": "stream",
     "text": [
      "The maximum value is: 1.0\n",
      "The minimum value is: 0.0\n"
     ]
    }
   ],
   "source": [
    "print(\"The maximum value is:\", DF1.max())\n",
    "print(\"The minimum value is:\", DF1.min())"
   ]
  },
  {
   "cell_type": "markdown",
   "metadata": {
    "colab_type": "text",
    "id": "0Gc9jNBvOqaB"
   },
   "source": [
    "#### Look into some of the scaled values"
   ]
  },
  {
   "cell_type": "code",
   "execution_count": 19,
   "metadata": {
    "colab": {
     "base_uri": "https://localhost:8080/",
     "height": 140
    },
    "colab_type": "code",
    "executionInfo": {
     "elapsed": 1053,
     "status": "ok",
     "timestamp": 1583677181350,
     "user": {
      "displayName": "Vihan Parmar",
      "photoUrl": "https://lh3.googleusercontent.com/a-/AOh14GgAssvLmn_w5xeX9qyFZBLdGe5MZ0CgOc0JVaqgyg=s64",
      "userId": "11448973563679387390"
     },
     "user_tz": -330
    },
    "id": "Xq9CBinO7Jx9",
    "outputId": "56c13c6e-df3f-45e8-ec51-8f208a9856e7"
   },
   "outputs": [
    {
     "data": {
      "text/plain": [
       "array([[0.78707224],\n",
       "       [0.68060837],\n",
       "       [0.7148289 ],\n",
       "       ...,\n",
       "       [0.51330798],\n",
       "       [0.59695817],\n",
       "       [0.49429658]])"
      ]
     },
     "execution_count": 19,
     "metadata": {
      "tags": []
     },
     "output_type": "execute_result"
    }
   ],
   "source": [
    "DF1"
   ]
  },
  {
   "cell_type": "code",
   "execution_count": 20,
   "metadata": {
    "colab": {
     "base_uri": "https://localhost:8080/",
     "height": 34
    },
    "colab_type": "code",
    "executionInfo": {
     "elapsed": 907,
     "status": "ok",
     "timestamp": 1583677183073,
     "user": {
      "displayName": "Vihan Parmar",
      "photoUrl": "https://lh3.googleusercontent.com/a-/AOh14GgAssvLmn_w5xeX9qyFZBLdGe5MZ0CgOc0JVaqgyg=s64",
      "userId": "11448973563679387390"
     },
     "user_tz": -330
    },
    "id": "DPf1Gl57TNjR",
    "outputId": "2a158755-b0d3-40ae-aeec-8b0a8654d22b"
   },
   "outputs": [
    {
     "data": {
      "text/plain": [
       "(3650, 1)"
      ]
     },
     "execution_count": 20,
     "metadata": {
      "tags": []
     },
     "output_type": "execute_result"
    }
   ],
   "source": [
    "DF1.shape"
   ]
  },
  {
   "cell_type": "markdown",
   "metadata": {
    "colab_type": "text",
    "id": "oAvBTrtKOqaG"
   },
   "source": [
    "### Split data into Training and Testing"
   ]
  },
  {
   "cell_type": "code",
   "execution_count": 21,
   "metadata": {
    "colab": {
     "base_uri": "https://localhost:8080/",
     "height": 34
    },
    "colab_type": "code",
    "executionInfo": {
     "elapsed": 948,
     "status": "ok",
     "timestamp": 1583677187165,
     "user": {
      "displayName": "Vihan Parmar",
      "photoUrl": "https://lh3.googleusercontent.com/a-/AOh14GgAssvLmn_w5xeX9qyFZBLdGe5MZ0CgOc0JVaqgyg=s64",
      "userId": "11448973563679387390"
     },
     "user_tz": -330
    },
    "id": "-0Uh7lCO7JyD",
    "outputId": "f780d7db-0551-4e84-c57f-db17ea0e4305"
   },
   "outputs": [
    {
     "name": "stdout",
     "output_type": "stream",
     "text": [
      "2555\n"
     ]
    }
   ],
   "source": [
    "a = int(len(DF1)*0.7)\n",
    "print(a)"
   ]
  },
  {
   "cell_type": "code",
   "execution_count": 0,
   "metadata": {
    "colab": {},
    "colab_type": "code",
    "id": "QAOXrrCXTjlg"
   },
   "outputs": [],
   "source": [
    "for i in range(a):\n",
    "   train_set = DF1[:i,:]\n",
    "   test_set = DF1[len(train_set):,:]"
   ]
  },
  {
   "cell_type": "code",
   "execution_count": 23,
   "metadata": {
    "colab": {
     "base_uri": "https://localhost:8080/",
     "height": 140
    },
    "colab_type": "code",
    "executionInfo": {
     "elapsed": 893,
     "status": "ok",
     "timestamp": 1583677191609,
     "user": {
      "displayName": "Vihan Parmar",
      "photoUrl": "https://lh3.googleusercontent.com/a-/AOh14GgAssvLmn_w5xeX9qyFZBLdGe5MZ0CgOc0JVaqgyg=s64",
      "userId": "11448973563679387390"
     },
     "user_tz": -330
    },
    "id": "G8Re6bnGTjiG",
    "outputId": "ea15c1a5-9d5b-4a20-c338-da00df051308"
   },
   "outputs": [
    {
     "data": {
      "text/plain": [
       "array([[0.78707224],\n",
       "       [0.68060837],\n",
       "       [0.7148289 ],\n",
       "       ...,\n",
       "       [0.53992395],\n",
       "       [0.54372624],\n",
       "       [0.50570342]])"
      ]
     },
     "execution_count": 23,
     "metadata": {
      "tags": []
     },
     "output_type": "execute_result"
    }
   ],
   "source": [
    "train_set"
   ]
  },
  {
   "cell_type": "code",
   "execution_count": 24,
   "metadata": {
    "colab": {
     "base_uri": "https://localhost:8080/",
     "height": 140
    },
    "colab_type": "code",
    "executionInfo": {
     "elapsed": 609,
     "status": "ok",
     "timestamp": 1583677192902,
     "user": {
      "displayName": "Vihan Parmar",
      "photoUrl": "https://lh3.googleusercontent.com/a-/AOh14GgAssvLmn_w5xeX9qyFZBLdGe5MZ0CgOc0JVaqgyg=s64",
      "userId": "11448973563679387390"
     },
     "user_tz": -330
    },
    "id": "nXjwZnOITjfb",
    "outputId": "5ec02dbd-5942-4801-a830-e7ef8fbc054d"
   },
   "outputs": [
    {
     "data": {
      "text/plain": [
       "array([[0.63498099],\n",
       "       [0.58174905],\n",
       "       [0.54372624],\n",
       "       ...,\n",
       "       [0.51330798],\n",
       "       [0.59695817],\n",
       "       [0.49429658]])"
      ]
     },
     "execution_count": 24,
     "metadata": {
      "tags": []
     },
     "output_type": "execute_result"
    }
   ],
   "source": [
    "test_set"
   ]
  },
  {
   "cell_type": "markdown",
   "metadata": {
    "colab_type": "text",
    "id": "rJHi7s5TOqaK"
   },
   "source": [
    "#### Print train and test size"
   ]
  },
  {
   "cell_type": "code",
   "execution_count": 25,
   "metadata": {
    "colab": {
     "base_uri": "https://localhost:8080/",
     "height": 34
    },
    "colab_type": "code",
    "executionInfo": {
     "elapsed": 925,
     "status": "ok",
     "timestamp": 1583677195628,
     "user": {
      "displayName": "Vihan Parmar",
      "photoUrl": "https://lh3.googleusercontent.com/a-/AOh14GgAssvLmn_w5xeX9qyFZBLdGe5MZ0CgOc0JVaqgyg=s64",
      "userId": "11448973563679387390"
     },
     "user_tz": -330
    },
    "id": "TJcSdO2XOqaK",
    "outputId": "5962599a-1895-4baa-affa-c581310237c4"
   },
   "outputs": [
    {
     "data": {
      "text/plain": [
       "2554"
      ]
     },
     "execution_count": 25,
     "metadata": {
      "tags": []
     },
     "output_type": "execute_result"
    }
   ],
   "source": [
    "train_set.size"
   ]
  },
  {
   "cell_type": "code",
   "execution_count": 26,
   "metadata": {
    "colab": {
     "base_uri": "https://localhost:8080/",
     "height": 34
    },
    "colab_type": "code",
    "executionInfo": {
     "elapsed": 852,
     "status": "ok",
     "timestamp": 1583677196791,
     "user": {
      "displayName": "Vihan Parmar",
      "photoUrl": "https://lh3.googleusercontent.com/a-/AOh14GgAssvLmn_w5xeX9qyFZBLdGe5MZ0CgOc0JVaqgyg=s64",
      "userId": "11448973563679387390"
     },
     "user_tz": -330
    },
    "id": "4VYKsWGpUgCC",
    "outputId": "9417902d-cd1a-4a79-e1f6-ce7366e518c2"
   },
   "outputs": [
    {
     "data": {
      "text/plain": [
       "(2554, 1)"
      ]
     },
     "execution_count": 26,
     "metadata": {
      "tags": []
     },
     "output_type": "execute_result"
    }
   ],
   "source": [
    "train_set.shape"
   ]
  },
  {
   "cell_type": "code",
   "execution_count": 27,
   "metadata": {
    "colab": {
     "base_uri": "https://localhost:8080/",
     "height": 34
    },
    "colab_type": "code",
    "executionInfo": {
     "elapsed": 640,
     "status": "ok",
     "timestamp": 1583677197980,
     "user": {
      "displayName": "Vihan Parmar",
      "photoUrl": "https://lh3.googleusercontent.com/a-/AOh14GgAssvLmn_w5xeX9qyFZBLdGe5MZ0CgOc0JVaqgyg=s64",
      "userId": "11448973563679387390"
     },
     "user_tz": -330
    },
    "id": "whSLb7_qUf-m",
    "outputId": "f5ba6419-7318-442d-854c-6114130079ef"
   },
   "outputs": [
    {
     "data": {
      "text/plain": [
       "1096"
      ]
     },
     "execution_count": 27,
     "metadata": {
      "tags": []
     },
     "output_type": "execute_result"
    }
   ],
   "source": [
    "test_set.size"
   ]
  },
  {
   "cell_type": "code",
   "execution_count": 28,
   "metadata": {
    "colab": {
     "base_uri": "https://localhost:8080/",
     "height": 34
    },
    "colab_type": "code",
    "executionInfo": {
     "elapsed": 588,
     "status": "ok",
     "timestamp": 1583677198535,
     "user": {
      "displayName": "Vihan Parmar",
      "photoUrl": "https://lh3.googleusercontent.com/a-/AOh14GgAssvLmn_w5xeX9qyFZBLdGe5MZ0CgOc0JVaqgyg=s64",
      "userId": "11448973563679387390"
     },
     "user_tz": -330
    },
    "id": "ch4tbo9fUf8C",
    "outputId": "f8dd7177-d3ed-4461-ad7d-d5334675934b"
   },
   "outputs": [
    {
     "data": {
      "text/plain": [
       "(1096, 1)"
      ]
     },
     "execution_count": 28,
     "metadata": {
      "tags": []
     },
     "output_type": "execute_result"
    }
   ],
   "source": [
    "test_set.shape"
   ]
  },
  {
   "cell_type": "markdown",
   "metadata": {
    "colab_type": "text",
    "id": "UPcVuyZbOqaN"
   },
   "source": [
    "## Create the sequential data\n",
    "Map the temprature at a particular time t to the temprature at time t+n, where n is any number you define.\n",
    "\n",
    "For example: to map tempratures of consecutive days, use t+1, i.e. loop_back = 1"
   ]
  },
  {
   "cell_type": "markdown",
   "metadata": {
    "colab_type": "text",
    "id": "Pwfi6K6cOqaN"
   },
   "source": [
    "#### Define your function to create dataset"
   ]
  },
  {
   "cell_type": "code",
   "execution_count": 0,
   "metadata": {
    "colab": {},
    "colab_type": "code",
    "id": "jWIvInPB7JyK"
   },
   "outputs": [],
   "source": [
    "#Window: How long the sequence will be\n",
    "\n",
    "def create_dataset(dataset, window=1):\n",
    "    \n",
    "    dataX, dataY = [], []\n",
    "    \n",
    "    for i in range(len(dataset)-window):\n",
    "        \n",
    "        b = dataset[i:(i+window), 0]        \n",
    "        dataX.append(b)\n",
    "        dataY.append(dataset[i + window, 0])\n",
    "    \n",
    "    return np.array(dataX), np.array(dataY)"
   ]
  },
  {
   "cell_type": "code",
   "execution_count": 0,
   "metadata": {
    "colab": {},
    "colab_type": "code",
    "id": "L9H5pOetUu53"
   },
   "outputs": [],
   "source": [
    "X_train, y_train = create_dataset(train_set, 1)\n",
    "X_test, y_test = create_dataset(test_set, 1)"
   ]
  },
  {
   "cell_type": "markdown",
   "metadata": {
    "colab_type": "text",
    "id": "1JC-uacMOqaS"
   },
   "source": [
    "#### Use function to get training and test set"
   ]
  },
  {
   "cell_type": "markdown",
   "metadata": {
    "colab_type": "text",
    "id": "ePmIIcXROqaW"
   },
   "source": [
    "#### Transform the prepared train and test input data into the expected structure using numpy.reshape()"
   ]
  },
  {
   "cell_type": "code",
   "execution_count": 0,
   "metadata": {
    "colab": {},
    "colab_type": "code",
    "id": "UJZ4VB4N7JyV"
   },
   "outputs": [],
   "source": [
    "x_train = np.reshape(X_train,(X_train.shape[0],1,1))\n",
    "x_test = np.reshape(X_test,(X_test.shape[0],1,1))"
   ]
  },
  {
   "cell_type": "markdown",
   "metadata": {
    "colab_type": "text",
    "id": "nUnjDBSSOqac"
   },
   "source": [
    "## Define Model"
   ]
  },
  {
   "cell_type": "markdown",
   "metadata": {
    "colab_type": "text",
    "id": "D-vQqyw7Oqad"
   },
   "source": [
    "### Define sequntial model, add LSTM layer and compile the model"
   ]
  },
  {
   "cell_type": "code",
   "execution_count": 32,
   "metadata": {
    "colab": {
     "base_uri": "https://localhost:8080/",
     "height": 136
    },
    "colab_type": "code",
    "executionInfo": {
     "elapsed": 2584,
     "status": "ok",
     "timestamp": 1583677221669,
     "user": {
      "displayName": "Vihan Parmar",
      "photoUrl": "https://lh3.googleusercontent.com/a-/AOh14GgAssvLmn_w5xeX9qyFZBLdGe5MZ0CgOc0JVaqgyg=s64",
      "userId": "11448973563679387390"
     },
     "user_tz": -330
    },
    "id": "yRW-Txvt7Jya",
    "outputId": "da90bdce-a54e-4339-fa01-b8b1a9dab8bf"
   },
   "outputs": [
    {
     "data": {
      "text/html": [
       "<p style=\"color: red;\">\n",
       "The default version of TensorFlow in Colab will soon switch to TensorFlow 2.x.<br>\n",
       "We recommend you <a href=\"https://www.tensorflow.org/guide/migrate\" target=\"_blank\">upgrade</a> now \n",
       "or ensure your notebook will continue to use TensorFlow 1.x via the <code>%tensorflow_version 1.x</code> magic:\n",
       "<a href=\"https://colab.research.google.com/notebooks/tensorflow_version.ipynb\" target=\"_blank\">more info</a>.</p>\n"
      ],
      "text/plain": [
       "<IPython.core.display.HTML object>"
      ]
     },
     "metadata": {
      "tags": []
     },
     "output_type": "display_data"
    },
    {
     "name": "stdout",
     "output_type": "stream",
     "text": [
      "WARNING:tensorflow:From /usr/local/lib/python3.6/dist-packages/tensorflow_core/python/ops/resource_variable_ops.py:1630: calling BaseResourceVariable.__init__ (from tensorflow.python.ops.resource_variable_ops) with constraint is deprecated and will be removed in a future version.\n",
      "Instructions for updating:\n",
      "If using Keras pass *_constraint arguments to layers.\n"
     ]
    }
   ],
   "source": [
    "from tensorflow.keras import Sequential\n",
    "from tensorflow.keras.layers import Dense,LSTM,BatchNormalization\n",
    "\n",
    "Seq = Sequential()\n",
    "Seq.add(LSTM(32,input_shape=(1,1)))\n",
    "Seq.add(BatchNormalization())\n",
    "Seq.add(Dense(1))"
   ]
  },
  {
   "cell_type": "code",
   "execution_count": 0,
   "metadata": {
    "colab": {},
    "colab_type": "code",
    "id": "koF6hJrdVpAB"
   },
   "outputs": [],
   "source": [
    "Seq.compile(optimizer = 'adam',loss = 'mse')"
   ]
  },
  {
   "cell_type": "markdown",
   "metadata": {
    "colab_type": "text",
    "id": "KnwzcQ_uOqag"
   },
   "source": [
    "### Summarize your model"
   ]
  },
  {
   "cell_type": "code",
   "execution_count": 34,
   "metadata": {
    "colab": {
     "base_uri": "https://localhost:8080/",
     "height": 263
    },
    "colab_type": "code",
    "executionInfo": {
     "elapsed": 947,
     "status": "ok",
     "timestamp": 1583677243010,
     "user": {
      "displayName": "Vihan Parmar",
      "photoUrl": "https://lh3.googleusercontent.com/a-/AOh14GgAssvLmn_w5xeX9qyFZBLdGe5MZ0CgOc0JVaqgyg=s64",
      "userId": "11448973563679387390"
     },
     "user_tz": -330
    },
    "id": "h5tyzBUNOqah",
    "outputId": "94f742f6-1c90-4f6e-d69d-dd9b45acddcf"
   },
   "outputs": [
    {
     "name": "stdout",
     "output_type": "stream",
     "text": [
      "Model: \"sequential\"\n",
      "_________________________________________________________________\n",
      "Layer (type)                 Output Shape              Param #   \n",
      "=================================================================\n",
      "lstm (LSTM)                  (None, 32)                4352      \n",
      "_________________________________________________________________\n",
      "batch_normalization (BatchNo (None, 32)                128       \n",
      "_________________________________________________________________\n",
      "dense (Dense)                (None, 1)                 33        \n",
      "=================================================================\n",
      "Total params: 4,513\n",
      "Trainable params: 4,449\n",
      "Non-trainable params: 64\n",
      "_________________________________________________________________\n"
     ]
    }
   ],
   "source": [
    "Seq.summary()"
   ]
  },
  {
   "cell_type": "markdown",
   "metadata": {
    "colab_type": "text",
    "id": "2gJz1X1BOqak"
   },
   "source": [
    "### Train the model"
   ]
  },
  {
   "cell_type": "code",
   "execution_count": 35,
   "metadata": {
    "colab": {
     "base_uri": "https://localhost:8080/",
     "height": 1000
    },
    "colab_type": "code",
    "executionInfo": {
     "elapsed": 34492,
     "status": "ok",
     "timestamp": 1583677278389,
     "user": {
      "displayName": "Vihan Parmar",
      "photoUrl": "https://lh3.googleusercontent.com/a-/AOh14GgAssvLmn_w5xeX9qyFZBLdGe5MZ0CgOc0JVaqgyg=s64",
      "userId": "11448973563679387390"
     },
     "user_tz": -330
    },
    "id": "R0zrlT4sOqal",
    "outputId": "dc2cf4a2-8f81-48f8-9e64-437530ebe1c6"
   },
   "outputs": [
    {
     "name": "stdout",
     "output_type": "stream",
     "text": [
      "WARNING:tensorflow:From /usr/local/lib/python3.6/dist-packages/tensorflow_core/python/ops/math_grad.py:1424: where (from tensorflow.python.ops.array_ops) is deprecated and will be removed in a future version.\n",
      "Instructions for updating:\n",
      "Use tf.where in 2.0, which has the same broadcast rule as np.where\n",
      "Train on 2553 samples, validate on 1095 samples\n",
      "Epoch 1/100\n",
      "2553/2553 [==============================] - 1s 416us/sample - loss: 0.0486 - val_loss: 0.0217\n",
      "Epoch 2/100\n",
      "2553/2553 [==============================] - 0s 122us/sample - loss: 0.0106 - val_loss: 0.0211\n",
      "Epoch 3/100\n",
      "2553/2553 [==============================] - 0s 120us/sample - loss: 0.0107 - val_loss: 0.0197\n",
      "Epoch 4/100\n",
      "2553/2553 [==============================] - 0s 126us/sample - loss: 0.0107 - val_loss: 0.0196\n",
      "Epoch 5/100\n",
      "2553/2553 [==============================] - 0s 125us/sample - loss: 0.0105 - val_loss: 0.0166\n",
      "Epoch 6/100\n",
      "2553/2553 [==============================] - 0s 136us/sample - loss: 0.0105 - val_loss: 0.0156\n",
      "Epoch 7/100\n",
      "2553/2553 [==============================] - 0s 125us/sample - loss: 0.0106 - val_loss: 0.0154\n",
      "Epoch 8/100\n",
      "2553/2553 [==============================] - 0s 130us/sample - loss: 0.0106 - val_loss: 0.0128\n",
      "Epoch 9/100\n",
      "2553/2553 [==============================] - 0s 121us/sample - loss: 0.0107 - val_loss: 0.0126\n",
      "Epoch 10/100\n",
      "2553/2553 [==============================] - 0s 123us/sample - loss: 0.0106 - val_loss: 0.0126\n",
      "Epoch 11/100\n",
      "2553/2553 [==============================] - 0s 125us/sample - loss: 0.0107 - val_loss: 0.0116\n",
      "Epoch 12/100\n",
      "2553/2553 [==============================] - 0s 124us/sample - loss: 0.0105 - val_loss: 0.0098\n",
      "Epoch 13/100\n",
      "2553/2553 [==============================] - 0s 125us/sample - loss: 0.0106 - val_loss: 0.0138\n",
      "Epoch 14/100\n",
      "2553/2553 [==============================] - 0s 123us/sample - loss: 0.0106 - val_loss: 0.0088\n",
      "Epoch 15/100\n",
      "2553/2553 [==============================] - 0s 126us/sample - loss: 0.0105 - val_loss: 0.0087\n",
      "Epoch 16/100\n",
      "2553/2553 [==============================] - 0s 130us/sample - loss: 0.0106 - val_loss: 0.0088\n",
      "Epoch 17/100\n",
      "2553/2553 [==============================] - 0s 124us/sample - loss: 0.0112 - val_loss: 0.0096\n",
      "Epoch 18/100\n",
      "2553/2553 [==============================] - 0s 124us/sample - loss: 0.0107 - val_loss: 0.0088\n",
      "Epoch 19/100\n",
      "2553/2553 [==============================] - 0s 126us/sample - loss: 0.0108 - val_loss: 0.0092\n",
      "Epoch 20/100\n",
      "2553/2553 [==============================] - 0s 123us/sample - loss: 0.0105 - val_loss: 0.0091\n",
      "Epoch 21/100\n",
      "2553/2553 [==============================] - 0s 125us/sample - loss: 0.0104 - val_loss: 0.0094\n",
      "Epoch 22/100\n",
      "2553/2553 [==============================] - 0s 129us/sample - loss: 0.0109 - val_loss: 0.0087\n",
      "Epoch 23/100\n",
      "2553/2553 [==============================] - 0s 127us/sample - loss: 0.0104 - val_loss: 0.0094\n",
      "Epoch 24/100\n",
      "2553/2553 [==============================] - 0s 123us/sample - loss: 0.0109 - val_loss: 0.0099\n",
      "Epoch 25/100\n",
      "2553/2553 [==============================] - 0s 124us/sample - loss: 0.0110 - val_loss: 0.0096\n",
      "Epoch 26/100\n",
      "2553/2553 [==============================] - 0s 128us/sample - loss: 0.0108 - val_loss: 0.0088\n",
      "Epoch 27/100\n",
      "2553/2553 [==============================] - 0s 125us/sample - loss: 0.0104 - val_loss: 0.0089\n",
      "Epoch 28/100\n",
      "2553/2553 [==============================] - 0s 124us/sample - loss: 0.0105 - val_loss: 0.0087\n",
      "Epoch 29/100\n",
      "2553/2553 [==============================] - 0s 130us/sample - loss: 0.0104 - val_loss: 0.0093\n",
      "Epoch 30/100\n",
      "2553/2553 [==============================] - 0s 124us/sample - loss: 0.0107 - val_loss: 0.0087\n",
      "Epoch 31/100\n",
      "2553/2553 [==============================] - 0s 126us/sample - loss: 0.0105 - val_loss: 0.0087\n",
      "Epoch 32/100\n",
      "2553/2553 [==============================] - 0s 126us/sample - loss: 0.0105 - val_loss: 0.0090\n",
      "Epoch 33/100\n",
      "2553/2553 [==============================] - 0s 126us/sample - loss: 0.0104 - val_loss: 0.0092\n",
      "Epoch 34/100\n",
      "2553/2553 [==============================] - 0s 125us/sample - loss: 0.0108 - val_loss: 0.0094\n",
      "Epoch 35/100\n",
      "2553/2553 [==============================] - 0s 118us/sample - loss: 0.0106 - val_loss: 0.0088\n",
      "Epoch 36/100\n",
      "2553/2553 [==============================] - 0s 126us/sample - loss: 0.0108 - val_loss: 0.0090\n",
      "Epoch 37/100\n",
      "2553/2553 [==============================] - 0s 127us/sample - loss: 0.0104 - val_loss: 0.0090\n",
      "Epoch 38/100\n",
      "2553/2553 [==============================] - 0s 125us/sample - loss: 0.0106 - val_loss: 0.0087\n",
      "Epoch 39/100\n",
      "2553/2553 [==============================] - 0s 129us/sample - loss: 0.0107 - val_loss: 0.0090\n",
      "Epoch 40/100\n",
      "2553/2553 [==============================] - 0s 125us/sample - loss: 0.0104 - val_loss: 0.0087\n",
      "Epoch 41/100\n",
      "2553/2553 [==============================] - 0s 130us/sample - loss: 0.0104 - val_loss: 0.0088\n",
      "Epoch 42/100\n",
      "2553/2553 [==============================] - 0s 126us/sample - loss: 0.0109 - val_loss: 0.0088\n",
      "Epoch 43/100\n",
      "2553/2553 [==============================] - 0s 129us/sample - loss: 0.0106 - val_loss: 0.0087\n",
      "Epoch 44/100\n",
      "2553/2553 [==============================] - 0s 126us/sample - loss: 0.0105 - val_loss: 0.0087\n",
      "Epoch 45/100\n",
      "2553/2553 [==============================] - 0s 129us/sample - loss: 0.0106 - val_loss: 0.0088\n",
      "Epoch 46/100\n",
      "2553/2553 [==============================] - 0s 132us/sample - loss: 0.0106 - val_loss: 0.0091\n",
      "Epoch 47/100\n",
      "2553/2553 [==============================] - 0s 121us/sample - loss: 0.0107 - val_loss: 0.0089\n",
      "Epoch 48/100\n",
      "2553/2553 [==============================] - 0s 130us/sample - loss: 0.0107 - val_loss: 0.0099\n",
      "Epoch 49/100\n",
      "2553/2553 [==============================] - 0s 123us/sample - loss: 0.0107 - val_loss: 0.0098\n",
      "Epoch 50/100\n",
      "2553/2553 [==============================] - 0s 124us/sample - loss: 0.0106 - val_loss: 0.0096\n",
      "Epoch 51/100\n",
      "2553/2553 [==============================] - 0s 121us/sample - loss: 0.0107 - val_loss: 0.0095\n",
      "Epoch 52/100\n",
      "2553/2553 [==============================] - 0s 121us/sample - loss: 0.0107 - val_loss: 0.0089\n",
      "Epoch 53/100\n",
      "2553/2553 [==============================] - 0s 131us/sample - loss: 0.0105 - val_loss: 0.0089\n",
      "Epoch 54/100\n",
      "2553/2553 [==============================] - 0s 127us/sample - loss: 0.0104 - val_loss: 0.0089\n",
      "Epoch 55/100\n",
      "2553/2553 [==============================] - 0s 128us/sample - loss: 0.0107 - val_loss: 0.0088\n",
      "Epoch 56/100\n",
      "2553/2553 [==============================] - 0s 122us/sample - loss: 0.0107 - val_loss: 0.0093\n",
      "Epoch 57/100\n",
      "2553/2553 [==============================] - 0s 127us/sample - loss: 0.0105 - val_loss: 0.0091\n",
      "Epoch 58/100\n",
      "2553/2553 [==============================] - 0s 117us/sample - loss: 0.0108 - val_loss: 0.0089\n",
      "Epoch 59/100\n",
      "2553/2553 [==============================] - 0s 120us/sample - loss: 0.0107 - val_loss: 0.0095\n",
      "Epoch 60/100\n",
      "2553/2553 [==============================] - 0s 128us/sample - loss: 0.0107 - val_loss: 0.0091\n",
      "Epoch 61/100\n",
      "2553/2553 [==============================] - 0s 131us/sample - loss: 0.0103 - val_loss: 0.0093\n",
      "Epoch 62/100\n",
      "2553/2553 [==============================] - 0s 130us/sample - loss: 0.0105 - val_loss: 0.0088\n",
      "Epoch 63/100\n",
      "2553/2553 [==============================] - 0s 124us/sample - loss: 0.0107 - val_loss: 0.0099\n",
      "Epoch 64/100\n",
      "2553/2553 [==============================] - 0s 118us/sample - loss: 0.0108 - val_loss: 0.0094\n",
      "Epoch 65/100\n",
      "2553/2553 [==============================] - 0s 121us/sample - loss: 0.0105 - val_loss: 0.0092\n",
      "Epoch 66/100\n",
      "2553/2553 [==============================] - 0s 126us/sample - loss: 0.0106 - val_loss: 0.0100\n",
      "Epoch 67/100\n",
      "2553/2553 [==============================] - 0s 124us/sample - loss: 0.0106 - val_loss: 0.0090\n",
      "Epoch 68/100\n",
      "2553/2553 [==============================] - 0s 125us/sample - loss: 0.0106 - val_loss: 0.0090\n",
      "Epoch 69/100\n",
      "2553/2553 [==============================] - 0s 124us/sample - loss: 0.0105 - val_loss: 0.0088\n",
      "Epoch 70/100\n",
      "2553/2553 [==============================] - 0s 125us/sample - loss: 0.0105 - val_loss: 0.0087\n",
      "Epoch 71/100\n",
      "2553/2553 [==============================] - 0s 122us/sample - loss: 0.0107 - val_loss: 0.0092\n",
      "Epoch 72/100\n",
      "2553/2553 [==============================] - 0s 127us/sample - loss: 0.0105 - val_loss: 0.0092\n",
      "Epoch 73/100\n",
      "2553/2553 [==============================] - 0s 128us/sample - loss: 0.0104 - val_loss: 0.0101\n",
      "Epoch 74/100\n",
      "2553/2553 [==============================] - 0s 125us/sample - loss: 0.0106 - val_loss: 0.0087\n",
      "Epoch 75/100\n",
      "2553/2553 [==============================] - 0s 124us/sample - loss: 0.0107 - val_loss: 0.0089\n",
      "Epoch 76/100\n",
      "2553/2553 [==============================] - 0s 116us/sample - loss: 0.0107 - val_loss: 0.0094\n",
      "Epoch 77/100\n",
      "2553/2553 [==============================] - 0s 123us/sample - loss: 0.0105 - val_loss: 0.0087\n",
      "Epoch 78/100\n",
      "2553/2553 [==============================] - 0s 124us/sample - loss: 0.0106 - val_loss: 0.0089\n",
      "Epoch 79/100\n",
      "2553/2553 [==============================] - 0s 124us/sample - loss: 0.0107 - val_loss: 0.0098\n",
      "Epoch 80/100\n",
      "2553/2553 [==============================] - 0s 123us/sample - loss: 0.0105 - val_loss: 0.0091\n",
      "Epoch 81/100\n",
      "2553/2553 [==============================] - 0s 123us/sample - loss: 0.0106 - val_loss: 0.0091\n",
      "Epoch 82/100\n",
      "2553/2553 [==============================] - 0s 127us/sample - loss: 0.0105 - val_loss: 0.0096\n",
      "Epoch 83/100\n",
      "2553/2553 [==============================] - 0s 125us/sample - loss: 0.0105 - val_loss: 0.0090\n",
      "Epoch 84/100\n",
      "2553/2553 [==============================] - 0s 123us/sample - loss: 0.0105 - val_loss: 0.0088\n",
      "Epoch 85/100\n",
      "2553/2553 [==============================] - 0s 122us/sample - loss: 0.0106 - val_loss: 0.0088\n",
      "Epoch 86/100\n",
      "2553/2553 [==============================] - 0s 120us/sample - loss: 0.0109 - val_loss: 0.0088\n",
      "Epoch 87/100\n",
      "2553/2553 [==============================] - 0s 126us/sample - loss: 0.0105 - val_loss: 0.0088\n",
      "Epoch 88/100\n",
      "2553/2553 [==============================] - 0s 126us/sample - loss: 0.0104 - val_loss: 0.0101\n",
      "Epoch 89/100\n",
      "2553/2553 [==============================] - 0s 130us/sample - loss: 0.0107 - val_loss: 0.0089\n",
      "Epoch 90/100\n",
      "2553/2553 [==============================] - 0s 122us/sample - loss: 0.0104 - val_loss: 0.0090\n",
      "Epoch 91/100\n",
      "2553/2553 [==============================] - 0s 123us/sample - loss: 0.0105 - val_loss: 0.0093\n",
      "Epoch 92/100\n",
      "2553/2553 [==============================] - 0s 122us/sample - loss: 0.0111 - val_loss: 0.0095\n",
      "Epoch 93/100\n",
      "2553/2553 [==============================] - 0s 126us/sample - loss: 0.0111 - val_loss: 0.0089\n",
      "Epoch 94/100\n",
      "2553/2553 [==============================] - 0s 132us/sample - loss: 0.0109 - val_loss: 0.0087\n",
      "Epoch 95/100\n",
      "2553/2553 [==============================] - 0s 121us/sample - loss: 0.0106 - val_loss: 0.0122\n",
      "Epoch 96/100\n",
      "2553/2553 [==============================] - 0s 127us/sample - loss: 0.0106 - val_loss: 0.0092\n",
      "Epoch 97/100\n",
      "2553/2553 [==============================] - 0s 127us/sample - loss: 0.0106 - val_loss: 0.0091\n",
      "Epoch 98/100\n",
      "2553/2553 [==============================] - 0s 125us/sample - loss: 0.0105 - val_loss: 0.0090\n",
      "Epoch 99/100\n",
      "2553/2553 [==============================] - 0s 127us/sample - loss: 0.0108 - val_loss: 0.0095\n",
      "Epoch 100/100\n",
      "2553/2553 [==============================] - 0s 130us/sample - loss: 0.0105 - val_loss: 0.0089\n"
     ]
    },
    {
     "data": {
      "text/plain": [
       "<tensorflow.python.keras.callbacks.History at 0x7fdcdc9a4f28>"
      ]
     },
     "execution_count": 35,
     "metadata": {
      "tags": []
     },
     "output_type": "execute_result"
    }
   ],
   "source": [
    "Seq.fit(x_train,y_train,validation_data = (x_test, y_test), epochs = 100)"
   ]
  },
  {
   "cell_type": "markdown",
   "metadata": {
    "colab_type": "text",
    "id": "8vZ0Z3e9Oqao"
   },
   "source": [
    "## Make Predictions and Evaluate your model"
   ]
  },
  {
   "cell_type": "code",
   "execution_count": 0,
   "metadata": {
    "colab": {},
    "colab_type": "code",
    "id": "85Ip5wrq7Jyi"
   },
   "outputs": [],
   "source": [
    "y_pred = Seq.predict(x_test)"
   ]
  },
  {
   "cell_type": "code",
   "execution_count": 37,
   "metadata": {
    "colab": {
     "base_uri": "https://localhost:8080/",
     "height": 140
    },
    "colab_type": "code",
    "executionInfo": {
     "elapsed": 1032,
     "status": "ok",
     "timestamp": 1583677283991,
     "user": {
      "displayName": "Vihan Parmar",
      "photoUrl": "https://lh3.googleusercontent.com/a-/AOh14GgAssvLmn_w5xeX9qyFZBLdGe5MZ0CgOc0JVaqgyg=s64",
      "userId": "11448973563679387390"
     },
     "user_tz": -330
    },
    "id": "jfcJHi5_YEWI",
    "outputId": "1e67320f-b6f4-4c9b-c1bb-027bd6d91e05"
   },
   "outputs": [
    {
     "data": {
      "text/plain": [
       "array([[0.56862974],\n",
       "       [0.5324868 ],\n",
       "       [0.50614923],\n",
       "       ...,\n",
       "       [0.48745656],\n",
       "       [0.48476914],\n",
       "       [0.54290074]], dtype=float32)"
      ]
     },
     "execution_count": 37,
     "metadata": {
      "tags": []
     },
     "output_type": "execute_result"
    }
   ],
   "source": [
    "y_pred"
   ]
  },
  {
   "cell_type": "code",
   "execution_count": 0,
   "metadata": {
    "colab": {},
    "colab_type": "code",
    "id": "LuzG4qBNhnPI"
   },
   "outputs": [],
   "source": [
    "y_pred = scale.inverse_transform(y_pred)"
   ]
  },
  {
   "cell_type": "markdown",
   "metadata": {
    "colab_type": "text",
    "id": "ZCiQe4MbOqas"
   },
   "source": [
    "## Plot the results"
   ]
  },
  {
   "cell_type": "code",
   "execution_count": 0,
   "metadata": {
    "colab": {},
    "colab_type": "code",
    "id": "FHbIWp-D7Jyn"
   },
   "outputs": [],
   "source": [
    "DF.drop(columns = 'Date', inplace = True)"
   ]
  },
  {
   "cell_type": "code",
   "execution_count": 0,
   "metadata": {
    "colab": {},
    "colab_type": "code",
    "id": "Y9Ezd4buehk4"
   },
   "outputs": [],
   "source": [
    "DF"
   ]
  },
  {
   "cell_type": "code",
   "execution_count": 0,
   "metadata": {
    "colab": {},
    "colab_type": "code",
    "id": "Edu-oROBelpG"
   },
   "outputs": [],
   "source": [
    "DF2 = DF.iloc[2554:,:]"
   ]
  },
  {
   "cell_type": "code",
   "execution_count": 0,
   "metadata": {
    "colab": {},
    "colab_type": "code",
    "id": "undOGgUGerfb"
   },
   "outputs": [],
   "source": [
    "DF2.reset_index(drop = True, inplace = True)"
   ]
  },
  {
   "cell_type": "code",
   "execution_count": 47,
   "metadata": {
    "colab": {
     "base_uri": "https://localhost:8080/",
     "height": 286
    },
    "colab_type": "code",
    "executionInfo": {
     "elapsed": 1388,
     "status": "ok",
     "timestamp": 1583677377547,
     "user": {
      "displayName": "Vihan Parmar",
      "photoUrl": "https://lh3.googleusercontent.com/a-/AOh14GgAssvLmn_w5xeX9qyFZBLdGe5MZ0CgOc0JVaqgyg=s64",
      "userId": "11448973563679387390"
     },
     "user_tz": -330
    },
    "id": "W5C7yGy1e9fB",
    "outputId": "972c998b-58c5-4bbf-f1b6-40cd5272afb9"
   },
   "outputs": [
    {
     "data": {
      "text/plain": [
       "<matplotlib.legend.Legend at 0x7fdcccb9a7b8>"
      ]
     },
     "execution_count": 47,
     "metadata": {
      "tags": []
     },
     "output_type": "execute_result"
    },
    {
     "data": {
      "image/png": "[encoded data removed]",
      "text/plain": [
       "<Figure size 432x288 with 1 Axes>"
      ]
     },
     "metadata": {
      "tags": []
     },
     "output_type": "display_data"
    }
   ],
   "source": [
    "plt.plot(DF2)\n",
    "plt.plot(y_pred,'g')\n",
    "plt.legend(('Actual Data','Predicted Data'))"
   ]
  }
 ],
 "metadata": {
  "colab": {
   "collapsed_sections": [],
   "name": "R9_INTERNAL_LAB.ipynb",
   "provenance": []
  },
  "kernelspec": {
   "display_name": "Python 3",
   "language": "python",
   "name": "python3"
  },
  "language_info": {
   "codemirror_mode": {
    "name": "ipython",
    "version": 3
   },
   "file_extension": ".py",
   "mimetype": "text/x-python",
   "name": "python",
   "nbconvert_exporter": "python",
   "pygments_lexer": "ipython3",
   "version": "3.7.3"
  }
 },
 "nbformat": 4,
 "nbformat_minor": 1
}
