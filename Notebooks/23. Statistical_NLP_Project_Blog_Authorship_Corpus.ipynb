{
 "cells": [
  {
   "cell_type": "markdown",
   "metadata": {
    "colab_type": "text",
    "id": "E4bAdfwwb0Vn"
   },
   "source": [
    "Fetching the data from kaggle."
   ]
  },
  {
   "cell_type": "code",
   "execution_count": 11,
   "metadata": {
    "colab": {
     "base_uri": "https://localhost:8080/",
     "height": 34
    },
    "colab_type": "code",
    "executionInfo": {
     "elapsed": 3390,
     "status": "ok",
     "timestamp": 1583659124254,
     "user": {
      "displayName": "Vihan Parmar",
      "photoUrl": "https://lh3.googleusercontent.com/a-/AOh14GgAssvLmn_w5xeX9qyFZBLdGe5MZ0CgOc0JVaqgyg=s64",
      "userId": "11448973563679387390"
     },
     "user_tz": -330
    },
    "id": "17pz9K8yoWZe",
    "outputId": "2f05a816-9cf5-4c2c-9f80-b3d139a2a29a"
   },
   "outputs": [
    {
     "name": "stdout",
     "output_type": "stream",
     "text": [
      "mkdir: cannot create directory ‘.kaggle’: File exists\n"
     ]
    }
   ],
   "source": [
    "\n",
    "!mkdir .kaggle"
   ]
  },
  {
   "cell_type": "code",
   "execution_count": 12,
   "metadata": {
    "colab": {
     "base_uri": "https://localhost:8080/",
     "height": 34
    },
    "colab_type": "code",
    "executionInfo": {
     "elapsed": 3963,
     "status": "ok",
     "timestamp": 1583659126205,
     "user": {
      "displayName": "Vihan Parmar",
      "photoUrl": "https://lh3.googleusercontent.com/a-/AOh14GgAssvLmn_w5xeX9qyFZBLdGe5MZ0CgOc0JVaqgyg=s64",
      "userId": "11448973563679387390"
     },
     "user_tz": -330
    },
    "id": "hC3uu7NOoWWU",
    "outputId": "c0e4bcba-ac64-4f3a-cf8e-db61172d6105"
   },
   "outputs": [
    {
     "name": "stdout",
     "output_type": "stream",
     "text": [
      "sample_data\n"
     ]
    }
   ],
   "source": [
    "!ls"
   ]
  },
  {
   "cell_type": "code",
   "execution_count": 0,
   "metadata": {
    "colab": {},
    "colab_type": "code",
    "id": "wEuT_qWdoWUa"
   },
   "outputs": [],
   "source": [
    "import json\n",
    "token = {\"username\":\"yjtrxj\",\"key\":\"131bbafb775c8139a4bb07dbc9427ac7\"}\n",
    "with open('/content/.kaggle/kaggle.json', 'w') as file:\n",
    "    json.dump(token, file)"
   ]
  },
  {
   "cell_type": "code",
   "execution_count": 0,
   "metadata": {
    "colab": {},
    "colab_type": "code",
    "id": "gx_z_QL4oWR4"
   },
   "outputs": [],
   "source": [
    "!cp /content/.kaggle/kaggle.json ~/.kaggle/kaggle.json"
   ]
  },
  {
   "cell_type": "code",
   "execution_count": 15,
   "metadata": {
    "colab": {
     "base_uri": "https://localhost:8080/",
     "height": 52
    },
    "colab_type": "code",
    "executionInfo": {
     "elapsed": 2686,
     "status": "ok",
     "timestamp": 1583659135955,
     "user": {
      "displayName": "Vihan Parmar",
      "photoUrl": "https://lh3.googleusercontent.com/a-/AOh14GgAssvLmn_w5xeX9qyFZBLdGe5MZ0CgOc0JVaqgyg=s64",
      "userId": "11448973563679387390"
     },
     "user_tz": -330
    },
    "id": "zvHxkQtFoWPw",
    "outputId": "5c10e00e-00ee-4b8a-d43c-6ef5bf39803c"
   },
   "outputs": [
    {
     "name": "stdout",
     "output_type": "stream",
     "text": [
      "Warning: Your Kaggle API key is readable by other users on this system! To fix this, you can run 'chmod 600 /root/.kaggle/kaggle.json'\n",
      "- path is now set to: {/content}\n"
     ]
    }
   ],
   "source": [
    "!kaggle config set -n path -v{/content}"
   ]
  },
  {
   "cell_type": "code",
   "execution_count": 0,
   "metadata": {
    "colab": {},
    "colab_type": "code",
    "id": "i6dxNguYoWNq"
   },
   "outputs": [],
   "source": [
    "!chmod 600 /root/.kaggle/kaggle.json"
   ]
  },
  {
   "cell_type": "code",
   "execution_count": 17,
   "metadata": {
    "colab": {
     "base_uri": "https://localhost:8080/",
     "height": 281
    },
    "colab_type": "code",
    "executionInfo": {
     "elapsed": 4510,
     "status": "ok",
     "timestamp": 1583659141706,
     "user": {
      "displayName": "Vihan Parmar",
      "photoUrl": "https://lh3.googleusercontent.com/a-/AOh14GgAssvLmn_w5xeX9qyFZBLdGe5MZ0CgOc0JVaqgyg=s64",
      "userId": "11448973563679387390"
     },
     "user_tz": -330
    },
    "id": "iUuDSPOToWLa",
    "outputId": "d997d8b9-8fcb-4a2b-8ace-1f43e7e459d7"
   },
   "outputs": [
    {
     "name": "stdout",
     "output_type": "stream",
     "text": [
      "Warning: Looks like you're using an outdated API Version, please consider updating (server 1.5.6 / client 1.5.4)\n",
      "Traceback (most recent call last):\n",
      "  File \"/usr/local/bin/kaggle\", line 8, in <module>\n",
      "    sys.exit(main())\n",
      "  File \"/usr/local/lib/python2.7/dist-packages/kaggle/cli.py\", line 51, in main\n",
      "    out = args.func(**command_args)\n",
      "  File \"/usr/local/lib/python2.7/dist-packages/kaggle/api/kaggle_api_extended.py\", line 910, in dataset_list_cli\n",
      "    tag_ids, search, user, mine, page)\n",
      "  File \"/usr/local/lib/python2.7/dist-packages/kaggle/api/kaggle_api_extended.py\", line 880, in dataset_list\n",
      "    return [Dataset(d) for d in datasets_list_result]\n",
      "  File \"/usr/local/lib/python2.7/dist-packages/kaggle/models/kaggle_models_extended.py\", line 66, in __init__\n",
      "    self.size = File.get_size(self.totalBytes)\n",
      "  File \"/usr/local/lib/python2.7/dist-packages/kaggle/models/kaggle_models_extended.py\", line 97, in get_size\n",
      "    return '%.*f%s' % (precision, size, suffixes[suffix_index])\n",
      "TypeError: float argument required, not NoneType\n"
     ]
    }
   ],
   "source": [
    "!kaggle datasets list -s blog"
   ]
  },
  {
   "cell_type": "code",
   "execution_count": 18,
   "metadata": {
    "colab": {
     "base_uri": "https://localhost:8080/",
     "height": 70
    },
    "colab_type": "code",
    "executionInfo": {
     "elapsed": 9100,
     "status": "ok",
     "timestamp": 1583659147006,
     "user": {
      "displayName": "Vihan Parmar",
      "photoUrl": "https://lh3.googleusercontent.com/a-/AOh14GgAssvLmn_w5xeX9qyFZBLdGe5MZ0CgOc0JVaqgyg=s64",
      "userId": "11448973563679387390"
     },
     "user_tz": -330
    },
    "id": "qICqPMqzoWJU",
    "outputId": "6011c884-e0b9-44e8-a9d6-98bc613aff5f"
   },
   "outputs": [
    {
     "name": "stdout",
     "output_type": "stream",
     "text": [
      "Downloading blog-authorship-corpus.zip to /content\n",
      " 99% 288M/290M [00:03<00:00, 103MB/s] \n",
      "100% 290M/290M [00:03<00:00, 91.4MB/s]\n"
     ]
    }
   ],
   "source": [
    "!kaggle datasets download -d rtatman/blog-authorship-corpus -p /content/"
   ]
  },
  {
   "cell_type": "code",
   "execution_count": 19,
   "metadata": {
    "colab": {
     "base_uri": "https://localhost:8080/",
     "height": 52
    },
    "colab_type": "code",
    "executionInfo": {
     "elapsed": 15880,
     "status": "ok",
     "timestamp": 1583659157339,
     "user": {
      "displayName": "Vihan Parmar",
      "photoUrl": "https://lh3.googleusercontent.com/a-/AOh14GgAssvLmn_w5xeX9qyFZBLdGe5MZ0CgOc0JVaqgyg=s64",
      "userId": "11448973563679387390"
     },
     "user_tz": -330
    },
    "id": "-GLtTopYoy0s",
    "outputId": "c2c8f864-368f-4377-bf31-3b1adbca5565"
   },
   "outputs": [
    {
     "name": "stdout",
     "output_type": "stream",
     "text": [
      "Archive:  blog-authorship-corpus.zip\n",
      "  inflating: blogtext.csv            \n"
     ]
    }
   ],
   "source": [
    "!unzip \\blog-authorship-corpus.zip"
   ]
  },
  {
   "cell_type": "code",
   "execution_count": 0,
   "metadata": {
    "colab": {},
    "colab_type": "code",
    "id": "t_cl6JBgmZt-"
   },
   "outputs": [],
   "source": [
    "# Importing the data.\n",
    "\n",
    "import pandas as pd\n",
    "Blog = pd.read_csv('blogtext.csv')"
   ]
  },
  {
   "cell_type": "code",
   "execution_count": 0,
   "metadata": {
    "colab": {},
    "colab_type": "code",
    "id": "cQ9jrlrHov_c"
   },
   "outputs": [],
   "source": [
    "#For generating data randomly use,Blog_DF = Blog.sample(frac =0.012,replace=False,random_state=5678)"
   ]
  },
  {
   "cell_type": "code",
   "execution_count": 0,
   "metadata": {
    "colab": {},
    "colab_type": "code",
    "id": "iu_PPKR9OIg3"
   },
   "outputs": [],
   "source": [
    "Blog_DF = Blog.iloc[:8000,:]"
   ]
  },
  {
   "cell_type": "code",
   "execution_count": 23,
   "metadata": {
    "colab": {
     "base_uri": "https://localhost:8080/",
     "height": 34
    },
    "colab_type": "code",
    "executionInfo": {
     "elapsed": 857,
     "status": "ok",
     "timestamp": 1583659246614,
     "user": {
      "displayName": "Vihan Parmar",
      "photoUrl": "https://lh3.googleusercontent.com/a-/AOh14GgAssvLmn_w5xeX9qyFZBLdGe5MZ0CgOc0JVaqgyg=s64",
      "userId": "11448973563679387390"
     },
     "user_tz": -330
    },
    "id": "R0bb46ynmjqC",
    "outputId": "f5abcbdd-be40-419f-d4bc-c4145a43195f"
   },
   "outputs": [
    {
     "data": {
      "text/plain": [
       "(8000, 7)"
      ]
     },
     "execution_count": 23,
     "metadata": {
      "tags": []
     },
     "output_type": "execute_result"
    }
   ],
   "source": [
    "# Shape.\n",
    "\n",
    "Blog_DF.shape"
   ]
  },
  {
   "cell_type": "code",
   "execution_count": 24,
   "metadata": {
    "colab": {
     "base_uri": "https://localhost:8080/",
     "height": 158
    },
    "colab_type": "code",
    "executionInfo": {
     "elapsed": 894,
     "status": "ok",
     "timestamp": 1583659299201,
     "user": {
      "displayName": "Vihan Parmar",
      "photoUrl": "https://lh3.googleusercontent.com/a-/AOh14GgAssvLmn_w5xeX9qyFZBLdGe5MZ0CgOc0JVaqgyg=s64",
      "userId": "11448973563679387390"
     },
     "user_tz": -330
    },
    "id": "9TPTORDmmjmw",
    "outputId": "d6493302-b3d4-45aa-b337-36abd7d01ec3"
   },
   "outputs": [
    {
     "data": {
      "text/plain": [
       "id        0\n",
       "gender    0\n",
       "age       0\n",
       "topic     0\n",
       "sign      0\n",
       "date      0\n",
       "text      0\n",
       "dtype: int64"
      ]
     },
     "execution_count": 24,
     "metadata": {
      "tags": []
     },
     "output_type": "execute_result"
    }
   ],
   "source": [
    "# Checking if there are any null values.\n",
    "\n",
    "Blog_DF.isnull().sum()"
   ]
  },
  {
   "cell_type": "code",
   "execution_count": 25,
   "metadata": {
    "colab": {
     "base_uri": "https://localhost:8080/",
     "height": 178
    },
    "colab_type": "code",
    "executionInfo": {
     "elapsed": 926,
     "status": "ok",
     "timestamp": 1583659311790,
     "user": {
      "displayName": "Vihan Parmar",
      "photoUrl": "https://lh3.googleusercontent.com/a-/AOh14GgAssvLmn_w5xeX9qyFZBLdGe5MZ0CgOc0JVaqgyg=s64",
      "userId": "11448973563679387390"
     },
     "user_tz": -330
    },
    "id": "MwF0U-Srmjky",
    "outputId": "328e015b-0c56-40ac-c4d5-748b23fc2eb7"
   },
   "outputs": [
    {
     "data": {
      "text/plain": [
       "array(['           Info has been found (+/- 100 pages, and 4.5 MB of .pdf files) Now i have to wait untill our team leader has processed it and learns html.         ',\n",
       "       '           These are the team members:   Drewes van der Laag           urlLink mail  Ruiyu Xie                     urlLink mail  Bryan Aaldering (me)          urlLink mail          ',\n",
       "       \"           In het kader van kernfusie op aarde:  MAAK JE EIGEN WATERSTOFBOM   How to build an H-Bomb From: ascott@tartarus.uwa.edu.au (Andrew Scott) Newsgroups: rec.humor Subject: How To Build An H-Bomb (humorous!) Date: 7 Feb 1994 07:41:14 GMT Organization: The University of Western Australia  Original file dated 12th November 1990. Seemed to be a transcript of a 'Seven Days' article. Poorly formatted and corrupted. I have added the text between 'examine under a microscope' and 'malleable, like gold,' as it was missing. If anyone has the full text, please distribute. I am not responsible for the accuracy of this information. Converted to HTML by Dionisio@InfiNet.com 11/13/98. (Did a little spell-checking and some minor edits too.) Stolen from  urlLink http://my.ohio.voyager.net/~dionisio/fun/m...own-h-bomb.html  and reformatted the HTML. It now validates to XHTML 1.0 Strict. How to Build an H-Bomb Making and owning an H-bomb is the kind of challenge real Americans seek. Who wants to be a passive victim of nuclear war when, with a little effort, you can be an active participant? Bomb shelters are for losers. Who wants to huddle together underground eating canned Spam? Winners want to push the button themselves. Making your own H-bomb is a big step in nuclear assertiveness training -- it's called Taking Charge. We're sure you'll enjoy the risks and the heady thrill of playing nuclear chicken. Introduction When the Feds clamped down on The Progressive magazine for attempting to publish an article on the manufacture of the hydrogen bomb, it piqued our curiosity. Was it really true that atomic and hydrogen bomb technology was so simple you could build an H-bomb in your own kitchen? Seven Days decided to find out. Food editor Barbara Ehrenreich, investigative reporter Peter Biskind, Photographer Jane Melnick and nuclear scientist Michio Kaku were given three days to cook up a workable H-bomb. They did and we have decided to share their culinary secrets with you. Not that Seven Days supports nuclear terrorism. We don't. We would prefer to die slowly from familiar poisons like low-level radiation, microwaves, DDT, DBCP, aflatoxins, PBBs, PBCs, or food dyes, rather than unexpectedly, say as hostage to a Latvian nationalist brandishing a homemade bomb. In our view the real terrorists are the governments, American, Soviet, French, Chinese, and British, that are hoarding H-bombs for their own use, and worse still, those governments (U.S., French and German) that are eagerly peddling advanced nuclear technology to countries like South Africa, Brazil, and Argentina so that they can make their own bombs. When these bombs are used, and they will be, it will be the world's big-time nuclear peddlers, along with corporate suppliers like General Electric, Westinghouse, and Gulf Oil, that we can thank for it. Gagging The Progressive will do no more for national security than backyard bomb shelters because like it or not the news is out. The heart of the successful H-bomb is the successful A-bomb. Once you've got your A-bombs made the rest is frosting on the cake. All you have to do is set them up so that when they detonate they'll start off a hydrogen-fusion reaction.  Part 1: Making Your Bomb Step 1: Getting the Ingredients Uranium is the basic ingredient of the A-bomb. When a uranium atom's nucleus splits apart, it releases a tremendous amount of energy (for its size), and it emits neutrons which go on to split other nearby uranium nuclei, releasing more energy, in what is called a 'chain reaction'. (When atoms split, matter is converted into energy according to Einstein's equation E=MC2. What better way to mark his birthday than with your own atomic fireworks?) There are two kinds (isotopes) of uranium: the rare U-235, used in bombs, and the more common, heavier, but useless U-238. Natural uranium contains less than 1 percent U-235 and in order to be usable in bombs it has to be 'enriched' to 90 percent U-235 and only 10 percent U-238. Plutonium-239 can also be used in bombs as a substitute for U-235. Ten pounds of U-235 (or slightly less plutonium) is all that is necessary for a bomb. Less than ten pounds won't give you a critical mass. So purifying or enriching naturally occurring uranium is likely to be your first big hurdle. It is infinitely easy to steal ready-to-use enriched uranium or plutonium than to enrich some yourself. And stealing uranium is not as hard as it sounds. There are at least three sources of enriched uranium or plutonium... Enriched uranium is manufactured at a gaseous diffusion plant in Portsmouth, Ohio. From there it is shipped in 10 liter bottles by airplane and trucks to conversion plants that turn it into uranium oxide or uranium metal. Each 10 liter bottle contains 7 kilograms of U-235, and there are 20 bottles to a typical shipment. Conversion facilities exist at Hematite, Missouri; Apollo, Pennsylvania; and Erwin, Tennessee. The Kerr-McGee plant at Crescent Oklahoma -- where Karen Silkwood worked -- was a conversion plant that 'lost' 40 lbs of plutonium. Enriched uranium can be stolen from these plants or from fuel-fabricating plants like those in New Haven, San Diego; or Lynchburg, Virginia. (A former Kerr-McGee supervisor, James V. Smith, when asked at the Silkwood trial if there were any security precautions at the plant to prevent theft, testified that 'There were none of any kind, no guards, no fences, no nothing.') Plutonium can be obtained from places like United Nuclear in Pawling, New York; Nuclear Fuel Services in Erwin, Tennessee; General Electric in Pleasanton, California; Westinghouse in Cheswick, Pennsylvania; Nuclear Materials and Equipment Corporation (NUMEC) in Leechburg, Pennsylvania; and plants in Hanfford, Washington and Morris, Illinois. According to Rolling Stone magazine the Israelis were involved in the theft of plutonium from NUMEC. Finally you can steal enriched uranium or plutonium while it's en-route from conversion plants to fuel fabricating plants. It is usually transported (by air or truck) in the form of uranium oxide, a brownish powder resembling instant coffee, or as a metal, coming in small chunks called 'broken buttons.' Both forms are shipped in small cans stacked in 5-inch cylinders braced with welded struts in the center of ordinary 55 gallon steel drums. The drums weigh about 100 pounds and are clearly marked 'Fissible Material' or 'Danger, Plutonium.' A typical shipment might go from the enrichment plant at Portsmouth, Ohio to the conversion plant in Hematite Missouri then to Kansas City by truck where it would be flown to Los Angeles and then trucked down to the General Atomic plant in San Diego. The plans for the General Atomic plant are on file at the Nuclear Regulatory Commission's reading room at 1717 H Street NW Washington. A Xerox machine is provided for the convenience of the public. If you can't get hold of any enriched uranium you'll have to settle for commercial grade (20 percent U-235). This can be stolen from university reactors of a type called TRIGA Mark II, where security is even more casual than at commercial plants. If stealing uranium seems too tacky you can buy it. Unenriched uranium is available at any chemical supply house for $23 a pound. Commercial grade (3 to 20 percent enriched) is available for $40 a pound from Gulf Atomic. You'll have to enrich it further yourself. Quite frankly this can be something of a pain in the ass. You'll need to start with a little more than 50 pounds of commercial-grade uranium. (It's only 20 percent U-235 at best, and you need 10 pounds of U-235 so... ) But with a little kitchen-table chemistry you'll be able to convert the solid uranium oxide you've purchased into a liquid form. Once you've done that, you'll be able to separate the U-235 that you'll need from the U-238. First pour a few gallons of concentrated hydrofluoric acid into your uranium oxide, converting it to uranium tetrafluoride. (Safety note: Concentrated hydrofluoric acid is so corrosive that it will eat its way through glass, so store it only in plastic. Used 1-gallon plastic milk containers will do.) Now you have to convert your uranium tetrafluoride to uranium hexafluoride, the gaseous form of uranium, which is convenient for separating out the isotope U-235 from U-238. To get the hexafluoride form, bubble fluorine gas into your container of uranium tetrafluoride. Fluorine is available in pressurized tanks from chemical-supply firms. Be careful how you use it though because fluorine is several times more deadly than chlorine, the classic World War I poison gas. Chemists recommend that you carry out this step under a stove hood (the kind used to remove unpleasant cooking odors). If you've done your chemistry right you should now have a generous supply of uranium hexafluoride ready for enriching. In the old horse-and-buggy days of A-bomb manufacture the enrichment was carried out by passing the uranium hexafluoride through hundreds of miles of pipes, tubes, and membranes, until the U-235 was eventually separated from the U-238. This gaseous-diffusion process, as it was called is difficult, time-consuming, and expensive. Gaseous-diffusion plants cover hundreds of acres and cost in the neighborhood of $2-billion each. So forget it. There are easier, and cheaper, ways to enrich your uranium. First transform the gas into a liquid by subjecting it to pressure. You can use a bicycle pump for this. Then make a simple home centrifuge. Fill a standard-size bucket one-quarter full of liquid uranium hexafluoride. Attach a six-foot rope to the bucket handle. Now swing the rope (and attached bucket) around your head as fast as possible. Keep this up for about 45 minutes. Slow down gradually, and very gently put the bucket on the floor. The U-235, which is lighter, will have risen to the top, where it can be skimmed off like cream. Repeat this step until you have the required 10 pounds of uranium. (Safety note: Don't put all your enriched uranium hexafluoride in one bucket. Use at least two or three buckets and keep them in separate corners of the room. This will prevent the premature build-up of a critical mass.) Now it's time to convert your enriched uranium back to metal form. This is easily enough accomplished by spooning several ladlefuls of calcium (available in tablet form from your drugstore) into each bucket of uranium. The calcium will react with the uranium hexafluoride to produce calcium fluoride, a colorless salt which can be easily be separated from your pure enriched uranium metal. A few precautions: • While uranium is not dangerously radioactive in the amounts you'll be handling, if you plan to make more than one bomb it might be wise to wear gloves and a lead apron, the kind you can buy in dental supply stores. • Plutonium is one of the most toxic substances known. If inhaled, a thousandth of a gram can cause massive fibrosis of the lungs, a painful way to go. Even a millionth of a gram in the lungs will cause cancer. If eaten plutonium is metabolized like calcium. It goes straight to the bones where it gives out alpha particles preventing bone marrow from manufacturing red blood cells. The best way to avoid inhaling plutonium is to hold your breath while handling it. If this is too difficult wear a mask. To avoid ingesting plutonium orally follow this simple rule: never make an A-bomb on an empty stomach. • If you find yourself dozing off while you're working, or if you begin to glow in the dark, it might be wise to take a blood count. Prick your finger with a sterile pin, place a drop of blood on a microscope slide, cover it with a cover slip, and examine under a microscope. (Best results are obtained in the early morning.) When you get leukemia, immature cells are released into the bloodstream, and usually the number of white cells increases (though this increase might take almost 2 weeks). Red blood cells look kind of like donuts (without the hole), and are slightly smaller than the white cells, each of which has a nucleus. Immature red cells look similar to white cells (i.e.. slightly larger and have a nucleus). If you have more than about 1 white cell (including immature ones) to 400 red cells then start to worry. But, depending upon your plans for the eventual use of the bomb, a short life expectancy might not be a problem.  Step 2: Assembling the A-Bomb Now that you've acquired the enriched uranium, all that's left is to assemble your A-bomb. Go find a couple of stainless steel salad bowls. You also want to separate your 10 pounds of U-235 into two hunks. (Keep them apart!) The idea is to push each half your uranium into the inside of a bowl. Take one hunk of your uranium and beat it into the inside of the first bowl. Uranium is malleable, like gold, so you should have no trouble hammering it into the bowl to get a good fit. Take another five-pound hunk of uranium and fit it into a second stainless steel bowl. These two bowls of U-235 are the 'subcritical masses' which, when brought together forcefully, will provide the critical mass that makes your A-bomb go. Keep them a respectful distance apart while working because you don't want them to 'go critical' on you... At least not yet. Now hollow out the body of an old vacuum cleaner and place your two hemispherical bowls inside, open ends facing each other, no less than seven inches apart, using masking tape to set them up in position. The reason for the steel bowls and the vacuum cleaner, in case you're wondering, is that these help reflect the neutrons back into the uranium for a more efficient explosion. 'A loose neutron is a useless neutron' as the A-bomb pioneers used to say. As far as the A-bomb goes, you're almost done. The final problem is to figure out how to get the two U-235 hemispheres to smash into each other with sufficient force to set off a truly effective fission reaction. Almost any type of explosive can be used to drive them together. Gunpowder, for example, is easily made at home from potassium nitrate, sulfur, and carbon. Or, you can get some blasting caps or TNT. (Buy them or steal them from a construction site.) Best of all is C4 plastic explosive. You can mold it around your bowls, and it's fairly safe to work with. (But, it might be wise to shape it around an extra salad bowl in another room, and THEN fit it to your uranium-packed bowls. This is particularly true in winter, when a stray static electrical charge might induce ignition in the C4. A responsible bomb maker considers it impolite to accidentally destroy more of the neighborhood than absolutely necessary.) Once the explosives are in place all you need to do is hook up a simple detonation device with a few batteries, a switch, and some wire. Remember though that it is essential that the two charges -- one on each side of the casing -- go off simultaneously. Now put the whole thing in the casing of an old Hoover vacuum cleaner and you're finished with this part of the process. The rest is easy.  Step 3: Make More A-Bombs Following the Directions Above  A Word to the Wise About Wastes After your A-bomb is completed you'll have a pile of moderately fatal radioactive wastes like U-238. These are not dangerous, but you do have to get rid of them. You can flush leftovers down the toilet. (Don't worry about polluting the ocean, there is already so much radioactive waste there, a few more bucketfuls won't make any waves whatsoever.) If you're the fastidious type -- the kind who never leaves gum under their seat at the movies -- you can seal the nasty stuff in coffee cans and bury it in the backyard, just like Uncle Sam does. If the neighbor kids have a habit of trampling the lawn, tell them to play over by the waste. You'll soon find that they're spending most of their time in bed.  Going First Class If you're like us, you're feeling the economic pinch, and you'll want to make your bomb as inexpensively as possible, consonant of course with reasonable yield. The recipe we've given is for a budget-pleasing H-bomb, no frills, no flourishes; it's just a simple 5-megaton bomb, capable of wiping out the New York metropolitan area, the San Francisco Bay area, or Boston. But don't forget, your H-bomb will only be as good as the A-bombs in it. If you want to spend a little more money you can punch-up your A-bomb considerably. Instead of centrifuging your uranium by hand, you can buy a commercial centrifuge. (Fisher Scientific sells one for about $1000.) You also might want to be fussier about your design. The Hiroshima bomb, a relatively crude one, only fissioned 1 percent of it's uranium and yielded only 13 kilotons. In order to fission more of the uranium, the force of your explosive 'trigger' needs to be evenly diffused around the sphere; the same pressure has to be exerted on every point of the sphere simultaneously. (It was a technique for producing this sort of simultaneous detonation by fashioning the explosives into lenses that the government accused Julius and Ethel Rosenberg of trying to steal).  Part 2: Putting Your H-Bomb Together The heart of the H-bomb is the fusion process. Several A-bombs are detonated in such a way as to create the extremely high temperature (100 million degrees C) necessary to fuse lithium deuteride (LiD) into helium. When the lithium nucleus slams into the deuterium nucleus, two helium nuclei are created, and if this happens to enough deuterium nuclei rapidly enough, the result is an enormous amount of energy: the energy of the H-bomb. You don't have to worry about stealing lithium deuteride, it can be purchased from any chemical-supply house. It costs $1000 a pound. If your budget won't allow it you can substitute lithium hydride at $40 a pound. You will need at least 100 pounds. It's a corrosive and toxic powder so be careful. Place the lithium deuteride or hydride in glass jars and surround it with four A-bombs in their casings. Attach them to the same detonator so that they will go off simultaneously. The container for the whole thing is no problem. They can be placed anywhere: Inside an old stereo console, a discarded refrigerator, etc... When the detonator sets off the four A-bombs all eight hemispheres of fissionable material will slam into each other at the same time creating four critical masses and four detonations. This will raise the temperature of the lithium deuteride to 100 million degrees C fast enough (a few billionths of a second) so that the lithium will not be blown all over the neighborhood before the nuclei have time to fuse. The result, at least 1000 times the punch of the puny A-bomb that leveled Hiroshima (20 million tons of TNT vs. 20 thousand tons.)  Part 3: What to do With Your Bomb Now that you have a fully assembled H-bomb housed in an attractive console of your choice you may be wondering, 'What should I do with it?' Every family will have to answer this question according to its own tastes and preferences, but you may want to explore some possibilities which have been successfully pioneered by the American government. 1. Sell Your Bomb and Make a Pile of Money In these days of rising inflation, increasing unemployment, and an uncertain economic outlook, few businesses make as much sense as weapons production. If your career forecast is cloudy, bomb sales may be the only sure way to avoid the humiliation of receiving welfare, or unemployment. Regardless of your present income level, a home H-bomb business can be an invaluable income supplement, and certainly a profitable alternative to selling Tupperware or pirated Girl Scout cookies. Unfortunately for the family bomb business, big government has already cornered a large part of the world market. But this does not mean that there is a shortage of potential customers. The raid on Entebee was the Waterloo of hijacking, and many nationalist groups are now on the alert for new means to get their message across. They'd jump at the chance to get hold of an H-bomb. Emerging nations which can't ante up enough rice or sugar to buy themselves a reactor from G.E. or Westinghouse are also shopping around. You may wonder about the ethics of selling to nations, or groups, whose goals you may disapprove of. But here again, take a tip from our government: forget ideology -- it's cash that counts. And remember, H-bomb sales have a way of escalating, almost like a chain reaction. Suppose you make a sale to South Yemen which you believe to be a Soviet puppet. Well within a few days some discrete inquiries from North Yemen and possibly the Saudis, the Egyptians and the Ethiopians as well can be expected. Similarly, a sale to the IRA will generate a sale to the Ulster government; and a sale to the Tanzanians will bring the Ugandans running, and so forth. It doesn't matter WHICH side you're on, only how many sides there are. Don't forget about the possibility of repeat sales to the same customer. As the experience of both the U.S. and the U.S.S.R. has shown, each individual nation has a potentially infinite need for H-bombs. No customer -- no matter how small -- can ever have too many. 2. Use Your Bomb at Home Many families are attracted to the H-bomb simply as a 'deterrent.' A discrete sticker on the door or on the living room window saying 'This Home Protected by H-bomb' will discourage IRS investigators, census takers, and Jehovah's Witnesses. You'll be surprised how fast the crime rate will go down and property values will go up. And once the news gets out that you are a home H-bomb owner you'll find that you have unexpected leverage in neighborhood disputes over everything from parking places and stereo noise levels to school tax rates. So relax and enjoy the pride and excitement of home H-bomb ownership!  Is It For You? Let's be honest. The H-bomb isn't for everyone. Frankly there are people who can't handle it. They break out in hives at the very mention of mega-death, fallout, or radiation sickness. The following quiz will help you find out whether you have what it takes for home H-bomb ownership. If you can answer 'yes' to six or more of these questions, then you're emotionally eligible to join the nuclear club. If not, a more conventional weapon may be more your cup of tea, try botulism-toxin, laser rays, or nerve gas. 1. I ignore the demands of others. 2. I subscribe to one or more of the following: Soldier of Fortune, Hustler, Popular Mechanics, Self. 3. Though I have many interesting acquaintances, I am my own best friend. 4. I know what to say after you say 'Hello,' but I am seldom interested in pursuing the conversation. 5. I have seen the movie 'The Deer Hunter' more than once. 6. I know that everyone can be a winner if they want to, and I resent whiners. 7. I own one or more of the following: handgun, video game, trash compactor, snowmobile. 8. I am convinced that leukemia is psychosomatic. 9. I am aware that most vegetarians are sexually impotent. 10. I have read evidence that solar energy is a Communist conspiracy.  Myths About Nuclear War Ever since the first mushroom cloud over Hiroshima ushered in the atomic age, a small group of nay-sayers and doom-mongers has lobbied, campaigned and demonstrated to convince Americans that H-bomb ownership, along with nuclear power, is dangerous and unhealthy. Using their virtual stranglehold over the media, these people have tried to discredit everything nuclear from energy to war. They have vastly overrated the risks of nuclear bombs and left many Americans feeling demoralized and indecisive; not sure where the truth lies. Well, here are the myths, and here are the facts. Myth: After a nuclear exchange the earth will no longer be suitable for human habitation. Fact: This is completely false. According to one scientist (quoted in John McPee's The Curve of Binding Energy) 'The largest bomb that has ever been exploded anywhere was 60 megatons, and that is one-thousandth the force of an earthquake, one-thousandth the force of a hurricane. We have lived with earthquakes and hurricanes for a long time.' Another scientist adds, 'It is often assumed that a full blown nuclear war would be the end of life on earth. That is far from the truth. To end life on earth would take at least a thousand times the total yield of all the nuclear explosives existing in the world, and probably a lot more.' Even if humans succumbed, many forms of life would survive a nuclear free-for-all, cockroaches, certain forms of bacteria, and lichens, for instance. Myth: Radiation is bad for you. Fact: Everything is bad for you if you have too much of it. If you eat too many bananas you'll get a stomach-ache. If you get too much sun you can get sunburned (or even skin cancer). Same thing with radiation. Too much may make you feel under the weather, but nuclear industry officials insist that there is no evidence that low-level radiation has any really serious adverse effects. And, high-level radiation may bring unexpected benefits. It speeds up evolution by weeding out unwanted genetic types and creating new ones. (Remember the old saying, 'Two heads are better than one.') Nearer to home, it's plain that radiation will get rid of pesky crab grass and weeds, and teenagers will find that brief exposure to a nuclear burst vaporizes acne and other skin blemishes. (Many survivors of the Hiroshima bomb found that they were free from skin and it's attendant problems forever.) We hope this clears up any misconceptions you may have had. Enjoy your H-Bomb!           \",\n",
       "       ...,\n",
       "       \"       Well, my day was...okay, average, long, tired.....blaa.  Well, Erica is feeling better. Yeah!  Ooo!  I told Lindsay how we thought it would be cool if Michael played Juliet for Shakespeare with Medlin.  I think she wanted to be Juliet.  Oh I have good news for those who care.  My foot is healing, it's itchy and I think scabbing.  Oh man I am so tired!  We have shortened classes tomorrow for a suckey assembly on bullying called Bang Bang You're Dead.  Sounds Oscar worthy. Well that's about it for today.  sea you guys tomorrow           \",\n",
       "       \"       Sorry for the title.  It was more like a comment and has nothing to do with this entry!  Anyway....Interp practice today rocked my socks off!  We have our music and learned from now on we are practicing on the stage!  How exciting!!  And....that Friday on the 26th we get to miss the whole day of school!!!!!!!!!  I am super psyched.  We will be practicing at Elisa's that morning and compete at around 1:00 at Ravenwood.  Whoo Hoo!!  As you can see I am super super excited (doesn't that sound like an Elle Woods line).  Ha! I crack myself up with my exclamation point rampage!  And I going out tonight to get my hoodie.  I am a blessed person!  Well enough for now!  If you read comment, Pleeeease!  P.S.  Becca you should really start your own blog.  Since I have refused to read Jenessa's and Liz's I only have Erica's to read.         \",\n",
       "       \"       READY FOR LOVE: You're sensitive but no pushover, active but not manic. In short, you're a great girl/guy who's ready for a relationship. If you're not already involved with someone, it's only because you want a guy/girl who's worthy of your love---you just haven't met him/her yet. That's cool. You've got plenty of other interests to keep you busy. When you do meet ''Mr. Great/Miss. Great,'' chances are you won't abandon all the other impotant stuff in your life for romance. In fact, your independance and spirit will be part of what attracts him/her---and keeps him/her. Would YOU PLEASE rate my quiz? YOU surely don't have to, but i'd apreciate it more than YOU could imagine if YOU would! Thanks! Peace out yo'!        urlLink Are YOU ready to have a BOYFRIEND/GIRLFRIEND? For the OLDER GALS/GUYS!      brought to you by  urlLink Quizilla    M&M'S: Just like the candy. you're soft on the inside, but have a protective shell so you don't melt for all things sentimental. While you're not going to forget what's important to you (like friends, school and the cool activities that make you such an interesting girl), you're also open to romance in whatever form it might take. You'll have an amazing V-Day, whether you spend it with a cute boy or have a girls night out. Would YOU PLEASE rate my quiz? Thanks a whole bunch!     urlLink How ROMANTIC are YOU? For the LADiES!     brought to you by  urlLink Quizilla    THE FREETHINKINER: I like you, and I don't even know you. Who wouldn't? You have your own opinions---and are confident enough to voice them---but you're also willing to listen to the other side. And you're not afraid to try new stuff even when your friends aren't interested. For example, if you were dying to see Linkin Park in concert and no one else wanted to go, you'd still be there rockin' out. Basically, you rule.     urlLink How INDEPEDNDANT are YOU? (For the LADIES!)     brought to you by  urlLink Quizilla             \"],\n",
       "      dtype=object)"
      ]
     },
     "execution_count": 25,
     "metadata": {
      "tags": []
     },
     "output_type": "execute_result"
    }
   ],
   "source": [
    "# Looking for unique values.\n",
    "\n",
    "Blog_DF['text'].unique()"
   ]
  },
  {
   "cell_type": "code",
   "execution_count": 26,
   "metadata": {
    "colab": {
     "base_uri": "https://localhost:8080/",
     "height": 228
    },
    "colab_type": "code",
    "executionInfo": {
     "elapsed": 852,
     "status": "ok",
     "timestamp": 1583659322008,
     "user": {
      "displayName": "Vihan Parmar",
      "photoUrl": "https://lh3.googleusercontent.com/a-/AOh14GgAssvLmn_w5xeX9qyFZBLdGe5MZ0CgOc0JVaqgyg=s64",
      "userId": "11448973563679387390"
     },
     "user_tz": -330
    },
    "id": "fCVZHN0omjgn",
    "outputId": "7a0f9ba4-b31f-43b8-c36f-4e5906e7fc9f"
   },
   "outputs": [
    {
     "name": "stdout",
     "output_type": "stream",
     "text": [
      "<class 'pandas.core.frame.DataFrame'>\n",
      "RangeIndex: 8000 entries, 0 to 7999\n",
      "Data columns (total 7 columns):\n",
      "id        8000 non-null int64\n",
      "gender    8000 non-null object\n",
      "age       8000 non-null int64\n",
      "topic     8000 non-null object\n",
      "sign      8000 non-null object\n",
      "date      8000 non-null object\n",
      "text      8000 non-null object\n",
      "dtypes: int64(2), object(5)\n",
      "memory usage: 437.6+ KB\n"
     ]
    }
   ],
   "source": [
    "# Checking the information.\n",
    "\n",
    "Blog_DF.info()"
   ]
  },
  {
   "cell_type": "code",
   "execution_count": 27,
   "metadata": {
    "colab": {
     "base_uri": "https://localhost:8080/",
     "height": 122
    },
    "colab_type": "code",
    "executionInfo": {
     "elapsed": 1136,
     "status": "ok",
     "timestamp": 1583659347865,
     "user": {
      "displayName": "Vihan Parmar",
      "photoUrl": "https://lh3.googleusercontent.com/a-/AOh14GgAssvLmn_w5xeX9qyFZBLdGe5MZ0CgOc0JVaqgyg=s64",
      "userId": "11448973563679387390"
     },
     "user_tz": -330
    },
    "id": "uJ_14Zz0mjeQ",
    "outputId": "018dd9ea-9d16-402e-e736-700daeca4b25"
   },
   "outputs": [
    {
     "name": "stderr",
     "output_type": "stream",
     "text": [
      "/usr/local/lib/python3.6/dist-packages/ipykernel_launcher.py:1: SettingWithCopyWarning: \n",
      "A value is trying to be set on a copy of a slice from a DataFrame.\n",
      "Try using .loc[row_indexer,col_indexer] = value instead\n",
      "\n",
      "See the caveats in the documentation: http://pandas.pydata.org/pandas-docs/stable/user_guide/indexing.html#returning-a-view-versus-a-copy\n",
      "  \"\"\"Entry point for launching an IPython kernel.\n"
     ]
    }
   ],
   "source": [
    "Blog_DF['label'] = Blog_DF.apply(lambda r: [r['gender'], str(r['age']), r['topic'],r['sign']], axis=1)"
   ]
  },
  {
   "cell_type": "code",
   "execution_count": 28,
   "metadata": {
    "colab": {
     "base_uri": "https://localhost:8080/",
     "height": 105
    },
    "colab_type": "code",
    "executionInfo": {
     "elapsed": 833,
     "status": "ok",
     "timestamp": 1583659361196,
     "user": {
      "displayName": "Vihan Parmar",
      "photoUrl": "https://lh3.googleusercontent.com/a-/AOh14GgAssvLmn_w5xeX9qyFZBLdGe5MZ0CgOc0JVaqgyg=s64",
      "userId": "11448973563679387390"
     },
     "user_tz": -330
    },
    "id": "PtAX4rotnIqy",
    "outputId": "0c83989d-fae4-4805-c0b8-2ee477a88fb6"
   },
   "outputs": [
    {
     "name": "stderr",
     "output_type": "stream",
     "text": [
      "/usr/local/lib/python3.6/dist-packages/pandas/core/frame.py:4117: SettingWithCopyWarning: \n",
      "A value is trying to be set on a copy of a slice from a DataFrame\n",
      "\n",
      "See the caveats in the documentation: http://pandas.pydata.org/pandas-docs/stable/user_guide/indexing.html#returning-a-view-versus-a-copy\n",
      "  errors=errors,\n"
     ]
    }
   ],
   "source": [
    "# Dropping.\n",
    "\n",
    "Blog_DF.drop(columns=['id','gender','age','topic','sign','date'],inplace = True)"
   ]
  },
  {
   "cell_type": "code",
   "execution_count": 29,
   "metadata": {
    "colab": {
     "base_uri": "https://localhost:8080/",
     "height": 106
    },
    "colab_type": "code",
    "executionInfo": {
     "elapsed": 903,
     "status": "ok",
     "timestamp": 1583659376487,
     "user": {
      "displayName": "Vihan Parmar",
      "photoUrl": "https://lh3.googleusercontent.com/a-/AOh14GgAssvLmn_w5xeX9qyFZBLdGe5MZ0CgOc0JVaqgyg=s64",
      "userId": "11448973563679387390"
     },
     "user_tz": -330
    },
    "id": "7pb3aeC7e_7p",
    "outputId": "672918b7-5a27-4825-9b49-4e4ee77efc6f"
   },
   "outputs": [
    {
     "data": {
      "text/html": [
       "<div>\n",
       "<style scoped>\n",
       "    .dataframe tbody tr th:only-of-type {\n",
       "        vertical-align: middle;\n",
       "    }\n",
       "\n",
       "    .dataframe tbody tr th {\n",
       "        vertical-align: top;\n",
       "    }\n",
       "\n",
       "    .dataframe thead th {\n",
       "        text-align: right;\n",
       "    }\n",
       "</style>\n",
       "<table border=\"1\" class=\"dataframe\">\n",
       "  <thead>\n",
       "    <tr style=\"text-align: right;\">\n",
       "      <th></th>\n",
       "      <th>text</th>\n",
       "      <th>label</th>\n",
       "    </tr>\n",
       "  </thead>\n",
       "  <tbody>\n",
       "    <tr>\n",
       "      <th>0</th>\n",
       "      <td>Info has been found (+/- 100 pages,...</td>\n",
       "      <td>[male, 15, Student, Leo]</td>\n",
       "    </tr>\n",
       "    <tr>\n",
       "      <th>1</th>\n",
       "      <td>These are the team members:   Drewe...</td>\n",
       "      <td>[male, 15, Student, Leo]</td>\n",
       "    </tr>\n",
       "  </tbody>\n",
       "</table>\n",
       "</div>"
      ],
      "text/plain": [
       "                                                text                     label\n",
       "0             Info has been found (+/- 100 pages,...  [male, 15, Student, Leo]\n",
       "1             These are the team members:   Drewe...  [male, 15, Student, Leo]"
      ]
     },
     "execution_count": 29,
     "metadata": {
      "tags": []
     },
     "output_type": "execute_result"
    }
   ],
   "source": [
    "# Verifying the change.\n",
    "\n",
    "Blog_DF.head(2)"
   ]
  },
  {
   "cell_type": "code",
   "execution_count": 30,
   "metadata": {
    "colab": {
     "base_uri": "https://localhost:8080/",
     "height": 686
    },
    "colab_type": "code",
    "executionInfo": {
     "elapsed": 3947,
     "status": "ok",
     "timestamp": 1583659514298,
     "user": {
      "displayName": "Vihan Parmar",
      "photoUrl": "https://lh3.googleusercontent.com/a-/AOh14GgAssvLmn_w5xeX9qyFZBLdGe5MZ0CgOc0JVaqgyg=s64",
      "userId": "11448973563679387390"
     },
     "user_tz": -330
    },
    "id": "C3665lVnmjZ8",
    "outputId": "5bcc150a-9ae2-41d8-c6d0-9758c5556f80"
   },
   "outputs": [
    {
     "name": "stdout",
     "output_type": "stream",
     "text": [
      "[nltk_data] Downloading package stopwords to /root/nltk_data...\n",
      "[nltk_data]   Unzipping corpora/stopwords.zip.\n"
     ]
    },
    {
     "name": "stderr",
     "output_type": "stream",
     "text": [
      "/usr/local/lib/python3.6/dist-packages/ipykernel_launcher.py:8: SettingWithCopyWarning: \n",
      "A value is trying to be set on a copy of a slice from a DataFrame.\n",
      "Try using .loc[row_indexer,col_indexer] = value instead\n",
      "\n",
      "See the caveats in the documentation: http://pandas.pydata.org/pandas-docs/stable/user_guide/indexing.html#returning-a-view-versus-a-copy\n",
      "  \n",
      "/usr/local/lib/python3.6/dist-packages/ipykernel_launcher.py:9: SettingWithCopyWarning: \n",
      "A value is trying to be set on a copy of a slice from a DataFrame.\n",
      "Try using .loc[row_indexer,col_indexer] = value instead\n",
      "\n",
      "See the caveats in the documentation: http://pandas.pydata.org/pandas-docs/stable/user_guide/indexing.html#returning-a-view-versus-a-copy\n",
      "  if __name__ == '__main__':\n",
      "/usr/local/lib/python3.6/dist-packages/ipykernel_launcher.py:10: SettingWithCopyWarning: \n",
      "A value is trying to be set on a copy of a slice from a DataFrame.\n",
      "Try using .loc[row_indexer,col_indexer] = value instead\n",
      "\n",
      "See the caveats in the documentation: http://pandas.pydata.org/pandas-docs/stable/user_guide/indexing.html#returning-a-view-versus-a-copy\n",
      "  # Remove the CWD from sys.path while we load stuff.\n",
      "/usr/local/lib/python3.6/dist-packages/ipykernel_launcher.py:14: SettingWithCopyWarning: \n",
      "A value is trying to be set on a copy of a slice from a DataFrame.\n",
      "Try using .loc[row_indexer,col_indexer] = value instead\n",
      "\n",
      "See the caveats in the documentation: http://pandas.pydata.org/pandas-docs/stable/user_guide/indexing.html#returning-a-view-versus-a-copy\n",
      "  \n"
     ]
    },
    {
     "data": {
      "text/plain": [
       "0       info found pages mb pdf files wait untill team...\n",
       "1       team members drewes van der laag urllink mail ...\n",
       "2       het kader van kernfusie op aarde maak je eigen...\n",
       "3                                         testing testing\n",
       "4       thanks yahoos toolbar capture urls popupswhich...\n",
       "                              ...                        \n",
       "7995    today good excellent time warming becca downlo...\n",
       "7996    oh goodness oh goodness oh goodness best news ...\n",
       "7997    well day wasokay average long tiredblaa well e...\n",
       "7998    sorry title like comment nothing entry anywayi...\n",
       "7999    ready love youre sensitive pushover active man...\n",
       "Name: text, Length: 8000, dtype: object"
      ]
     },
     "execution_count": 30,
     "metadata": {
      "tags": []
     },
     "output_type": "execute_result"
    }
   ],
   "source": [
    "# Importing stop words from nltk and making some important changes.\n",
    "\n",
    "from nltk.corpus import stopwords\n",
    "\n",
    "import re\n",
    "import nltk\n",
    "\n",
    "nltk.download('stopwords')\n",
    "\n",
    "Blog_DF['text'] = Blog_DF['text'].map(lambda s : s.lower())\n",
    "Blog_DF['text'] = Blog_DF['text'].map(lambda s:re.sub('[0-9+-/#()!:\\']','',s))\n",
    "Blog_DF['text'] = Blog_DF['text'].map(lambda s :s.strip())\n",
    "\n",
    "SW = stopwords.words('english')\n",
    "\n",
    "Blog_DF['text'] = Blog_DF['text'].apply(lambda s: ' '.join([word for word in s.split() if word not in (SW)]))\n",
    "Blog_DF['text']"
   ]
  },
  {
   "cell_type": "code",
   "execution_count": 0,
   "metadata": {
    "colab": {},
    "colab_type": "code",
    "id": "jWX013almjX5"
   },
   "outputs": [],
   "source": [
    "X = Blog_DF.text\n",
    "y = Blog_DF.label"
   ]
  },
  {
   "cell_type": "code",
   "execution_count": 0,
   "metadata": {
    "colab": {},
    "colab_type": "code",
    "id": "J1GayGRHmjVy"
   },
   "outputs": [],
   "source": [
    "#A smaller train size will help the system fit in the count vectorizer.\n",
    "\n",
    "from sklearn.model_selection import train_test_split\n",
    "\n",
    "X_train, X_test, y_train, y_test = train_test_split(X,y,test_size=0.2)"
   ]
  },
  {
   "cell_type": "code",
   "execution_count": 0,
   "metadata": {
    "colab": {},
    "colab_type": "code",
    "id": "hu4nJUiGqrLB"
   },
   "outputs": [],
   "source": [
    "# Split.\n",
    "\n",
    "X_train, X_val, y_train, y_val = train_test_split(X_train, y_train, test_size = 0.3)"
   ]
  },
  {
   "cell_type": "code",
   "execution_count": 34,
   "metadata": {
    "colab": {
     "base_uri": "https://localhost:8080/",
     "height": 122
    },
    "colab_type": "code",
    "executionInfo": {
     "elapsed": 914,
     "status": "ok",
     "timestamp": 1583659758075,
     "user": {
      "displayName": "Vihan Parmar",
      "photoUrl": "https://lh3.googleusercontent.com/a-/AOh14GgAssvLmn_w5xeX9qyFZBLdGe5MZ0CgOc0JVaqgyg=s64",
      "userId": "11448973563679387390"
     },
     "user_tz": -330
    },
    "id": "C_CbLtusmjTh",
    "outputId": "3111bd8c-a4c7-40cb-973d-10db921ebc23"
   },
   "outputs": [
    {
     "name": "stdout",
     "output_type": "stream",
     "text": [
      "The shape of X_train is:  (4480,)\n",
      "The shape of X_test is:  (1600,)\n",
      "The shape of X_val is:  (1920,)\n",
      "The shape of y_train is:  (4480,)\n",
      "The shape of y_test is: (1600,)\n",
      "The shape of y_val is: (1920,)\n"
     ]
    }
   ],
   "source": [
    "# Checking the shape.\n",
    "\n",
    "print(\"The shape of X_train is: \",X_train.shape)\n",
    "print(\"The shape of X_test is: \", X_test.shape)\n",
    "print(\"The shape of X_val is: \", X_val.shape)\n",
    "print(\"The shape of y_train is: \", y_train.shape)\n",
    "print(\"The shape of y_test is:\", y_test.shape)\n",
    "print(\"The shape of y_val is:\", y_val.shape)"
   ]
  },
  {
   "cell_type": "code",
   "execution_count": 0,
   "metadata": {
    "colab": {},
    "colab_type": "code",
    "id": "gbwrbAk1mjRd"
   },
   "outputs": [],
   "source": [
    "from sklearn.feature_extraction.text import CountVectorizer"
   ]
  },
  {
   "cell_type": "code",
   "execution_count": 0,
   "metadata": {
    "colab": {},
    "colab_type": "code",
    "id": "xppRrmTjmjPi"
   },
   "outputs": [],
   "source": [
    "CV = CountVectorizer(ngram_range = (1,2))"
   ]
  },
  {
   "cell_type": "code",
   "execution_count": 0,
   "metadata": {
    "colab": {},
    "colab_type": "code",
    "id": "3y79ImwhmjNJ"
   },
   "outputs": [],
   "source": [
    "X_train = CV.fit_transform(X_train)"
   ]
  },
  {
   "cell_type": "code",
   "execution_count": 0,
   "metadata": {
    "colab": {},
    "colab_type": "code",
    "id": "gjXjx9zDmjLG"
   },
   "outputs": [],
   "source": [
    "X_test = CV.transform(X_test)"
   ]
  },
  {
   "cell_type": "code",
   "execution_count": 0,
   "metadata": {
    "colab": {},
    "colab_type": "code",
    "id": "SwYNgCmN7qQK"
   },
   "outputs": [],
   "source": [
    "X_val = CV.transform(X_val)"
   ]
  },
  {
   "cell_type": "code",
   "execution_count": 40,
   "metadata": {
    "colab": {
     "base_uri": "https://localhost:8080/",
     "height": 914
    },
    "colab_type": "code",
    "executionInfo": {
     "elapsed": 851,
     "status": "ok",
     "timestamp": 1583659911240,
     "user": {
      "displayName": "Vihan Parmar",
      "photoUrl": "https://lh3.googleusercontent.com/a-/AOh14GgAssvLmn_w5xeX9qyFZBLdGe5MZ0CgOc0JVaqgyg=s64",
      "userId": "11448973563679387390"
     },
     "user_tz": -330
    },
    "id": "DDRFKXU7mjJC",
    "outputId": "b950df5b-6dee-4ffa-a404-95b2fc0f4d50"
   },
   "outputs": [
    {
     "name": "stdout",
     "output_type": "stream",
     "text": [
      "  (0, 6008)\t1\n",
      "  (0, 7276)\t1\n",
      "  (0, 7388)\t1\n",
      "  (0, 7847)\t1\n",
      "  (0, 12754)\t1\n",
      "  (0, 14047)\t4\n",
      "  (0, 14172)\t1\n",
      "  (0, 14206)\t1\n",
      "  (0, 14619)\t1\n",
      "  (0, 14631)\t1\n",
      "  (0, 15583)\t1\n",
      "  (0, 15756)\t1\n",
      "  (0, 16131)\t1\n",
      "  (0, 17279)\t3\n",
      "  (0, 17646)\t1\n",
      "  (0, 20114)\t1\n",
      "  (0, 25545)\t2\n",
      "  (0, 25549)\t1\n",
      "  (0, 28142)\t1\n",
      "  (0, 28625)\t1\n",
      "  (0, 28652)\t1\n",
      "  (0, 30744)\t1\n",
      "  (0, 33347)\t1\n",
      "  (0, 33770)\t1\n",
      "  (0, 33854)\t1\n",
      "  :\t:\n",
      "  (1918, 190418)\t1\n",
      "  (1918, 209108)\t1\n",
      "  (1918, 209207)\t1\n",
      "  (1918, 216400)\t1\n",
      "  (1918, 228002)\t1\n",
      "  (1918, 230926)\t1\n",
      "  (1918, 249946)\t1\n",
      "  (1918, 253048)\t1\n",
      "  (1918, 253049)\t1\n",
      "  (1918, 262773)\t1\n",
      "  (1918, 287146)\t1\n",
      "  (1918, 287399)\t1\n",
      "  (1919, 6612)\t1\n",
      "  (1919, 103472)\t1\n",
      "  (1919, 121977)\t1\n",
      "  (1919, 124307)\t1\n",
      "  (1919, 124666)\t1\n",
      "  (1919, 126670)\t1\n",
      "  (1919, 132298)\t1\n",
      "  (1919, 156979)\t1\n",
      "  (1919, 171076)\t1\n",
      "  (1919, 218047)\t1\n",
      "  (1919, 250400)\t1\n",
      "  (1919, 250436)\t1\n",
      "  (1919, 273589)\t1\n"
     ]
    }
   ],
   "source": [
    "# Verifying.\n",
    "\n",
    "print(X_val)"
   ]
  },
  {
   "cell_type": "code",
   "execution_count": 0,
   "metadata": {
    "colab": {},
    "colab_type": "code",
    "id": "fv5XPvTUmjcM"
   },
   "outputs": [],
   "source": [
    "Label_Counts = dict()\n",
    "for labels in Blog_DF.label.values:\n",
    "    for label in labels:\n",
    "        if label in Label_Counts:\n",
    "            Label_Counts[label] += 1\n",
    "        else:\n",
    "            Label_Counts[label] = 1"
   ]
  },
  {
   "cell_type": "code",
   "execution_count": 43,
   "metadata": {
    "colab": {
     "base_uri": "https://localhost:8080/",
     "height": 1000
    },
    "colab_type": "code",
    "executionInfo": {
     "elapsed": 922,
     "status": "ok",
     "timestamp": 1583660014266,
     "user": {
      "displayName": "Vihan Parmar",
      "photoUrl": "https://lh3.googleusercontent.com/a-/AOh14GgAssvLmn_w5xeX9qyFZBLdGe5MZ0CgOc0JVaqgyg=s64",
      "userId": "11448973563679387390"
     },
     "user_tz": -330
    },
    "id": "PAgrqgMhnC0p",
    "outputId": "ec172477-e336-4cca-9ec7-d6c235e4d229"
   },
   "outputs": [
    {
     "data": {
      "text/plain": [
       "{'13': 9,\n",
       " '14': 170,\n",
       " '15': 390,\n",
       " '16': 73,\n",
       " '17': 914,\n",
       " '23': 144,\n",
       " '24': 378,\n",
       " '25': 268,\n",
       " '26': 112,\n",
       " '27': 691,\n",
       " '33': 101,\n",
       " '34': 540,\n",
       " '35': 2311,\n",
       " '36': 1703,\n",
       " '37': 19,\n",
       " '38': 46,\n",
       " '39': 79,\n",
       " '41': 14,\n",
       " '42': 14,\n",
       " '44': 3,\n",
       " '45': 14,\n",
       " '46': 7,\n",
       " 'Accounting': 2,\n",
       " 'Aquarius': 351,\n",
       " 'Aries': 4140,\n",
       " 'Arts': 31,\n",
       " 'Automotive': 14,\n",
       " 'Banking': 16,\n",
       " 'BusinessServices': 87,\n",
       " 'Cancer': 238,\n",
       " 'Capricorn': 88,\n",
       " 'Communications-Media': 61,\n",
       " 'Consulting': 18,\n",
       " 'Education': 121,\n",
       " 'Engineering': 119,\n",
       " 'Fashion': 1616,\n",
       " 'Gemini': 88,\n",
       " 'Internet': 93,\n",
       " 'InvestmentBanking': 70,\n",
       " 'Law': 3,\n",
       " 'Leo': 208,\n",
       " 'Libra': 425,\n",
       " 'Museums-Libraries': 2,\n",
       " 'Non-Profit': 47,\n",
       " 'Pisces': 103,\n",
       " 'Religion': 9,\n",
       " 'Sagittarius': 755,\n",
       " 'Science': 33,\n",
       " 'Scorpio': 854,\n",
       " 'Sports-Recreation': 77,\n",
       " 'Student': 615,\n",
       " 'Taurus': 709,\n",
       " 'Technology': 2350,\n",
       " 'Virgo': 41,\n",
       " 'female': 3061,\n",
       " 'indUnk': 2616,\n",
       " 'male': 4939}"
      ]
     },
     "execution_count": 43,
     "metadata": {
      "tags": []
     },
     "output_type": "execute_result"
    }
   ],
   "source": [
    "Label_Counts"
   ]
  },
  {
   "cell_type": "code",
   "execution_count": 44,
   "metadata": {
    "colab": {
     "base_uri": "https://localhost:8080/",
     "height": 52
    },
    "colab_type": "code",
    "executionInfo": {
     "elapsed": 854,
     "status": "ok",
     "timestamp": 1583660097190,
     "user": {
      "displayName": "Vihan Parmar",
      "photoUrl": "https://lh3.googleusercontent.com/a-/AOh14GgAssvLmn_w5xeX9qyFZBLdGe5MZ0CgOc0JVaqgyg=s64",
      "userId": "11448973563679387390"
     },
     "user_tz": -330
    },
    "id": "hhqCoAV5mjG6",
    "outputId": "315978bf-de7e-4961-f3a8-e204ecb4bd90"
   },
   "outputs": [
    {
     "name": "stderr",
     "output_type": "stream",
     "text": [
      "/usr/local/lib/python3.6/dist-packages/sklearn/preprocessing/_label.py:987: UserWarning: unknown class(es) ['Accounting', 'Museums-Libraries'] will be ignored\n",
      "  .format(sorted(unknown, key=str)))\n"
     ]
    }
   ],
   "source": [
    "from sklearn.preprocessing import MultiLabelBinarizer\n",
    "\n",
    "MLB = MultiLabelBinarizer()\n",
    "\n",
    "y_train = MLB.fit_transform(y_train)\n",
    "y_test = MLB.transform(y_test)\n",
    "y_val = MLB.transform(y_val)"
   ]
  },
  {
   "cell_type": "code",
   "execution_count": 45,
   "metadata": {
    "colab": {
     "base_uri": "https://localhost:8080/",
     "height": 34
    },
    "colab_type": "code",
    "executionInfo": {
     "elapsed": 857,
     "status": "ok",
     "timestamp": 1583660102732,
     "user": {
      "displayName": "Vihan Parmar",
      "photoUrl": "https://lh3.googleusercontent.com/a-/AOh14GgAssvLmn_w5xeX9qyFZBLdGe5MZ0CgOc0JVaqgyg=s64",
      "userId": "11448973563679387390"
     },
     "user_tz": -330
    },
    "id": "fMdOZx6xT2ng",
    "outputId": "1ca5495b-74ca-4c39-b2c9-423c6034c6a8"
   },
   "outputs": [
    {
     "data": {
      "text/plain": [
       "(1600, 55)"
      ]
     },
     "execution_count": 45,
     "metadata": {
      "tags": []
     },
     "output_type": "execute_result"
    }
   ],
   "source": [
    "y_test.shape"
   ]
  },
  {
   "cell_type": "code",
   "execution_count": 46,
   "metadata": {
    "colab": {
     "base_uri": "https://localhost:8080/",
     "height": 34
    },
    "colab_type": "code",
    "executionInfo": {
     "elapsed": 567,
     "status": "ok",
     "timestamp": 1583660105355,
     "user": {
      "displayName": "Vihan Parmar",
      "photoUrl": "https://lh3.googleusercontent.com/a-/AOh14GgAssvLmn_w5xeX9qyFZBLdGe5MZ0CgOc0JVaqgyg=s64",
      "userId": "11448973563679387390"
     },
     "user_tz": -330
    },
    "id": "UCSisxn9-tMJ",
    "outputId": "2cf92821-f337-4389-f9a1-56f43a78326a"
   },
   "outputs": [
    {
     "data": {
      "text/plain": [
       "(4480, 55)"
      ]
     },
     "execution_count": 46,
     "metadata": {
      "tags": []
     },
     "output_type": "execute_result"
    }
   ],
   "source": [
    "y_train.shape"
   ]
  },
  {
   "cell_type": "code",
   "execution_count": 0,
   "metadata": {
    "colab": {},
    "colab_type": "code",
    "id": "QQmDiGi7mjE1"
   },
   "outputs": [],
   "source": [
    "# Importing necessary models.\n",
    "\n",
    "from sklearn.multiclass import OneVsRestClassifier\n",
    "from sklearn.linear_model import LogisticRegression\n",
    "from sklearn.model_selection import GridSearchCV\n",
    "from sklearn.tree import DecisionTreeClassifier\n",
    "from sklearn.neighbors import KNeighborsClassifier\n",
    "from sklearn.ensemble import RandomForestClassifier\n",
    "from sklearn.naive_bayes import MultinomialNB\n",
    "\n",
    "CLF = LogisticRegression(solver='lbfgs',max_iter=10000)\n",
    "CLF = OneVsRestClassifier(CLF)\n",
    "CLFM = OneVsRestClassifier(MultinomialNB())\n",
    "CLF0 = GridSearchCV(DecisionTreeClassifier(),cv=5,param_grid={'max_depth':[80,250,500,750,1000]})\n",
    "CLF1 = GridSearchCV(KNeighborsClassifier(),cv=5,param_grid={'n_neighbors':[5,10,15,20,25]})\n",
    "CLF2 = GridSearchCV(RandomForestClassifier(),cv =5,param_grid={'max_depth':[80,250,500,750,1000]})\n"
   ]
  },
  {
   "cell_type": "code",
   "execution_count": 51,
   "metadata": {
    "colab": {
     "base_uri": "https://localhost:8080/",
     "height": 228
    },
    "colab_type": "code",
    "executionInfo": {
     "elapsed": 164430,
     "status": "ok",
     "timestamp": 1583660403874,
     "user": {
      "displayName": "Vihan Parmar",
      "photoUrl": "https://lh3.googleusercontent.com/a-/AOh14GgAssvLmn_w5xeX9qyFZBLdGe5MZ0CgOc0JVaqgyg=s64",
      "userId": "11448973563679387390"
     },
     "user_tz": -330
    },
    "id": "CyekpRmQmjCs",
    "outputId": "66e1f042-5402-49f5-cdb6-b6cc9245be5c"
   },
   "outputs": [
    {
     "name": "stdout",
     "output_type": "stream",
     "text": [
      "CPU times: user 4min 11s, sys: 6min 15s, total: 10min 27s\n",
      "Wall time: 2min 43s\n"
     ]
    },
    {
     "data": {
      "text/plain": [
       "OneVsRestClassifier(estimator=LogisticRegression(C=1.0, class_weight=None,\n",
       "                                                 dual=False, fit_intercept=True,\n",
       "                                                 intercept_scaling=1,\n",
       "                                                 l1_ratio=None, max_iter=10000,\n",
       "                                                 multi_class='auto',\n",
       "                                                 n_jobs=None, penalty='l2',\n",
       "                                                 random_state=None,\n",
       "                                                 solver='lbfgs', tol=0.0001,\n",
       "                                                 verbose=0, warm_start=False),\n",
       "                    n_jobs=None)"
      ]
     },
     "execution_count": 51,
     "metadata": {
      "tags": []
     },
     "output_type": "execute_result"
    }
   ],
   "source": [
    "%%time\n",
    "CLF.fit(X_train, y_train)"
   ]
  },
  {
   "cell_type": "code",
   "execution_count": 0,
   "metadata": {
    "colab": {},
    "colab_type": "code",
    "id": "YMbfChzDmjAm"
   },
   "outputs": [],
   "source": [
    "y_pred = CLF.predict(X_test)"
   ]
  },
  {
   "cell_type": "code",
   "execution_count": 53,
   "metadata": {
    "colab": {
     "base_uri": "https://localhost:8080/",
     "height": 1000
    },
    "colab_type": "code",
    "executionInfo": {
     "elapsed": 840,
     "status": "ok",
     "timestamp": 1583660823600,
     "user": {
      "displayName": "Vihan Parmar",
      "photoUrl": "https://lh3.googleusercontent.com/a-/AOh14GgAssvLmn_w5xeX9qyFZBLdGe5MZ0CgOc0JVaqgyg=s64",
      "userId": "11448973563679387390"
     },
     "user_tz": -330
    },
    "id": "IuCAogaomi-Z",
    "outputId": "cd3e39f3-3786-42ee-f494-8a52f3f781c1"
   },
   "outputs": [
    {
     "name": "stdout",
     "output_type": "stream",
     "text": [
      "The model accuracy is: 0.96875\n",
      "The accuracy is: 0.3875\n",
      "The hamming-loss: 0.04113636363636364\n",
      "              precision    recall  f1-score   support\n",
      "\n",
      "           0       0.00      0.00      0.00         1\n",
      "           1       0.50      0.04      0.07        25\n",
      "           2       0.67      0.26      0.38        76\n",
      "           3       0.00      0.00      0.00        17\n",
      "           4       0.78      0.31      0.44       181\n",
      "           5       0.00      0.00      0.00        24\n",
      "           6       0.77      0.14      0.24        71\n",
      "           7       0.67      0.09      0.15        46\n",
      "           8       0.00      0.00      0.00        27\n",
      "           9       0.79      0.33      0.47       151\n",
      "          10       1.00      0.28      0.43        18\n",
      "          11       0.98      0.69      0.81       119\n",
      "          12       0.75      0.71      0.73       477\n",
      "          13       0.89      0.53      0.67       326\n",
      "          14       0.00      0.00      0.00         4\n",
      "          15       0.00      0.00      0.00        12\n",
      "          16       0.00      0.00      0.00        13\n",
      "          17       0.00      0.00      0.00         5\n",
      "          18       0.00      0.00      0.00         3\n",
      "          19       0.00      0.00      0.00         0\n",
      "          20       0.00      0.00      0.00         3\n",
      "          21       0.00      0.00      0.00         1\n",
      "          22       0.62      0.15      0.24        66\n",
      "          23       0.78      0.86      0.82       825\n",
      "          24       0.00      0.00      0.00         6\n",
      "          25       0.00      0.00      0.00         2\n",
      "          26       0.00      0.00      0.00         2\n",
      "          27       0.50      0.06      0.11        16\n",
      "          28       0.88      0.21      0.34        33\n",
      "          29       1.00      0.06      0.11        17\n",
      "          30       0.00      0.00      0.00        12\n",
      "          31       0.00      0.00      0.00         4\n",
      "          32       0.50      0.08      0.14        24\n",
      "          33       0.57      0.22      0.32        18\n",
      "          34       0.91      0.50      0.65       313\n",
      "          35       0.00      0.00      0.00        16\n",
      "          36       0.50      0.06      0.11        16\n",
      "          37       1.00      0.25      0.40        12\n",
      "          38       0.00      0.00      0.00         1\n",
      "          39       1.00      0.04      0.08        46\n",
      "          40       0.81      0.28      0.41        80\n",
      "          41       0.00      0.00      0.00         5\n",
      "          42       0.00      0.00      0.00        15\n",
      "          43       0.00      0.00      0.00         0\n",
      "          44       0.92      0.55      0.69       166\n",
      "          45       1.00      0.25      0.40         4\n",
      "          46       0.77      0.24      0.36       173\n",
      "          47       1.00      0.06      0.12        16\n",
      "          48       0.74      0.24      0.36       118\n",
      "          49       0.77      0.34      0.48       154\n",
      "          50       0.75      0.69      0.71       489\n",
      "          51       0.00      0.00      0.00         9\n",
      "          52       0.81      0.64      0.71       628\n",
      "          53       0.78      0.52      0.62       538\n",
      "          54       0.79      0.90      0.84       972\n",
      "\n",
      "   micro avg       0.79      0.59      0.68      6396\n",
      "   macro avg       0.46      0.19      0.24      6396\n",
      "weighted avg       0.77      0.59      0.64      6396\n",
      " samples avg       0.75      0.59      0.64      6396\n",
      "\n"
     ]
    },
    {
     "name": "stderr",
     "output_type": "stream",
     "text": [
      "/usr/local/lib/python3.6/dist-packages/sklearn/metrics/_classification.py:1272: UndefinedMetricWarning: Precision and F-score are ill-defined and being set to 0.0 in labels with no predicted samples. Use `zero_division` parameter to control this behavior.\n",
      "  _warn_prf(average, modifier, msg_start, len(result))\n",
      "/usr/local/lib/python3.6/dist-packages/sklearn/metrics/_classification.py:1272: UndefinedMetricWarning: Recall and F-score are ill-defined and being set to 0.0 in labels with no true samples. Use `zero_division` parameter to control this behavior.\n",
      "  _warn_prf(average, modifier, msg_start, len(result))\n"
     ]
    }
   ],
   "source": [
    "from sklearn.metrics import hamming_loss, accuracy_score,classification_report\n",
    "\n",
    "print(\"The model accuracy is:\", CLF.score(X_train, y_train))\n",
    "print(\"The accuracy is:\", accuracy_score(y_test, y_pred))\n",
    "print(\"The hamming-loss:\", hamming_loss(y_test, y_pred))\n",
    "\n",
    "report = classification_report(y_test,y_pred)\n",
    "\n",
    "print(report)"
   ]
  },
  {
   "cell_type": "code",
   "execution_count": 0,
   "metadata": {
    "colab": {},
    "colab_type": "code",
    "id": "Dx8T3O4Vg5vz"
   },
   "outputs": [],
   "source": [
    "y_test_in = MLB.inverse_transform(y_test)"
   ]
  },
  {
   "cell_type": "code",
   "execution_count": 0,
   "metadata": {
    "colab": {},
    "colab_type": "code",
    "id": "K36L7hrfmiz4"
   },
   "outputs": [],
   "source": [
    "y_pred_in = MLB.inverse_transform(y_pred)"
   ]
  },
  {
   "cell_type": "code",
   "execution_count": 0,
   "metadata": {
    "colab": {},
    "colab_type": "code",
    "id": "xBGCEvIPBQYa"
   },
   "outputs": [],
   "source": [
    "Label_Table = pd.DataFrame({'Predicted': y_pred_in,'Actual': y_test_in})"
   ]
  },
  {
   "cell_type": "code",
   "execution_count": 58,
   "metadata": {
    "colab": {
     "base_uri": "https://localhost:8080/",
     "height": 225
    },
    "colab_type": "code",
    "executionInfo": {
     "elapsed": 557,
     "status": "ok",
     "timestamp": 1583661005743,
     "user": {
      "displayName": "Vihan Parmar",
      "photoUrl": "https://lh3.googleusercontent.com/a-/AOh14GgAssvLmn_w5xeX9qyFZBLdGe5MZ0CgOc0JVaqgyg=s64",
      "userId": "11448973563679387390"
     },
     "user_tz": -330
    },
    "id": "_RdkqFUZBh_M",
    "outputId": "61bd6ac0-3ee5-4085-c7ef-6420b538cb9c"
   },
   "outputs": [
    {
     "data": {
      "text/html": [
       "<div>\n",
       "<style scoped>\n",
       "    .dataframe tbody tr th:only-of-type {\n",
       "        vertical-align: middle;\n",
       "    }\n",
       "\n",
       "    .dataframe tbody tr th {\n",
       "        vertical-align: top;\n",
       "    }\n",
       "\n",
       "    .dataframe thead th {\n",
       "        text-align: right;\n",
       "    }\n",
       "</style>\n",
       "<table border=\"1\" class=\"dataframe\">\n",
       "  <thead>\n",
       "    <tr style=\"text-align: right;\">\n",
       "      <th></th>\n",
       "      <th>Predicted</th>\n",
       "      <th>Actual</th>\n",
       "    </tr>\n",
       "  </thead>\n",
       "  <tbody>\n",
       "    <tr>\n",
       "      <th>0</th>\n",
       "      <td>(male,)</td>\n",
       "      <td>(25, Libra, female, indUnk)</td>\n",
       "    </tr>\n",
       "    <tr>\n",
       "      <th>1</th>\n",
       "      <td>(Aries, male)</td>\n",
       "      <td>(35, Aries, Technology, male)</td>\n",
       "    </tr>\n",
       "    <tr>\n",
       "      <th>2</th>\n",
       "      <td>(17, Scorpio, female, indUnk)</td>\n",
       "      <td>(17, Scorpio, female, indUnk)</td>\n",
       "    </tr>\n",
       "    <tr>\n",
       "      <th>3</th>\n",
       "      <td>(Aries, male)</td>\n",
       "      <td>(27, Taurus, female, indUnk)</td>\n",
       "    </tr>\n",
       "    <tr>\n",
       "      <th>4</th>\n",
       "      <td>(male,)</td>\n",
       "      <td>(25, BusinessServices, Sagittarius, male)</td>\n",
       "    </tr>\n",
       "    <tr>\n",
       "      <th>5</th>\n",
       "      <td>(35, Aries, Technology, male)</td>\n",
       "      <td>(26, Gemini, indUnk, male)</td>\n",
       "    </tr>\n",
       "  </tbody>\n",
       "</table>\n",
       "</div>"
      ],
      "text/plain": [
       "                       Predicted                                     Actual\n",
       "0                        (male,)                (25, Libra, female, indUnk)\n",
       "1                  (Aries, male)              (35, Aries, Technology, male)\n",
       "2  (17, Scorpio, female, indUnk)              (17, Scorpio, female, indUnk)\n",
       "3                  (Aries, male)               (27, Taurus, female, indUnk)\n",
       "4                        (male,)  (25, BusinessServices, Sagittarius, male)\n",
       "5  (35, Aries, Technology, male)                 (26, Gemini, indUnk, male)"
      ]
     },
     "execution_count": 58,
     "metadata": {
      "tags": []
     },
     "output_type": "execute_result"
    }
   ],
   "source": [
    "Label_Table.head(6)"
   ]
  },
  {
   "cell_type": "code",
   "execution_count": 59,
   "metadata": {
    "colab": {
     "base_uri": "https://localhost:8080/",
     "height": 70
    },
    "colab_type": "code",
    "executionInfo": {
     "elapsed": 2076,
     "status": "ok",
     "timestamp": 1583661041551,
     "user": {
      "displayName": "Vihan Parmar",
      "photoUrl": "https://lh3.googleusercontent.com/a-/AOh14GgAssvLmn_w5xeX9qyFZBLdGe5MZ0CgOc0JVaqgyg=s64",
      "userId": "11448973563679387390"
     },
     "user_tz": -330
    },
    "id": "fMReZ8jGX0HK",
    "outputId": "dd986ef7-9d04-4338-9d81-f185445e2e95"
   },
   "outputs": [
    {
     "data": {
      "text/plain": [
       "OneVsRestClassifier(estimator=MultinomialNB(alpha=1.0, class_prior=None,\n",
       "                                            fit_prior=True),\n",
       "                    n_jobs=None)"
      ]
     },
     "execution_count": 59,
     "metadata": {
      "tags": []
     },
     "output_type": "execute_result"
    }
   ],
   "source": [
    "CLFM.fit(X_train,y_train)"
   ]
  },
  {
   "cell_type": "code",
   "execution_count": 0,
   "metadata": {
    "colab": {},
    "colab_type": "code",
    "id": "JefAPHALX_21"
   },
   "outputs": [],
   "source": [
    "y_pred1 = CLFM.predict(X_test)"
   ]
  },
  {
   "cell_type": "code",
   "execution_count": 61,
   "metadata": {
    "colab": {
     "base_uri": "https://localhost:8080/",
     "height": 1000
    },
    "colab_type": "code",
    "executionInfo": {
     "elapsed": 1119,
     "status": "ok",
     "timestamp": 1583661176015,
     "user": {
      "displayName": "Vihan Parmar",
      "photoUrl": "https://lh3.googleusercontent.com/a-/AOh14GgAssvLmn_w5xeX9qyFZBLdGe5MZ0CgOc0JVaqgyg=s64",
      "userId": "11448973563679387390"
     },
     "user_tz": -330
    },
    "id": "UleH4M-kX-1V",
    "outputId": "07f20e5d-03ae-4af6-8a20-e9f0e0bf8133"
   },
   "outputs": [
    {
     "name": "stdout",
     "output_type": "stream",
     "text": [
      "The model accuracy is: 0.7805803571428571\n",
      "The accuracy is: 0.06875\n",
      "The hamming-loss: 0.054113636363636364\n",
      "              precision    recall  f1-score   support\n",
      "\n",
      "           0       0.00      0.00      0.00         1\n",
      "           1       0.00      0.00      0.00        25\n",
      "           2       0.67      0.05      0.10        76\n",
      "           3       0.00      0.00      0.00        17\n",
      "           4       1.00      0.05      0.09       181\n",
      "           5       0.00      0.00      0.00        24\n",
      "           6       1.00      0.03      0.05        71\n",
      "           7       0.00      0.00      0.00        46\n",
      "           8       0.00      0.00      0.00        27\n",
      "           9       1.00      0.01      0.01       151\n",
      "          10       0.00      0.00      0.00        18\n",
      "          11       0.00      0.00      0.00       119\n",
      "          12       0.93      0.09      0.16       477\n",
      "          13       0.97      0.19      0.32       326\n",
      "          14       0.00      0.00      0.00         4\n",
      "          15       0.00      0.00      0.00        12\n",
      "          16       0.00      0.00      0.00        13\n",
      "          17       0.00      0.00      0.00         5\n",
      "          18       0.00      0.00      0.00         3\n",
      "          19       0.00      0.00      0.00         0\n",
      "          20       0.00      0.00      0.00         3\n",
      "          21       0.00      0.00      0.00         1\n",
      "          22       1.00      0.05      0.09        66\n",
      "          23       0.92      0.43      0.58       825\n",
      "          24       0.00      0.00      0.00         6\n",
      "          25       0.00      0.00      0.00         2\n",
      "          26       0.00      0.00      0.00         2\n",
      "          27       1.00      0.06      0.12        16\n",
      "          28       1.00      0.03      0.06        33\n",
      "          29       0.00      0.00      0.00        17\n",
      "          30       0.00      0.00      0.00        12\n",
      "          31       0.00      0.00      0.00         4\n",
      "          32       0.00      0.00      0.00        24\n",
      "          33       0.00      0.00      0.00        18\n",
      "          34       0.98      0.19      0.33       313\n",
      "          35       0.00      0.00      0.00        16\n",
      "          36       0.00      0.00      0.00        16\n",
      "          37       0.00      0.00      0.00        12\n",
      "          38       0.00      0.00      0.00         1\n",
      "          39       0.00      0.00      0.00        46\n",
      "          40       0.00      0.00      0.00        80\n",
      "          41       0.00      0.00      0.00         5\n",
      "          42       0.00      0.00      0.00        15\n",
      "          43       0.00      0.00      0.00         0\n",
      "          44       1.00      0.02      0.05       166\n",
      "          45       0.00      0.00      0.00         4\n",
      "          46       0.88      0.04      0.08       173\n",
      "          47       0.00      0.00      0.00        16\n",
      "          48       0.80      0.03      0.07       118\n",
      "          49       1.00      0.01      0.01       154\n",
      "          50       0.94      0.09      0.17       489\n",
      "          51       0.00      0.00      0.00         9\n",
      "          52       0.72      0.74      0.73       628\n",
      "          53       0.81      0.43      0.56       538\n",
      "          54       0.83      0.81      0.82       972\n",
      "\n",
      "   micro avg       0.82      0.33      0.47      6396\n",
      "   macro avg       0.32      0.06      0.08      6396\n",
      "weighted avg       0.80      0.33      0.39      6396\n",
      " samples avg       0.78      0.33      0.44      6396\n",
      "\n"
     ]
    },
    {
     "name": "stderr",
     "output_type": "stream",
     "text": [
      "/usr/local/lib/python3.6/dist-packages/sklearn/metrics/_classification.py:1272: UndefinedMetricWarning: Precision and F-score are ill-defined and being set to 0.0 in labels with no predicted samples. Use `zero_division` parameter to control this behavior.\n",
      "  _warn_prf(average, modifier, msg_start, len(result))\n",
      "/usr/local/lib/python3.6/dist-packages/sklearn/metrics/_classification.py:1272: UndefinedMetricWarning: Recall and F-score are ill-defined and being set to 0.0 in labels with no true samples. Use `zero_division` parameter to control this behavior.\n",
      "  _warn_prf(average, modifier, msg_start, len(result))\n"
     ]
    }
   ],
   "source": [
    "from sklearn.metrics import hamming_loss, accuracy_score,classification_report\n",
    "\n",
    "print(\"The model accuracy is:\", CLFM.score(X_train, y_train))\n",
    "print(\"The accuracy is:\", accuracy_score(y_test, y_pred1))\n",
    "print(\"The hamming-loss:\", hamming_loss(y_test, y_pred1))\n",
    "\n",
    "report1 = classification_report(y_test, y_pred1)\n",
    "\n",
    "print(report1)"
   ]
  },
  {
   "cell_type": "code",
   "execution_count": 62,
   "metadata": {
    "colab": {
     "base_uri": "https://localhost:8080/",
     "height": 105
    },
    "colab_type": "code",
    "executionInfo": {
     "elapsed": 45047,
     "status": "ok",
     "timestamp": 1583661292709,
     "user": {
      "displayName": "Vihan Parmar",
      "photoUrl": "https://lh3.googleusercontent.com/a-/AOh14GgAssvLmn_w5xeX9qyFZBLdGe5MZ0CgOc0JVaqgyg=s64",
      "userId": "11448973563679387390"
     },
     "user_tz": -330
    },
    "id": "dPujlTkYndpO",
    "outputId": "2430cd5e-c0f5-400a-96cd-128315c4226f"
   },
   "outputs": [
    {
     "name": "stdout",
     "output_type": "stream",
     "text": [
      "This is the best score : 0.08839285714285713\n",
      "These are the best parameters: {'n_neighbors': 5}\n",
      "This is the best estimator: KNeighborsClassifier(algorithm='auto', leaf_size=30, metric='minkowski',\n",
      "                     metric_params=None, n_jobs=None, n_neighbors=5, p=2,\n",
      "                     weights='uniform')\n"
     ]
    }
   ],
   "source": [
    "CLF1.fit(X_train, y_train)\n",
    "\n",
    "print(\"This is the best score :\", CLF1.best_score_)\n",
    "print(\"These are the best parameters:\", CLF1.best_params_)\n",
    "print(\"This is the best estimator:\", CLF1.best_estimator_)"
   ]
  },
  {
   "cell_type": "code",
   "execution_count": 63,
   "metadata": {
    "colab": {
     "base_uri": "https://localhost:8080/",
     "height": 70
    },
    "colab_type": "code",
    "executionInfo": {
     "elapsed": 814,
     "status": "ok",
     "timestamp": 1583661363794,
     "user": {
      "displayName": "Vihan Parmar",
      "photoUrl": "https://lh3.googleusercontent.com/a-/AOh14GgAssvLmn_w5xeX9qyFZBLdGe5MZ0CgOc0JVaqgyg=s64",
      "userId": "11448973563679387390"
     },
     "user_tz": -330
    },
    "id": "YIvQPsuk5iMk",
    "outputId": "4ec83be4-a728-4255-bed4-4909bd83366e"
   },
   "outputs": [
    {
     "data": {
      "text/plain": [
       "KNeighborsClassifier(algorithm='auto', leaf_size=30, metric='minkowski',\n",
       "                     metric_params=None, n_jobs=None, n_neighbors=5, p=2,\n",
       "                     weights='uniform')"
      ]
     },
     "execution_count": 63,
     "metadata": {
      "tags": []
     },
     "output_type": "execute_result"
    }
   ],
   "source": [
    "LR1 = CLF1.best_estimator_\n",
    "\n",
    "LR1.fit(X_train, y_train)"
   ]
  },
  {
   "cell_type": "code",
   "execution_count": 0,
   "metadata": {
    "colab": {},
    "colab_type": "code",
    "id": "WyHeYubfuZis"
   },
   "outputs": [],
   "source": [
    "y_pred2 = LR1.predict(X_test)"
   ]
  },
  {
   "cell_type": "code",
   "execution_count": 65,
   "metadata": {
    "colab": {
     "base_uri": "https://localhost:8080/",
     "height": 1000
    },
    "colab_type": "code",
    "executionInfo": {
     "elapsed": 9723,
     "status": "ok",
     "timestamp": 1583661660884,
     "user": {
      "displayName": "Vihan Parmar",
      "photoUrl": "https://lh3.googleusercontent.com/a-/AOh14GgAssvLmn_w5xeX9qyFZBLdGe5MZ0CgOc0JVaqgyg=s64",
      "userId": "11448973563679387390"
     },
     "user_tz": -330
    },
    "id": "lQ9Y9wQduaL-",
    "outputId": "81f60cd6-4d59-4f6f-9742-6ceceed4bad2"
   },
   "outputs": [
    {
     "name": "stdout",
     "output_type": "stream",
     "text": [
      "The model accuracy is:  0.17611607142857144\n",
      "The accuracy is:  0.10125\n",
      "The hamming-loss:  0.08956818181818182\n",
      "              precision    recall  f1-score   support\n",
      "\n",
      "           0       0.00      0.00      0.00         1\n",
      "           1       0.00      0.00      0.00        25\n",
      "           2       0.38      0.04      0.07        76\n",
      "           3       0.00      0.00      0.00        17\n",
      "           4       0.09      0.22      0.12       181\n",
      "           5       0.00      0.00      0.00        24\n",
      "           6       1.00      0.03      0.05        71\n",
      "           7       0.00      0.00      0.00        46\n",
      "           8       0.00      0.00      0.00        27\n",
      "           9       0.33      0.01      0.01       151\n",
      "          10       0.00      0.00      0.00        18\n",
      "          11       0.67      0.02      0.03       119\n",
      "          12       0.22      0.25      0.24       477\n",
      "          13       0.61      0.03      0.06       326\n",
      "          14       0.00      0.00      0.00         4\n",
      "          15       0.00      0.00      0.00        12\n",
      "          16       0.00      0.00      0.00        13\n",
      "          17       0.00      0.00      0.00         5\n",
      "          18       0.00      0.00      0.00         3\n",
      "          19       0.00      0.00      0.00         0\n",
      "          20       0.00      0.00      0.00         3\n",
      "          21       0.00      0.00      0.00         1\n",
      "          22       1.00      0.02      0.03        66\n",
      "          23       0.48      0.45      0.47       825\n",
      "          24       0.00      0.00      0.00         6\n",
      "          25       0.00      0.00      0.00         2\n",
      "          26       0.00      0.00      0.00         2\n",
      "          27       1.00      0.12      0.22        16\n",
      "          28       1.00      0.06      0.11        33\n",
      "          29       0.00      0.00      0.00        17\n",
      "          30       0.00      0.00      0.00        12\n",
      "          31       0.00      0.00      0.00         4\n",
      "          32       0.00      0.00      0.00        24\n",
      "          33       0.00      0.00      0.00        18\n",
      "          34       0.61      0.04      0.07       313\n",
      "          35       0.00      0.00      0.00        16\n",
      "          36       0.00      0.00      0.00        16\n",
      "          37       0.00      0.00      0.00        12\n",
      "          38       0.00      0.00      0.00         1\n",
      "          39       0.00      0.00      0.00        46\n",
      "          40       0.22      0.03      0.04        80\n",
      "          41       0.00      0.00      0.00         5\n",
      "          42       0.00      0.00      0.00        15\n",
      "          43       0.00      0.00      0.00         0\n",
      "          44       0.67      0.01      0.02       166\n",
      "          45       0.00      0.00      0.00         4\n",
      "          46       0.13      0.20      0.15       173\n",
      "          47       0.00      0.00      0.00        16\n",
      "          48       0.17      0.03      0.04       118\n",
      "          49       0.50      0.01      0.01       154\n",
      "          50       0.24      0.26      0.25       489\n",
      "          51       0.00      0.00      0.00         9\n",
      "          52       0.36      0.41      0.38       628\n",
      "          53       0.28      0.26      0.27       538\n",
      "          54       0.58      0.52      0.55       972\n",
      "\n",
      "   micro avg       0.34      0.26      0.29      6396\n",
      "   macro avg       0.19      0.05      0.06      6396\n",
      "weighted avg       0.40      0.26      0.26      6396\n",
      " samples avg       0.37      0.26      0.29      6396\n",
      "\n"
     ]
    },
    {
     "name": "stderr",
     "output_type": "stream",
     "text": [
      "/usr/local/lib/python3.6/dist-packages/sklearn/metrics/_classification.py:1272: UndefinedMetricWarning: Precision and F-score are ill-defined and being set to 0.0 in labels with no predicted samples. Use `zero_division` parameter to control this behavior.\n",
      "  _warn_prf(average, modifier, msg_start, len(result))\n",
      "/usr/local/lib/python3.6/dist-packages/sklearn/metrics/_classification.py:1272: UndefinedMetricWarning: Recall and F-score are ill-defined and being set to 0.0 in labels with no true samples. Use `zero_division` parameter to control this behavior.\n",
      "  _warn_prf(average, modifier, msg_start, len(result))\n"
     ]
    }
   ],
   "source": [
    "from sklearn.metrics import hamming_loss, accuracy_score,classification_report\n",
    "\n",
    "print(\"The model accuracy is: \", LR1.score(X_train, y_train))\n",
    "print(\"The accuracy is: \", accuracy_score(y_test,y_pred2))\n",
    "print(\"The hamming-loss: \", hamming_loss(y_test, y_pred2))\n",
    "\n",
    "report2 = classification_report(y_test,y_pred2)\n",
    "print(report2)"
   ]
  },
  {
   "cell_type": "code",
   "execution_count": 0,
   "metadata": {
    "colab": {},
    "colab_type": "code",
    "id": "UXIco6FbuoAS"
   },
   "outputs": [],
   "source": [
    "y_pred_re0 = MLB.inverse_transform(y_pred2)"
   ]
  },
  {
   "cell_type": "code",
   "execution_count": 0,
   "metadata": {
    "colab": {},
    "colab_type": "code",
    "id": "WeTueNCNussT"
   },
   "outputs": [],
   "source": [
    "Label_Table0 = pd.DataFrame({'Predicted':y_pred_re0,'Actual': y_test_in})"
   ]
  },
  {
   "cell_type": "code",
   "execution_count": 68,
   "metadata": {
    "colab": {
     "base_uri": "https://localhost:8080/",
     "height": 225
    },
    "colab_type": "code",
    "executionInfo": {
     "elapsed": 871,
     "status": "ok",
     "timestamp": 1583663313106,
     "user": {
      "displayName": "Vihan Parmar",
      "photoUrl": "https://lh3.googleusercontent.com/a-/AOh14GgAssvLmn_w5xeX9qyFZBLdGe5MZ0CgOc0JVaqgyg=s64",
      "userId": "11448973563679387390"
     },
     "user_tz": -330
    },
    "id": "GpRI4C4rxv03",
    "outputId": "622ef588-4d21-4dcb-9bf3-06fc6bc1f7f6"
   },
   "outputs": [
    {
     "data": {
      "text/html": [
       "<div>\n",
       "<style scoped>\n",
       "    .dataframe tbody tr th:only-of-type {\n",
       "        vertical-align: middle;\n",
       "    }\n",
       "\n",
       "    .dataframe tbody tr th {\n",
       "        vertical-align: top;\n",
       "    }\n",
       "\n",
       "    .dataframe thead th {\n",
       "        text-align: right;\n",
       "    }\n",
       "</style>\n",
       "<table border=\"1\" class=\"dataframe\">\n",
       "  <thead>\n",
       "    <tr style=\"text-align: right;\">\n",
       "      <th></th>\n",
       "      <th>Predicted</th>\n",
       "      <th>Actual</th>\n",
       "    </tr>\n",
       "  </thead>\n",
       "  <tbody>\n",
       "    <tr>\n",
       "      <th>0</th>\n",
       "      <td>(Aries, male)</td>\n",
       "      <td>(25, Libra, female, indUnk)</td>\n",
       "    </tr>\n",
       "    <tr>\n",
       "      <th>1</th>\n",
       "      <td>(35, Aries, Technology, male)</td>\n",
       "      <td>(35, Aries, Technology, male)</td>\n",
       "    </tr>\n",
       "    <tr>\n",
       "      <th>2</th>\n",
       "      <td>(17, Scorpio, female, indUnk)</td>\n",
       "      <td>(17, Scorpio, female, indUnk)</td>\n",
       "    </tr>\n",
       "    <tr>\n",
       "      <th>3</th>\n",
       "      <td>(17, female)</td>\n",
       "      <td>(27, Taurus, female, indUnk)</td>\n",
       "    </tr>\n",
       "    <tr>\n",
       "      <th>4</th>\n",
       "      <td>(Aries, male)</td>\n",
       "      <td>(25, BusinessServices, Sagittarius, male)</td>\n",
       "    </tr>\n",
       "    <tr>\n",
       "      <th>5</th>\n",
       "      <td>(35, Aries, Technology, male)</td>\n",
       "      <td>(26, Gemini, indUnk, male)</td>\n",
       "    </tr>\n",
       "  </tbody>\n",
       "</table>\n",
       "</div>"
      ],
      "text/plain": [
       "                       Predicted                                     Actual\n",
       "0                  (Aries, male)                (25, Libra, female, indUnk)\n",
       "1  (35, Aries, Technology, male)              (35, Aries, Technology, male)\n",
       "2  (17, Scorpio, female, indUnk)              (17, Scorpio, female, indUnk)\n",
       "3                   (17, female)               (27, Taurus, female, indUnk)\n",
       "4                  (Aries, male)  (25, BusinessServices, Sagittarius, male)\n",
       "5  (35, Aries, Technology, male)                 (26, Gemini, indUnk, male)"
      ]
     },
     "execution_count": 68,
     "metadata": {
      "tags": []
     },
     "output_type": "execute_result"
    }
   ],
   "source": [
    "Label_Table0.head(6)"
   ]
  },
  {
   "cell_type": "code",
   "execution_count": 69,
   "metadata": {
    "colab": {
     "base_uri": "https://localhost:8080/",
     "height": 34
    },
    "colab_type": "code",
    "executionInfo": {
     "elapsed": 889,
     "status": "ok",
     "timestamp": 1583663336209,
     "user": {
      "displayName": "Vihan Parmar",
      "photoUrl": "https://lh3.googleusercontent.com/a-/AOh14GgAssvLmn_w5xeX9qyFZBLdGe5MZ0CgOc0JVaqgyg=s64",
      "userId": "11448973563679387390"
     },
     "user_tz": -330
    },
    "id": "WEqHmuLnIWgF",
    "outputId": "a170d88f-e262-432a-a597-1584a8c265e9"
   },
   "outputs": [
    {
     "data": {
      "text/plain": [
       "(4480, 300716)"
      ]
     },
     "execution_count": 69,
     "metadata": {
      "tags": []
     },
     "output_type": "execute_result"
    }
   ],
   "source": [
    "X_train.shape"
   ]
  },
  {
   "cell_type": "code",
   "execution_count": 70,
   "metadata": {
    "colab": {
     "base_uri": "https://localhost:8080/",
     "height": 34
    },
    "colab_type": "code",
    "executionInfo": {
     "elapsed": 976,
     "status": "ok",
     "timestamp": 1583663340478,
     "user": {
      "displayName": "Vihan Parmar",
      "photoUrl": "https://lh3.googleusercontent.com/a-/AOh14GgAssvLmn_w5xeX9qyFZBLdGe5MZ0CgOc0JVaqgyg=s64",
      "userId": "11448973563679387390"
     },
     "user_tz": -330
    },
    "id": "w31hp3wpIY-_",
    "outputId": "f85b7fac-bc45-43e5-d538-f13c60956c47"
   },
   "outputs": [
    {
     "data": {
      "text/plain": [
       "(4480, 55)"
      ]
     },
     "execution_count": 70,
     "metadata": {
      "tags": []
     },
     "output_type": "execute_result"
    }
   ],
   "source": [
    "y_train.shape"
   ]
  },
  {
   "cell_type": "code",
   "execution_count": 71,
   "metadata": {
    "colab": {
     "base_uri": "https://localhost:8080/",
     "height": 193
    },
    "colab_type": "code",
    "executionInfo": {
     "elapsed": 1329982,
     "status": "ok",
     "timestamp": 1583664806605,
     "user": {
      "displayName": "Vihan Parmar",
      "photoUrl": "https://lh3.googleusercontent.com/a-/AOh14GgAssvLmn_w5xeX9qyFZBLdGe5MZ0CgOc0JVaqgyg=s64",
      "userId": "11448973563679387390"
     },
     "user_tz": -330
    },
    "id": "8r019Ek1I4MS",
    "outputId": "dbadcdb8-bc28-4ee5-9bf9-b9d9c3d8c869"
   },
   "outputs": [
    {
     "name": "stdout",
     "output_type": "stream",
     "text": [
      "The best score is: 0.26941964285714287\n",
      "These are the best parameters: {'max_depth': 500}\n",
      "This is the best estimator: RandomForestClassifier(bootstrap=True, ccp_alpha=0.0, class_weight=None,\n",
      "                       criterion='gini', max_depth=500, max_features='auto',\n",
      "                       max_leaf_nodes=None, max_samples=None,\n",
      "                       min_impurity_decrease=0.0, min_impurity_split=None,\n",
      "                       min_samples_leaf=1, min_samples_split=2,\n",
      "                       min_weight_fraction_leaf=0.0, n_estimators=100,\n",
      "                       n_jobs=None, oob_score=False, random_state=None,\n",
      "                       verbose=0, warm_start=False)\n"
     ]
    }
   ],
   "source": [
    "CLF2.fit(X_train, y_train)\n",
    "\n",
    "print(\"The best score is:\", CLF2.best_score_)\n",
    "print(\"These are the best parameters:\", CLF2.best_params_)\n",
    "print(\"This is the best estimator:\", CLF2.best_estimator_)"
   ]
  },
  {
   "cell_type": "code",
   "execution_count": 72,
   "metadata": {
    "colab": {
     "base_uri": "https://localhost:8080/",
     "height": 158
    },
    "colab_type": "code",
    "executionInfo": {
     "elapsed": 51690,
     "status": "ok",
     "timestamp": 1583665561771,
     "user": {
      "displayName": "Vihan Parmar",
      "photoUrl": "https://lh3.googleusercontent.com/a-/AOh14GgAssvLmn_w5xeX9qyFZBLdGe5MZ0CgOc0JVaqgyg=s64",
      "userId": "11448973563679387390"
     },
     "user_tz": -330
    },
    "id": "nJgcfnKhKhFs",
    "outputId": "8f6d0de3-d416-4641-e997-e5e03556596e"
   },
   "outputs": [
    {
     "data": {
      "text/plain": [
       "RandomForestClassifier(bootstrap=True, ccp_alpha=0.0, class_weight=None,\n",
       "                       criterion='gini', max_depth=500, max_features='auto',\n",
       "                       max_leaf_nodes=None, max_samples=None,\n",
       "                       min_impurity_decrease=0.0, min_impurity_split=None,\n",
       "                       min_samples_leaf=1, min_samples_split=2,\n",
       "                       min_weight_fraction_leaf=0.0, n_estimators=100,\n",
       "                       n_jobs=None, oob_score=False, random_state=None,\n",
       "                       verbose=0, warm_start=False)"
      ]
     },
     "execution_count": 72,
     "metadata": {
      "tags": []
     },
     "output_type": "execute_result"
    }
   ],
   "source": [
    "LR2 = CLF2.best_estimator_\n",
    "\n",
    "LR2.fit(X_train,y_train)"
   ]
  },
  {
   "cell_type": "code",
   "execution_count": 0,
   "metadata": {
    "colab": {},
    "colab_type": "code",
    "id": "jfbe_rfqI3yr"
   },
   "outputs": [],
   "source": [
    "y_pred3 = LR2.predict(X_test)"
   ]
  },
  {
   "cell_type": "code",
   "execution_count": 75,
   "metadata": {
    "colab": {
     "base_uri": "https://localhost:8080/",
     "height": 1000
    },
    "colab_type": "code",
    "executionInfo": {
     "elapsed": 3824,
     "status": "ok",
     "timestamp": 1583665917489,
     "user": {
      "displayName": "Vihan Parmar",
      "photoUrl": "https://lh3.googleusercontent.com/a-/AOh14GgAssvLmn_w5xeX9qyFZBLdGe5MZ0CgOc0JVaqgyg=s64",
      "userId": "11448973563679387390"
     },
     "user_tz": -330
    },
    "id": "LmUS4OsqI3VA",
    "outputId": "f96c4c6d-6290-40db-e383-b9171ee702c4"
   },
   "outputs": [
    {
     "name": "stdout",
     "output_type": "stream",
     "text": [
      "The model accuracy is: 0.9830357142857142\n",
      "The accuracy is: 0.274375\n",
      "The hamming-loss: 0.05703409090909091\n",
      "              precision    recall  f1-score   support\n",
      "\n",
      "           0       0.00      0.00      0.00         1\n",
      "           1       0.00      0.00      0.00        25\n",
      "           2       0.00      0.00      0.00        76\n",
      "           3       0.00      0.00      0.00        17\n",
      "           4       1.00      0.01      0.02       181\n",
      "           5       0.00      0.00      0.00        24\n",
      "           6       1.00      0.03      0.05        71\n",
      "           7       1.00      0.02      0.04        46\n",
      "           8       0.00      0.00      0.00        27\n",
      "           9       1.00      0.01      0.01       151\n",
      "          10       0.00      0.00      0.00        18\n",
      "          11       1.00      0.02      0.03       119\n",
      "          12       0.61      0.81      0.70       477\n",
      "          13       0.95      0.17      0.28       326\n",
      "          14       0.00      0.00      0.00         4\n",
      "          15       0.00      0.00      0.00        12\n",
      "          16       0.00      0.00      0.00        13\n",
      "          17       0.00      0.00      0.00         5\n",
      "          18       0.00      0.00      0.00         3\n",
      "          19       0.00      0.00      0.00         0\n",
      "          20       0.00      0.00      0.00         3\n",
      "          21       0.00      0.00      0.00         1\n",
      "          22       0.00      0.00      0.00        66\n",
      "          23       0.64      0.92      0.75       825\n",
      "          24       0.00      0.00      0.00         6\n",
      "          25       0.00      0.00      0.00         2\n",
      "          26       0.00      0.00      0.00         2\n",
      "          27       1.00      0.12      0.22        16\n",
      "          28       1.00      0.06      0.11        33\n",
      "          29       0.00      0.00      0.00        17\n",
      "          30       0.00      0.00      0.00        12\n",
      "          31       0.00      0.00      0.00         4\n",
      "          32       0.00      0.00      0.00        24\n",
      "          33       0.00      0.00      0.00        18\n",
      "          34       1.00      0.16      0.27       313\n",
      "          35       0.00      0.00      0.00        16\n",
      "          36       0.00      0.00      0.00        16\n",
      "          37       0.00      0.00      0.00        12\n",
      "          38       0.00      0.00      0.00         1\n",
      "          39       0.00      0.00      0.00        46\n",
      "          40       0.00      0.00      0.00        80\n",
      "          41       0.00      0.00      0.00         5\n",
      "          42       0.00      0.00      0.00        15\n",
      "          43       0.00      0.00      0.00         0\n",
      "          44       1.00      0.01      0.02       166\n",
      "          45       0.00      0.00      0.00         4\n",
      "          46       1.00      0.01      0.01       173\n",
      "          47       0.00      0.00      0.00        16\n",
      "          48       1.00      0.01      0.02       118\n",
      "          49       1.00      0.01      0.01       154\n",
      "          50       0.61      0.79      0.69       489\n",
      "          51       0.00      0.00      0.00         9\n",
      "          52       0.78      0.28      0.41       628\n",
      "          53       0.78      0.12      0.21       538\n",
      "          54       0.68      0.94      0.79       972\n",
      "\n",
      "   micro avg       0.66      0.44      0.53      6396\n",
      "   macro avg       0.31      0.08      0.08      6396\n",
      "weighted avg       0.71      0.44      0.41      6396\n",
      " samples avg       0.62      0.44      0.49      6396\n",
      "\n"
     ]
    },
    {
     "name": "stderr",
     "output_type": "stream",
     "text": [
      "/usr/local/lib/python3.6/dist-packages/sklearn/metrics/_classification.py:1272: UndefinedMetricWarning: Precision and F-score are ill-defined and being set to 0.0 in labels with no predicted samples. Use `zero_division` parameter to control this behavior.\n",
      "  _warn_prf(average, modifier, msg_start, len(result))\n",
      "/usr/local/lib/python3.6/dist-packages/sklearn/metrics/_classification.py:1272: UndefinedMetricWarning: Recall and F-score are ill-defined and being set to 0.0 in labels with no true samples. Use `zero_division` parameter to control this behavior.\n",
      "  _warn_prf(average, modifier, msg_start, len(result))\n",
      "/usr/local/lib/python3.6/dist-packages/sklearn/metrics/_classification.py:1272: UndefinedMetricWarning: Precision and F-score are ill-defined and being set to 0.0 in samples with no predicted labels. Use `zero_division` parameter to control this behavior.\n",
      "  _warn_prf(average, modifier, msg_start, len(result))\n"
     ]
    }
   ],
   "source": [
    "from sklearn.metrics import hamming_loss, accuracy_score,classification_report\n",
    "\n",
    "print(\"The model accuracy is:\", LR2.score(X_train,y_train))\n",
    "print(\"The accuracy is:\", accuracy_score(y_test,y_pred3))\n",
    "print(\"The hamming-loss:\", hamming_loss(y_test, y_pred3))\n",
    "\n",
    "report3 = classification_report(y_test,y_pred3)\n",
    "\n",
    "print(report3)"
   ]
  },
  {
   "cell_type": "code",
   "execution_count": 0,
   "metadata": {
    "colab": {},
    "colab_type": "code",
    "id": "gZCOO-PJxBSi"
   },
   "outputs": [],
   "source": [
    "y_pred_re1 = MLB.inverse_transform(y_pred3)"
   ]
  },
  {
   "cell_type": "code",
   "execution_count": 0,
   "metadata": {
    "colab": {},
    "colab_type": "code",
    "id": "YJtEWEeBxF9h"
   },
   "outputs": [],
   "source": [
    "Label_Table1 = pd.DataFrame({'Predicted':y_pred_re1,'Actual':y_test_in})"
   ]
  },
  {
   "cell_type": "code",
   "execution_count": 88,
   "metadata": {
    "colab": {
     "base_uri": "https://localhost:8080/",
     "height": 166
    },
    "colab_type": "code",
    "executionInfo": {
     "elapsed": 838,
     "status": "ok",
     "timestamp": 1583668365397,
     "user": {
      "displayName": "Vihan Parmar",
      "photoUrl": "https://lh3.googleusercontent.com/a-/AOh14GgAssvLmn_w5xeX9qyFZBLdGe5MZ0CgOc0JVaqgyg=s64",
      "userId": "11448973563679387390"
     },
     "user_tz": -330
    },
    "id": "03JytJV8_TWs",
    "outputId": "127a58a4-2ad5-4ddb-d16f-d63c1b950c64"
   },
   "outputs": [
    {
     "data": {
      "text/html": [
       "<div>\n",
       "<style scoped>\n",
       "    .dataframe tbody tr th:only-of-type {\n",
       "        vertical-align: middle;\n",
       "    }\n",
       "\n",
       "    .dataframe tbody tr th {\n",
       "        vertical-align: top;\n",
       "    }\n",
       "\n",
       "    .dataframe thead th {\n",
       "        text-align: right;\n",
       "    }\n",
       "</style>\n",
       "<table border=\"1\" class=\"dataframe\">\n",
       "  <thead>\n",
       "    <tr style=\"text-align: right;\">\n",
       "      <th></th>\n",
       "      <th>Predicted</th>\n",
       "      <th>Actual</th>\n",
       "    </tr>\n",
       "  </thead>\n",
       "  <tbody>\n",
       "    <tr>\n",
       "      <th>0</th>\n",
       "      <td>(male,)</td>\n",
       "      <td>(25, Libra, female, indUnk)</td>\n",
       "    </tr>\n",
       "    <tr>\n",
       "      <th>1</th>\n",
       "      <td>(35, Aries, Technology, male)</td>\n",
       "      <td>(35, Aries, Technology, male)</td>\n",
       "    </tr>\n",
       "    <tr>\n",
       "      <th>2</th>\n",
       "      <td>(female, indUnk)</td>\n",
       "      <td>(17, Scorpio, female, indUnk)</td>\n",
       "    </tr>\n",
       "    <tr>\n",
       "      <th>3</th>\n",
       "      <td>(35, Aries, Technology, male)</td>\n",
       "      <td>(27, Taurus, female, indUnk)</td>\n",
       "    </tr>\n",
       "  </tbody>\n",
       "</table>\n",
       "</div>"
      ],
      "text/plain": [
       "                       Predicted                         Actual\n",
       "0                        (male,)    (25, Libra, female, indUnk)\n",
       "1  (35, Aries, Technology, male)  (35, Aries, Technology, male)\n",
       "2               (female, indUnk)  (17, Scorpio, female, indUnk)\n",
       "3  (35, Aries, Technology, male)   (27, Taurus, female, indUnk)"
      ]
     },
     "execution_count": 88,
     "metadata": {
      "tags": []
     },
     "output_type": "execute_result"
    }
   ],
   "source": [
    "Label_Table1.head(4)"
   ]
  },
  {
   "cell_type": "markdown",
   "metadata": {
    "colab_type": "text",
    "id": "FLa6yRMvkP2Q"
   },
   "source": [
    "Conclusion : The model accuracy achieved in training the models is decent. These models don't perform twhen they are put to test. \n"
   ]
  },
  {
   "cell_type": "code",
   "execution_count": 0,
   "metadata": {
    "colab": {},
    "colab_type": "code",
    "id": "c9gaRDEGAVhx"
   },
   "outputs": [],
   "source": []
  }
 ],
 "metadata": {
  "accelerator": "GPU",
  "colab": {
   "collapsed_sections": [],
   "machine_shape": "hm",
   "name": "Project_R8_Statistical_NLP_Blog_Authorship_Corpus.ipynb",
   "provenance": []
  },
  "kernelspec": {
   "display_name": "Python 3",
   "language": "python",
   "name": "python3"
  },
  "language_info": {
   "codemirror_mode": {
    "name": "ipython",
    "version": 3
   },
   "file_extension": ".py",
   "mimetype": "text/x-python",
   "name": "python",
   "nbconvert_exporter": "python",
   "pygments_lexer": "ipython3",
   "version": "3.7.3"
  }
 },
 "nbformat": 4,
 "nbformat_minor": 1
}
