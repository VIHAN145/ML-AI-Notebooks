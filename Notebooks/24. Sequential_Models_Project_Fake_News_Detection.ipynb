{
 "cells": [
  {
   "cell_type": "markdown",
   "metadata": {
    "colab_type": "text",
    "id": "QI9jhXKPCFcJ"
   },
   "source": [
    "# Stance Detection for the Fake News Challenge\n",
    "\n",
    "## Identifying Textual Relationships with Deep Neural Nets\n",
    "\n",
    "### Check the problem context [here](https://drive.google.com/open?id=1KfWaZyQdGBw8AUTacJ2yY86Yxgw2Xwq0).\n",
    "\n",
    "### Download files required for the project from [here](https://drive.google.com/open?id=10yf39ifEwVihw4xeJJR60oeFBY30Y5J8)."
   ]
  },
  {
   "cell_type": "markdown",
   "metadata": {
    "colab_type": "text",
    "id": "vSNgdEMpenpE"
   },
   "source": [
    "## Step1: Load the given dataset  \n",
    "\n",
    "1. Mount the google drive\n",
    "\n",
    "2. Import Glove embeddings\n",
    "\n",
    "3. Import the test and train datasets"
   ]
  },
  {
   "cell_type": "markdown",
   "metadata": {
    "colab_type": "text",
    "id": "aPOZRohMiSpQ"
   },
   "source": [
    "### Mount the google drive to access required project files\n",
    "\n",
    "Run the below commands"
   ]
  },
  {
   "cell_type": "code",
   "execution_count": 0,
   "metadata": {
    "colab": {},
    "colab_type": "code",
    "id": "7AS39z1XgFpT"
   },
   "outputs": [],
   "source": [
    "from google.colab import drive"
   ]
  },
  {
   "cell_type": "code",
   "execution_count": 2,
   "metadata": {
    "colab": {
     "base_uri": "https://localhost:8080/",
     "height": 34
    },
    "colab_type": "code",
    "executionInfo": {
     "elapsed": 730,
     "status": "ok",
     "timestamp": 1585485177973,
     "user": {
      "displayName": "Vihan Parmar",
      "photoUrl": "https://lh3.googleusercontent.com/a-/AOh14GgAssvLmn_w5xeX9qyFZBLdGe5MZ0CgOc0JVaqgyg=s64",
      "userId": "11448973563679387390"
     },
     "user_tz": -330
    },
    "id": "S_7yCFdzgFsH",
    "outputId": "9603d9d1-029d-4ea0-8064-a03af911abcc"
   },
   "outputs": [
    {
     "name": "stdout",
     "output_type": "stream",
     "text": [
      "Drive already mounted at /content/drive/; to attempt to forcibly remount, call drive.mount(\"/content/drive/\", force_remount=True).\n"
     ]
    }
   ],
   "source": [
    "drive.mount('/content/drive/')"
   ]
  },
  {
   "cell_type": "markdown",
   "metadata": {
    "colab_type": "text",
    "id": "bhZdJ4zpwWzN"
   },
   "source": [
    "#### Path for Project files on google drive\n",
    "\n",
    "**Note:** You need to change this path according where you have kept the files in google drive. "
   ]
  },
  {
   "cell_type": "code",
   "execution_count": 0,
   "metadata": {
    "colab": {},
    "colab_type": "code",
    "id": "Aol97RUogFuS"
   },
   "outputs": [],
   "source": [
    "project_path = \"/content/drive/My Drive/SequenceModelsData/\""
   ]
  },
  {
   "cell_type": "markdown",
   "metadata": {
    "colab_type": "text",
    "id": "2ly0VxAnwJ2f"
   },
   "source": [
    "### Loading the Glove Embeddings"
   ]
  },
  {
   "cell_type": "code",
   "execution_count": 0,
   "metadata": {
    "colab": {},
    "colab_type": "code",
    "id": "xmsPn6PF-cgL"
   },
   "outputs": [],
   "source": [
    "from zipfile import ZipFile\n",
    "with ZipFile(project_path+'glove.6B.zip', 'r') as z:\n",
    "  z.extractall()"
   ]
  },
  {
   "cell_type": "markdown",
   "metadata": {
    "colab_type": "text",
    "id": "TjLJEQ_PwcGi"
   },
   "source": [
    "10# Load the dataset [10 Marks]\n",
    "\n",
    "1. Using [read_csv()](https://pandas.pydata.org/pandas-docs/stable/generated/pandas.read_csv.html) in pandas load the given train datasets files **`train_bodies.csv`** and **`train_stances.csv`**\n",
    "\n",
    "2. Using [merge](https://pandas.pydata.org/pandas-docs/stable/generated/pandas.DataFrame.merge.html) command in pandas merge the two datasets based on the Body ID. \n",
    "\n",
    "Note: Save the final merged dataset in a dataframe with name **`dataset`**."
   ]
  },
  {
   "cell_type": "code",
   "execution_count": 0,
   "metadata": {
    "colab": {},
    "colab_type": "code",
    "id": "7gXO1WZ-gFwm"
   },
   "outputs": [],
   "source": [
    "# Importing pandas \n",
    "\n",
    "import pandas as pd "
   ]
  },
  {
   "cell_type": "code",
   "execution_count": 0,
   "metadata": {
    "colab": {},
    "colab_type": "code",
    "id": "kosAWskdOOT8"
   },
   "outputs": [],
   "source": [
    "# Assigning the training data onto a dataframes. \n",
    "\n",
    "DF1 = pd.read_csv(project_path+'/train_bodies.csv')\n",
    "DF2 = pd.read_csv(project_path+'/train_stances.csv')"
   ]
  },
  {
   "cell_type": "code",
   "execution_count": 0,
   "metadata": {
    "colab": {},
    "colab_type": "code",
    "id": "sGg1Ykm3KV23"
   },
   "outputs": [],
   "source": [
    "# Merging the training data into one dataframe. \n",
    "\n",
    "dataset= pd.merge(DF1, DF2, on= 'Body ID')"
   ]
  },
  {
   "cell_type": "markdown",
   "metadata": {
    "colab_type": "text",
    "id": "g4ycQbBCg20S"
   },
   "source": [
    "\n",
    "<h2> Check1:</h2>\n",
    "  \n",
    "<h3> You should see the below output if you run `dataset.head()` command as given below </h3>"
   ]
  },
  {
   "cell_type": "code",
   "execution_count": 8,
   "metadata": {
    "colab": {
     "base_uri": "https://localhost:8080/",
     "height": 195
    },
    "colab_type": "code",
    "executionInfo": {
     "elapsed": 1298,
     "status": "ok",
     "timestamp": 1585485242614,
     "user": {
      "displayName": "Vihan Parmar",
      "photoUrl": "https://lh3.googleusercontent.com/a-/AOh14GgAssvLmn_w5xeX9qyFZBLdGe5MZ0CgOc0JVaqgyg=s64",
      "userId": "11448973563679387390"
     },
     "user_tz": -330
    },
    "id": "IUtF7iOmj11k",
    "outputId": "64b57fbe-11c7-4da0-ca2a-46f03a344d45"
   },
   "outputs": [
    {
     "data": {
      "text/html": [
       "<div>\n",
       "<style scoped>\n",
       "    .dataframe tbody tr th:only-of-type {\n",
       "        vertical-align: middle;\n",
       "    }\n",
       "\n",
       "    .dataframe tbody tr th {\n",
       "        vertical-align: top;\n",
       "    }\n",
       "\n",
       "    .dataframe thead th {\n",
       "        text-align: right;\n",
       "    }\n",
       "</style>\n",
       "<table border=\"1\" class=\"dataframe\">\n",
       "  <thead>\n",
       "    <tr style=\"text-align: right;\">\n",
       "      <th></th>\n",
       "      <th>Body ID</th>\n",
       "      <th>articleBody</th>\n",
       "      <th>Headline</th>\n",
       "      <th>Stance</th>\n",
       "    </tr>\n",
       "  </thead>\n",
       "  <tbody>\n",
       "    <tr>\n",
       "      <th>0</th>\n",
       "      <td>0</td>\n",
       "      <td>A small meteorite crashed into a wooded area i...</td>\n",
       "      <td>Soldier shot, Parliament locked down after gun...</td>\n",
       "      <td>unrelated</td>\n",
       "    </tr>\n",
       "    <tr>\n",
       "      <th>1</th>\n",
       "      <td>0</td>\n",
       "      <td>A small meteorite crashed into a wooded area i...</td>\n",
       "      <td>Tourist dubbed ‘Spider Man’ after spider burro...</td>\n",
       "      <td>unrelated</td>\n",
       "    </tr>\n",
       "    <tr>\n",
       "      <th>2</th>\n",
       "      <td>0</td>\n",
       "      <td>A small meteorite crashed into a wooded area i...</td>\n",
       "      <td>Luke Somers 'killed in failed rescue attempt i...</td>\n",
       "      <td>unrelated</td>\n",
       "    </tr>\n",
       "    <tr>\n",
       "      <th>3</th>\n",
       "      <td>0</td>\n",
       "      <td>A small meteorite crashed into a wooded area i...</td>\n",
       "      <td>BREAKING: Soldier shot at War Memorial in Ottawa</td>\n",
       "      <td>unrelated</td>\n",
       "    </tr>\n",
       "    <tr>\n",
       "      <th>4</th>\n",
       "      <td>0</td>\n",
       "      <td>A small meteorite crashed into a wooded area i...</td>\n",
       "      <td>Giant 8ft 9in catfish weighing 19 stone caught...</td>\n",
       "      <td>unrelated</td>\n",
       "    </tr>\n",
       "  </tbody>\n",
       "</table>\n",
       "</div>"
      ],
      "text/plain": [
       "   Body ID  ...     Stance\n",
       "0        0  ...  unrelated\n",
       "1        0  ...  unrelated\n",
       "2        0  ...  unrelated\n",
       "3        0  ...  unrelated\n",
       "4        0  ...  unrelated\n",
       "\n",
       "[5 rows x 4 columns]"
      ]
     },
     "execution_count": 8,
     "metadata": {
      "tags": []
     },
     "output_type": "execute_result"
    }
   ],
   "source": [
    "dataset.head()"
   ]
  },
  {
   "cell_type": "markdown",
   "metadata": {
    "colab_type": "text",
    "id": "tjzVz2ifijmj"
   },
   "source": [
    "## Step2: Data Pre-processing and setting some hyper parameters needed for model\n",
    "\n",
    "\n",
    "#### Run the code given below to set the required parameters.\n",
    "\n",
    "1. `MAX_SENTS` = Maximum no.of sentences to consider in an article.\n",
    "\n",
    "2. `MAX_SENT_LENGTH` = Maximum no.of words to consider in a sentence.\n",
    "\n",
    "3. `MAX_NB_WORDS` = Maximum no.of words in the total vocabualry.\n",
    "\n",
    "4. `MAX_SENTS_HEADING` = Maximum no.of sentences to consider in a heading of an article."
   ]
  },
  {
   "cell_type": "code",
   "execution_count": 0,
   "metadata": {
    "colab": {},
    "colab_type": "code",
    "id": "KDXSdpvqjuqw"
   },
   "outputs": [],
   "source": [
    "MAX_NB_WORDS = 20000\n",
    "MAX_SENTS = 20\n",
    "MAX_SENTS_HEADING = 1\n",
    "MAX_SENT_LENGTH = 20\n",
    "VALIDATION_SPLIT = 0.2"
   ]
  },
  {
   "cell_type": "markdown",
   "metadata": {
    "colab_type": "text",
    "id": "zwE7CPHdiDT-"
   },
   "source": [
    "### Download the `Punkt` from nltk using the commands given below. This is for sentence tokenization.\n",
    "\n",
    "For more info on how to use it, read [this](https://stackoverflow.com/questions/35275001/use-of-punktsentencetokenizer-in-nltk).\n",
    "\n"
   ]
  },
  {
   "cell_type": "code",
   "execution_count": 10,
   "metadata": {
    "colab": {
     "base_uri": "https://localhost:8080/",
     "height": 67
    },
    "colab_type": "code",
    "executionInfo": {
     "elapsed": 3231,
     "status": "ok",
     "timestamp": 1585485259577,
     "user": {
      "displayName": "Vihan Parmar",
      "photoUrl": "https://lh3.googleusercontent.com/a-/AOh14GgAssvLmn_w5xeX9qyFZBLdGe5MZ0CgOc0JVaqgyg=s64",
      "userId": "11448973563679387390"
     },
     "user_tz": -330
    },
    "id": "lsiKmyJUZ-hU",
    "outputId": "eba8e241-2409-46e2-e80e-50c8603cb424"
   },
   "outputs": [
    {
     "name": "stdout",
     "output_type": "stream",
     "text": [
      "[nltk_data] Downloading package punkt to /root/nltk_data...\n",
      "[nltk_data]   Package punkt is already up-to-date!\n"
     ]
    },
    {
     "data": {
      "text/plain": [
       "True"
      ]
     },
     "execution_count": 10,
     "metadata": {
      "tags": []
     },
     "output_type": "execute_result"
    }
   ],
   "source": [
    "import nltk\n",
    "nltk.download('punkt')"
   ]
  },
  {
   "cell_type": "markdown",
   "metadata": {
    "colab_type": "text",
    "id": "Gqwm_GbwwnhX"
   },
   "source": [
    "# Tokenizing the text and loading the pre-trained Glove word embeddings for each token  [10 marks] "
   ]
  },
  {
   "cell_type": "markdown",
   "metadata": {
    "colab_type": "text",
    "id": "WfZLR24mm32k"
   },
   "source": [
    "Keras provides [Tokenizer API](https://keras.io/preprocessing/text/) for preparing text. Read it before going any further."
   ]
  },
  {
   "cell_type": "markdown",
   "metadata": {
    "colab_type": "text",
    "id": "fLSn9S-5oG4Z"
   },
   "source": [
    "#### Import the Tokenizer from keras preprocessing text"
   ]
  },
  {
   "cell_type": "code",
   "execution_count": 0,
   "metadata": {
    "colab": {},
    "colab_type": "code",
    "id": "S-VUgh2yoMlR"
   },
   "outputs": [],
   "source": [
    "# Importing tensorflow version 2.x\n",
    "\n",
    "%tensorflow_version 2.x\n",
    "\n",
    "# Importing Tokenizer from keras. \n",
    "\n",
    "from tensorflow.keras.preprocessing.text import Tokenizer"
   ]
  },
  {
   "cell_type": "markdown",
   "metadata": {
    "colab_type": "text",
    "id": "eml0Lge4oOuh"
   },
   "source": [
    "#### Initialize the Tokenizer class with maximum vocabulary count as `MAX_NB_WORDS` initialized at the start of step2. "
   ]
  },
  {
   "cell_type": "code",
   "execution_count": 0,
   "metadata": {
    "colab": {},
    "colab_type": "code",
    "id": "Qm85qirPofc2"
   },
   "outputs": [],
   "source": [
    "# Initialized the Tokenizer class with MAX_NB_WORDS.\n",
    "\n",
    "Tokenizer = Tokenizer(num_words = MAX_NB_WORDS)"
   ]
  },
  {
   "cell_type": "markdown",
   "metadata": {
    "colab_type": "text",
    "id": "HBe1KuXDosJ7"
   },
   "source": [
    "#### Now, using fit_on_texts() from Tokenizer class, lets encode the data \n",
    "\n",
    "Note: We need to fit articleBody and Headline also to cover all the words."
   ]
  },
  {
   "cell_type": "code",
   "execution_count": 0,
   "metadata": {
    "colab": {},
    "colab_type": "code",
    "id": "Q5rk-UyBlmyA"
   },
   "outputs": [],
   "source": [
    "Tokenizer.fit_on_texts(dataset['articleBody'])"
   ]
  },
  {
   "cell_type": "code",
   "execution_count": 0,
   "metadata": {
    "colab": {},
    "colab_type": "code",
    "id": "qUYFZaBVMS8h"
   },
   "outputs": [],
   "source": [
    "Tokenizer.fit_on_texts(dataset['Headline'])"
   ]
  },
  {
   "cell_type": "code",
   "execution_count": 15,
   "metadata": {
    "colab": {
     "base_uri": "https://localhost:8080/",
     "height": 34
    },
    "colab_type": "code",
    "executionInfo": {
     "elapsed": 1342,
     "status": "ok",
     "timestamp": 1585485323850,
     "user": {
      "displayName": "Vihan Parmar",
      "photoUrl": "https://lh3.googleusercontent.com/a-/AOh14GgAssvLmn_w5xeX9qyFZBLdGe5MZ0CgOc0JVaqgyg=s64",
      "userId": "11448973563679387390"
     },
     "user_tz": -330
    },
    "id": "PZ1Ke4qCMSZN",
    "outputId": "433b0c36-4803-4fcd-b82f-df020a84d5b6"
   },
   "outputs": [
    {
     "data": {
      "text/plain": [
       "99944"
      ]
     },
     "execution_count": 15,
     "metadata": {
      "tags": []
     },
     "output_type": "execute_result"
    }
   ],
   "source": [
    "Tokenizer.document_count"
   ]
  },
  {
   "cell_type": "markdown",
   "metadata": {
    "colab_type": "text",
    "id": "omptHX-JpBsN"
   },
   "source": [
    "#### fit_on_texts() gives the following attributes in the output as given [here](https://faroit.github.io/keras-docs/1.2.2/preprocessing/text/).\n",
    "\n",
    "* **word_counts:** dictionary mapping words (str) to the number of times they appeared on during fit. Only set after fit_on_texts was called.\n",
    "\n",
    "* **word_docs:** dictionary mapping words (str) to the number of documents/texts they appeared on during fit. Only set after fit_on_texts was called.\n",
    "\n",
    "* **word_index:** dictionary mapping words (str) to their rank/index (int). Only set after fit_on_texts was called.\n",
    "\n",
    "* **document_count:** int. Number of documents (texts/sequences) the tokenizer was trained on. Only set after fit_on_texts or fit_on_sequences was called.\n",
    "\n"
   ]
  },
  {
   "cell_type": "markdown",
   "metadata": {
    "colab_type": "text",
    "id": "SHnsT2sTtFAA"
   },
   "source": [
    "### Now, tokenize the sentences using nltk sent_tokenize() and encode the senteces with the ids we got form the above `t.word_index`\n",
    "\n",
    "Initialise 2 lists with names `texts` and `articles`.\n",
    "\n",
    "```\n",
    "texts = [] to store text of article as it is.\n",
    "\n",
    "articles = [] split the above text into a list of sentences.\n",
    "```"
   ]
  },
  {
   "cell_type": "code",
   "execution_count": 0,
   "metadata": {
    "colab": {},
    "colab_type": "code",
    "id": "ctEu-d4c4EZs"
   },
   "outputs": [],
   "source": [
    "# Tokenizing and encoding the sentences.\n",
    "\n",
    "texts = []\n",
    "\n",
    "articles = []\n",
    "\n",
    "from nltk import sent_tokenize\n",
    "\n",
    "for i in range(len(dataset['articleBody'])):\n",
    "  text = dataset['articleBody'][i]\n",
    "  texts.append(text)\n",
    "  sentences = sent_tokenize(texts[i])\n",
    "  articles.append(sentences)"
   ]
  },
  {
   "cell_type": "markdown",
   "metadata": {
    "colab_type": "text",
    "id": "koTVJjoO6P78"
   },
   "source": [
    "## Check 2:\n",
    "\n",
    "first element of texts and articles should be as given below. "
   ]
  },
  {
   "cell_type": "code",
   "execution_count": 17,
   "metadata": {
    "colab": {
     "base_uri": "https://localhost:8080/",
     "height": 54
    },
    "colab_type": "code",
    "executionInfo": {
     "elapsed": 1295,
     "status": "ok",
     "timestamp": 1585485383334,
     "user": {
      "displayName": "Vihan Parmar",
      "photoUrl": "https://lh3.googleusercontent.com/a-/AOh14GgAssvLmn_w5xeX9qyFZBLdGe5MZ0CgOc0JVaqgyg=s64",
      "userId": "11448973563679387390"
     },
     "user_tz": -330
    },
    "id": "3mWBW99p5UW9",
    "outputId": "0f37866a-617c-4885-f205-be1e4ebf2c19"
   },
   "outputs": [
    {
     "data": {
      "text/plain": [
       "'A small meteorite crashed into a wooded area in Nicaragua\\'s capital of Managua overnight, the government said Sunday. Residents reported hearing a mysterious boom that left a 16-foot deep crater near the city\\'s airport, the Associated Press reports. \\n\\nGovernment spokeswoman Rosario Murillo said a committee formed by the government to study the event determined it was a \"relatively small\" meteorite that \"appears to have come off an asteroid that was passing close to Earth.\" House-sized asteroid 2014 RC, which measured 60 feet in diameter, skimmed the Earth this weekend, ABC News reports. \\nMurillo said Nicaragua will ask international experts to help local scientists in understanding what happened.\\n\\nThe crater left by the meteorite had a radius of 39 feet and a depth of 16 feet,  said Humberto Saballos, a volcanologist with the Nicaraguan Institute of Territorial Studies who was on the committee. He said it is still not clear if the meteorite disintegrated or was buried.\\n\\nHumberto Garcia, of the Astronomy Center at the National Autonomous University of Nicaragua, said the meteorite could be related to an asteroid that was forecast to pass by the planet Saturday night.\\n\\n\"We have to study it more because it could be ice or rock,\" he said.\\n\\nWilfried Strauch, an adviser to the Institute of Territorial Studies, said it was \"very strange that no one reported a streak of light. We have to ask if anyone has a photo or something.\"\\n\\nLocal residents reported hearing a loud boom Saturday night, but said they didn\\'t see anything strange in the sky.\\n\\n\"I was sitting on my porch and I saw nothing, then all of a sudden I heard a large blast. We thought it was a bomb because we felt an expansive wave,\" Jorge Santamaria told The Associated Press.\\n\\nThe site of the crater is near Managua\\'s international airport and an air force base. Only journalists from state media were allowed to visit it.'"
      ]
     },
     "execution_count": 17,
     "metadata": {
      "tags": []
     },
     "output_type": "execute_result"
    }
   ],
   "source": [
    "texts[0]"
   ]
  },
  {
   "cell_type": "code",
   "execution_count": 18,
   "metadata": {
    "colab": {
     "base_uri": "https://localhost:8080/",
     "height": 306
    },
    "colab_type": "code",
    "executionInfo": {
     "elapsed": 1286,
     "status": "ok",
     "timestamp": 1585485386750,
     "user": {
      "displayName": "Vihan Parmar",
      "photoUrl": "https://lh3.googleusercontent.com/a-/AOh14GgAssvLmn_w5xeX9qyFZBLdGe5MZ0CgOc0JVaqgyg=s64",
      "userId": "11448973563679387390"
     },
     "user_tz": -330
    },
    "id": "WtIjO3ht5EKA",
    "outputId": "92b89d49-3adb-4e3d-f8e3-76c9314fd507"
   },
   "outputs": [
    {
     "data": {
      "text/plain": [
       "[\"A small meteorite crashed into a wooded area in Nicaragua's capital of Managua overnight, the government said Sunday.\",\n",
       " \"Residents reported hearing a mysterious boom that left a 16-foot deep crater near the city's airport, the Associated Press reports.\",\n",
       " 'Government spokeswoman Rosario Murillo said a committee formed by the government to study the event determined it was a \"relatively small\" meteorite that \"appears to have come off an asteroid that was passing close to Earth.\"',\n",
       " 'House-sized asteroid 2014 RC, which measured 60 feet in diameter, skimmed the Earth this weekend, ABC News reports.',\n",
       " 'Murillo said Nicaragua will ask international experts to help local scientists in understanding what happened.',\n",
       " 'The crater left by the meteorite had a radius of 39 feet and a depth of 16 feet,  said Humberto Saballos, a volcanologist with the Nicaraguan Institute of Territorial Studies who was on the committee.',\n",
       " 'He said it is still not clear if the meteorite disintegrated or was buried.',\n",
       " 'Humberto Garcia, of the Astronomy Center at the National Autonomous University of Nicaragua, said the meteorite could be related to an asteroid that was forecast to pass by the planet Saturday night.',\n",
       " '\"We have to study it more because it could be ice or rock,\" he said.',\n",
       " 'Wilfried Strauch, an adviser to the Institute of Territorial Studies, said it was \"very strange that no one reported a streak of light.',\n",
       " 'We have to ask if anyone has a photo or something.\"',\n",
       " \"Local residents reported hearing a loud boom Saturday night, but said they didn't see anything strange in the sky.\",\n",
       " '\"I was sitting on my porch and I saw nothing, then all of a sudden I heard a large blast.',\n",
       " 'We thought it was a bomb because we felt an expansive wave,\" Jorge Santamaria told The Associated Press.',\n",
       " \"The site of the crater is near Managua's international airport and an air force base.\",\n",
       " 'Only journalists from state media were allowed to visit it.']"
      ]
     },
     "execution_count": 18,
     "metadata": {
      "tags": []
     },
     "output_type": "execute_result"
    }
   ],
   "source": [
    "articles[0]"
   ]
  },
  {
   "cell_type": "markdown",
   "metadata": {
    "colab_type": "text",
    "id": "fpuRIA7cCfcY"
   },
   "source": [
    "# Now iterate through each article and each sentence to encode the words into ids using t.word_index  [10 marks] \n",
    "\n",
    "Here, to get words from sentence you can use `text_to_word_sequence` from keras preprocessing text.\n",
    "\n",
    "1. Import text_to_word_sequence\n",
    "\n",
    "2. Initialize a variable of shape (no.of articles, MAX_SENTS, MAX_SENT_LENGTH) with name `data` with zeros first (you can use numpy [np.zeros](https://docs.scipy.org/doc/numpy/reference/generated/numpy.zeros.html) to initialize with all zeros)and then update it while iterating through the words and sentences in each article."
   ]
  },
  {
   "cell_type": "code",
   "execution_count": 0,
   "metadata": {
    "colab": {},
    "colab_type": "code",
    "id": "9oa2wkYdN3bI"
   },
   "outputs": [],
   "source": [
    "# Importing necessary modules. \n",
    "\n",
    "from tensorflow.keras.preprocessing.text import text_to_word_sequence\n",
    "import numpy as np \n",
    "\n",
    "# Now determing the tokenization and encoding for each article and each sentence \n",
    "#to words.\n",
    "\n",
    "data = np.zeros((len(texts),MAX_SENTS,MAX_SENT_LENGTH),dtype='int32')\n",
    "\n",
    "for i, sentences in enumerate(articles):\n",
    "    for j, sent in enumerate(sentences):\n",
    "        if j < MAX_SENTS:\n",
    "            wordTokens = text_to_word_sequence(sent)\n",
    "            k = 0\n",
    "            for _, word in enumerate(wordTokens):\n",
    "                try:\n",
    "                    if k < MAX_SENT_LENGTH and Tokenizer.word_index[word] < MAX_NB_WORDS:\n",
    "                      data[i, j, k] = Tokenizer.word_index[word]\n",
    "                      k = k + 1\n",
    "                except:\n",
    "#                       print(word)\n",
    "                        pass\n",
    "\n"
   ]
  },
  {
   "cell_type": "markdown",
   "metadata": {
    "colab_type": "text",
    "id": "bFdmiDYcE144"
   },
   "source": [
    "### Check 3:\n",
    "\n",
    "Accessing first element in data should give something like given below."
   ]
  },
  {
   "cell_type": "code",
   "execution_count": 42,
   "metadata": {
    "colab": {
     "base_uri": "https://localhost:8080/",
     "height": 1000
    },
    "colab_type": "code",
    "executionInfo": {
     "elapsed": 1278,
     "status": "ok",
     "timestamp": 1585487212950,
     "user": {
      "displayName": "Vihan Parmar",
      "photoUrl": "https://lh3.googleusercontent.com/a-/AOh14GgAssvLmn_w5xeX9qyFZBLdGe5MZ0CgOc0JVaqgyg=s64",
      "userId": "11448973563679387390"
     },
     "user_tz": -330
    },
    "id": "TsFWW5C2Djog",
    "outputId": "fff6ad3b-5bd5-4002-83e7-ad3f69ac6e22"
   },
   "outputs": [
    {
     "data": {
      "text/plain": [
       "array([[    3,   481,   427,  7211,    81,     3,  3733,   331,     5,\n",
       "         3891,   350,     4,  1431,  2958,     1,    89,    12,   464,\n",
       "            0,     0],\n",
       "       [  758,    95,  1047,     3,  2679,  1752,     7,   189,     3,\n",
       "         1217,  1075,  2030,   700,   159,     1,  3032,   448,     1,\n",
       "          555,   235],\n",
       "       [   89,  1067,  4115,  2349,    12,     3,  1092,  3306,    19,\n",
       "            1,    89,     2,  1793,     1,   521,  2009,    15,     9,\n",
       "            3,  3111],\n",
       "       [  181,  3640,   972,   200,  2556,    44,  6775,  1722,  1252,\n",
       "            5, 13317, 17936,     1,   778,    31,   740,  3990,    67,\n",
       "           85,     0],\n",
       "       [ 2349,    12,  1557,    38,  1094,   351,   775,     2,   367,\n",
       "          260,  1770,     5,  4450,    70,   494,     0,     0,     0,\n",
       "            0,     0],\n",
       "       [    1,   700,   189,    19,     1,   427,    32,     3,  7417,\n",
       "            4,  2159,  1252,     6,     3,  5270,     4,  1217,  1252,\n",
       "           12,  3363],\n",
       "       [   13,    12,    15,     8,   149,    25,   543,    64,     1,\n",
       "          427,  3727,    41,     9,  1850,     0,     0,     0,     0,\n",
       "            0,     0],\n",
       "       [ 3363,  5733,     4,     1,  5875,   614,    21,     1,   311,\n",
       "         3438,   794,     4,  1557,    12,     1,   427,    69,    23,\n",
       "          787,     2],\n",
       "       [   37,    17,     2,  1793,    15,    52,   120,    15,    69,\n",
       "           23,  4921,    41,  1963,    13,    12,     0,     0,     0,\n",
       "            0,     0],\n",
       "       [ 4736,  3338,    24,  3969,     2,     1,  1316,     4,  3072,\n",
       "         1653,    12,    15,     9,   195,  1420,     7,    58,    40,\n",
       "           95,     3],\n",
       "       [   37,    17,     2,  1094,    64,   510,    20,     3,   250,\n",
       "           41,   264,     0,     0,     0,     0,     0,     0,     0,\n",
       "            0,     0],\n",
       "       [  260,   758,    95,  1047,     3,  1806,  1752,   531,   276,\n",
       "           29,    12,    33,   703,   163,   892,  1420,     5,     1,\n",
       "         2081,     0],\n",
       "       [   35,     9,  2057,    10,   116,  5825,     6,    35,   576,\n",
       "          656,   104,    59,     4,     3,  2410,    35,   241,     3,\n",
       "          512,  1911],\n",
       "       [   37,   341,    15,     9,     3,  2082,   120,    37,   881,\n",
       "           24,  4451,  2584,  4315,  4922,    55,     1,   555,   235,\n",
       "            0,     0],\n",
       "       [    1,   255,     4,     1,   700,     8,   159,  3961,   351,\n",
       "          448,     6,    24,   155,   465,  1929,     0,     0,     0,\n",
       "            0,     0],\n",
       "       [  126,   921,    22,    47,   100,    36,  1833,     2,  1212,\n",
       "           15,     0,     0,     0,     0,     0,     0,     0,     0,\n",
       "            0,     0],\n",
       "       [    0,     0,     0,     0,     0,     0,     0,     0,     0,\n",
       "            0,     0,     0,     0,     0,     0,     0,     0,     0,\n",
       "            0,     0],\n",
       "       [    0,     0,     0,     0,     0,     0,     0,     0,     0,\n",
       "            0,     0,     0,     0,     0,     0,     0,     0,     0,\n",
       "            0,     0],\n",
       "       [    0,     0,     0,     0,     0,     0,     0,     0,     0,\n",
       "            0,     0,     0,     0,     0,     0,     0,     0,     0,\n",
       "            0,     0],\n",
       "       [    0,     0,     0,     0,     0,     0,     0,     0,     0,\n",
       "            0,     0,     0,     0,     0,     0,     0,     0,     0,\n",
       "            0,     0]], dtype=int32)"
      ]
     },
     "execution_count": 42,
     "metadata": {
      "tags": []
     },
     "output_type": "execute_result"
    }
   ],
   "source": [
    "data[0, :, :]"
   ]
  },
  {
   "cell_type": "markdown",
   "metadata": {
    "colab_type": "text",
    "id": "hTG6JySHehkT"
   },
   "source": [
    "10# Repeat the same process for the `Headings` as well. Use variables with names `texts_heading` and `articles_heading` accordingly. [10 marks] "
   ]
  },
  {
   "cell_type": "code",
   "execution_count": 0,
   "metadata": {
    "colab": {},
    "colab_type": "code",
    "id": "_CliiIhLemJV"
   },
   "outputs": [],
   "source": [
    "texts_heading = []\n",
    "articles_heading = []\n",
    "\n",
    "from nltk import sent_tokenize\n",
    "\n",
    "for i in range(len(dataset['Headline'])):\n",
    "  text_heading = dataset['Headline'][i]\n",
    "  texts_heading.append(text_heading)\n",
    "  sentences = sent_tokenize(texts_heading[i])\n",
    "  articles_heading.append(sentences)"
   ]
  },
  {
   "cell_type": "code",
   "execution_count": 0,
   "metadata": {
    "colab": {},
    "colab_type": "code",
    "id": "GESUDOBERGpV"
   },
   "outputs": [],
   "source": [
    "from keras.preprocessing.text import text_to_word_sequence\n",
    "import numpy as np\n",
    "\n",
    "data_heading = np.zeros((len(texts_heading), MAX_SENTS, MAX_SENT_LENGTH), dtype = 'int32')\n",
    "\n",
    "for i, sentences in enumerate(articles_heading):\n",
    "    for j, sent in enumerate(sentences):\n",
    "        if j < MAX_SENTS:\n",
    "            WordTokens = text_to_word_sequence(sent)\n",
    "            k = 0\n",
    "            for _, word in enumerate(WordTokens):\n",
    "                try:\n",
    "                    if k < MAX_SENT_LENGTH and Tokenizer.word_index[word] < MAX_NB_WORDS:\n",
    "                      data_heading[i, j, k] = Tokenizer.word_index[word]\n",
    "                      k = k + 1\n",
    "                except:\n",
    "                        print(word)\n",
    "                        pass\n"
   ]
  },
  {
   "cell_type": "markdown",
   "metadata": {
    "colab_type": "text",
    "id": "iaH0Ey1qe_Co"
   },
   "source": [
    "### Now the features are ready, lets make the labels ready for the model to process.\n",
    "\n",
    "### Convert labels into one-hot vectors\n",
    "\n",
    "You can use [get_dummies](https://pandas.pydata.org/pandas-docs/stable/generated/pandas.get_dummies.html) in pandas to create one-hot vectors."
   ]
  },
  {
   "cell_type": "code",
   "execution_count": 0,
   "metadata": {
    "colab": {},
    "colab_type": "code",
    "id": "Zq-VcgM8fat1"
   },
   "outputs": [],
   "source": [
    "# Importing necessary modules.\n",
    "\n",
    "from tensorflow.keras.utils import to_categorical"
   ]
  },
  {
   "cell_type": "code",
   "execution_count": 0,
   "metadata": {
    "colab": {},
    "colab_type": "code",
    "id": "mMtb-gfzRShK"
   },
   "outputs": [],
   "source": [
    "# One-hot encoding.\n",
    "\n",
    "from sklearn.preprocessing import LabelEncoder\n",
    "\n",
    "LEnc = LabelEncoder()\n",
    "dataset.Stance01 = LEnc.fit_transform(dataset.Stance)\n",
    "Labels = to_categorical(dataset.Stance01)"
   ]
  },
  {
   "cell_type": "code",
   "execution_count": 28,
   "metadata": {
    "colab": {
     "base_uri": "https://localhost:8080/",
     "height": 34
    },
    "colab_type": "code",
    "executionInfo": {
     "elapsed": 4163,
     "status": "ok",
     "timestamp": 1585485967670,
     "user": {
      "displayName": "Vihan Parmar",
      "photoUrl": "https://lh3.googleusercontent.com/a-/AOh14GgAssvLmn_w5xeX9qyFZBLdGe5MZ0CgOc0JVaqgyg=s64",
      "userId": "11448973563679387390"
     },
     "user_tz": -330
    },
    "id": "5TRO1bhKRYKo",
    "outputId": "8c51727e-415e-4a41-ac3d-a1aca4f1c197"
   },
   "outputs": [
    {
     "data": {
      "text/plain": [
       "(49972, 4)"
      ]
     },
     "execution_count": 28,
     "metadata": {
      "tags": []
     },
     "output_type": "execute_result"
    }
   ],
   "source": [
    "Labels.shape"
   ]
  },
  {
   "cell_type": "markdown",
   "metadata": {
    "colab_type": "text",
    "id": "40mA8FI2fcxZ"
   },
   "source": [
    "### Check 4:\n",
    "\n",
    "The shape of data and labels shoould match the given below numbers."
   ]
  },
  {
   "cell_type": "code",
   "execution_count": 29,
   "metadata": {
    "colab": {
     "base_uri": "https://localhost:8080/",
     "height": 50
    },
    "colab_type": "code",
    "executionInfo": {
     "elapsed": 2704,
     "status": "ok",
     "timestamp": 1585485984749,
     "user": {
      "displayName": "Vihan Parmar",
      "photoUrl": "https://lh3.googleusercontent.com/a-/AOh14GgAssvLmn_w5xeX9qyFZBLdGe5MZ0CgOc0JVaqgyg=s64",
      "userId": "11448973563679387390"
     },
     "user_tz": -330
    },
    "id": "vpEWEnjFfnFR",
    "outputId": "8b7e641e-771e-4336-a214-4343038887f7"
   },
   "outputs": [
    {
     "name": "stdout",
     "output_type": "stream",
     "text": [
      "Shape of data tensor: (49972, 20, 20)\n",
      "Shape of label tensor: (49972, 4)\n"
     ]
    }
   ],
   "source": [
    "# Understanding the shape.\n",
    "\n",
    "print('Shape of data tensor:', data.shape)\n",
    "print('Shape of label tensor:', Labels.shape)"
   ]
  },
  {
   "cell_type": "markdown",
   "metadata": {
    "colab_type": "text",
    "id": "sDOxHdR3frDu"
   },
   "source": [
    "### Shuffle the data"
   ]
  },
  {
   "cell_type": "code",
   "execution_count": 0,
   "metadata": {
    "colab": {},
    "colab_type": "code",
    "id": "-Ra-yYTvfzRt"
   },
   "outputs": [],
   "source": [
    "## get numbers upto no.of articles\n",
    "indices = np.arange(data.shape[0])\n",
    "## shuffle the numbers\n",
    "np.random.shuffle(indices)"
   ]
  },
  {
   "cell_type": "code",
   "execution_count": 0,
   "metadata": {
    "colab": {},
    "colab_type": "code",
    "id": "LKnSqwIFf3Iy"
   },
   "outputs": [],
   "source": [
    "## shuffle the data\n",
    "data = data[indices]\n",
    "data_heading = data_heading[indices]\n",
    "## shuffle the labels according to data\n",
    "labels = labels[indices]"
   ]
  },
  {
   "cell_type": "markdown",
   "metadata": {
    "colab_type": "text",
    "id": "JcOFVfPBf9kA"
   },
   "source": [
    "### Split into train and validation sets. Split the train set 80:20 ratio to get the train and validation sets.\n",
    "\n",
    "\n",
    "Use the variable names as given below:\n",
    "\n",
    "x_train, x_val - for body of articles.\n",
    "\n",
    "x-heading_train, x_heading_val - for heading of articles.\n",
    "\n",
    "y_train - for training labels.\n",
    "\n",
    "y_val - for validation labels.\n",
    "\n"
   ]
  },
  {
   "cell_type": "code",
   "execution_count": 0,
   "metadata": {
    "colab": {},
    "colab_type": "code",
    "id": "2neh9Wcof8iR"
   },
   "outputs": [],
   "source": [
    "from sklearn.model_selection import train_test_split"
   ]
  },
  {
   "cell_type": "code",
   "execution_count": 0,
   "metadata": {
    "colab": {},
    "colab_type": "code",
    "id": "o5u3PTz3gEV-"
   },
   "outputs": [],
   "source": [
    "x_train, x_val, y_train, y_val = train_test_split(data, labels, train_size = 0.8)\n",
    "x_heading_train, x_heading_val = train_test_split(data_heading, train_size = 0.8)"
   ]
  },
  {
   "cell_type": "markdown",
   "metadata": {
    "colab_type": "text",
    "id": "UTyvoHrsgMDw"
   },
   "source": [
    "### Check 5:\n",
    "\n",
    "The shape of x_train, x_val, y_train and y_val should match the below numbers."
   ]
  },
  {
   "cell_type": "code",
   "execution_count": 34,
   "metadata": {
    "colab": {
     "base_uri": "https://localhost:8080/",
     "height": 84
    },
    "colab_type": "code",
    "executionInfo": {
     "elapsed": 1768,
     "status": "ok",
     "timestamp": 1585486145541,
     "user": {
      "displayName": "Vihan Parmar",
      "photoUrl": "https://lh3.googleusercontent.com/a-/AOh14GgAssvLmn_w5xeX9qyFZBLdGe5MZ0CgOc0JVaqgyg=s64",
      "userId": "11448973563679387390"
     },
     "user_tz": -330
    },
    "id": "KLEbiw2Yghe2",
    "outputId": "9f9b20dc-c432-4aa0-deab-fc970ba1e0da"
   },
   "outputs": [
    {
     "name": "stdout",
     "output_type": "stream",
     "text": [
      "The shape of x_train is: (39977, 20, 20)\n",
      "The shape of y_train is: (39977, 4)\n",
      "The shape of x_val is: (9995, 20, 20)\n",
      "The shape of y_val is: (9995, 4)\n"
     ]
    }
   ],
   "source": [
    "print(\"The shape of x_train is:\", x_train.shape)\n",
    "print(\"The shape of y_train is:\", y_train.shape)\n",
    "\n",
    "print(\"The shape of x_val is:\", x_val.shape)\n",
    "print(\"The shape of y_val is:\", y_val.shape)"
   ]
  },
  {
   "cell_type": "markdown",
   "metadata": {
    "colab_type": "text",
    "id": "yNnoBtArhJ1E"
   },
   "source": [
    "### Create embedding matrix with the glove embeddings\n",
    "\n",
    "\n",
    "Run the below code to create embedding_matrix which has all the words and their glove embedding if present in glove word list."
   ]
  },
  {
   "cell_type": "code",
   "execution_count": 46,
   "metadata": {
    "colab": {
     "base_uri": "https://localhost:8080/",
     "height": 34
    },
    "colab_type": "code",
    "executionInfo": {
     "elapsed": 13163,
     "status": "ok",
     "timestamp": 1585487821339,
     "user": {
      "displayName": "Vihan Parmar",
      "photoUrl": "https://lh3.googleusercontent.com/a-/AOh14GgAssvLmn_w5xeX9qyFZBLdGe5MZ0CgOc0JVaqgyg=s64",
      "userId": "11448973563679387390"
     },
     "user_tz": -330
    },
    "id": "eKqn2IL2ZF8v",
    "outputId": "be3c4f8e-8471-470d-ab4e-822c28d29c53"
   },
   "outputs": [
    {
     "name": "stdout",
     "output_type": "stream",
     "text": [
      "Loaded 400000 word vectors.\n"
     ]
    }
   ],
   "source": [
    "# load the whole embedding into memory\n",
    "embeddings_index = dict()\n",
    "f = open('./glove.6B.100d.txt')\n",
    "\n",
    "for line in f:\n",
    "\tvalues = line.split()\n",
    "\tword = values[0]\n",
    "\tcoefs = np.asarray(values[1:], dtype='float32')\n",
    "\tembeddings_index[word] = coefs\n",
    "f.close()\n",
    "print('Loaded %s word vectors.' % len(embeddings_index))\n",
    "\n",
    "vocab_size = len(Tokenizer.word_index) + 1\n",
    "# create a weight matrix for words in training docs\n",
    "embedding_matrix = np.zeros((vocab_size, 100))\n",
    "\n",
    "\n",
    "for word, i in Tokenizer.word_index.items():\n",
    "\tembedding_vector = embeddings_index.get(word)\n",
    "\tif embedding_vector is not None:\n",
    "\t\tembedding_matrix[i] = embedding_vector"
   ]
  },
  {
   "cell_type": "markdown",
   "metadata": {
    "colab_type": "text",
    "id": "LRi4o3ZspDFU"
   },
   "source": [
    "# Try the sequential model approach and report the accuracy score. [20 marks]  "
   ]
  },
  {
   "cell_type": "markdown",
   "metadata": {
    "colab_type": "text",
    "id": "zSZDnPWkw2ZZ"
   },
   "source": [
    "### Import layers from Keras to build the model"
   ]
  },
  {
   "cell_type": "code",
   "execution_count": 0,
   "metadata": {
    "colab": {},
    "colab_type": "code",
    "id": "5AgwQsfMrzAQ"
   },
   "outputs": [],
   "source": [
    "# Importing necessary modules. \n",
    "\n",
    "from tensorflow.keras.models import Model\n",
    "from tensorflow.keras.layers import Embedding,  Dense, Input, LSTM, GRU, TimeDistributed, Bidirectional"
   ]
  },
  {
   "cell_type": "markdown",
   "metadata": {
    "colab_type": "text",
    "id": "gpkVhIbx3gr1"
   },
   "source": [
    "### Model"
   ]
  },
  {
   "cell_type": "code",
   "execution_count": 0,
   "metadata": {
    "colab": {},
    "colab_type": "code",
    "id": "G_8QXh-rmPFq"
   },
   "outputs": [],
   "source": [
    "# Building the graph.\n",
    "\n",
    "Sentence_Input = Input(shape = (MAX_SENT_LENGTH,), dtype = 'int32')\n",
    "Embedded_sequences = Embedding(output_dim = 100, input_dim = vocab_size, input_length = MAX_SENT_LENGTH, weights = [embedding_matrix])(Sentence_Input)\n",
    "x = LSTM(400)(Embedded_sequences)\n",
    "x = Dense(64, activation = 'relu')(x)\n",
    "Pred = Dense(4, activation = 'sigmoid')(x)\n",
    "model = Model(inputs=Sentence_Input, outputs= Pred)"
   ]
  },
  {
   "cell_type": "markdown",
   "metadata": {
    "colab_type": "text",
    "id": "C5Xrd-JQ3id7"
   },
   "source": [
    "### Compile and fit the model"
   ]
  },
  {
   "cell_type": "code",
   "execution_count": 0,
   "metadata": {
    "colab": {},
    "colab_type": "code",
    "id": "MlduHU2CovxC"
   },
   "outputs": [],
   "source": [
    "# Compiling the model.\n",
    "\n",
    "model.compile(optimizer = 'adam', loss = 'categorical_crossentropy', metrics = ['accuracy'])"
   ]
  },
  {
   "cell_type": "code",
   "execution_count": 56,
   "metadata": {
    "colab": {
     "base_uri": "https://localhost:8080/",
     "height": 319
    },
    "colab_type": "code",
    "executionInfo": {
     "elapsed": 1332,
     "status": "ok",
     "timestamp": 1585488682329,
     "user": {
      "displayName": "Vihan Parmar",
      "photoUrl": "https://lh3.googleusercontent.com/a-/AOh14GgAssvLmn_w5xeX9qyFZBLdGe5MZ0CgOc0JVaqgyg=s64",
      "userId": "11448973563679387390"
     },
     "user_tz": -330
    },
    "id": "CM3yCmjQoCM3",
    "outputId": "e4ad4a2d-3390-47b5-8667-b33d6cf9e26b"
   },
   "outputs": [
    {
     "name": "stdout",
     "output_type": "stream",
     "text": [
      "Model: \"model_2\"\n",
      "_________________________________________________________________\n",
      "Layer (type)                 Output Shape              Param #   \n",
      "=================================================================\n",
      "input_3 (InputLayer)         [(None, 20)]              0         \n",
      "_________________________________________________________________\n",
      "embedding_2 (Embedding)      (None, 20, 100)           2787400   \n",
      "_________________________________________________________________\n",
      "lstm_2 (LSTM)                (None, 400)               801600    \n",
      "_________________________________________________________________\n",
      "dense_4 (Dense)              (None, 64)                25664     \n",
      "_________________________________________________________________\n",
      "dense_5 (Dense)              (None, 4)                 260       \n",
      "=================================================================\n",
      "Total params: 3,614,924\n",
      "Trainable params: 3,614,924\n",
      "Non-trainable params: 0\n",
      "_________________________________________________________________\n"
     ]
    }
   ],
   "source": [
    "# Summary of the graph.\n",
    "\n",
    "model.summary()"
   ]
  },
  {
   "cell_type": "code",
   "execution_count": 60,
   "metadata": {
    "colab": {
     "base_uri": "https://localhost:8080/",
     "height": 353
    },
    "colab_type": "code",
    "executionInfo": {
     "elapsed": 621734,
     "status": "ok",
     "timestamp": 1585490613483,
     "user": {
      "displayName": "Vihan Parmar",
      "photoUrl": "https://lh3.googleusercontent.com/a-/AOh14GgAssvLmn_w5xeX9qyFZBLdGe5MZ0CgOc0JVaqgyg=s64",
      "userId": "11448973563679387390"
     },
     "user_tz": -330
    },
    "id": "ZQ3TWuiAe1Uu",
    "outputId": "3c1035ff-4715-46d3-cbb7-2bf23f656cfb"
   },
   "outputs": [
    {
     "name": "stdout",
     "output_type": "stream",
     "text": [
      "Epoch 1/10\n",
      "79/79 [==============================] - 62s 779ms/step - loss: 1.0757 - accuracy: 0.7320 - val_loss: 1.0668 - val_accuracy: 0.7286\n",
      "Epoch 2/10\n",
      "79/79 [==============================] - 61s 776ms/step - loss: 1.0552 - accuracy: 0.7320 - val_loss: 1.0464 - val_accuracy: 0.7286\n",
      "Epoch 3/10\n",
      "79/79 [==============================] - 61s 773ms/step - loss: 1.0342 - accuracy: 0.7320 - val_loss: 1.0274 - val_accuracy: 0.7286\n",
      "Epoch 4/10\n",
      "79/79 [==============================] - 61s 776ms/step - loss: 1.0156 - accuracy: 0.7320 - val_loss: 1.0097 - val_accuracy: 0.7286\n",
      "Epoch 5/10\n",
      "79/79 [==============================] - 61s 776ms/step - loss: 0.9985 - accuracy: 0.7320 - val_loss: 0.9931 - val_accuracy: 0.7286\n",
      "Epoch 6/10\n",
      "79/79 [==============================] - 61s 775ms/step - loss: 0.9821 - accuracy: 0.7320 - val_loss: 0.9778 - val_accuracy: 0.7286\n",
      "Epoch 7/10\n",
      "79/79 [==============================] - 61s 775ms/step - loss: 0.9669 - accuracy: 0.7320 - val_loss: 0.9635 - val_accuracy: 0.7286\n",
      "Epoch 8/10\n",
      "79/79 [==============================] - 61s 776ms/step - loss: 0.9540 - accuracy: 0.7320 - val_loss: 0.9503 - val_accuracy: 0.7286\n",
      "Epoch 9/10\n",
      "79/79 [==============================] - 61s 776ms/step - loss: 0.9427 - accuracy: 0.7320 - val_loss: 0.9381 - val_accuracy: 0.7286\n",
      "Epoch 10/10\n",
      "79/79 [==============================] - 61s 775ms/step - loss: 0.9278 - accuracy: 0.7320 - val_loss: 0.9269 - val_accuracy: 0.7286\n"
     ]
    }
   ],
   "source": [
    "# Determing the accuracy and loss.\n",
    "\n",
    "model = model.fit(x_train.reshape(x_train.shape[0], 400), y_train, validation_data = (x_val.reshape(x_val.shape[0], 400), y_val), epochs = 10, batch_size = 512, verbose = 1)"
   ]
  },
  {
   "cell_type": "code",
   "execution_count": 63,
   "metadata": {
    "colab": {
     "base_uri": "https://localhost:8080/",
     "height": 510
    },
    "colab_type": "code",
    "executionInfo": {
     "elapsed": 2137,
     "status": "ok",
     "timestamp": 1585490927104,
     "user": {
      "displayName": "Vihan Parmar",
      "photoUrl": "https://lh3.googleusercontent.com/a-/AOh14GgAssvLmn_w5xeX9qyFZBLdGe5MZ0CgOc0JVaqgyg=s64",
      "userId": "11448973563679387390"
     },
     "user_tz": -330
    },
    "id": "wivJ-eVkfEOm",
    "outputId": "24d01253-377e-490a-98dd-ab2ef3edd1fb"
   },
   "outputs": [
    {
     "data": {
      "text/plain": [
       "<matplotlib.legend.Legend at 0x7f44f7a0ba20>"
      ]
     },
     "execution_count": 63,
     "metadata": {
      "tags": []
     },
     "output_type": "execute_result"
    },
    {
     "data": {
      "image/png": "[encoded data removed]",
      "text/plain": [
       "<Figure size 1080x504 with 2 Axes>"
      ]
     },
     "metadata": {
      "tags": []
     },
     "output_type": "display_data"
    }
   ],
   "source": [
    "# Visualizing the acuracy and loss. \n",
    "\n",
    "import matplotlib.pyplot as plt\n",
    "\n",
    "fig,(ax1,ax2) = plt.subplots(1,2, figsize= (15,7))\n",
    "fig.suptitle(\"Model Performance\")\n",
    "fig.subplots_adjust(top=0.85, wspace = 0.3)\n",
    "\n",
    "ax1.plot(new_history.history['accuracy'],label='Train-Accuracy')\n",
    "ax1.plot(new_history.history['val_accuracy'],label='Validation-Accuracy')\n",
    "ax1.set_title('Model-Accuracy')\n",
    "ax1.set_xlabel('Epochs')\n",
    "ax1.set_ylabel('Accuracy')\n",
    "ax1.legend(loc='best')\n",
    "\n",
    "ax2.plot(new_history.history['loss'],label='Train-Loss')\n",
    "ax2.plot(new_history.history['val_loss'],label='Test-Loss')\n",
    "ax2.set_title('Model-Loss')\n",
    "ax2.set_xlabel('Epochs')\n",
    "ax2.set_ylabel('Loss')\n",
    "ax2.legend(loc='best')"
   ]
  },
  {
   "cell_type": "markdown",
   "metadata": {
    "colab_type": "text",
    "id": "0uOaQ69BkGMJ"
   },
   "source": [
    "## Build the same model with attention layers included for better performance (Optional)"
   ]
  },
  {
   "cell_type": "code",
   "execution_count": 0,
   "metadata": {
    "colab": {},
    "colab_type": "code",
    "id": "_ikV2B1gkJg9"
   },
   "outputs": [],
   "source": []
  },
  {
   "cell_type": "code",
   "execution_count": 0,
   "metadata": {
    "colab": {},
    "colab_type": "code",
    "id": "JgqGBAlJkIHe"
   },
   "outputs": [],
   "source": []
  },
  {
   "cell_type": "markdown",
   "metadata": {
    "colab_type": "text",
    "id": "olqo5ytRe7eq"
   },
   "source": [
    "## Fit the model and report the accuracy score for the model with attention layer (Optional)"
   ]
  },
  {
   "cell_type": "code",
   "execution_count": 0,
   "metadata": {
    "colab": {},
    "colab_type": "code",
    "id": "1zgxPrhzfBkv"
   },
   "outputs": [],
   "source": []
  },
  {
   "cell_type": "code",
   "execution_count": 0,
   "metadata": {
    "colab": {},
    "colab_type": "code",
    "id": "z8507P94fDuX"
   },
   "outputs": [],
   "source": []
  }
 ],
 "metadata": {
  "accelerator": "GPU",
  "colab": {
   "collapsed_sections": [],
   "name": "SequenceModels_FakeNewsDetection_AIML_2019.ipynb",
   "provenance": []
  },
  "kernelspec": {
   "display_name": "Python 3",
   "language": "python",
   "name": "python3"
  },
  "language_info": {
   "codemirror_mode": {
    "name": "ipython",
    "version": 3
   },
   "file_extension": ".py",
   "mimetype": "text/x-python",
   "name": "python",
   "nbconvert_exporter": "python",
   "pygments_lexer": "ipython3",
   "version": "3.7.3"
  }
 },
 "nbformat": 4,
 "nbformat_minor": 1
}
