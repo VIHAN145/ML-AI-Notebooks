{
  "cells": [
    {
      "cell_type": "markdown",
      "source": [
        "# This project is created by Vihan Parmar. "
      ],
      "metadata": {
        "id": "gmaGtTYfrag9"
      }
    },
    {
      "cell_type": "markdown",
      "metadata": {
        "id": "hblylBu_yjvo"
      },
      "source": [
        "## Reading the dataset and understanding the features and target variable."
      ]
    },
    {
      "cell_type": "code",
      "execution_count": null,
      "metadata": {
        "id": "ATNZCypiyjvu"
      },
      "outputs": [],
      "source": [
        "#Importing pandas library for reading the dataset.\n",
        "\n",
        "import pandas as pd"
      ]
    },
    {
      "cell_type": "code",
      "source": [
        "# Mounting my Google Drive\n",
        "\n",
        "from google.colab import drive\n",
        "drive.mount('/content/drive')"
      ],
      "metadata": {
        "colab": {
          "base_uri": "https://localhost:8080/"
        },
        "id": "Ql9J9_YFzF91",
        "outputId": "e284fa9a-c0f0-4add-b68e-98b5b717582b"
      },
      "execution_count": null,
      "outputs": [
        {
          "output_type": "stream",
          "name": "stdout",
          "text": [
            "Drive already mounted at /content/drive; to attempt to forcibly remount, call drive.mount(\"/content/drive\", force_remount=True).\n"
          ]
        }
      ]
    },
    {
      "cell_type": "code",
      "execution_count": null,
      "metadata": {
        "colab": {
          "base_uri": "https://localhost:8080/",
          "height": 667
        },
        "id": "hmVA_vI9yjvv",
        "outputId": "92b79aff-2535-48cd-d434-e35191a17deb"
      },
      "outputs": [
        {
          "output_type": "execute_result",
          "data": {
            "text/html": [
              "<div>\n",
              "<style scoped>\n",
              "    .dataframe tbody tr th:only-of-type {\n",
              "        vertical-align: middle;\n",
              "    }\n",
              "\n",
              "    .dataframe tbody tr th {\n",
              "        vertical-align: top;\n",
              "    }\n",
              "\n",
              "    .dataframe thead th {\n",
              "        text-align: right;\n",
              "    }\n",
              "</style>\n",
              "<table border=\"1\" class=\"dataframe\">\n",
              "  <thead>\n",
              "    <tr style=\"text-align: right;\">\n",
              "      <th></th>\n",
              "      <th>Industrial Risk</th>\n",
              "      <th>Management Risk</th>\n",
              "      <th>Financial Flexibility</th>\n",
              "      <th>Credibility</th>\n",
              "      <th>Competitiveness</th>\n",
              "      <th>Operating Risk</th>\n",
              "      <th>Class</th>\n",
              "    </tr>\n",
              "  </thead>\n",
              "  <tbody>\n",
              "    <tr>\n",
              "      <th>0</th>\n",
              "      <td>P</td>\n",
              "      <td>P</td>\n",
              "      <td>A</td>\n",
              "      <td>A</td>\n",
              "      <td>A</td>\n",
              "      <td>P</td>\n",
              "      <td>NB</td>\n",
              "    </tr>\n",
              "    <tr>\n",
              "      <th>1</th>\n",
              "      <td>N</td>\n",
              "      <td>N</td>\n",
              "      <td>A</td>\n",
              "      <td>A</td>\n",
              "      <td>A</td>\n",
              "      <td>N</td>\n",
              "      <td>NB</td>\n",
              "    </tr>\n",
              "    <tr>\n",
              "      <th>2</th>\n",
              "      <td>A</td>\n",
              "      <td>A</td>\n",
              "      <td>A</td>\n",
              "      <td>A</td>\n",
              "      <td>A</td>\n",
              "      <td>A</td>\n",
              "      <td>NB</td>\n",
              "    </tr>\n",
              "    <tr>\n",
              "      <th>3</th>\n",
              "      <td>P</td>\n",
              "      <td>P</td>\n",
              "      <td>P</td>\n",
              "      <td>P</td>\n",
              "      <td>P</td>\n",
              "      <td>P</td>\n",
              "      <td>NB</td>\n",
              "    </tr>\n",
              "    <tr>\n",
              "      <th>4</th>\n",
              "      <td>N</td>\n",
              "      <td>N</td>\n",
              "      <td>P</td>\n",
              "      <td>P</td>\n",
              "      <td>P</td>\n",
              "      <td>N</td>\n",
              "      <td>NB</td>\n",
              "    </tr>\n",
              "    <tr>\n",
              "      <th>5</th>\n",
              "      <td>A</td>\n",
              "      <td>A</td>\n",
              "      <td>P</td>\n",
              "      <td>P</td>\n",
              "      <td>P</td>\n",
              "      <td>A</td>\n",
              "      <td>NB</td>\n",
              "    </tr>\n",
              "    <tr>\n",
              "      <th>6</th>\n",
              "      <td>P</td>\n",
              "      <td>P</td>\n",
              "      <td>A</td>\n",
              "      <td>P</td>\n",
              "      <td>P</td>\n",
              "      <td>P</td>\n",
              "      <td>NB</td>\n",
              "    </tr>\n",
              "    <tr>\n",
              "      <th>7</th>\n",
              "      <td>P</td>\n",
              "      <td>P</td>\n",
              "      <td>P</td>\n",
              "      <td>A</td>\n",
              "      <td>A</td>\n",
              "      <td>P</td>\n",
              "      <td>NB</td>\n",
              "    </tr>\n",
              "    <tr>\n",
              "      <th>8</th>\n",
              "      <td>P</td>\n",
              "      <td>P</td>\n",
              "      <td>A</td>\n",
              "      <td>P</td>\n",
              "      <td>A</td>\n",
              "      <td>P</td>\n",
              "      <td>NB</td>\n",
              "    </tr>\n",
              "    <tr>\n",
              "      <th>9</th>\n",
              "      <td>P</td>\n",
              "      <td>P</td>\n",
              "      <td>A</td>\n",
              "      <td>A</td>\n",
              "      <td>P</td>\n",
              "      <td>P</td>\n",
              "      <td>NB</td>\n",
              "    </tr>\n",
              "    <tr>\n",
              "      <th>10</th>\n",
              "      <td>P</td>\n",
              "      <td>P</td>\n",
              "      <td>P</td>\n",
              "      <td>P</td>\n",
              "      <td>A</td>\n",
              "      <td>P</td>\n",
              "      <td>NB</td>\n",
              "    </tr>\n",
              "    <tr>\n",
              "      <th>11</th>\n",
              "      <td>P</td>\n",
              "      <td>P</td>\n",
              "      <td>P</td>\n",
              "      <td>A</td>\n",
              "      <td>P</td>\n",
              "      <td>P</td>\n",
              "      <td>NB</td>\n",
              "    </tr>\n",
              "    <tr>\n",
              "      <th>12</th>\n",
              "      <td>N</td>\n",
              "      <td>N</td>\n",
              "      <td>A</td>\n",
              "      <td>P</td>\n",
              "      <td>P</td>\n",
              "      <td>N</td>\n",
              "      <td>NB</td>\n",
              "    </tr>\n",
              "    <tr>\n",
              "      <th>13</th>\n",
              "      <td>N</td>\n",
              "      <td>N</td>\n",
              "      <td>P</td>\n",
              "      <td>A</td>\n",
              "      <td>A</td>\n",
              "      <td>N</td>\n",
              "      <td>NB</td>\n",
              "    </tr>\n",
              "    <tr>\n",
              "      <th>14</th>\n",
              "      <td>N</td>\n",
              "      <td>N</td>\n",
              "      <td>A</td>\n",
              "      <td>P</td>\n",
              "      <td>A</td>\n",
              "      <td>N</td>\n",
              "      <td>NB</td>\n",
              "    </tr>\n",
              "    <tr>\n",
              "      <th>15</th>\n",
              "      <td>N</td>\n",
              "      <td>N</td>\n",
              "      <td>A</td>\n",
              "      <td>P</td>\n",
              "      <td>A</td>\n",
              "      <td>N</td>\n",
              "      <td>NB</td>\n",
              "    </tr>\n",
              "    <tr>\n",
              "      <th>16</th>\n",
              "      <td>N</td>\n",
              "      <td>N</td>\n",
              "      <td>A</td>\n",
              "      <td>A</td>\n",
              "      <td>P</td>\n",
              "      <td>N</td>\n",
              "      <td>NB</td>\n",
              "    </tr>\n",
              "    <tr>\n",
              "      <th>17</th>\n",
              "      <td>N</td>\n",
              "      <td>N</td>\n",
              "      <td>P</td>\n",
              "      <td>P</td>\n",
              "      <td>A</td>\n",
              "      <td>N</td>\n",
              "      <td>NB</td>\n",
              "    </tr>\n",
              "    <tr>\n",
              "      <th>18</th>\n",
              "      <td>N</td>\n",
              "      <td>N</td>\n",
              "      <td>P</td>\n",
              "      <td>A</td>\n",
              "      <td>P</td>\n",
              "      <td>N</td>\n",
              "      <td>NB</td>\n",
              "    </tr>\n",
              "    <tr>\n",
              "      <th>19</th>\n",
              "      <td>A</td>\n",
              "      <td>A</td>\n",
              "      <td>A</td>\n",
              "      <td>P</td>\n",
              "      <td>P</td>\n",
              "      <td>A</td>\n",
              "      <td>NB</td>\n",
              "    </tr>\n",
              "  </tbody>\n",
              "</table>\n",
              "</div>"
            ],
            "text/plain": [
              "   Industrial Risk Management Risk  ... Operating Risk Class\n",
              "0                P               P  ...              P    NB\n",
              "1                N               N  ...              N    NB\n",
              "2                A               A  ...              A    NB\n",
              "3                P               P  ...              P    NB\n",
              "4                N               N  ...              N    NB\n",
              "5                A               A  ...              A    NB\n",
              "6                P               P  ...              P    NB\n",
              "7                P               P  ...              P    NB\n",
              "8                P               P  ...              P    NB\n",
              "9                P               P  ...              P    NB\n",
              "10               P               P  ...              P    NB\n",
              "11               P               P  ...              P    NB\n",
              "12               N               N  ...              N    NB\n",
              "13               N               N  ...              N    NB\n",
              "14               N               N  ...              N    NB\n",
              "15               N               N  ...              N    NB\n",
              "16               N               N  ...              N    NB\n",
              "17               N               N  ...              N    NB\n",
              "18               N               N  ...              N    NB\n",
              "19               A               A  ...              A    NB\n",
              "\n",
              "[20 rows x 7 columns]"
            ]
          },
          "metadata": {},
          "execution_count": 7
        }
      ],
      "source": [
        "# Reading the dataset\n",
        "# Enlisting the names of various attributes as per the information given for this dataset\n",
        "# Reading the first 20 \n",
        "\n",
        "QB = pd.read_csv('/content/drive/MyDrive/Unsupervised Learning Project Data/drive-download-20191118T133407Z-001.zip (Unzipped Files)/Qualitative_Bankruptcy.data.txt',names=['Industrial Risk','Management Risk','Financial Flexibility','Credibility','Competitiveness','Operating Risk','Class'])\n",
        "QB.head(20)"
      ]
    },
    {
      "cell_type": "markdown",
      "metadata": {
        "id": "Y7jpHNyjyjvx"
      },
      "source": [
        "**The Class is represented by categorical variables. This class consists of 2 categories, namely:  Bankruptcy or Non-Bankruptcy which will be the target variable that our model will predict just like human experts predict based on the other set of variables. Hence Class will be the target variable.**"
      ]
    },
    {
      "cell_type": "code",
      "source": [
        "# Understanding the dimensions\n",
        "\n",
        "QB.describe"
      ],
      "metadata": {
        "colab": {
          "base_uri": "https://localhost:8080/"
        },
        "id": "BM-LY_q67nyq",
        "outputId": "1552258e-2a17-4606-bf8c-e760b2778567"
      },
      "execution_count": null,
      "outputs": [
        {
          "output_type": "execute_result",
          "data": {
            "text/plain": [
              "<bound method NDFrame.describe of     Industrial Risk Management Risk  ... Operating Risk Class\n",
              "0                 P               P  ...              P    NB\n",
              "1                 N               N  ...              N    NB\n",
              "2                 A               A  ...              A    NB\n",
              "3                 P               P  ...              P    NB\n",
              "4                 N               N  ...              N    NB\n",
              "..              ...             ...  ...            ...   ...\n",
              "245               N               N  ...              N     B\n",
              "246               P               N  ...              N     B\n",
              "247               A               N  ...              N     B\n",
              "248               N               N  ...              N     B\n",
              "249               P               N  ...              A     B\n",
              "\n",
              "[250 rows x 7 columns]>"
            ]
          },
          "metadata": {},
          "execution_count": 8
        }
      ]
    },
    {
      "cell_type": "markdown",
      "source": [
        "# Stage 1. Pre-procssing"
      ],
      "metadata": {
        "id": "df9pustkpkpC"
      }
    },
    {
      "cell_type": "markdown",
      "metadata": {
        "id": "-OKuDXUvyjvx"
      },
      "source": [
        "## Seperating the data into dependent and independent features."
      ]
    },
    {
      "cell_type": "code",
      "execution_count": null,
      "metadata": {
        "colab": {
          "base_uri": "https://localhost:8080/",
          "height": 204
        },
        "id": "zRYj5KMAyjvy",
        "outputId": "f0ba1caa-2d8c-4bc3-90ff-86b2ee2a17d6"
      },
      "outputs": [
        {
          "output_type": "execute_result",
          "data": {
            "text/html": [
              "<div>\n",
              "<style scoped>\n",
              "    .dataframe tbody tr th:only-of-type {\n",
              "        vertical-align: middle;\n",
              "    }\n",
              "\n",
              "    .dataframe tbody tr th {\n",
              "        vertical-align: top;\n",
              "    }\n",
              "\n",
              "    .dataframe thead th {\n",
              "        text-align: right;\n",
              "    }\n",
              "</style>\n",
              "<table border=\"1\" class=\"dataframe\">\n",
              "  <thead>\n",
              "    <tr style=\"text-align: right;\">\n",
              "      <th></th>\n",
              "      <th>Industrial Risk</th>\n",
              "      <th>Management Risk</th>\n",
              "      <th>Financial Flexibility</th>\n",
              "      <th>Credibility</th>\n",
              "      <th>Competitiveness</th>\n",
              "      <th>Operating Risk</th>\n",
              "    </tr>\n",
              "  </thead>\n",
              "  <tbody>\n",
              "    <tr>\n",
              "      <th>0</th>\n",
              "      <td>P</td>\n",
              "      <td>P</td>\n",
              "      <td>A</td>\n",
              "      <td>A</td>\n",
              "      <td>A</td>\n",
              "      <td>P</td>\n",
              "    </tr>\n",
              "    <tr>\n",
              "      <th>1</th>\n",
              "      <td>N</td>\n",
              "      <td>N</td>\n",
              "      <td>A</td>\n",
              "      <td>A</td>\n",
              "      <td>A</td>\n",
              "      <td>N</td>\n",
              "    </tr>\n",
              "    <tr>\n",
              "      <th>2</th>\n",
              "      <td>A</td>\n",
              "      <td>A</td>\n",
              "      <td>A</td>\n",
              "      <td>A</td>\n",
              "      <td>A</td>\n",
              "      <td>A</td>\n",
              "    </tr>\n",
              "    <tr>\n",
              "      <th>3</th>\n",
              "      <td>P</td>\n",
              "      <td>P</td>\n",
              "      <td>P</td>\n",
              "      <td>P</td>\n",
              "      <td>P</td>\n",
              "      <td>P</td>\n",
              "    </tr>\n",
              "    <tr>\n",
              "      <th>4</th>\n",
              "      <td>N</td>\n",
              "      <td>N</td>\n",
              "      <td>P</td>\n",
              "      <td>P</td>\n",
              "      <td>P</td>\n",
              "      <td>N</td>\n",
              "    </tr>\n",
              "  </tbody>\n",
              "</table>\n",
              "</div>"
            ],
            "text/plain": [
              "  Industrial Risk Management Risk  ... Competitiveness Operating Risk\n",
              "0               P               P  ...               A              P\n",
              "1               N               N  ...               A              N\n",
              "2               A               A  ...               A              A\n",
              "3               P               P  ...               P              P\n",
              "4               N               N  ...               P              N\n",
              "\n",
              "[5 rows x 6 columns]"
            ]
          },
          "metadata": {},
          "execution_count": 9
        }
      ],
      "source": [
        "# x will be the set of independent features/variable.\n",
        "\n",
        "x = QB.iloc[:,0:6] # Indexing all rows and then columns from (0 - 6)\n",
        "x.head()"
      ]
    },
    {
      "cell_type": "code",
      "source": [
        "QB.dtypes"
      ],
      "metadata": {
        "colab": {
          "base_uri": "https://localhost:8080/"
        },
        "id": "LT_5y-w0Gj6m",
        "outputId": "95904bef-d54a-493b-c83e-2bd6230129e2"
      },
      "execution_count": null,
      "outputs": [
        {
          "output_type": "execute_result",
          "data": {
            "text/plain": [
              "Industrial Risk          object\n",
              "Management Risk          object\n",
              "Financial Flexibility    object\n",
              "Credibility              object\n",
              "Competitiveness          object\n",
              "Operating Risk           object\n",
              "Class                    object\n",
              "dtype: object"
            ]
          },
          "metadata": {},
          "execution_count": 10
        }
      ]
    },
    {
      "cell_type": "code",
      "execution_count": null,
      "metadata": {
        "colab": {
          "base_uri": "https://localhost:8080/",
          "height": 358
        },
        "id": "MYm9MeaMyjvz",
        "outputId": "8fa8e34b-93ec-4566-82fb-924cba8bb37a"
      },
      "outputs": [
        {
          "output_type": "execute_result",
          "data": {
            "text/html": [
              "<div>\n",
              "<style scoped>\n",
              "    .dataframe tbody tr th:only-of-type {\n",
              "        vertical-align: middle;\n",
              "    }\n",
              "\n",
              "    .dataframe tbody tr th {\n",
              "        vertical-align: top;\n",
              "    }\n",
              "\n",
              "    .dataframe thead th {\n",
              "        text-align: right;\n",
              "    }\n",
              "</style>\n",
              "<table border=\"1\" class=\"dataframe\">\n",
              "  <thead>\n",
              "    <tr style=\"text-align: right;\">\n",
              "      <th></th>\n",
              "      <th>Class</th>\n",
              "    </tr>\n",
              "  </thead>\n",
              "  <tbody>\n",
              "    <tr>\n",
              "      <th>0</th>\n",
              "      <td>NB</td>\n",
              "    </tr>\n",
              "    <tr>\n",
              "      <th>1</th>\n",
              "      <td>NB</td>\n",
              "    </tr>\n",
              "    <tr>\n",
              "      <th>2</th>\n",
              "      <td>NB</td>\n",
              "    </tr>\n",
              "    <tr>\n",
              "      <th>3</th>\n",
              "      <td>NB</td>\n",
              "    </tr>\n",
              "    <tr>\n",
              "      <th>4</th>\n",
              "      <td>NB</td>\n",
              "    </tr>\n",
              "    <tr>\n",
              "      <th>5</th>\n",
              "      <td>NB</td>\n",
              "    </tr>\n",
              "    <tr>\n",
              "      <th>6</th>\n",
              "      <td>NB</td>\n",
              "    </tr>\n",
              "    <tr>\n",
              "      <th>7</th>\n",
              "      <td>NB</td>\n",
              "    </tr>\n",
              "    <tr>\n",
              "      <th>8</th>\n",
              "      <td>NB</td>\n",
              "    </tr>\n",
              "    <tr>\n",
              "      <th>9</th>\n",
              "      <td>NB</td>\n",
              "    </tr>\n",
              "  </tbody>\n",
              "</table>\n",
              "</div>"
            ],
            "text/plain": [
              "  Class\n",
              "0    NB\n",
              "1    NB\n",
              "2    NB\n",
              "3    NB\n",
              "4    NB\n",
              "5    NB\n",
              "6    NB\n",
              "7    NB\n",
              "8    NB\n",
              "9    NB"
            ]
          },
          "metadata": {},
          "execution_count": 11
        }
      ],
      "source": [
        "# y will be the dependent/target variable.\n",
        "\n",
        "y = QB.iloc[:,6:7] # Indexing all rows and the Target column 'Class'\n",
        "y.head(10)"
      ]
    },
    {
      "cell_type": "markdown",
      "metadata": {
        "id": "7bk2_q-Kyjv0"
      },
      "source": [
        "## Encoding independent features."
      ]
    },
    {
      "cell_type": "code",
      "execution_count": null,
      "metadata": {
        "id": "Q6MHjbJKyjv0"
      },
      "outputs": [],
      "source": [
        "# Here I have used Label Encoder in order to transform non-numerical labels into numerical labels\n",
        "# Here I have used fit transform on the Label Enocded Data to ensure that the data is brought to the same scale. \n",
        "# After label encoding - we see that the various attributes representing P, A, N are converted in the following numerical labels 2,1,0  \n",
        "\n",
        "from sklearn.preprocessing import LabelEncoder\n",
        "LE = LabelEncoder()\n",
        "x = x.apply(LE.fit_transform)"
      ]
    },
    {
      "cell_type": "code",
      "execution_count": null,
      "metadata": {
        "colab": {
          "base_uri": "https://localhost:8080/",
          "height": 418
        },
        "id": "OJMR83PTyjv1",
        "outputId": "4c9c2d56-8d33-428e-cfa7-60837434b92a"
      },
      "outputs": [
        {
          "output_type": "execute_result",
          "data": {
            "text/html": [
              "<div>\n",
              "<style scoped>\n",
              "    .dataframe tbody tr th:only-of-type {\n",
              "        vertical-align: middle;\n",
              "    }\n",
              "\n",
              "    .dataframe tbody tr th {\n",
              "        vertical-align: top;\n",
              "    }\n",
              "\n",
              "    .dataframe thead th {\n",
              "        text-align: right;\n",
              "    }\n",
              "</style>\n",
              "<table border=\"1\" class=\"dataframe\">\n",
              "  <thead>\n",
              "    <tr style=\"text-align: right;\">\n",
              "      <th></th>\n",
              "      <th>Industrial Risk</th>\n",
              "      <th>Management Risk</th>\n",
              "      <th>Financial Flexibility</th>\n",
              "      <th>Credibility</th>\n",
              "      <th>Competitiveness</th>\n",
              "      <th>Operating Risk</th>\n",
              "    </tr>\n",
              "  </thead>\n",
              "  <tbody>\n",
              "    <tr>\n",
              "      <th>0</th>\n",
              "      <td>2</td>\n",
              "      <td>2</td>\n",
              "      <td>0</td>\n",
              "      <td>0</td>\n",
              "      <td>0</td>\n",
              "      <td>2</td>\n",
              "    </tr>\n",
              "    <tr>\n",
              "      <th>1</th>\n",
              "      <td>1</td>\n",
              "      <td>1</td>\n",
              "      <td>0</td>\n",
              "      <td>0</td>\n",
              "      <td>0</td>\n",
              "      <td>1</td>\n",
              "    </tr>\n",
              "    <tr>\n",
              "      <th>2</th>\n",
              "      <td>0</td>\n",
              "      <td>0</td>\n",
              "      <td>0</td>\n",
              "      <td>0</td>\n",
              "      <td>0</td>\n",
              "      <td>0</td>\n",
              "    </tr>\n",
              "    <tr>\n",
              "      <th>3</th>\n",
              "      <td>2</td>\n",
              "      <td>2</td>\n",
              "      <td>2</td>\n",
              "      <td>2</td>\n",
              "      <td>2</td>\n",
              "      <td>2</td>\n",
              "    </tr>\n",
              "    <tr>\n",
              "      <th>4</th>\n",
              "      <td>1</td>\n",
              "      <td>1</td>\n",
              "      <td>2</td>\n",
              "      <td>2</td>\n",
              "      <td>2</td>\n",
              "      <td>1</td>\n",
              "    </tr>\n",
              "    <tr>\n",
              "      <th>...</th>\n",
              "      <td>...</td>\n",
              "      <td>...</td>\n",
              "      <td>...</td>\n",
              "      <td>...</td>\n",
              "      <td>...</td>\n",
              "      <td>...</td>\n",
              "    </tr>\n",
              "    <tr>\n",
              "      <th>245</th>\n",
              "      <td>1</td>\n",
              "      <td>1</td>\n",
              "      <td>0</td>\n",
              "      <td>1</td>\n",
              "      <td>1</td>\n",
              "      <td>1</td>\n",
              "    </tr>\n",
              "    <tr>\n",
              "      <th>246</th>\n",
              "      <td>2</td>\n",
              "      <td>1</td>\n",
              "      <td>1</td>\n",
              "      <td>1</td>\n",
              "      <td>1</td>\n",
              "      <td>1</td>\n",
              "    </tr>\n",
              "    <tr>\n",
              "      <th>247</th>\n",
              "      <td>0</td>\n",
              "      <td>1</td>\n",
              "      <td>1</td>\n",
              "      <td>1</td>\n",
              "      <td>1</td>\n",
              "      <td>1</td>\n",
              "    </tr>\n",
              "    <tr>\n",
              "      <th>248</th>\n",
              "      <td>1</td>\n",
              "      <td>1</td>\n",
              "      <td>1</td>\n",
              "      <td>1</td>\n",
              "      <td>1</td>\n",
              "      <td>1</td>\n",
              "    </tr>\n",
              "    <tr>\n",
              "      <th>249</th>\n",
              "      <td>2</td>\n",
              "      <td>1</td>\n",
              "      <td>1</td>\n",
              "      <td>1</td>\n",
              "      <td>0</td>\n",
              "      <td>0</td>\n",
              "    </tr>\n",
              "  </tbody>\n",
              "</table>\n",
              "<p>250 rows × 6 columns</p>\n",
              "</div>"
            ],
            "text/plain": [
              "     Industrial Risk  Management Risk  ...  Competitiveness  Operating Risk\n",
              "0                  2                2  ...                0               2\n",
              "1                  1                1  ...                0               1\n",
              "2                  0                0  ...                0               0\n",
              "3                  2                2  ...                2               2\n",
              "4                  1                1  ...                2               1\n",
              "..               ...              ...  ...              ...             ...\n",
              "245                1                1  ...                1               1\n",
              "246                2                1  ...                1               1\n",
              "247                0                1  ...                1               1\n",
              "248                1                1  ...                1               1\n",
              "249                2                1  ...                0               0\n",
              "\n",
              "[250 rows x 6 columns]"
            ]
          },
          "metadata": {},
          "execution_count": 13
        }
      ],
      "source": [
        "x"
      ]
    },
    {
      "cell_type": "code",
      "execution_count": null,
      "metadata": {
        "colab": {
          "base_uri": "https://localhost:8080/",
          "height": 455
        },
        "id": "Im1o-x8_yjv1",
        "outputId": "42edfe99-a744-433d-97bd-6b8981bb7b41"
      },
      "outputs": [
        {
          "output_type": "execute_result",
          "data": {
            "text/html": [
              "<div>\n",
              "<style scoped>\n",
              "    .dataframe tbody tr th:only-of-type {\n",
              "        vertical-align: middle;\n",
              "    }\n",
              "\n",
              "    .dataframe tbody tr th {\n",
              "        vertical-align: top;\n",
              "    }\n",
              "\n",
              "    .dataframe thead th {\n",
              "        text-align: right;\n",
              "    }\n",
              "</style>\n",
              "<table border=\"1\" class=\"dataframe\">\n",
              "  <thead>\n",
              "    <tr style=\"text-align: right;\">\n",
              "      <th></th>\n",
              "      <th>Industrial Risk_0</th>\n",
              "      <th>Industrial Risk_1</th>\n",
              "      <th>Industrial Risk_2</th>\n",
              "      <th>Management Risk_0</th>\n",
              "      <th>Management Risk_1</th>\n",
              "      <th>Management Risk_2</th>\n",
              "      <th>Financial Flexibility_0</th>\n",
              "      <th>Financial Flexibility_1</th>\n",
              "      <th>Financial Flexibility_2</th>\n",
              "      <th>Credibility_0</th>\n",
              "      <th>Credibility_1</th>\n",
              "      <th>Credibility_2</th>\n",
              "      <th>Competitiveness_0</th>\n",
              "      <th>Competitiveness_1</th>\n",
              "      <th>Competitiveness_2</th>\n",
              "      <th>Operating Risk_0</th>\n",
              "      <th>Operating Risk_1</th>\n",
              "      <th>Operating Risk_2</th>\n",
              "    </tr>\n",
              "  </thead>\n",
              "  <tbody>\n",
              "    <tr>\n",
              "      <th>0</th>\n",
              "      <td>0</td>\n",
              "      <td>0</td>\n",
              "      <td>1</td>\n",
              "      <td>0</td>\n",
              "      <td>0</td>\n",
              "      <td>1</td>\n",
              "      <td>1</td>\n",
              "      <td>0</td>\n",
              "      <td>0</td>\n",
              "      <td>1</td>\n",
              "      <td>0</td>\n",
              "      <td>0</td>\n",
              "      <td>1</td>\n",
              "      <td>0</td>\n",
              "      <td>0</td>\n",
              "      <td>0</td>\n",
              "      <td>0</td>\n",
              "      <td>1</td>\n",
              "    </tr>\n",
              "    <tr>\n",
              "      <th>1</th>\n",
              "      <td>0</td>\n",
              "      <td>1</td>\n",
              "      <td>0</td>\n",
              "      <td>0</td>\n",
              "      <td>1</td>\n",
              "      <td>0</td>\n",
              "      <td>1</td>\n",
              "      <td>0</td>\n",
              "      <td>0</td>\n",
              "      <td>1</td>\n",
              "      <td>0</td>\n",
              "      <td>0</td>\n",
              "      <td>1</td>\n",
              "      <td>0</td>\n",
              "      <td>0</td>\n",
              "      <td>0</td>\n",
              "      <td>1</td>\n",
              "      <td>0</td>\n",
              "    </tr>\n",
              "    <tr>\n",
              "      <th>2</th>\n",
              "      <td>1</td>\n",
              "      <td>0</td>\n",
              "      <td>0</td>\n",
              "      <td>1</td>\n",
              "      <td>0</td>\n",
              "      <td>0</td>\n",
              "      <td>1</td>\n",
              "      <td>0</td>\n",
              "      <td>0</td>\n",
              "      <td>1</td>\n",
              "      <td>0</td>\n",
              "      <td>0</td>\n",
              "      <td>1</td>\n",
              "      <td>0</td>\n",
              "      <td>0</td>\n",
              "      <td>1</td>\n",
              "      <td>0</td>\n",
              "      <td>0</td>\n",
              "    </tr>\n",
              "    <tr>\n",
              "      <th>3</th>\n",
              "      <td>0</td>\n",
              "      <td>0</td>\n",
              "      <td>1</td>\n",
              "      <td>0</td>\n",
              "      <td>0</td>\n",
              "      <td>1</td>\n",
              "      <td>0</td>\n",
              "      <td>0</td>\n",
              "      <td>1</td>\n",
              "      <td>0</td>\n",
              "      <td>0</td>\n",
              "      <td>1</td>\n",
              "      <td>0</td>\n",
              "      <td>0</td>\n",
              "      <td>1</td>\n",
              "      <td>0</td>\n",
              "      <td>0</td>\n",
              "      <td>1</td>\n",
              "    </tr>\n",
              "    <tr>\n",
              "      <th>4</th>\n",
              "      <td>0</td>\n",
              "      <td>1</td>\n",
              "      <td>0</td>\n",
              "      <td>0</td>\n",
              "      <td>1</td>\n",
              "      <td>0</td>\n",
              "      <td>0</td>\n",
              "      <td>0</td>\n",
              "      <td>1</td>\n",
              "      <td>0</td>\n",
              "      <td>0</td>\n",
              "      <td>1</td>\n",
              "      <td>0</td>\n",
              "      <td>0</td>\n",
              "      <td>1</td>\n",
              "      <td>0</td>\n",
              "      <td>1</td>\n",
              "      <td>0</td>\n",
              "    </tr>\n",
              "    <tr>\n",
              "      <th>...</th>\n",
              "      <td>...</td>\n",
              "      <td>...</td>\n",
              "      <td>...</td>\n",
              "      <td>...</td>\n",
              "      <td>...</td>\n",
              "      <td>...</td>\n",
              "      <td>...</td>\n",
              "      <td>...</td>\n",
              "      <td>...</td>\n",
              "      <td>...</td>\n",
              "      <td>...</td>\n",
              "      <td>...</td>\n",
              "      <td>...</td>\n",
              "      <td>...</td>\n",
              "      <td>...</td>\n",
              "      <td>...</td>\n",
              "      <td>...</td>\n",
              "      <td>...</td>\n",
              "    </tr>\n",
              "    <tr>\n",
              "      <th>245</th>\n",
              "      <td>0</td>\n",
              "      <td>1</td>\n",
              "      <td>0</td>\n",
              "      <td>0</td>\n",
              "      <td>1</td>\n",
              "      <td>0</td>\n",
              "      <td>1</td>\n",
              "      <td>0</td>\n",
              "      <td>0</td>\n",
              "      <td>0</td>\n",
              "      <td>1</td>\n",
              "      <td>0</td>\n",
              "      <td>0</td>\n",
              "      <td>1</td>\n",
              "      <td>0</td>\n",
              "      <td>0</td>\n",
              "      <td>1</td>\n",
              "      <td>0</td>\n",
              "    </tr>\n",
              "    <tr>\n",
              "      <th>246</th>\n",
              "      <td>0</td>\n",
              "      <td>0</td>\n",
              "      <td>1</td>\n",
              "      <td>0</td>\n",
              "      <td>1</td>\n",
              "      <td>0</td>\n",
              "      <td>0</td>\n",
              "      <td>1</td>\n",
              "      <td>0</td>\n",
              "      <td>0</td>\n",
              "      <td>1</td>\n",
              "      <td>0</td>\n",
              "      <td>0</td>\n",
              "      <td>1</td>\n",
              "      <td>0</td>\n",
              "      <td>0</td>\n",
              "      <td>1</td>\n",
              "      <td>0</td>\n",
              "    </tr>\n",
              "    <tr>\n",
              "      <th>247</th>\n",
              "      <td>1</td>\n",
              "      <td>0</td>\n",
              "      <td>0</td>\n",
              "      <td>0</td>\n",
              "      <td>1</td>\n",
              "      <td>0</td>\n",
              "      <td>0</td>\n",
              "      <td>1</td>\n",
              "      <td>0</td>\n",
              "      <td>0</td>\n",
              "      <td>1</td>\n",
              "      <td>0</td>\n",
              "      <td>0</td>\n",
              "      <td>1</td>\n",
              "      <td>0</td>\n",
              "      <td>0</td>\n",
              "      <td>1</td>\n",
              "      <td>0</td>\n",
              "    </tr>\n",
              "    <tr>\n",
              "      <th>248</th>\n",
              "      <td>0</td>\n",
              "      <td>1</td>\n",
              "      <td>0</td>\n",
              "      <td>0</td>\n",
              "      <td>1</td>\n",
              "      <td>0</td>\n",
              "      <td>0</td>\n",
              "      <td>1</td>\n",
              "      <td>0</td>\n",
              "      <td>0</td>\n",
              "      <td>1</td>\n",
              "      <td>0</td>\n",
              "      <td>0</td>\n",
              "      <td>1</td>\n",
              "      <td>0</td>\n",
              "      <td>0</td>\n",
              "      <td>1</td>\n",
              "      <td>0</td>\n",
              "    </tr>\n",
              "    <tr>\n",
              "      <th>249</th>\n",
              "      <td>0</td>\n",
              "      <td>0</td>\n",
              "      <td>1</td>\n",
              "      <td>0</td>\n",
              "      <td>1</td>\n",
              "      <td>0</td>\n",
              "      <td>0</td>\n",
              "      <td>1</td>\n",
              "      <td>0</td>\n",
              "      <td>0</td>\n",
              "      <td>1</td>\n",
              "      <td>0</td>\n",
              "      <td>1</td>\n",
              "      <td>0</td>\n",
              "      <td>0</td>\n",
              "      <td>1</td>\n",
              "      <td>0</td>\n",
              "      <td>0</td>\n",
              "    </tr>\n",
              "  </tbody>\n",
              "</table>\n",
              "<p>250 rows × 18 columns</p>\n",
              "</div>"
            ],
            "text/plain": [
              "     Industrial Risk_0  Industrial Risk_1  ...  Operating Risk_1  Operating Risk_2\n",
              "0                    0                  0  ...                 0                 1\n",
              "1                    0                  1  ...                 1                 0\n",
              "2                    1                  0  ...                 0                 0\n",
              "3                    0                  0  ...                 0                 1\n",
              "4                    0                  1  ...                 1                 0\n",
              "..                 ...                ...  ...               ...               ...\n",
              "245                  0                  1  ...                 1                 0\n",
              "246                  0                  0  ...                 1                 0\n",
              "247                  1                  0  ...                 1                 0\n",
              "248                  0                  1  ...                 1                 0\n",
              "249                  0                  0  ...                 0                 0\n",
              "\n",
              "[250 rows x 18 columns]"
            ]
          },
          "metadata": {},
          "execution_count": 14
        }
      ],
      "source": [
        "# After Label encoding - one issue that can arise is that the computer will think that these numerical lables are in a hierarchy. This will in turn give more priority with the\n",
        "#labels having a higher number. \n",
        "\n",
        "# In order to resolve this issue of hierarchy, we will convert these lables into dummy variables using get_dummies - here there is equal weightage given to all the labels and there is no bias. \n",
        "# get_dummies has basically taken every column and for each column it has marked 1 for exists and 0 for does not exist - these are basically binary vectors \n",
        "# This has marked 1 for each of the distinct categories P , A , N in every column. \n",
        "\n",
        "x = pd.get_dummies(x,columns= x.columns)\n",
        "x"
      ]
    },
    {
      "cell_type": "code",
      "source": [
        "x.dtypes"
      ],
      "metadata": {
        "colab": {
          "base_uri": "https://localhost:8080/"
        },
        "id": "8owdkbs0HZs6",
        "outputId": "af19c623-7aca-48ea-c5f2-eec7db1e5b2a"
      },
      "execution_count": null,
      "outputs": [
        {
          "output_type": "execute_result",
          "data": {
            "text/plain": [
              "Industrial Risk_0          uint8\n",
              "Industrial Risk_1          uint8\n",
              "Industrial Risk_2          uint8\n",
              "Management Risk_0          uint8\n",
              "Management Risk_1          uint8\n",
              "Management Risk_2          uint8\n",
              "Financial Flexibility_0    uint8\n",
              "Financial Flexibility_1    uint8\n",
              "Financial Flexibility_2    uint8\n",
              "Credibility_0              uint8\n",
              "Credibility_1              uint8\n",
              "Credibility_2              uint8\n",
              "Competitiveness_0          uint8\n",
              "Competitiveness_1          uint8\n",
              "Competitiveness_2          uint8\n",
              "Operating Risk_0           uint8\n",
              "Operating Risk_1           uint8\n",
              "Operating Risk_2           uint8\n",
              "dtype: object"
            ]
          },
          "metadata": {},
          "execution_count": 15
        }
      ]
    },
    {
      "cell_type": "markdown",
      "metadata": {
        "id": "_zu1I8F2yjv2"
      },
      "source": [
        "## Encoding the dependent feature too."
      ]
    },
    {
      "cell_type": "code",
      "execution_count": null,
      "metadata": {
        "colab": {
          "base_uri": "https://localhost:8080/"
        },
        "id": "fMm5Vadhyjv2",
        "outputId": "60729150-89c3-4faf-aa3b-5b71b3b166cd"
      },
      "outputs": [
        {
          "output_type": "stream",
          "name": "stderr",
          "text": [
            "/usr/local/lib/python3.7/dist-packages/pandas/core/indexing.py:1781: SettingWithCopyWarning: \n",
            "A value is trying to be set on a copy of a slice from a DataFrame.\n",
            "Try using .loc[row_indexer,col_indexer] = value instead\n",
            "\n",
            "See the caveats in the documentation: https://pandas.pydata.org/pandas-docs/stable/user_guide/indexing.html#returning-a-view-versus-a-copy\n",
            "  self.obj[item_labels[indexer[info_axis]]] = value\n"
          ]
        }
      ],
      "source": [
        "y.iloc[:,0] = LE.fit_transform(y.iloc[:,0])"
      ]
    },
    {
      "cell_type": "code",
      "execution_count": null,
      "metadata": {
        "colab": {
          "base_uri": "https://localhost:8080/",
          "height": 418
        },
        "id": "ldtj9ZKOyjv3",
        "outputId": "ab79e84a-9d16-4421-9f9a-e4c59bcaa76e"
      },
      "outputs": [
        {
          "output_type": "execute_result",
          "data": {
            "text/html": [
              "<div>\n",
              "<style scoped>\n",
              "    .dataframe tbody tr th:only-of-type {\n",
              "        vertical-align: middle;\n",
              "    }\n",
              "\n",
              "    .dataframe tbody tr th {\n",
              "        vertical-align: top;\n",
              "    }\n",
              "\n",
              "    .dataframe thead th {\n",
              "        text-align: right;\n",
              "    }\n",
              "</style>\n",
              "<table border=\"1\" class=\"dataframe\">\n",
              "  <thead>\n",
              "    <tr style=\"text-align: right;\">\n",
              "      <th></th>\n",
              "      <th>Class</th>\n",
              "    </tr>\n",
              "  </thead>\n",
              "  <tbody>\n",
              "    <tr>\n",
              "      <th>0</th>\n",
              "      <td>1</td>\n",
              "    </tr>\n",
              "    <tr>\n",
              "      <th>1</th>\n",
              "      <td>1</td>\n",
              "    </tr>\n",
              "    <tr>\n",
              "      <th>2</th>\n",
              "      <td>1</td>\n",
              "    </tr>\n",
              "    <tr>\n",
              "      <th>3</th>\n",
              "      <td>1</td>\n",
              "    </tr>\n",
              "    <tr>\n",
              "      <th>4</th>\n",
              "      <td>1</td>\n",
              "    </tr>\n",
              "    <tr>\n",
              "      <th>...</th>\n",
              "      <td>...</td>\n",
              "    </tr>\n",
              "    <tr>\n",
              "      <th>245</th>\n",
              "      <td>0</td>\n",
              "    </tr>\n",
              "    <tr>\n",
              "      <th>246</th>\n",
              "      <td>0</td>\n",
              "    </tr>\n",
              "    <tr>\n",
              "      <th>247</th>\n",
              "      <td>0</td>\n",
              "    </tr>\n",
              "    <tr>\n",
              "      <th>248</th>\n",
              "      <td>0</td>\n",
              "    </tr>\n",
              "    <tr>\n",
              "      <th>249</th>\n",
              "      <td>0</td>\n",
              "    </tr>\n",
              "  </tbody>\n",
              "</table>\n",
              "<p>250 rows × 1 columns</p>\n",
              "</div>"
            ],
            "text/plain": [
              "     Class\n",
              "0        1\n",
              "1        1\n",
              "2        1\n",
              "3        1\n",
              "4        1\n",
              "..     ...\n",
              "245      0\n",
              "246      0\n",
              "247      0\n",
              "248      0\n",
              "249      0\n",
              "\n",
              "[250 rows x 1 columns]"
            ]
          },
          "metadata": {},
          "execution_count": 13
        }
      ],
      "source": [
        "y"
      ]
    },
    {
      "cell_type": "markdown",
      "metadata": {
        "id": "-T8f3Sv8yjv3"
      },
      "source": [
        "## Splitting the dataset into training and test set."
      ]
    },
    {
      "cell_type": "code",
      "execution_count": null,
      "metadata": {
        "id": "yVBe0J68yjv4"
      },
      "outputs": [],
      "source": [
        "from sklearn.model_selection import train_test_split\n",
        "\n",
        "x_train, x_test, y_train, y_test = train_test_split(x,y,test_size=0.2,random_state=12345)"
      ]
    },
    {
      "cell_type": "code",
      "execution_count": null,
      "metadata": {
        "colab": {
          "base_uri": "https://localhost:8080/"
        },
        "id": "IpSCFWbhyjv4",
        "outputId": "588aa98b-edfa-46b6-a576-e8724d338d43"
      },
      "outputs": [
        {
          "output_type": "stream",
          "name": "stdout",
          "text": [
            "The shape of x_train is: (200, 18)\n",
            "The shape of y_train is: (200, 1)\n",
            "The shape of x_test is: (50, 18)\n",
            "The shape of y_test is: (50, 1)\n"
          ]
        }
      ],
      "source": [
        "print(\"The shape of x_train is:\",x_train.shape)\n",
        "print(\"The shape of y_train is:\",y_train.shape)\n",
        "print(\"The shape of x_test is:\",x_test.shape)\n",
        "print(\"The shape of y_test is:\",y_test.shape)"
      ]
    },
    {
      "cell_type": "markdown",
      "source": [
        "# Stage 2. PCA Algorithm"
      ],
      "metadata": {
        "id": "bW6NY7cYq6GH"
      }
    },
    {
      "cell_type": "markdown",
      "metadata": {
        "id": "aKxJp1eqyjv4"
      },
      "source": [
        "## Applying PCA on the independent features of the train data."
      ]
    },
    {
      "cell_type": "code",
      "execution_count": null,
      "metadata": {
        "id": "ewweLFfFyjv4"
      },
      "outputs": [],
      "source": [
        "# Using standard scalar to standardize the features on the dataset by scaling them to unit variance\n",
        "\n",
        "from sklearn.preprocessing import StandardScaler\n",
        "std = StandardScaler()\n",
        "x_train_std = std.fit_transform(x_train)\n",
        "x_test_std = std.fit_transform(x_test)"
      ]
    },
    {
      "cell_type": "code",
      "execution_count": null,
      "metadata": {
        "id": "WzQPYY5-yjv5"
      },
      "outputs": [],
      "source": [
        "from sklearn.decomposition import PCA"
      ]
    },
    {
      "cell_type": "code",
      "execution_count": null,
      "metadata": {
        "colab": {
          "base_uri": "https://localhost:8080/"
        },
        "id": "KXdijj6vyjv5",
        "outputId": "979da848-b54f-4556-bcf8-212c49887433"
      },
      "outputs": [
        {
          "output_type": "execute_result",
          "data": {
            "text/plain": [
              "PCA(random_state=12)"
            ]
          },
          "metadata": {},
          "execution_count": 20
        }
      ],
      "source": [
        "Pca = PCA(random_state = 12)\n",
        "Pca.fit(x_train_std)"
      ]
    },
    {
      "cell_type": "code",
      "execution_count": null,
      "metadata": {
        "colab": {
          "base_uri": "https://localhost:8080/"
        },
        "id": "7a4EWqljyjv6",
        "outputId": "c3f34d54-ca8e-4a76-af1c-19cb41507e54"
      },
      "outputs": [
        {
          "output_type": "execute_result",
          "data": {
            "text/plain": [
              "18"
            ]
          },
          "metadata": {},
          "execution_count": 21
        }
      ],
      "source": [
        "# Checking number of PCA components\n",
        "\n",
        "Pca.n_components_"
      ]
    },
    {
      "cell_type": "code",
      "source": [
        "# Printing to check the values for the 18 PCA components\n",
        "\n",
        "print(Pca.components_)"
      ],
      "metadata": {
        "colab": {
          "base_uri": "https://localhost:8080/"
        },
        "id": "ecgV0ecTzgIP",
        "outputId": "5729fe92-bcd7-4aff-ffaa-83c0a20ea7b8"
      },
      "execution_count": null,
      "outputs": [
        {
          "output_type": "stream",
          "name": "stdout",
          "text": [
            "[[-0.09188721  0.14646499 -0.0538946  -0.0988248   0.26683107 -0.20754208\n",
            "  -0.25285351  0.39390362 -0.19171752 -0.1385109   0.37574522 -0.25420548\n",
            "  -0.18724338  0.42024835 -0.26568496 -0.01740286  0.20192233 -0.19745318]\n",
            " [ 0.47255617 -0.35852026 -0.11754938  0.48821774 -0.29316532 -0.17324314\n",
            "   0.03465756  0.12972706 -0.18691929 -0.16366466  0.15385083 -0.00087683\n",
            "  -0.10298229  0.06836228  0.02171869  0.33698893 -0.18565263 -0.11320529]\n",
            " [-0.13884697  0.19036977 -0.05049046  0.17045719  0.04039955 -0.22740618\n",
            "  -0.22883097 -0.11888439  0.37813891 -0.10397209 -0.05793423  0.16013833\n",
            "  -0.42629289 -0.09040152  0.47492541  0.15573951  0.20424772 -0.35889985]\n",
            " [-0.19211476 -0.38876395  0.5823071   0.15557123 -0.26361155  0.14379827\n",
            "  -0.08927562  0.0190402   0.07160724 -0.20135187  0.23315892 -0.04637549\n",
            "  -0.15759485  0.03846086  0.10145252 -0.38638161  0.21238285  0.13030628]\n",
            " [ 0.02436989 -0.14277669  0.1182256   0.09161116 -0.04852753 -0.04008865\n",
            "  -0.26496949 -0.02509091  0.30722586  0.64007014 -0.02557442 -0.59127721\n",
            "   0.01538532  0.01004088 -0.02412995  0.13348736 -0.08932351 -0.02815971]\n",
            " [ 0.37254648  0.03643792 -0.4117543  -0.04243233 -0.30208402  0.3980669\n",
            "  -0.0193859   0.00459822  0.01501116  0.14669438 -0.08739839 -0.05134346\n",
            "  -0.12013019  0.10506986 -0.00077841 -0.35908672  0.47245466 -0.16965523]\n",
            " [-0.09547615 -0.06016145  0.15634747  0.17355911  0.08924207 -0.28779482\n",
            "   0.47816244 -0.25048613 -0.21119439  0.12690383  0.01136048 -0.13419111\n",
            "   0.25318806 -0.12566861 -0.09712221 -0.01346152  0.43098606 -0.44319443]\n",
            " [ 0.18295782 -0.25864199  0.07432386 -0.20114451  0.08561483  0.11249722\n",
            "  -0.35724476 -0.01095467  0.38767234 -0.25259715  0.06099354  0.1807981\n",
            "   0.46170024 -0.13523028 -0.27396636  0.18111622  0.13757325 -0.3117267 ]\n",
            " [ 0.03709206  0.18529255 -0.22266039  0.43708657 -0.01461525 -0.44489864\n",
            "  -0.13930634 -0.12886728  0.29575967 -0.07756365  0.02500243  0.04904079\n",
            "   0.23629277  0.02861051 -0.2410809  -0.41052541  0.04640396  0.32791737]\n",
            " [ 0.43125071 -0.42204203 -0.01241505 -0.28626912  0.5193667  -0.30470069\n",
            "   0.04529872 -0.04422598  0.0037775   0.05305788 -0.05526066  0.0058423\n",
            "  -0.17894618 -0.06428002  0.22651328 -0.25008294  0.05975209  0.16648132]\n",
            " [ 0.07729058  0.10914502 -0.18701026 -0.14966793  0.01238699  0.14371094\n",
            "   0.25161457 -0.42148157  0.22502102 -0.26742693  0.60564658 -0.3671199\n",
            "  -0.0284358  -0.07486165  0.10265624  0.05706951 -0.11768641  0.0719911 ]\n",
            " [ 0.01123919 -0.11981893  0.10849617 -0.04267419  0.01851718  0.02345383\n",
            "   0.208429   -0.40405529  0.25012558  0.02151601 -0.19806205  0.18369024\n",
            "  -0.29551392  0.618195   -0.3728537   0.11703061 -0.07141008 -0.03198287]\n",
            " [ 0.01359191  0.0134916   0.0134916  -0.19403431 -0.21464933 -0.18357583\n",
            "  -0.06460669 -0.07143135 -0.06155432 -0.17358349 -0.18568118 -0.17987657\n",
            "  -0.25886683 -0.29811369 -0.28910439 -0.38945453 -0.44830326 -0.42412494]\n",
            " [-0.35300861 -0.35040335 -0.35040335 -0.19124811 -0.21156711 -0.1809398\n",
            "  -0.15134428 -0.16733139 -0.14419396 -0.08544473 -0.0913997  -0.08854244\n",
            "   0.33066188  0.3807936   0.36928563 -0.09218991 -0.10612031 -0.10039693]\n",
            " [ 0.20160308  0.20011522  0.20011522 -0.27994603 -0.30968867 -0.2648569\n",
            "  -0.02603388 -0.02878395 -0.0248039   0.41815856  0.4473016   0.43331845\n",
            "   0.09642932  0.111049    0.10769298 -0.10236152 -0.11782891 -0.11147405]\n",
            " [-0.07391576 -0.07337025 -0.07337025 -0.39099141 -0.43253198 -0.36991691\n",
            "   0.03948454  0.04365546  0.03761908 -0.08661735 -0.09265404 -0.08975757\n",
            "  -0.17919265 -0.2063601  -0.20012368  0.32163249  0.37023294  0.35026518]\n",
            " [-0.38589268 -0.38304473 -0.38304473  0.113102    0.12511843  0.10700578\n",
            "  -0.06468152 -0.0715141  -0.06162562  0.30104805  0.32202923  0.31196223\n",
            "  -0.24394551 -0.28093015 -0.27244015 -0.00983666 -0.01132304 -0.01071235]\n",
            " [ 0.12966626  0.1287093   0.1287093   0.04864687  0.05381532  0.0460248\n",
            "  -0.53476355 -0.5912528  -0.50949845 -0.01801237 -0.01926772 -0.01866539\n",
            "  -0.0507257  -0.05841624 -0.05665084  0.10306314  0.11863655  0.11223813]]\n"
          ]
        }
      ]
    },
    {
      "cell_type": "code",
      "source": [
        "# This explains the variance among 18 PCA components \n",
        "\n",
        "print(Pca.explained_variance_)"
      ],
      "metadata": {
        "colab": {
          "base_uri": "https://localhost:8080/"
        },
        "id": "XCG7WemvzrxA",
        "outputId": "764da928-a415-437f-f6de-2b227000968d"
      },
      "execution_count": null,
      "outputs": [
        {
          "output_type": "stream",
          "name": "stdout",
          "text": [
            "[4.74284560e+00 2.13909829e+00 1.90424209e+00 1.79233950e+00\n",
            " 1.48311285e+00 1.34313376e+00 1.25946303e+00 1.07493802e+00\n",
            " 9.40927056e-01 7.84188119e-01 4.21303931e-01 2.04860015e-01\n",
            " 2.79861477e-31 2.20476897e-31 1.29209331e-31 8.09042142e-32\n",
            " 5.62474217e-32 2.78521261e-32]\n"
          ]
        }
      ]
    },
    {
      "cell_type": "markdown",
      "metadata": {
        "id": "f-eUVyJgyjv6"
      },
      "source": [
        "## Displaying elbow plot to find the reduced number of dimensions."
      ]
    },
    {
      "cell_type": "code",
      "execution_count": null,
      "metadata": {
        "colab": {
          "base_uri": "https://localhost:8080/",
          "height": 279
        },
        "id": "sz-WhDmjyjv6",
        "outputId": "0a819b8e-04d4-4a11-9c43-cfbcef6fa6d7"
      },
      "outputs": [
        {
          "output_type": "display_data",
          "data": {
            "image/png": "[encoded data removed]",
            "text/plain": [
              "<Figure size 432x288 with 1 Axes>"
            ]
          },
          "metadata": {
            "needs_background": "light"
          }
        }
      ],
      "source": [
        "import matplotlib.pyplot as plt\n",
        "%matplotlib inline\n",
        "import numpy as np\n",
        "plt.plot(range(0,Pca.n_components_),np.cumsum(Pca.explained_variance_ratio_),marker='o')\n",
        "plt.xlabel(\"Number of components\")\n",
        "plt.ylabel(\"Explained variance\")\n",
        "plt.grid()\n",
        "plt.show()"
      ]
    },
    {
      "cell_type": "code",
      "execution_count": null,
      "metadata": {
        "colab": {
          "base_uri": "https://localhost:8080/",
          "height": 265
        },
        "id": "PgKnsQdFyjv6",
        "outputId": "1ff41a9f-0ce9-4d6f-c5ba-f68b19e5cdf9"
      },
      "outputs": [
        {
          "output_type": "display_data",
          "data": {
            "image/png": "[encoded data removed]",
            "text/plain": [
              "<Figure size 432x288 with 1 Axes>"
            ]
          },
          "metadata": {
            "needs_background": "light"
          }
        }
      ],
      "source": [
        "plt.step(range(0,Pca.n_components_),np.cumsum(Pca.explained_variance_ratio_))\n",
        "plt.bar(range(0,Pca.n_components_),Pca.explained_variance_ratio_)\n",
        "plt.grid()"
      ]
    },
    {
      "cell_type": "markdown",
      "metadata": {
        "id": "IsVMmr-oyjv7"
      },
      "source": [
        "## Here we can see that there are 10 PCA components representing approximately 90% of the data, therefore these 10 components seem to be the appropriate PCA components to reduce the dimension space to.   "
      ]
    },
    {
      "cell_type": "markdown",
      "metadata": {
        "id": "PcTNyT4Yyjv7"
      },
      "source": [
        "## Transforming the data using PCA."
      ]
    },
    {
      "cell_type": "code",
      "execution_count": null,
      "metadata": {
        "id": "OcFK0muMyjv7",
        "colab": {
          "base_uri": "https://localhost:8080/"
        },
        "outputId": "475986d1-1cd6-48a7-fff2-c8bf2107fdaf"
      },
      "outputs": [
        {
          "output_type": "stream",
          "name": "stdout",
          "text": [
            "original shape:    (200, 18)\n",
            "transformed shape: (200, 10)\n"
          ]
        }
      ],
      "source": [
        "# Here we reduce the dimensions to 10 as we found in the elbow plot and compare the original dimensions with the new dimension space in the training data\n",
        "# I won’t use the Y when creating the principal components. Because I don’t want the PCA algorithm to know which class (digit) a particular row belongs to\n",
        "Pca = PCA(n_components = 10, random_state = 12345)\n",
        "x_train_std_Pca = Pca.fit_transform(x_train_std)\n",
        "print(\"original shape:   \", x_train_std.shape)\n",
        "print(\"transformed shape:\", x_train_std_Pca.shape)"
      ]
    },
    {
      "cell_type": "code",
      "execution_count": null,
      "metadata": {
        "id": "hG2Ias6_yjv8"
      },
      "outputs": [],
      "source": [
        "x_train_std_Pca = pd.DataFrame(x_train_std_Pca)"
      ]
    },
    {
      "cell_type": "code",
      "source": [
        "# Verifying if the number of componenets in the dimension space has been reduced to 10\n",
        "\n",
        "Pca.n_components_"
      ],
      "metadata": {
        "colab": {
          "base_uri": "https://localhost:8080/"
        },
        "id": "9u0r0m_h1Otc",
        "outputId": "2ce95c0c-0ba0-4aa4-c718-c2eb7df6f4a5"
      },
      "execution_count": null,
      "outputs": [
        {
          "output_type": "execute_result",
          "data": {
            "text/plain": [
              "10"
            ]
          },
          "metadata": {},
          "execution_count": 28
        }
      ]
    },
    {
      "cell_type": "code",
      "source": [
        "# Cheking the explained variance among 10 PCA componenets \n",
        "\n",
        "Pca.explained_variance_"
      ],
      "metadata": {
        "colab": {
          "base_uri": "https://localhost:8080/"
        },
        "id": "l9EnjnZH1fww",
        "outputId": "8234cff5-acff-44cf-a65f-7061b25dde4c"
      },
      "execution_count": null,
      "outputs": [
        {
          "output_type": "execute_result",
          "data": {
            "text/plain": [
              "array([4.7428456 , 2.13909829, 1.90424209, 1.7923395 , 1.48311285,\n",
              "       1.34313376, 1.25946303, 1.07493802, 0.94092706, 0.78418812])"
            ]
          },
          "metadata": {},
          "execution_count": 29
        }
      ]
    },
    {
      "cell_type": "code",
      "source": [
        "# Checking 10 PCA components values\n",
        "\n",
        "Pca.components_"
      ],
      "metadata": {
        "colab": {
          "base_uri": "https://localhost:8080/"
        },
        "id": "HUkwcp_O1_Ut",
        "outputId": "39d20b86-3351-4cbc-810e-72fcc34cdc14"
      },
      "execution_count": null,
      "outputs": [
        {
          "output_type": "execute_result",
          "data": {
            "text/plain": [
              "array([[-0.09188721,  0.14646499, -0.0538946 , -0.0988248 ,  0.26683107,\n",
              "        -0.20754208, -0.25285351,  0.39390362, -0.19171752, -0.1385109 ,\n",
              "         0.37574522, -0.25420548, -0.18724338,  0.42024835, -0.26568496,\n",
              "        -0.01740286,  0.20192233, -0.19745318],\n",
              "       [ 0.47255617, -0.35852026, -0.11754938,  0.48821774, -0.29316532,\n",
              "        -0.17324314,  0.03465756,  0.12972706, -0.18691929, -0.16366466,\n",
              "         0.15385083, -0.00087683, -0.10298229,  0.06836228,  0.02171869,\n",
              "         0.33698893, -0.18565263, -0.11320529],\n",
              "       [-0.13884697,  0.19036977, -0.05049046,  0.17045719,  0.04039955,\n",
              "        -0.22740618, -0.22883097, -0.11888439,  0.37813891, -0.10397209,\n",
              "        -0.05793423,  0.16013833, -0.42629289, -0.09040152,  0.47492541,\n",
              "         0.15573951,  0.20424772, -0.35889985],\n",
              "       [-0.19211476, -0.38876395,  0.5823071 ,  0.15557123, -0.26361155,\n",
              "         0.14379827, -0.08927562,  0.0190402 ,  0.07160724, -0.20135187,\n",
              "         0.23315892, -0.04637549, -0.15759485,  0.03846086,  0.10145252,\n",
              "        -0.38638161,  0.21238285,  0.13030628],\n",
              "       [ 0.02436989, -0.14277669,  0.1182256 ,  0.09161116, -0.04852753,\n",
              "        -0.04008865, -0.26496949, -0.02509091,  0.30722586,  0.64007014,\n",
              "        -0.02557442, -0.59127721,  0.01538532,  0.01004088, -0.02412995,\n",
              "         0.13348736, -0.08932351, -0.02815971],\n",
              "       [ 0.37254648,  0.03643792, -0.4117543 , -0.04243233, -0.30208402,\n",
              "         0.3980669 , -0.0193859 ,  0.00459822,  0.01501116,  0.14669438,\n",
              "        -0.08739839, -0.05134346, -0.12013019,  0.10506986, -0.00077841,\n",
              "        -0.35908672,  0.47245466, -0.16965523],\n",
              "       [-0.09547615, -0.06016145,  0.15634747,  0.17355911,  0.08924207,\n",
              "        -0.28779482,  0.47816244, -0.25048613, -0.21119439,  0.12690383,\n",
              "         0.01136048, -0.13419111,  0.25318806, -0.12566861, -0.09712221,\n",
              "        -0.01346152,  0.43098606, -0.44319443],\n",
              "       [ 0.18295782, -0.25864199,  0.07432386, -0.20114451,  0.08561483,\n",
              "         0.11249722, -0.35724476, -0.01095467,  0.38767234, -0.25259715,\n",
              "         0.06099354,  0.1807981 ,  0.46170024, -0.13523028, -0.27396636,\n",
              "         0.18111622,  0.13757325, -0.3117267 ],\n",
              "       [ 0.03709206,  0.18529255, -0.22266039,  0.43708657, -0.01461525,\n",
              "        -0.44489864, -0.13930634, -0.12886728,  0.29575967, -0.07756365,\n",
              "         0.02500243,  0.04904079,  0.23629277,  0.02861051, -0.2410809 ,\n",
              "        -0.41052541,  0.04640396,  0.32791737],\n",
              "       [ 0.43125071, -0.42204203, -0.01241505, -0.28626912,  0.5193667 ,\n",
              "        -0.30470069,  0.04529872, -0.04422598,  0.0037775 ,  0.05305788,\n",
              "        -0.05526066,  0.0058423 , -0.17894618, -0.06428002,  0.22651328,\n",
              "        -0.25008294,  0.05975209,  0.16648132]])"
            ]
          },
          "metadata": {},
          "execution_count": 30
        }
      ]
    },
    {
      "cell_type": "markdown",
      "source": [
        "# Stage 3. K-Means Algorithm"
      ],
      "metadata": {
        "id": "JAdo9BLarRDJ"
      }
    },
    {
      "cell_type": "markdown",
      "metadata": {
        "id": "G7444a9uyjv8"
      },
      "source": [
        "## Applying KMeans algorithm on the above transformed data."
      ]
    },
    {
      "cell_type": "code",
      "execution_count": null,
      "metadata": {
        "colab": {
          "base_uri": "https://localhost:8080/",
          "height": 327
        },
        "id": "dUFPoemUyjv8",
        "outputId": "bb2d87de-6396-4e51-9f5c-3af1fdb86dce"
      },
      "outputs": [
        {
          "output_type": "execute_result",
          "data": {
            "text/html": [
              "<div>\n",
              "<style scoped>\n",
              "    .dataframe tbody tr th:only-of-type {\n",
              "        vertical-align: middle;\n",
              "    }\n",
              "\n",
              "    .dataframe tbody tr th {\n",
              "        vertical-align: top;\n",
              "    }\n",
              "\n",
              "    .dataframe thead th {\n",
              "        text-align: right;\n",
              "    }\n",
              "</style>\n",
              "<table border=\"1\" class=\"dataframe\">\n",
              "  <thead>\n",
              "    <tr style=\"text-align: right;\">\n",
              "      <th></th>\n",
              "      <th>num_clusters</th>\n",
              "      <th>cluster_errors</th>\n",
              "    </tr>\n",
              "  </thead>\n",
              "  <tbody>\n",
              "    <tr>\n",
              "      <th>0</th>\n",
              "      <td>1</td>\n",
              "      <td>3475.393375</td>\n",
              "    </tr>\n",
              "    <tr>\n",
              "      <th>1</th>\n",
              "      <td>2</td>\n",
              "      <td>2632.816767</td>\n",
              "    </tr>\n",
              "    <tr>\n",
              "      <th>2</th>\n",
              "      <td>3</td>\n",
              "      <td>2353.739040</td>\n",
              "    </tr>\n",
              "    <tr>\n",
              "      <th>3</th>\n",
              "      <td>4</td>\n",
              "      <td>2143.707943</td>\n",
              "    </tr>\n",
              "    <tr>\n",
              "      <th>4</th>\n",
              "      <td>5</td>\n",
              "      <td>1968.279224</td>\n",
              "    </tr>\n",
              "    <tr>\n",
              "      <th>5</th>\n",
              "      <td>6</td>\n",
              "      <td>1843.796641</td>\n",
              "    </tr>\n",
              "    <tr>\n",
              "      <th>6</th>\n",
              "      <td>7</td>\n",
              "      <td>1724.898808</td>\n",
              "    </tr>\n",
              "    <tr>\n",
              "      <th>7</th>\n",
              "      <td>8</td>\n",
              "      <td>1639.266537</td>\n",
              "    </tr>\n",
              "    <tr>\n",
              "      <th>8</th>\n",
              "      <td>9</td>\n",
              "      <td>1544.956136</td>\n",
              "    </tr>\n",
              "  </tbody>\n",
              "</table>\n",
              "</div>"
            ],
            "text/plain": [
              "   num_clusters  cluster_errors\n",
              "0             1     3475.393375\n",
              "1             2     2632.816767\n",
              "2             3     2353.739040\n",
              "3             4     2143.707943\n",
              "4             5     1968.279224\n",
              "5             6     1843.796641\n",
              "6             7     1724.898808\n",
              "7             8     1639.266537\n",
              "8             9     1544.956136"
            ]
          },
          "metadata": {},
          "execution_count": 31
        }
      ],
      "source": [
        "cluster_errors = []\n",
        "distortion = []\n",
        "\n",
        "from sklearn.cluster import KMeans\n",
        "from sklearn import metrics\n",
        "from scipy.spatial import distance\n",
        "\n",
        "#importing cluster of diff. sizes to check for erros\n",
        "\n",
        "cluster_range = range(1,10)\n",
        "\n",
        "for i in cluster_range:\n",
        "    clusters = KMeans(i, n_init = 5)\n",
        "    clusters.fit(x_train_std_Pca)\n",
        "    labels = clusters.labels_\n",
        "    centroids = clusters.cluster_centers_\n",
        "    cluster_errors.append(clusters.inertia_)\n",
        "    distortion.append(sum(np.min(distance.cdist(x_train_std_Pca, centroids, 'euclidean'), axis = 1))/ x_train_std_Pca.shape[0])\n",
        "    \n",
        "clusters_df= pd.DataFrame( { \"num_clusters\":cluster_range, \"cluster_errors\": cluster_errors} )\n",
        "clusters_df.head(10)"
      ]
    },
    {
      "cell_type": "markdown",
      "metadata": {
        "id": "GyK9Arn_yjv8"
      },
      "source": [
        "## Selecting the optimal number of clusters and forming clusters out of train data."
      ]
    },
    {
      "cell_type": "code",
      "execution_count": null,
      "metadata": {
        "colab": {
          "base_uri": "https://localhost:8080/",
          "height": 279
        },
        "id": "akVZBQdeyjv9",
        "outputId": "68843d3c-008d-4e29-c94c-7698338f4acd"
      },
      "outputs": [
        {
          "output_type": "display_data",
          "data": {
            "image/png": "[encoded data removed]",
            "text/plain": [
              "<Figure size 432x288 with 1 Axes>"
            ]
          },
          "metadata": {
            "needs_background": "light"
          }
        }
      ],
      "source": [
        "plt.plot(clusters_df.num_clusters,clusters_df.cluster_errors,marker='o')\n",
        "plt.xlabel('No of clusters')\n",
        "plt.ylabel('cluster error')\n",
        "plt.grid()"
      ]
    },
    {
      "cell_type": "markdown",
      "metadata": {
        "id": "pSk0VvCmyjv9"
      },
      "source": [
        "## Looking at the Elbow Plot we can see that there are 4 optimal clusters in the data \n",
        "\n"
      ]
    },
    {
      "cell_type": "code",
      "execution_count": null,
      "metadata": {
        "id": "y72T8z2Dyjv9"
      },
      "outputs": [],
      "source": [
        "Final_clusters = KMeans(n_clusters = 4, n_init = 4)\n",
        "Final_clusters.fit(x_train_std_Pca)\n",
        "labels = Final_clusters.labels_"
      ]
    },
    {
      "cell_type": "code",
      "execution_count": null,
      "metadata": {
        "colab": {
          "base_uri": "https://localhost:8080/",
          "height": 418
        },
        "id": "X7sQwYnoyjv9",
        "outputId": "ec9a6143-ff7e-428b-c82b-376aca454bc6"
      },
      "outputs": [
        {
          "output_type": "execute_result",
          "data": {
            "text/html": [
              "<div>\n",
              "<style scoped>\n",
              "    .dataframe tbody tr th:only-of-type {\n",
              "        vertical-align: middle;\n",
              "    }\n",
              "\n",
              "    .dataframe tbody tr th {\n",
              "        vertical-align: top;\n",
              "    }\n",
              "\n",
              "    .dataframe thead th {\n",
              "        text-align: right;\n",
              "    }\n",
              "</style>\n",
              "<table border=\"1\" class=\"dataframe\">\n",
              "  <thead>\n",
              "    <tr style=\"text-align: right;\">\n",
              "      <th></th>\n",
              "      <th>0</th>\n",
              "      <th>1</th>\n",
              "      <th>2</th>\n",
              "      <th>3</th>\n",
              "      <th>4</th>\n",
              "      <th>5</th>\n",
              "      <th>6</th>\n",
              "      <th>7</th>\n",
              "      <th>8</th>\n",
              "      <th>9</th>\n",
              "    </tr>\n",
              "  </thead>\n",
              "  <tbody>\n",
              "    <tr>\n",
              "      <th>0</th>\n",
              "      <td>2.134214</td>\n",
              "      <td>-0.319978</td>\n",
              "      <td>-1.361100</td>\n",
              "      <td>1.562808</td>\n",
              "      <td>0.085764</td>\n",
              "      <td>-1.811120</td>\n",
              "      <td>-1.167633</td>\n",
              "      <td>-0.477127</td>\n",
              "      <td>0.059051</td>\n",
              "      <td>0.868368</td>\n",
              "    </tr>\n",
              "    <tr>\n",
              "      <th>1</th>\n",
              "      <td>1.862059</td>\n",
              "      <td>-0.484865</td>\n",
              "      <td>0.169737</td>\n",
              "      <td>-2.603051</td>\n",
              "      <td>1.364461</td>\n",
              "      <td>-0.827302</td>\n",
              "      <td>-0.456877</td>\n",
              "      <td>-0.780913</td>\n",
              "      <td>-0.950436</td>\n",
              "      <td>-0.708922</td>\n",
              "    </tr>\n",
              "    <tr>\n",
              "      <th>2</th>\n",
              "      <td>-0.567225</td>\n",
              "      <td>-1.847852</td>\n",
              "      <td>-0.293183</td>\n",
              "      <td>-1.613688</td>\n",
              "      <td>-2.315484</td>\n",
              "      <td>-0.017622</td>\n",
              "      <td>2.289386</td>\n",
              "      <td>0.603597</td>\n",
              "      <td>0.817742</td>\n",
              "      <td>-0.210604</td>\n",
              "    </tr>\n",
              "    <tr>\n",
              "      <th>3</th>\n",
              "      <td>2.075016</td>\n",
              "      <td>-1.284581</td>\n",
              "      <td>0.789884</td>\n",
              "      <td>-0.930569</td>\n",
              "      <td>-1.794389</td>\n",
              "      <td>0.529445</td>\n",
              "      <td>-0.120086</td>\n",
              "      <td>0.017031</td>\n",
              "      <td>0.373042</td>\n",
              "      <td>-0.111263</td>\n",
              "    </tr>\n",
              "    <tr>\n",
              "      <th>4</th>\n",
              "      <td>-0.452854</td>\n",
              "      <td>-2.359235</td>\n",
              "      <td>1.092952</td>\n",
              "      <td>-1.249425</td>\n",
              "      <td>-1.014174</td>\n",
              "      <td>0.060225</td>\n",
              "      <td>0.739082</td>\n",
              "      <td>2.296367</td>\n",
              "      <td>1.814015</td>\n",
              "      <td>-0.302169</td>\n",
              "    </tr>\n",
              "    <tr>\n",
              "      <th>...</th>\n",
              "      <td>...</td>\n",
              "      <td>...</td>\n",
              "      <td>...</td>\n",
              "      <td>...</td>\n",
              "      <td>...</td>\n",
              "      <td>...</td>\n",
              "      <td>...</td>\n",
              "      <td>...</td>\n",
              "      <td>...</td>\n",
              "      <td>...</td>\n",
              "    </tr>\n",
              "    <tr>\n",
              "      <th>195</th>\n",
              "      <td>2.210393</td>\n",
              "      <td>1.215315</td>\n",
              "      <td>0.114431</td>\n",
              "      <td>2.586103</td>\n",
              "      <td>0.265582</td>\n",
              "      <td>0.016335</td>\n",
              "      <td>0.854923</td>\n",
              "      <td>-0.150725</td>\n",
              "      <td>0.450192</td>\n",
              "      <td>-1.040578</td>\n",
              "    </tr>\n",
              "    <tr>\n",
              "      <th>196</th>\n",
              "      <td>-2.274264</td>\n",
              "      <td>2.739307</td>\n",
              "      <td>-0.744888</td>\n",
              "      <td>-1.647316</td>\n",
              "      <td>-1.169480</td>\n",
              "      <td>-0.586966</td>\n",
              "      <td>1.519706</td>\n",
              "      <td>1.066075</td>\n",
              "      <td>0.451261</td>\n",
              "      <td>-0.779035</td>\n",
              "    </tr>\n",
              "    <tr>\n",
              "      <th>197</th>\n",
              "      <td>-1.591740</td>\n",
              "      <td>-1.891149</td>\n",
              "      <td>2.473452</td>\n",
              "      <td>0.196862</td>\n",
              "      <td>-1.097478</td>\n",
              "      <td>1.876858</td>\n",
              "      <td>-0.909942</td>\n",
              "      <td>0.732887</td>\n",
              "      <td>-0.257146</td>\n",
              "      <td>-1.161752</td>\n",
              "    </tr>\n",
              "    <tr>\n",
              "      <th>198</th>\n",
              "      <td>2.131036</td>\n",
              "      <td>2.462874</td>\n",
              "      <td>-0.071297</td>\n",
              "      <td>0.942158</td>\n",
              "      <td>0.065596</td>\n",
              "      <td>1.678458</td>\n",
              "      <td>0.320869</td>\n",
              "      <td>0.077434</td>\n",
              "      <td>1.002024</td>\n",
              "      <td>-0.103804</td>\n",
              "    </tr>\n",
              "    <tr>\n",
              "      <th>199</th>\n",
              "      <td>1.807065</td>\n",
              "      <td>0.836144</td>\n",
              "      <td>-0.552157</td>\n",
              "      <td>0.370148</td>\n",
              "      <td>-0.169190</td>\n",
              "      <td>-0.347025</td>\n",
              "      <td>-1.422311</td>\n",
              "      <td>-1.802276</td>\n",
              "      <td>1.924171</td>\n",
              "      <td>-1.676979</td>\n",
              "    </tr>\n",
              "  </tbody>\n",
              "</table>\n",
              "<p>200 rows × 10 columns</p>\n",
              "</div>"
            ],
            "text/plain": [
              "            0         1         2  ...         7         8         9\n",
              "0    2.134214 -0.319978 -1.361100  ... -0.477127  0.059051  0.868368\n",
              "1    1.862059 -0.484865  0.169737  ... -0.780913 -0.950436 -0.708922\n",
              "2   -0.567225 -1.847852 -0.293183  ...  0.603597  0.817742 -0.210604\n",
              "3    2.075016 -1.284581  0.789884  ...  0.017031  0.373042 -0.111263\n",
              "4   -0.452854 -2.359235  1.092952  ...  2.296367  1.814015 -0.302169\n",
              "..        ...       ...       ...  ...       ...       ...       ...\n",
              "195  2.210393  1.215315  0.114431  ... -0.150725  0.450192 -1.040578\n",
              "196 -2.274264  2.739307 -0.744888  ...  1.066075  0.451261 -0.779035\n",
              "197 -1.591740 -1.891149  2.473452  ...  0.732887 -0.257146 -1.161752\n",
              "198  2.131036  2.462874 -0.071297  ...  0.077434  1.002024 -0.103804\n",
              "199  1.807065  0.836144 -0.552157  ... -1.802276  1.924171 -1.676979\n",
              "\n",
              "[200 rows x 10 columns]"
            ]
          },
          "metadata": {},
          "execution_count": 34
        }
      ],
      "source": [
        "x_train_std_Pca"
      ]
    },
    {
      "cell_type": "markdown",
      "metadata": {
        "id": "fc5VqI7Qyjv-"
      },
      "source": [
        "## Creating a new column in the train data and populating it with the cluster labels."
      ]
    },
    {
      "cell_type": "code",
      "execution_count": null,
      "metadata": {
        "id": "N14tJzaayjv-"
      },
      "outputs": [],
      "source": [
        "x_train_std_Pca['clusterlabels'] = labels"
      ]
    },
    {
      "cell_type": "code",
      "execution_count": null,
      "metadata": {
        "colab": {
          "base_uri": "https://localhost:8080/",
          "height": 418
        },
        "id": "JgPH312Xyjv-",
        "outputId": "b3a319e3-5116-42b3-f085-4b3bbe42c442"
      },
      "outputs": [
        {
          "output_type": "execute_result",
          "data": {
            "text/html": [
              "<div>\n",
              "<style scoped>\n",
              "    .dataframe tbody tr th:only-of-type {\n",
              "        vertical-align: middle;\n",
              "    }\n",
              "\n",
              "    .dataframe tbody tr th {\n",
              "        vertical-align: top;\n",
              "    }\n",
              "\n",
              "    .dataframe thead th {\n",
              "        text-align: right;\n",
              "    }\n",
              "</style>\n",
              "<table border=\"1\" class=\"dataframe\">\n",
              "  <thead>\n",
              "    <tr style=\"text-align: right;\">\n",
              "      <th></th>\n",
              "      <th>0</th>\n",
              "      <th>1</th>\n",
              "      <th>2</th>\n",
              "      <th>3</th>\n",
              "      <th>4</th>\n",
              "      <th>5</th>\n",
              "      <th>6</th>\n",
              "      <th>7</th>\n",
              "      <th>8</th>\n",
              "      <th>9</th>\n",
              "      <th>clusterlabels</th>\n",
              "    </tr>\n",
              "  </thead>\n",
              "  <tbody>\n",
              "    <tr>\n",
              "      <th>0</th>\n",
              "      <td>2.134214</td>\n",
              "      <td>-0.319978</td>\n",
              "      <td>-1.361100</td>\n",
              "      <td>1.562808</td>\n",
              "      <td>0.085764</td>\n",
              "      <td>-1.811120</td>\n",
              "      <td>-1.167633</td>\n",
              "      <td>-0.477127</td>\n",
              "      <td>0.059051</td>\n",
              "      <td>0.868368</td>\n",
              "      <td>0</td>\n",
              "    </tr>\n",
              "    <tr>\n",
              "      <th>1</th>\n",
              "      <td>1.862059</td>\n",
              "      <td>-0.484865</td>\n",
              "      <td>0.169737</td>\n",
              "      <td>-2.603051</td>\n",
              "      <td>1.364461</td>\n",
              "      <td>-0.827302</td>\n",
              "      <td>-0.456877</td>\n",
              "      <td>-0.780913</td>\n",
              "      <td>-0.950436</td>\n",
              "      <td>-0.708922</td>\n",
              "      <td>0</td>\n",
              "    </tr>\n",
              "    <tr>\n",
              "      <th>2</th>\n",
              "      <td>-0.567225</td>\n",
              "      <td>-1.847852</td>\n",
              "      <td>-0.293183</td>\n",
              "      <td>-1.613688</td>\n",
              "      <td>-2.315484</td>\n",
              "      <td>-0.017622</td>\n",
              "      <td>2.289386</td>\n",
              "      <td>0.603597</td>\n",
              "      <td>0.817742</td>\n",
              "      <td>-0.210604</td>\n",
              "      <td>2</td>\n",
              "    </tr>\n",
              "    <tr>\n",
              "      <th>3</th>\n",
              "      <td>2.075016</td>\n",
              "      <td>-1.284581</td>\n",
              "      <td>0.789884</td>\n",
              "      <td>-0.930569</td>\n",
              "      <td>-1.794389</td>\n",
              "      <td>0.529445</td>\n",
              "      <td>-0.120086</td>\n",
              "      <td>0.017031</td>\n",
              "      <td>0.373042</td>\n",
              "      <td>-0.111263</td>\n",
              "      <td>0</td>\n",
              "    </tr>\n",
              "    <tr>\n",
              "      <th>4</th>\n",
              "      <td>-0.452854</td>\n",
              "      <td>-2.359235</td>\n",
              "      <td>1.092952</td>\n",
              "      <td>-1.249425</td>\n",
              "      <td>-1.014174</td>\n",
              "      <td>0.060225</td>\n",
              "      <td>0.739082</td>\n",
              "      <td>2.296367</td>\n",
              "      <td>1.814015</td>\n",
              "      <td>-0.302169</td>\n",
              "      <td>3</td>\n",
              "    </tr>\n",
              "    <tr>\n",
              "      <th>...</th>\n",
              "      <td>...</td>\n",
              "      <td>...</td>\n",
              "      <td>...</td>\n",
              "      <td>...</td>\n",
              "      <td>...</td>\n",
              "      <td>...</td>\n",
              "      <td>...</td>\n",
              "      <td>...</td>\n",
              "      <td>...</td>\n",
              "      <td>...</td>\n",
              "      <td>...</td>\n",
              "    </tr>\n",
              "    <tr>\n",
              "      <th>195</th>\n",
              "      <td>2.210393</td>\n",
              "      <td>1.215315</td>\n",
              "      <td>0.114431</td>\n",
              "      <td>2.586103</td>\n",
              "      <td>0.265582</td>\n",
              "      <td>0.016335</td>\n",
              "      <td>0.854923</td>\n",
              "      <td>-0.150725</td>\n",
              "      <td>0.450192</td>\n",
              "      <td>-1.040578</td>\n",
              "      <td>0</td>\n",
              "    </tr>\n",
              "    <tr>\n",
              "      <th>196</th>\n",
              "      <td>-2.274264</td>\n",
              "      <td>2.739307</td>\n",
              "      <td>-0.744888</td>\n",
              "      <td>-1.647316</td>\n",
              "      <td>-1.169480</td>\n",
              "      <td>-0.586966</td>\n",
              "      <td>1.519706</td>\n",
              "      <td>1.066075</td>\n",
              "      <td>0.451261</td>\n",
              "      <td>-0.779035</td>\n",
              "      <td>1</td>\n",
              "    </tr>\n",
              "    <tr>\n",
              "      <th>197</th>\n",
              "      <td>-1.591740</td>\n",
              "      <td>-1.891149</td>\n",
              "      <td>2.473452</td>\n",
              "      <td>0.196862</td>\n",
              "      <td>-1.097478</td>\n",
              "      <td>1.876858</td>\n",
              "      <td>-0.909942</td>\n",
              "      <td>0.732887</td>\n",
              "      <td>-0.257146</td>\n",
              "      <td>-1.161752</td>\n",
              "      <td>3</td>\n",
              "    </tr>\n",
              "    <tr>\n",
              "      <th>198</th>\n",
              "      <td>2.131036</td>\n",
              "      <td>2.462874</td>\n",
              "      <td>-0.071297</td>\n",
              "      <td>0.942158</td>\n",
              "      <td>0.065596</td>\n",
              "      <td>1.678458</td>\n",
              "      <td>0.320869</td>\n",
              "      <td>0.077434</td>\n",
              "      <td>1.002024</td>\n",
              "      <td>-0.103804</td>\n",
              "      <td>0</td>\n",
              "    </tr>\n",
              "    <tr>\n",
              "      <th>199</th>\n",
              "      <td>1.807065</td>\n",
              "      <td>0.836144</td>\n",
              "      <td>-0.552157</td>\n",
              "      <td>0.370148</td>\n",
              "      <td>-0.169190</td>\n",
              "      <td>-0.347025</td>\n",
              "      <td>-1.422311</td>\n",
              "      <td>-1.802276</td>\n",
              "      <td>1.924171</td>\n",
              "      <td>-1.676979</td>\n",
              "      <td>0</td>\n",
              "    </tr>\n",
              "  </tbody>\n",
              "</table>\n",
              "<p>200 rows × 11 columns</p>\n",
              "</div>"
            ],
            "text/plain": [
              "            0         1         2  ...         8         9  clusterlabels\n",
              "0    2.134214 -0.319978 -1.361100  ...  0.059051  0.868368              0\n",
              "1    1.862059 -0.484865  0.169737  ... -0.950436 -0.708922              0\n",
              "2   -0.567225 -1.847852 -0.293183  ...  0.817742 -0.210604              2\n",
              "3    2.075016 -1.284581  0.789884  ...  0.373042 -0.111263              0\n",
              "4   -0.452854 -2.359235  1.092952  ...  1.814015 -0.302169              3\n",
              "..        ...       ...       ...  ...       ...       ...            ...\n",
              "195  2.210393  1.215315  0.114431  ...  0.450192 -1.040578              0\n",
              "196 -2.274264  2.739307 -0.744888  ...  0.451261 -0.779035              1\n",
              "197 -1.591740 -1.891149  2.473452  ... -0.257146 -1.161752              3\n",
              "198  2.131036  2.462874 -0.071297  ...  1.002024 -0.103804              0\n",
              "199  1.807065  0.836144 -0.552157  ...  1.924171 -1.676979              0\n",
              "\n",
              "[200 rows x 11 columns]"
            ]
          },
          "metadata": {},
          "execution_count": 36
        }
      ],
      "source": [
        "x_train_std_Pca"
      ]
    },
    {
      "cell_type": "markdown",
      "metadata": {
        "id": "AwTTwmG8yjv-"
      },
      "source": [
        "## Transforming the test data using the same PCA object that was fit on the train dataset."
      ]
    },
    {
      "cell_type": "code",
      "execution_count": null,
      "metadata": {
        "id": "G-QnbrxMyjv-"
      },
      "outputs": [],
      "source": [
        "Pca = PCA(n_components = 10, random_state = 12345)\n",
        "x_test_std_Pca = Pca.fit_transform(x_test_std)"
      ]
    },
    {
      "cell_type": "code",
      "execution_count": null,
      "metadata": {
        "colab": {
          "base_uri": "https://localhost:8080/"
        },
        "id": "toz9Rrxlyjv-",
        "outputId": "ed110784-19eb-4538-818e-ae201d9cf318"
      },
      "outputs": [
        {
          "output_type": "execute_result",
          "data": {
            "text/plain": [
              "(50, 10)"
            ]
          },
          "metadata": {},
          "execution_count": 38
        }
      ],
      "source": [
        "x_test_std_Pca = pd.DataFrame(x_test_std_Pca)\n",
        "x_test_std_Pca.shape"
      ]
    },
    {
      "cell_type": "markdown",
      "metadata": {
        "id": "hJ1Iqqoayjv_"
      },
      "source": [
        "## Using the same KMeans object,assigning cluster labels to the test data & storing it as feature."
      ]
    },
    {
      "cell_type": "code",
      "execution_count": null,
      "metadata": {
        "id": "LHvKNTA5yjv_"
      },
      "outputs": [],
      "source": [
        "Final_clusters1 = KMeans(n_clusters = 4, n_init = 4)\n",
        "Final_clusters1.fit(x_test_std_Pca)\n",
        "labels1 = Final_clusters1.labels_"
      ]
    },
    {
      "cell_type": "code",
      "execution_count": null,
      "metadata": {
        "colab": {
          "base_uri": "https://localhost:8080/",
          "height": 1000
        },
        "id": "_Rqun5KByjv_",
        "outputId": "35b24da0-2b9f-4b01-e179-82730b276747"
      },
      "outputs": [
        {
          "output_type": "execute_result",
          "data": {
            "text/html": [
              "<div>\n",
              "<style scoped>\n",
              "    .dataframe tbody tr th:only-of-type {\n",
              "        vertical-align: middle;\n",
              "    }\n",
              "\n",
              "    .dataframe tbody tr th {\n",
              "        vertical-align: top;\n",
              "    }\n",
              "\n",
              "    .dataframe thead th {\n",
              "        text-align: right;\n",
              "    }\n",
              "</style>\n",
              "<table border=\"1\" class=\"dataframe\">\n",
              "  <thead>\n",
              "    <tr style=\"text-align: right;\">\n",
              "      <th></th>\n",
              "      <th>0</th>\n",
              "      <th>1</th>\n",
              "      <th>2</th>\n",
              "      <th>3</th>\n",
              "      <th>4</th>\n",
              "      <th>5</th>\n",
              "      <th>6</th>\n",
              "      <th>7</th>\n",
              "      <th>8</th>\n",
              "      <th>9</th>\n",
              "      <th>clusterlabels</th>\n",
              "    </tr>\n",
              "  </thead>\n",
              "  <tbody>\n",
              "    <tr>\n",
              "      <th>0</th>\n",
              "      <td>1.834406</td>\n",
              "      <td>-2.380792</td>\n",
              "      <td>0.287359</td>\n",
              "      <td>0.363900</td>\n",
              "      <td>0.369164</td>\n",
              "      <td>-0.251817</td>\n",
              "      <td>-0.816550</td>\n",
              "      <td>-0.618174</td>\n",
              "      <td>-0.658956</td>\n",
              "      <td>0.354136</td>\n",
              "      <td>1</td>\n",
              "    </tr>\n",
              "    <tr>\n",
              "      <th>1</th>\n",
              "      <td>-1.117731</td>\n",
              "      <td>0.666599</td>\n",
              "      <td>-2.914666</td>\n",
              "      <td>-0.465985</td>\n",
              "      <td>0.268380</td>\n",
              "      <td>-0.823830</td>\n",
              "      <td>0.056815</td>\n",
              "      <td>-0.757270</td>\n",
              "      <td>0.138434</td>\n",
              "      <td>-0.198622</td>\n",
              "      <td>0</td>\n",
              "    </tr>\n",
              "    <tr>\n",
              "      <th>2</th>\n",
              "      <td>-2.350801</td>\n",
              "      <td>1.256853</td>\n",
              "      <td>-0.013936</td>\n",
              "      <td>-0.511773</td>\n",
              "      <td>0.826746</td>\n",
              "      <td>2.788968</td>\n",
              "      <td>-1.712314</td>\n",
              "      <td>1.466074</td>\n",
              "      <td>-0.071193</td>\n",
              "      <td>-0.668132</td>\n",
              "      <td>3</td>\n",
              "    </tr>\n",
              "    <tr>\n",
              "      <th>3</th>\n",
              "      <td>0.660822</td>\n",
              "      <td>2.044217</td>\n",
              "      <td>0.896492</td>\n",
              "      <td>0.803700</td>\n",
              "      <td>0.827940</td>\n",
              "      <td>-0.999143</td>\n",
              "      <td>-0.936160</td>\n",
              "      <td>0.652198</td>\n",
              "      <td>1.363591</td>\n",
              "      <td>1.480930</td>\n",
              "      <td>3</td>\n",
              "    </tr>\n",
              "    <tr>\n",
              "      <th>4</th>\n",
              "      <td>-0.204967</td>\n",
              "      <td>2.530693</td>\n",
              "      <td>0.819583</td>\n",
              "      <td>2.983373</td>\n",
              "      <td>0.033986</td>\n",
              "      <td>0.564680</td>\n",
              "      <td>-0.365461</td>\n",
              "      <td>1.549403</td>\n",
              "      <td>-1.018786</td>\n",
              "      <td>0.263012</td>\n",
              "      <td>3</td>\n",
              "    </tr>\n",
              "    <tr>\n",
              "      <th>5</th>\n",
              "      <td>-3.047071</td>\n",
              "      <td>0.668202</td>\n",
              "      <td>1.871665</td>\n",
              "      <td>-1.321017</td>\n",
              "      <td>1.062238</td>\n",
              "      <td>-1.650009</td>\n",
              "      <td>-0.285792</td>\n",
              "      <td>0.350628</td>\n",
              "      <td>-1.345822</td>\n",
              "      <td>-0.009566</td>\n",
              "      <td>0</td>\n",
              "    </tr>\n",
              "    <tr>\n",
              "      <th>6</th>\n",
              "      <td>1.951658</td>\n",
              "      <td>-0.389495</td>\n",
              "      <td>-0.895866</td>\n",
              "      <td>-0.600532</td>\n",
              "      <td>1.671608</td>\n",
              "      <td>0.116795</td>\n",
              "      <td>0.454527</td>\n",
              "      <td>-0.241063</td>\n",
              "      <td>-0.718291</td>\n",
              "      <td>2.122493</td>\n",
              "      <td>1</td>\n",
              "    </tr>\n",
              "    <tr>\n",
              "      <th>7</th>\n",
              "      <td>-1.119947</td>\n",
              "      <td>-1.677556</td>\n",
              "      <td>-1.103625</td>\n",
              "      <td>1.415116</td>\n",
              "      <td>1.286141</td>\n",
              "      <td>1.391175</td>\n",
              "      <td>0.327576</td>\n",
              "      <td>0.309483</td>\n",
              "      <td>1.823303</td>\n",
              "      <td>-1.278752</td>\n",
              "      <td>2</td>\n",
              "    </tr>\n",
              "    <tr>\n",
              "      <th>8</th>\n",
              "      <td>2.757726</td>\n",
              "      <td>0.100829</td>\n",
              "      <td>1.672796</td>\n",
              "      <td>-0.155526</td>\n",
              "      <td>0.987604</td>\n",
              "      <td>-0.993789</td>\n",
              "      <td>0.653986</td>\n",
              "      <td>-0.310323</td>\n",
              "      <td>1.171788</td>\n",
              "      <td>0.143482</td>\n",
              "      <td>1</td>\n",
              "    </tr>\n",
              "    <tr>\n",
              "      <th>9</th>\n",
              "      <td>1.949041</td>\n",
              "      <td>-0.258079</td>\n",
              "      <td>-0.089742</td>\n",
              "      <td>1.934246</td>\n",
              "      <td>-0.746472</td>\n",
              "      <td>-0.368553</td>\n",
              "      <td>2.329066</td>\n",
              "      <td>1.215387</td>\n",
              "      <td>0.177118</td>\n",
              "      <td>-0.875553</td>\n",
              "      <td>1</td>\n",
              "    </tr>\n",
              "    <tr>\n",
              "      <th>10</th>\n",
              "      <td>2.408999</td>\n",
              "      <td>-0.712234</td>\n",
              "      <td>0.006434</td>\n",
              "      <td>-2.210615</td>\n",
              "      <td>0.091370</td>\n",
              "      <td>0.579376</td>\n",
              "      <td>-0.387576</td>\n",
              "      <td>1.011690</td>\n",
              "      <td>-0.583023</td>\n",
              "      <td>-0.805702</td>\n",
              "      <td>1</td>\n",
              "    </tr>\n",
              "    <tr>\n",
              "      <th>11</th>\n",
              "      <td>-1.468765</td>\n",
              "      <td>2.070517</td>\n",
              "      <td>-1.211394</td>\n",
              "      <td>1.266788</td>\n",
              "      <td>-2.950562</td>\n",
              "      <td>2.221250</td>\n",
              "      <td>2.168653</td>\n",
              "      <td>-1.030838</td>\n",
              "      <td>0.533941</td>\n",
              "      <td>-0.288258</td>\n",
              "      <td>3</td>\n",
              "    </tr>\n",
              "    <tr>\n",
              "      <th>12</th>\n",
              "      <td>-2.463876</td>\n",
              "      <td>0.330615</td>\n",
              "      <td>-3.148098</td>\n",
              "      <td>-0.320835</td>\n",
              "      <td>1.131556</td>\n",
              "      <td>0.726746</td>\n",
              "      <td>0.747382</td>\n",
              "      <td>-1.310834</td>\n",
              "      <td>0.604659</td>\n",
              "      <td>-0.738904</td>\n",
              "      <td>0</td>\n",
              "    </tr>\n",
              "    <tr>\n",
              "      <th>13</th>\n",
              "      <td>-2.705454</td>\n",
              "      <td>-1.414532</td>\n",
              "      <td>-1.483137</td>\n",
              "      <td>-1.235863</td>\n",
              "      <td>-0.010340</td>\n",
              "      <td>-1.124868</td>\n",
              "      <td>-0.154695</td>\n",
              "      <td>1.220968</td>\n",
              "      <td>-0.998226</td>\n",
              "      <td>0.267490</td>\n",
              "      <td>0</td>\n",
              "    </tr>\n",
              "    <tr>\n",
              "      <th>14</th>\n",
              "      <td>-2.267631</td>\n",
              "      <td>-0.085146</td>\n",
              "      <td>-0.317486</td>\n",
              "      <td>0.884956</td>\n",
              "      <td>3.042723</td>\n",
              "      <td>1.976617</td>\n",
              "      <td>-0.002979</td>\n",
              "      <td>-0.491596</td>\n",
              "      <td>-0.414373</td>\n",
              "      <td>0.423202</td>\n",
              "      <td>0</td>\n",
              "    </tr>\n",
              "    <tr>\n",
              "      <th>15</th>\n",
              "      <td>1.498080</td>\n",
              "      <td>-0.382873</td>\n",
              "      <td>0.976533</td>\n",
              "      <td>0.349038</td>\n",
              "      <td>0.079345</td>\n",
              "      <td>-1.268006</td>\n",
              "      <td>1.333208</td>\n",
              "      <td>0.363609</td>\n",
              "      <td>2.413298</td>\n",
              "      <td>-0.317231</td>\n",
              "      <td>1</td>\n",
              "    </tr>\n",
              "    <tr>\n",
              "      <th>16</th>\n",
              "      <td>-2.552144</td>\n",
              "      <td>1.152204</td>\n",
              "      <td>1.351687</td>\n",
              "      <td>0.709903</td>\n",
              "      <td>3.175179</td>\n",
              "      <td>0.512889</td>\n",
              "      <td>0.970305</td>\n",
              "      <td>-0.733430</td>\n",
              "      <td>0.625738</td>\n",
              "      <td>0.345029</td>\n",
              "      <td>0</td>\n",
              "    </tr>\n",
              "    <tr>\n",
              "      <th>17</th>\n",
              "      <td>1.834406</td>\n",
              "      <td>-2.380792</td>\n",
              "      <td>0.287359</td>\n",
              "      <td>0.363900</td>\n",
              "      <td>0.369164</td>\n",
              "      <td>-0.251817</td>\n",
              "      <td>-0.816550</td>\n",
              "      <td>-0.618174</td>\n",
              "      <td>-0.658956</td>\n",
              "      <td>0.354136</td>\n",
              "      <td>1</td>\n",
              "    </tr>\n",
              "    <tr>\n",
              "      <th>18</th>\n",
              "      <td>2.248379</td>\n",
              "      <td>1.789363</td>\n",
              "      <td>-1.740110</td>\n",
              "      <td>-0.883011</td>\n",
              "      <td>-0.751635</td>\n",
              "      <td>0.508427</td>\n",
              "      <td>-1.540549</td>\n",
              "      <td>-0.811316</td>\n",
              "      <td>-0.029085</td>\n",
              "      <td>0.697528</td>\n",
              "      <td>1</td>\n",
              "    </tr>\n",
              "    <tr>\n",
              "      <th>19</th>\n",
              "      <td>1.782592</td>\n",
              "      <td>-1.620222</td>\n",
              "      <td>-0.692639</td>\n",
              "      <td>0.524092</td>\n",
              "      <td>-0.053110</td>\n",
              "      <td>0.195722</td>\n",
              "      <td>0.359924</td>\n",
              "      <td>0.605443</td>\n",
              "      <td>1.373187</td>\n",
              "      <td>-0.239058</td>\n",
              "      <td>1</td>\n",
              "    </tr>\n",
              "    <tr>\n",
              "      <th>20</th>\n",
              "      <td>-2.843766</td>\n",
              "      <td>-0.506244</td>\n",
              "      <td>-2.000304</td>\n",
              "      <td>-1.435085</td>\n",
              "      <td>1.338822</td>\n",
              "      <td>1.147466</td>\n",
              "      <td>1.033124</td>\n",
              "      <td>1.217089</td>\n",
              "      <td>0.258633</td>\n",
              "      <td>-0.405272</td>\n",
              "      <td>0</td>\n",
              "    </tr>\n",
              "    <tr>\n",
              "      <th>21</th>\n",
              "      <td>1.963866</td>\n",
              "      <td>3.026712</td>\n",
              "      <td>-0.070937</td>\n",
              "      <td>-1.058065</td>\n",
              "      <td>-0.619179</td>\n",
              "      <td>-0.955302</td>\n",
              "      <td>-0.567265</td>\n",
              "      <td>-1.053149</td>\n",
              "      <td>1.011026</td>\n",
              "      <td>0.619355</td>\n",
              "      <td>3</td>\n",
              "    </tr>\n",
              "    <tr>\n",
              "      <th>22</th>\n",
              "      <td>3.208688</td>\n",
              "      <td>0.225623</td>\n",
              "      <td>0.606521</td>\n",
              "      <td>1.429682</td>\n",
              "      <td>0.161787</td>\n",
              "      <td>-0.094335</td>\n",
              "      <td>1.649844</td>\n",
              "      <td>0.541455</td>\n",
              "      <td>-1.064392</td>\n",
              "      <td>-0.414839</td>\n",
              "      <td>1</td>\n",
              "    </tr>\n",
              "    <tr>\n",
              "      <th>23</th>\n",
              "      <td>-1.677899</td>\n",
              "      <td>-0.618776</td>\n",
              "      <td>3.804221</td>\n",
              "      <td>-1.356903</td>\n",
              "      <td>-1.690778</td>\n",
              "      <td>0.058999</td>\n",
              "      <td>0.033569</td>\n",
              "      <td>-0.684238</td>\n",
              "      <td>-0.428382</td>\n",
              "      <td>-0.759287</td>\n",
              "      <td>2</td>\n",
              "    </tr>\n",
              "    <tr>\n",
              "      <th>24</th>\n",
              "      <td>-2.159115</td>\n",
              "      <td>0.784470</td>\n",
              "      <td>-2.028033</td>\n",
              "      <td>1.288542</td>\n",
              "      <td>-0.910968</td>\n",
              "      <td>-2.109863</td>\n",
              "      <td>1.528705</td>\n",
              "      <td>-0.697010</td>\n",
              "      <td>-1.848269</td>\n",
              "      <td>-0.702636</td>\n",
              "      <td>0</td>\n",
              "    </tr>\n",
              "    <tr>\n",
              "      <th>25</th>\n",
              "      <td>-1.336282</td>\n",
              "      <td>-2.701510</td>\n",
              "      <td>0.449420</td>\n",
              "      <td>-1.271749</td>\n",
              "      <td>-2.763356</td>\n",
              "      <td>0.584140</td>\n",
              "      <td>0.164666</td>\n",
              "      <td>0.186102</td>\n",
              "      <td>-0.080786</td>\n",
              "      <td>-0.482231</td>\n",
              "      <td>2</td>\n",
              "    </tr>\n",
              "    <tr>\n",
              "      <th>26</th>\n",
              "      <td>-0.703043</td>\n",
              "      <td>-3.125797</td>\n",
              "      <td>0.446609</td>\n",
              "      <td>0.958393</td>\n",
              "      <td>-1.999577</td>\n",
              "      <td>0.474704</td>\n",
              "      <td>0.232943</td>\n",
              "      <td>-0.894078</td>\n",
              "      <td>0.633914</td>\n",
              "      <td>0.545126</td>\n",
              "      <td>2</td>\n",
              "    </tr>\n",
              "    <tr>\n",
              "      <th>27</th>\n",
              "      <td>-0.909278</td>\n",
              "      <td>3.667045</td>\n",
              "      <td>0.740875</td>\n",
              "      <td>0.282273</td>\n",
              "      <td>-0.111240</td>\n",
              "      <td>-0.646056</td>\n",
              "      <td>-1.715338</td>\n",
              "      <td>-0.750119</td>\n",
              "      <td>0.848719</td>\n",
              "      <td>-0.539655</td>\n",
              "      <td>3</td>\n",
              "    </tr>\n",
              "    <tr>\n",
              "      <th>28</th>\n",
              "      <td>-1.010576</td>\n",
              "      <td>2.290233</td>\n",
              "      <td>2.921736</td>\n",
              "      <td>-1.487922</td>\n",
              "      <td>-1.840531</td>\n",
              "      <td>1.130527</td>\n",
              "      <td>-0.336410</td>\n",
              "      <td>0.570364</td>\n",
              "      <td>0.570163</td>\n",
              "      <td>0.945093</td>\n",
              "      <td>3</td>\n",
              "    </tr>\n",
              "    <tr>\n",
              "      <th>29</th>\n",
              "      <td>2.408999</td>\n",
              "      <td>-0.712234</td>\n",
              "      <td>0.006434</td>\n",
              "      <td>-2.210615</td>\n",
              "      <td>0.091370</td>\n",
              "      <td>0.579376</td>\n",
              "      <td>-0.387576</td>\n",
              "      <td>1.011690</td>\n",
              "      <td>-0.583023</td>\n",
              "      <td>-0.805702</td>\n",
              "      <td>1</td>\n",
              "    </tr>\n",
              "    <tr>\n",
              "      <th>30</th>\n",
              "      <td>0.608842</td>\n",
              "      <td>0.468802</td>\n",
              "      <td>-1.288579</td>\n",
              "      <td>-1.492697</td>\n",
              "      <td>-1.452628</td>\n",
              "      <td>0.654928</td>\n",
              "      <td>-0.575585</td>\n",
              "      <td>2.390539</td>\n",
              "      <td>0.866399</td>\n",
              "      <td>0.570445</td>\n",
              "      <td>1</td>\n",
              "    </tr>\n",
              "    <tr>\n",
              "      <th>31</th>\n",
              "      <td>-2.989967</td>\n",
              "      <td>-0.177182</td>\n",
              "      <td>0.186036</td>\n",
              "      <td>-1.410917</td>\n",
              "      <td>0.122115</td>\n",
              "      <td>-2.588597</td>\n",
              "      <td>0.818589</td>\n",
              "      <td>0.979134</td>\n",
              "      <td>0.041885</td>\n",
              "      <td>0.189317</td>\n",
              "      <td>0</td>\n",
              "    </tr>\n",
              "    <tr>\n",
              "      <th>32</th>\n",
              "      <td>-0.760147</td>\n",
              "      <td>-2.280413</td>\n",
              "      <td>2.132238</td>\n",
              "      <td>1.048293</td>\n",
              "      <td>-1.059454</td>\n",
              "      <td>1.413292</td>\n",
              "      <td>-0.871437</td>\n",
              "      <td>-1.522583</td>\n",
              "      <td>-0.753792</td>\n",
              "      <td>0.346243</td>\n",
              "      <td>2</td>\n",
              "    </tr>\n",
              "    <tr>\n",
              "      <th>33</th>\n",
              "      <td>2.788889</td>\n",
              "      <td>0.124625</td>\n",
              "      <td>-1.141359</td>\n",
              "      <td>-1.096364</td>\n",
              "      <td>-0.115895</td>\n",
              "      <td>0.158657</td>\n",
              "      <td>-0.673318</td>\n",
              "      <td>-1.516233</td>\n",
              "      <td>-0.236997</td>\n",
              "      <td>-1.139333</td>\n",
              "      <td>1</td>\n",
              "    </tr>\n",
              "    <tr>\n",
              "      <th>34</th>\n",
              "      <td>3.042239</td>\n",
              "      <td>-1.136520</td>\n",
              "      <td>0.003624</td>\n",
              "      <td>0.019527</td>\n",
              "      <td>0.855149</td>\n",
              "      <td>0.469940</td>\n",
              "      <td>-0.319298</td>\n",
              "      <td>-0.068490</td>\n",
              "      <td>0.131678</td>\n",
              "      <td>0.221655</td>\n",
              "      <td>1</td>\n",
              "    </tr>\n",
              "    <tr>\n",
              "      <th>35</th>\n",
              "      <td>3.208688</td>\n",
              "      <td>0.225623</td>\n",
              "      <td>0.606521</td>\n",
              "      <td>1.429682</td>\n",
              "      <td>0.161787</td>\n",
              "      <td>-0.094335</td>\n",
              "      <td>1.649844</td>\n",
              "      <td>0.541455</td>\n",
              "      <td>-1.064392</td>\n",
              "      <td>-0.414839</td>\n",
              "      <td>1</td>\n",
              "    </tr>\n",
              "    <tr>\n",
              "      <th>36</th>\n",
              "      <td>-2.989967</td>\n",
              "      <td>-0.177182</td>\n",
              "      <td>0.186036</td>\n",
              "      <td>-1.410917</td>\n",
              "      <td>0.122115</td>\n",
              "      <td>-2.588597</td>\n",
              "      <td>0.818589</td>\n",
              "      <td>0.979134</td>\n",
              "      <td>0.041885</td>\n",
              "      <td>0.189317</td>\n",
              "      <td>0</td>\n",
              "    </tr>\n",
              "    <tr>\n",
              "      <th>37</th>\n",
              "      <td>3.042239</td>\n",
              "      <td>-1.136520</td>\n",
              "      <td>0.003624</td>\n",
              "      <td>0.019527</td>\n",
              "      <td>0.855149</td>\n",
              "      <td>0.469940</td>\n",
              "      <td>-0.319298</td>\n",
              "      <td>-0.068490</td>\n",
              "      <td>0.131678</td>\n",
              "      <td>0.221655</td>\n",
              "      <td>1</td>\n",
              "    </tr>\n",
              "    <tr>\n",
              "      <th>38</th>\n",
              "      <td>-1.522145</td>\n",
              "      <td>-0.921107</td>\n",
              "      <td>-1.185208</td>\n",
              "      <td>1.827691</td>\n",
              "      <td>-0.698760</td>\n",
              "      <td>-0.531389</td>\n",
              "      <td>-1.727474</td>\n",
              "      <td>1.018280</td>\n",
              "      <td>0.774356</td>\n",
              "      <td>1.230870</td>\n",
              "      <td>2</td>\n",
              "    </tr>\n",
              "    <tr>\n",
              "      <th>39</th>\n",
              "      <td>2.668178</td>\n",
              "      <td>1.890360</td>\n",
              "      <td>0.007770</td>\n",
              "      <td>1.643035</td>\n",
              "      <td>-0.473953</td>\n",
              "      <td>0.255435</td>\n",
              "      <td>0.782612</td>\n",
              "      <td>1.246372</td>\n",
              "      <td>-0.856480</td>\n",
              "      <td>1.422022</td>\n",
              "      <td>1</td>\n",
              "    </tr>\n",
              "    <tr>\n",
              "      <th>40</th>\n",
              "      <td>-0.981635</td>\n",
              "      <td>-2.585844</td>\n",
              "      <td>-0.586458</td>\n",
              "      <td>1.614337</td>\n",
              "      <td>-0.063020</td>\n",
              "      <td>-0.881159</td>\n",
              "      <td>-0.860243</td>\n",
              "      <td>0.313362</td>\n",
              "      <td>0.566444</td>\n",
              "      <td>-0.605991</td>\n",
              "      <td>2</td>\n",
              "    </tr>\n",
              "    <tr>\n",
              "      <th>41</th>\n",
              "      <td>-1.775494</td>\n",
              "      <td>0.340039</td>\n",
              "      <td>-2.330191</td>\n",
              "      <td>0.711799</td>\n",
              "      <td>-1.669804</td>\n",
              "      <td>-0.842672</td>\n",
              "      <td>-2.081493</td>\n",
              "      <td>-0.429464</td>\n",
              "      <td>0.405682</td>\n",
              "      <td>-0.130118</td>\n",
              "      <td>2</td>\n",
              "    </tr>\n",
              "    <tr>\n",
              "      <th>42</th>\n",
              "      <td>1.698309</td>\n",
              "      <td>0.871651</td>\n",
              "      <td>-2.040849</td>\n",
              "      <td>-1.716423</td>\n",
              "      <td>0.700564</td>\n",
              "      <td>-0.194488</td>\n",
              "      <td>0.100507</td>\n",
              "      <td>-1.688807</td>\n",
              "      <td>-1.086966</td>\n",
              "      <td>0.761504</td>\n",
              "      <td>1</td>\n",
              "    </tr>\n",
              "    <tr>\n",
              "      <th>43</th>\n",
              "      <td>-2.906791</td>\n",
              "      <td>1.036537</td>\n",
              "      <td>2.387564</td>\n",
              "      <td>-2.176183</td>\n",
              "      <td>0.474843</td>\n",
              "      <td>1.978189</td>\n",
              "      <td>1.995213</td>\n",
              "      <td>-0.860690</td>\n",
              "      <td>-0.021493</td>\n",
              "      <td>0.468788</td>\n",
              "      <td>0</td>\n",
              "    </tr>\n",
              "    <tr>\n",
              "      <th>44</th>\n",
              "      <td>-1.323251</td>\n",
              "      <td>-0.503110</td>\n",
              "      <td>2.768344</td>\n",
              "      <td>1.529183</td>\n",
              "      <td>1.009558</td>\n",
              "      <td>-1.406300</td>\n",
              "      <td>-0.991339</td>\n",
              "      <td>-0.556977</td>\n",
              "      <td>0.218848</td>\n",
              "      <td>-0.883047</td>\n",
              "      <td>2</td>\n",
              "    </tr>\n",
              "    <tr>\n",
              "      <th>45</th>\n",
              "      <td>2.408999</td>\n",
              "      <td>-0.712234</td>\n",
              "      <td>0.006434</td>\n",
              "      <td>-2.210615</td>\n",
              "      <td>0.091370</td>\n",
              "      <td>0.579376</td>\n",
              "      <td>-0.387576</td>\n",
              "      <td>1.011690</td>\n",
              "      <td>-0.583023</td>\n",
              "      <td>-0.805702</td>\n",
              "      <td>1</td>\n",
              "    </tr>\n",
              "    <tr>\n",
              "      <th>46</th>\n",
              "      <td>-0.458316</td>\n",
              "      <td>3.791839</td>\n",
              "      <td>-0.325400</td>\n",
              "      <td>1.867481</td>\n",
              "      <td>-0.937058</td>\n",
              "      <td>0.253397</td>\n",
              "      <td>-0.719480</td>\n",
              "      <td>0.101659</td>\n",
              "      <td>-1.387461</td>\n",
              "      <td>-1.097977</td>\n",
              "      <td>3</td>\n",
              "    </tr>\n",
              "    <tr>\n",
              "      <th>47</th>\n",
              "      <td>2.504377</td>\n",
              "      <td>1.361975</td>\n",
              "      <td>0.527813</td>\n",
              "      <td>-1.271418</td>\n",
              "      <td>0.016560</td>\n",
              "      <td>-1.305072</td>\n",
              "      <td>0.299966</td>\n",
              "      <td>-1.758067</td>\n",
              "      <td>0.803114</td>\n",
              "      <td>-1.217506</td>\n",
              "      <td>1</td>\n",
              "    </tr>\n",
              "    <tr>\n",
              "      <th>48</th>\n",
              "      <td>-1.038739</td>\n",
              "      <td>-1.740459</td>\n",
              "      <td>1.099171</td>\n",
              "      <td>1.704237</td>\n",
              "      <td>0.877103</td>\n",
              "      <td>0.057428</td>\n",
              "      <td>-1.964623</td>\n",
              "      <td>-0.315144</td>\n",
              "      <td>-0.821263</td>\n",
              "      <td>-0.804874</td>\n",
              "      <td>2</td>\n",
              "    </tr>\n",
              "    <tr>\n",
              "      <th>49</th>\n",
              "      <td>-1.793623</td>\n",
              "      <td>-2.378772</td>\n",
              "      <td>-0.452881</td>\n",
              "      <td>0.338334</td>\n",
              "      <td>-1.183118</td>\n",
              "      <td>0.121559</td>\n",
              "      <td>1.006769</td>\n",
              "      <td>-1.066651</td>\n",
              "      <td>-0.216055</td>\n",
              "      <td>2.445963</td>\n",
              "      <td>2</td>\n",
              "    </tr>\n",
              "  </tbody>\n",
              "</table>\n",
              "</div>"
            ],
            "text/plain": [
              "           0         1         2  ...         8         9  clusterlabels\n",
              "0   1.834406 -2.380792  0.287359  ... -0.658956  0.354136              1\n",
              "1  -1.117731  0.666599 -2.914666  ...  0.138434 -0.198622              0\n",
              "2  -2.350801  1.256853 -0.013936  ... -0.071193 -0.668132              3\n",
              "3   0.660822  2.044217  0.896492  ...  1.363591  1.480930              3\n",
              "4  -0.204967  2.530693  0.819583  ... -1.018786  0.263012              3\n",
              "5  -3.047071  0.668202  1.871665  ... -1.345822 -0.009566              0\n",
              "6   1.951658 -0.389495 -0.895866  ... -0.718291  2.122493              1\n",
              "7  -1.119947 -1.677556 -1.103625  ...  1.823303 -1.278752              2\n",
              "8   2.757726  0.100829  1.672796  ...  1.171788  0.143482              1\n",
              "9   1.949041 -0.258079 -0.089742  ...  0.177118 -0.875553              1\n",
              "10  2.408999 -0.712234  0.006434  ... -0.583023 -0.805702              1\n",
              "11 -1.468765  2.070517 -1.211394  ...  0.533941 -0.288258              3\n",
              "12 -2.463876  0.330615 -3.148098  ...  0.604659 -0.738904              0\n",
              "13 -2.705454 -1.414532 -1.483137  ... -0.998226  0.267490              0\n",
              "14 -2.267631 -0.085146 -0.317486  ... -0.414373  0.423202              0\n",
              "15  1.498080 -0.382873  0.976533  ...  2.413298 -0.317231              1\n",
              "16 -2.552144  1.152204  1.351687  ...  0.625738  0.345029              0\n",
              "17  1.834406 -2.380792  0.287359  ... -0.658956  0.354136              1\n",
              "18  2.248379  1.789363 -1.740110  ... -0.029085  0.697528              1\n",
              "19  1.782592 -1.620222 -0.692639  ...  1.373187 -0.239058              1\n",
              "20 -2.843766 -0.506244 -2.000304  ...  0.258633 -0.405272              0\n",
              "21  1.963866  3.026712 -0.070937  ...  1.011026  0.619355              3\n",
              "22  3.208688  0.225623  0.606521  ... -1.064392 -0.414839              1\n",
              "23 -1.677899 -0.618776  3.804221  ... -0.428382 -0.759287              2\n",
              "24 -2.159115  0.784470 -2.028033  ... -1.848269 -0.702636              0\n",
              "25 -1.336282 -2.701510  0.449420  ... -0.080786 -0.482231              2\n",
              "26 -0.703043 -3.125797  0.446609  ...  0.633914  0.545126              2\n",
              "27 -0.909278  3.667045  0.740875  ...  0.848719 -0.539655              3\n",
              "28 -1.010576  2.290233  2.921736  ...  0.570163  0.945093              3\n",
              "29  2.408999 -0.712234  0.006434  ... -0.583023 -0.805702              1\n",
              "30  0.608842  0.468802 -1.288579  ...  0.866399  0.570445              1\n",
              "31 -2.989967 -0.177182  0.186036  ...  0.041885  0.189317              0\n",
              "32 -0.760147 -2.280413  2.132238  ... -0.753792  0.346243              2\n",
              "33  2.788889  0.124625 -1.141359  ... -0.236997 -1.139333              1\n",
              "34  3.042239 -1.136520  0.003624  ...  0.131678  0.221655              1\n",
              "35  3.208688  0.225623  0.606521  ... -1.064392 -0.414839              1\n",
              "36 -2.989967 -0.177182  0.186036  ...  0.041885  0.189317              0\n",
              "37  3.042239 -1.136520  0.003624  ...  0.131678  0.221655              1\n",
              "38 -1.522145 -0.921107 -1.185208  ...  0.774356  1.230870              2\n",
              "39  2.668178  1.890360  0.007770  ... -0.856480  1.422022              1\n",
              "40 -0.981635 -2.585844 -0.586458  ...  0.566444 -0.605991              2\n",
              "41 -1.775494  0.340039 -2.330191  ...  0.405682 -0.130118              2\n",
              "42  1.698309  0.871651 -2.040849  ... -1.086966  0.761504              1\n",
              "43 -2.906791  1.036537  2.387564  ... -0.021493  0.468788              0\n",
              "44 -1.323251 -0.503110  2.768344  ...  0.218848 -0.883047              2\n",
              "45  2.408999 -0.712234  0.006434  ... -0.583023 -0.805702              1\n",
              "46 -0.458316  3.791839 -0.325400  ... -1.387461 -1.097977              3\n",
              "47  2.504377  1.361975  0.527813  ...  0.803114 -1.217506              1\n",
              "48 -1.038739 -1.740459  1.099171  ... -0.821263 -0.804874              2\n",
              "49 -1.793623 -2.378772 -0.452881  ... -0.216055  2.445963              2\n",
              "\n",
              "[50 rows x 11 columns]"
            ]
          },
          "metadata": {},
          "execution_count": 40
        }
      ],
      "source": [
        "x_test_std_Pca['clusterlabels'] = labels1\n",
        "x_test_std_Pca"
      ]
    },
    {
      "cell_type": "markdown",
      "source": [
        "# Stage 4. Classification Algorithms and Metrics "
      ],
      "metadata": {
        "id": "qrBsqSq5rnoy"
      }
    },
    {
      "cell_type": "markdown",
      "metadata": {
        "id": "EeAk9lSTyjv_"
      },
      "source": [
        "## Applying classification model on the train dataset and predicting the target for the test dataset."
      ]
    },
    {
      "cell_type": "code",
      "execution_count": null,
      "metadata": {
        "id": "4lxCfxkiyjv_"
      },
      "outputs": [],
      "source": [
        "from sklearn.linear_model import LogisticRegression"
      ]
    },
    {
      "cell_type": "code",
      "execution_count": null,
      "metadata": {
        "colab": {
          "base_uri": "https://localhost:8080/"
        },
        "id": "HHvAUWr1yjv_",
        "outputId": "f8c9c15d-9124-4e89-9bb9-8dc174bf8a35"
      },
      "outputs": [
        {
          "output_type": "stream",
          "name": "stderr",
          "text": [
            "/usr/local/lib/python3.7/dist-packages/sklearn/utils/validation.py:1679: FutureWarning: Feature names only support names that are all strings. Got feature names with dtypes: ['int', 'str']. An error will be raised in 1.2.\n",
            "  FutureWarning,\n",
            "/usr/local/lib/python3.7/dist-packages/sklearn/utils/validation.py:985: DataConversionWarning: A column-vector y was passed when a 1d array was expected. Please change the shape of y to (n_samples, ), for example using ravel().\n",
            "  y = column_or_1d(y, warn=True)\n"
          ]
        },
        {
          "output_type": "execute_result",
          "data": {
            "text/plain": [
              "LogisticRegression()"
            ]
          },
          "metadata": {},
          "execution_count": 42
        }
      ],
      "source": [
        "log_reg = LogisticRegression()\n",
        "log_reg.fit(x_train_std_Pca,y_train)"
      ]
    },
    {
      "cell_type": "code",
      "execution_count": null,
      "metadata": {
        "colab": {
          "base_uri": "https://localhost:8080/"
        },
        "id": "XCkybo4fyjv_",
        "outputId": "add88ad3-3e6e-4c09-b16d-be0572dc989d"
      },
      "outputs": [
        {
          "output_type": "stream",
          "name": "stderr",
          "text": [
            "/usr/local/lib/python3.7/dist-packages/sklearn/utils/validation.py:1679: FutureWarning: Feature names only support names that are all strings. Got feature names with dtypes: ['int', 'str']. An error will be raised in 1.2.\n",
            "  FutureWarning,\n"
          ]
        }
      ],
      "source": [
        "y_pred = log_reg.predict(x_test_std_Pca)"
      ]
    },
    {
      "cell_type": "markdown",
      "metadata": {
        "id": "JLnGg_XZyjwA"
      },
      "source": [
        "## Checking Accuracy and the confusion matrix for Logistic regression."
      ]
    },
    {
      "cell_type": "code",
      "execution_count": null,
      "metadata": {
        "colab": {
          "base_uri": "https://localhost:8080/"
        },
        "id": "4CK1cZFzyjwA",
        "outputId": "488894c1-6cb0-4361-9c9a-18da1864d213"
      },
      "outputs": [
        {
          "output_type": "stream",
          "name": "stdout",
          "text": [
            "Accuracy is :1.000\n",
            "The following is the f1_score:\n",
            "              precision    recall  f1-score   support\n",
            "\n",
            "           B       1.00      1.00      1.00        21\n",
            "          NB       1.00      1.00      1.00        29\n",
            "\n",
            "    accuracy                           1.00        50\n",
            "   macro avg       1.00      1.00      1.00        50\n",
            "weighted avg       1.00      1.00      1.00        50\n",
            "\n",
            "The following is the confusion matrix:\n",
            "[[21  0]\n",
            " [ 0 29]]\n"
          ]
        }
      ],
      "source": [
        "from sklearn.metrics import accuracy_score,classification_report,confusion_matrix\n",
        "scorecard = accuracy_score(y_test,y_pred)\n",
        "print(\"Accuracy is :%.3f\"%scorecard)\n",
        "f1_score = classification_report(y_test,y_pred)\n",
        "print(\"The following is the f1_score:\")\n",
        "print(f1_score)\n",
        "conf_mat = confusion_matrix(y_test,y_pred)\n",
        "print(\"The following is the confusion matrix:\")\n",
        "print(conf_mat)"
      ]
    },
    {
      "cell_type": "markdown",
      "source": [
        "Top Left is TP, Bottom Right is TN, Top Right is FP, Bottom Left is FN"
      ],
      "metadata": {
        "id": "TwZSK2MB-91B"
      }
    },
    {
      "cell_type": "markdown",
      "metadata": {
        "id": "vahlACp0yjwA"
      },
      "source": [
        "## Applying Naive Bayes model on the train dataset and predicting the target for the test dataset."
      ]
    },
    {
      "cell_type": "code",
      "execution_count": null,
      "metadata": {
        "colab": {
          "base_uri": "https://localhost:8080/"
        },
        "id": "CDfqkijryjwA",
        "outputId": "685ddd9d-a144-4f54-ea9b-6366f95303a2"
      },
      "outputs": [
        {
          "output_type": "stream",
          "name": "stderr",
          "text": [
            "/usr/local/lib/python3.7/dist-packages/sklearn/utils/validation.py:985: DataConversionWarning: A column-vector y was passed when a 1d array was expected. Please change the shape of y to (n_samples, ), for example using ravel().\n",
            "  y = column_or_1d(y, warn=True)\n",
            "/usr/local/lib/python3.7/dist-packages/sklearn/utils/validation.py:1679: FutureWarning: Feature names only support names that are all strings. Got feature names with dtypes: ['int', 'str']. An error will be raised in 1.2.\n",
            "  FutureWarning,\n"
          ]
        },
        {
          "output_type": "execute_result",
          "data": {
            "text/plain": [
              "GaussianNB()"
            ]
          },
          "metadata": {},
          "execution_count": 45
        }
      ],
      "source": [
        "from sklearn.naive_bayes import GaussianNB\n",
        "Nb = GaussianNB()\n",
        "Nb.fit(x_train_std_Pca,y_train)"
      ]
    },
    {
      "cell_type": "code",
      "execution_count": null,
      "metadata": {
        "colab": {
          "base_uri": "https://localhost:8080/"
        },
        "id": "-W9RaKW8yjwA",
        "outputId": "dfc1b7fe-4c44-4a28-e7c7-29c9d0cf4f1b"
      },
      "outputs": [
        {
          "output_type": "stream",
          "name": "stderr",
          "text": [
            "/usr/local/lib/python3.7/dist-packages/sklearn/utils/validation.py:1679: FutureWarning: Feature names only support names that are all strings. Got feature names with dtypes: ['int', 'str']. An error will be raised in 1.2.\n",
            "  FutureWarning,\n"
          ]
        }
      ],
      "source": [
        "y_pred3 = Nb.predict(x_test_std_Pca)"
      ]
    },
    {
      "cell_type": "markdown",
      "metadata": {
        "id": "Yqb4TnhgyjwA"
      },
      "source": [
        "## Checking the Accuracy and confusion matrix for Naive Bayes"
      ]
    },
    {
      "cell_type": "code",
      "execution_count": null,
      "metadata": {
        "colab": {
          "base_uri": "https://localhost:8080/"
        },
        "id": "bsdOO-fVyjwA",
        "outputId": "0fdbbdc3-2312-4047-b5ab-64e77e0a5356"
      },
      "outputs": [
        {
          "output_type": "stream",
          "name": "stdout",
          "text": [
            "Accuracy is :0.960\n",
            "The following is the f1_score:\n",
            "              precision    recall  f1-score   support\n",
            "\n",
            "           B       1.00      0.90      0.95        21\n",
            "          NB       0.94      1.00      0.97        29\n",
            "\n",
            "    accuracy                           0.96        50\n",
            "   macro avg       0.97      0.95      0.96        50\n",
            "weighted avg       0.96      0.96      0.96        50\n",
            "\n",
            "The following is the confusion matrix:\n",
            "[[19  2]\n",
            " [ 0 29]]\n"
          ]
        }
      ],
      "source": [
        "from sklearn.metrics import accuracy_score,classification_report,confusion_matrix\n",
        "scorecard = accuracy_score(y_test,y_pred3)\n",
        "print(\"Accuracy is :%.3f\"%scorecard)\n",
        "f1_score = classification_report(y_test,y_pred3)\n",
        "print(\"The following is the f1_score:\")\n",
        "print(f1_score)\n",
        "conf_mat = confusion_matrix(y_test,y_pred3)\n",
        "print(\"The following is the confusion matrix:\")\n",
        "print(conf_mat)"
      ]
    },
    {
      "cell_type": "markdown",
      "source": [
        "Top Left is TP, Bottom Right is TN, Top Right is FP, Bottom Left is FN"
      ],
      "metadata": {
        "id": "jzcSr6Fu-bYE"
      }
    },
    {
      "cell_type": "markdown",
      "metadata": {
        "id": "kh5NVfXQyjwB"
      },
      "source": [
        "## Applying Decision tree model on the train dataset and predicting the target for the test dataset."
      ]
    },
    {
      "cell_type": "code",
      "execution_count": null,
      "metadata": {
        "id": "E5KUSr_cyjwB"
      },
      "outputs": [],
      "source": [
        "from sklearn.tree import DecisionTreeClassifier"
      ]
    },
    {
      "cell_type": "code",
      "execution_count": null,
      "metadata": {
        "id": "OV10ksd5yjwB"
      },
      "outputs": [],
      "source": [
        "DTC = DecisionTreeClassifier(criterion='entropy')"
      ]
    },
    {
      "cell_type": "code",
      "execution_count": null,
      "metadata": {
        "colab": {
          "base_uri": "https://localhost:8080/"
        },
        "id": "GrAEKyh-yjwB",
        "outputId": "07251f05-1634-415b-9a5b-b6da09213055"
      },
      "outputs": [
        {
          "output_type": "stream",
          "name": "stderr",
          "text": [
            "/usr/local/lib/python3.7/dist-packages/sklearn/utils/validation.py:1679: FutureWarning: Feature names only support names that are all strings. Got feature names with dtypes: ['int', 'str']. An error will be raised in 1.2.\n",
            "  FutureWarning,\n",
            "/usr/local/lib/python3.7/dist-packages/sklearn/utils/validation.py:1679: FutureWarning: Feature names only support names that are all strings. Got feature names with dtypes: ['int', 'str']. An error will be raised in 1.2.\n",
            "  FutureWarning,\n"
          ]
        }
      ],
      "source": [
        "DTC.fit(x_train_std_Pca,y_train)\n",
        "y_pred4 = DTC.predict(x_test_std_Pca)"
      ]
    },
    {
      "cell_type": "markdown",
      "metadata": {
        "id": "hQCZBzEtyjwB"
      },
      "source": [
        "## Checking the Accuracy and confusion matrix for Decision Tree."
      ]
    },
    {
      "cell_type": "code",
      "execution_count": null,
      "metadata": {
        "colab": {
          "base_uri": "https://localhost:8080/"
        },
        "id": "NVeMUoMVyjwB",
        "outputId": "1a38bafc-a6dc-41a8-db38-0e1a4c00cadf"
      },
      "outputs": [
        {
          "output_type": "stream",
          "name": "stdout",
          "text": [
            "Accuracy is :0.980\n",
            "The following is the f1_score:\n",
            "              precision    recall  f1-score   support\n",
            "\n",
            "           B       0.95      1.00      0.98        21\n",
            "          NB       1.00      0.97      0.98        29\n",
            "\n",
            "    accuracy                           0.98        50\n",
            "   macro avg       0.98      0.98      0.98        50\n",
            "weighted avg       0.98      0.98      0.98        50\n",
            "\n",
            "The following is the confusion matrix:\n",
            "[[21  0]\n",
            " [ 1 28]]\n"
          ]
        }
      ],
      "source": [
        "from sklearn.metrics import accuracy_score,classification_report,confusion_matrix\n",
        "scorecard = accuracy_score(y_test,y_pred4)\n",
        "print(\"Accuracy is :%.3f\"%scorecard)\n",
        "f1_score = classification_report(y_test,y_pred4)\n",
        "print(\"The following is the f1_score:\")\n",
        "print(f1_score)\n",
        "conf_mat = confusion_matrix(y_test,y_pred4)\n",
        "print(\"The following is the confusion matrix:\")\n",
        "print(conf_mat)"
      ]
    },
    {
      "cell_type": "markdown",
      "source": [
        "Top Left is TP, Bottom Right is TN, Top Right is FP, Bottom Left is FN"
      ],
      "metadata": {
        "id": "p8VGxynC_Bpy"
      }
    },
    {
      "cell_type": "markdown",
      "metadata": {
        "id": "zVwtGEkkyjwC"
      },
      "source": [
        "## Applying Random Forest Classifier model on the train dataset and predicting the target for the test dataset."
      ]
    },
    {
      "cell_type": "code",
      "execution_count": null,
      "metadata": {
        "id": "OOeXt2vlyjwC"
      },
      "outputs": [],
      "source": [
        "from sklearn.ensemble import RandomForestClassifier"
      ]
    },
    {
      "cell_type": "code",
      "execution_count": null,
      "metadata": {
        "colab": {
          "base_uri": "https://localhost:8080/"
        },
        "id": "1QyNk4E_yjwC",
        "outputId": "c3ec57ae-5ebb-4ed1-cc12-1e5e83843408"
      },
      "outputs": [
        {
          "output_type": "stream",
          "name": "stderr",
          "text": [
            "/usr/local/lib/python3.7/dist-packages/sklearn/utils/validation.py:1679: FutureWarning: Feature names only support names that are all strings. Got feature names with dtypes: ['int', 'str']. An error will be raised in 1.2.\n",
            "  FutureWarning,\n",
            "/usr/local/lib/python3.7/dist-packages/ipykernel_launcher.py:2: DataConversionWarning: A column-vector y was passed when a 1d array was expected. Please change the shape of y to (n_samples,), for example using ravel().\n",
            "  \n",
            "/usr/local/lib/python3.7/dist-packages/sklearn/utils/validation.py:1679: FutureWarning: Feature names only support names that are all strings. Got feature names with dtypes: ['int', 'str']. An error will be raised in 1.2.\n",
            "  FutureWarning,\n"
          ]
        }
      ],
      "source": [
        "RFC = RandomForestClassifier(max_depth = 80, random_state = 12345)\n",
        "RFC.fit(x_train_std_Pca,y_train)\n",
        "y_pred5 = RFC.predict(x_test_std_Pca)"
      ]
    },
    {
      "cell_type": "markdown",
      "metadata": {
        "id": "mb3MKLpayjwC"
      },
      "source": [
        "## Checking the Accuracy and confusion matrix for Random Forest Classifier."
      ]
    },
    {
      "cell_type": "code",
      "execution_count": null,
      "metadata": {
        "colab": {
          "base_uri": "https://localhost:8080/"
        },
        "id": "xsgWpxZHyjwC",
        "outputId": "929843a6-dcfd-4c41-8947-88591ea9fa44"
      },
      "outputs": [
        {
          "output_type": "stream",
          "name": "stdout",
          "text": [
            "Accuracy is :0.740\n",
            "The following is the f1_score:\n",
            "              precision    recall  f1-score   support\n",
            "\n",
            "           B       0.72      0.62      0.67        21\n",
            "          NB       0.75      0.83      0.79        29\n",
            "\n",
            "    accuracy                           0.74        50\n",
            "   macro avg       0.74      0.72      0.73        50\n",
            "weighted avg       0.74      0.74      0.74        50\n",
            "\n",
            "The following is the confusion matrix:\n",
            "[[13  8]\n",
            " [ 5 24]]\n"
          ]
        }
      ],
      "source": [
        "from sklearn.metrics import accuracy_score,classification_report,confusion_matrix\n",
        "scorecard = accuracy_score(y_test,y_pred5)\n",
        "print(\"Accuracy is :%.3f\"%scorecard)\n",
        "f1_score = classification_report(y_test,y_pred5)\n",
        "print(\"The following is the f1_score:\")\n",
        "print(f1_score)\n",
        "conf_mat = confusion_matrix(y_test,y_pred5)\n",
        "print(\"The following is the confusion matrix:\")\n",
        "print(conf_mat)"
      ]
    },
    {
      "cell_type": "markdown",
      "source": [
        "Top Left is TP, Bottom Right is TN, Top Right is FP, Bottom Left is FN"
      ],
      "metadata": {
        "id": "itN42GSq_IP3"
      }
    }
  ],
  "metadata": {
    "kernelspec": {
      "display_name": "Python 3",
      "language": "python",
      "name": "python3"
    },
    "language_info": {
      "codemirror_mode": {
        "name": "ipython",
        "version": 3
      },
      "file_extension": ".py",
      "mimetype": "text/x-python",
      "name": "python",
      "nbconvert_exporter": "python",
      "pygments_lexer": "ipython3",
      "version": "3.7.3"
    },
    "colab": {
      "name": "Unsupervised_Learning_Project_Qualitative_Bankruptcy_Vihan Parmar_Introduction to Analytics Computing Project.ipynb",
      "provenance": [],
      "collapsed_sections": []
    }
  },
  "nbformat": 4,
  "nbformat_minor": 0
}