{
 "cells": [
  {
   "cell_type": "markdown",
   "metadata": {
    "colab_type": "text",
    "id": "Z66fRKOeuHPg"
   },
   "source": [
    "## Supervised Learning - Building a Student Performace Prediction System  "
   ]
  },
  {
   "cell_type": "markdown",
   "metadata": {
    "colab_type": "text",
    "id": "YXt7PB5VuHPj"
   },
   "source": [
    "## Question 1 - Classification vs. Regression\n",
    "\n",
    "*The aim of this project is to predict how likely a student is to pass. Which type of supervised learning problem is this, classification or regression? Why?*\n",
    "\n",
    "#### Answer:\n",
    "This project is a classification supervised learning problem because the variable to predict, i.e. if a student graduates or fails to graduate, is categorical. On this case this a dichotomous categorical variable where the only two possible values are \"pass\" or \"fail\"."
   ]
  },
  {
   "cell_type": "markdown",
   "metadata": {
    "colab_type": "text",
    "id": "YW5BYFevuHPk"
   },
   "source": [
    "### Overview:\n",
    "\n",
    "1.Read the problem statement.\n",
    "\n",
    "2.Get the dataset.\n",
    "\n",
    "3.Explore the dataset.\n",
    "\n",
    "4.Pre-processing of dataset.\n",
    "\n",
    "5.Transform the dataset for building machine learning model.\n",
    "\n",
    "6.Split data into train, test set.\n",
    "\n",
    "7.Build Model.\n",
    "\n",
    "8.Apply the model.\n",
    "\n",
    "9.Evaluate the model.\n",
    "\n",
    "10.Provide insights."
   ]
  },
  {
   "cell_type": "markdown",
   "metadata": {
    "colab_type": "text",
    "id": "0gl2MdwkuHPl"
   },
   "source": [
    "## Problem Statement \n",
    "\n",
    "Using Logistic Regression **predict the performance of student**. The classification goal is to predict whether the student will pass or fail.\n",
    "\n",
    "## Dataset \n",
    "\n",
    "This data approach student achievement in secondary education of two Portuguese schools. The data attributes include student grades, demographic, social and school related features) and it was collected by using school reports and questionnaires. Two datasets are provided regarding the performance in Mathematics.\n",
    "\n",
    "**Source:** https://archive.ics.uci.edu/ml/datasets/Student+Performance\n"
   ]
  },
  {
   "cell_type": "markdown",
   "metadata": {
    "colab_type": "text",
    "id": "cHpGO_AGuHPm"
   },
   "source": [
    "## Question 2\n",
    "\n",
    "## Exploring the Data\n",
    "*Read the dataset file using pandas. Take care about the delimiter.*\n",
    "\n",
    "#### Answer:"
   ]
  },
  {
   "cell_type": "code",
   "execution_count": 1,
   "metadata": {
    "colab": {},
    "colab_type": "code",
    "id": "q3YEgKevuHPn"
   },
   "outputs": [],
   "source": [
    "%matplotlib inline\n",
    "\n",
    "# importing pandas to get the dataset into a grid format on which dataset transformation can be done\n",
    "import pandas as pd\n",
    "\n",
    "#importing library to make use of mathematical operators\n",
    "import math as m\n",
    "import numpy as np\n",
    "\n",
    "# to have good visualization\n",
    "import seaborn as sns\n",
    "import matplotlib.pyplot as plt\n",
    "\n",
    "# for splitting the dataset into test and train population\n",
    "from sklearn.model_selection import train_test_split\n",
    "from sklearn import metrics\n"
   ]
  },
  {
   "cell_type": "code",
   "execution_count": 2,
   "metadata": {
    "colab": {},
    "colab_type": "code",
    "id": "KHyQrv_muHPr",
    "scrolled": true
   },
   "outputs": [],
   "source": [
    "#importing the dataset with a seperator \";\"\n",
    "stu = pd.read_csv(\"students-data.csv\", sep=';')"
   ]
  },
  {
   "cell_type": "code",
   "execution_count": 3,
   "metadata": {
    "scrolled": false
   },
   "outputs": [
    {
     "data": {
      "text/html": [
       "<div>\n",
       "<style scoped>\n",
       "    .dataframe tbody tr th:only-of-type {\n",
       "        vertical-align: middle;\n",
       "    }\n",
       "\n",
       "    .dataframe tbody tr th {\n",
       "        vertical-align: top;\n",
       "    }\n",
       "\n",
       "    .dataframe thead th {\n",
       "        text-align: right;\n",
       "    }\n",
       "</style>\n",
       "<table border=\"1\" class=\"dataframe\">\n",
       "  <thead>\n",
       "    <tr style=\"text-align: right;\">\n",
       "      <th></th>\n",
       "      <th>school</th>\n",
       "      <th>sex</th>\n",
       "      <th>age</th>\n",
       "      <th>address</th>\n",
       "      <th>famsize</th>\n",
       "      <th>Pstatus</th>\n",
       "      <th>Medu</th>\n",
       "      <th>Fedu</th>\n",
       "      <th>Mjob</th>\n",
       "      <th>Fjob</th>\n",
       "      <th>...</th>\n",
       "      <th>famrel</th>\n",
       "      <th>freetime</th>\n",
       "      <th>goout</th>\n",
       "      <th>Dalc</th>\n",
       "      <th>Walc</th>\n",
       "      <th>health</th>\n",
       "      <th>absences</th>\n",
       "      <th>G1</th>\n",
       "      <th>G2</th>\n",
       "      <th>G3</th>\n",
       "    </tr>\n",
       "  </thead>\n",
       "  <tbody>\n",
       "    <tr>\n",
       "      <th>0</th>\n",
       "      <td>GP</td>\n",
       "      <td>F</td>\n",
       "      <td>18</td>\n",
       "      <td>U</td>\n",
       "      <td>GT3</td>\n",
       "      <td>A</td>\n",
       "      <td>4</td>\n",
       "      <td>4</td>\n",
       "      <td>at_home</td>\n",
       "      <td>teacher</td>\n",
       "      <td>...</td>\n",
       "      <td>4</td>\n",
       "      <td>3</td>\n",
       "      <td>4</td>\n",
       "      <td>1</td>\n",
       "      <td>1</td>\n",
       "      <td>3</td>\n",
       "      <td>6</td>\n",
       "      <td>5</td>\n",
       "      <td>6</td>\n",
       "      <td>6</td>\n",
       "    </tr>\n",
       "    <tr>\n",
       "      <th>1</th>\n",
       "      <td>GP</td>\n",
       "      <td>F</td>\n",
       "      <td>17</td>\n",
       "      <td>U</td>\n",
       "      <td>GT3</td>\n",
       "      <td>T</td>\n",
       "      <td>1</td>\n",
       "      <td>1</td>\n",
       "      <td>at_home</td>\n",
       "      <td>other</td>\n",
       "      <td>...</td>\n",
       "      <td>5</td>\n",
       "      <td>3</td>\n",
       "      <td>3</td>\n",
       "      <td>1</td>\n",
       "      <td>1</td>\n",
       "      <td>3</td>\n",
       "      <td>4</td>\n",
       "      <td>5</td>\n",
       "      <td>5</td>\n",
       "      <td>6</td>\n",
       "    </tr>\n",
       "    <tr>\n",
       "      <th>2</th>\n",
       "      <td>GP</td>\n",
       "      <td>F</td>\n",
       "      <td>15</td>\n",
       "      <td>U</td>\n",
       "      <td>LE3</td>\n",
       "      <td>T</td>\n",
       "      <td>1</td>\n",
       "      <td>1</td>\n",
       "      <td>at_home</td>\n",
       "      <td>other</td>\n",
       "      <td>...</td>\n",
       "      <td>4</td>\n",
       "      <td>3</td>\n",
       "      <td>2</td>\n",
       "      <td>2</td>\n",
       "      <td>3</td>\n",
       "      <td>3</td>\n",
       "      <td>10</td>\n",
       "      <td>7</td>\n",
       "      <td>8</td>\n",
       "      <td>10</td>\n",
       "    </tr>\n",
       "    <tr>\n",
       "      <th>3</th>\n",
       "      <td>GP</td>\n",
       "      <td>F</td>\n",
       "      <td>15</td>\n",
       "      <td>U</td>\n",
       "      <td>GT3</td>\n",
       "      <td>T</td>\n",
       "      <td>4</td>\n",
       "      <td>2</td>\n",
       "      <td>health</td>\n",
       "      <td>services</td>\n",
       "      <td>...</td>\n",
       "      <td>3</td>\n",
       "      <td>2</td>\n",
       "      <td>2</td>\n",
       "      <td>1</td>\n",
       "      <td>1</td>\n",
       "      <td>5</td>\n",
       "      <td>2</td>\n",
       "      <td>15</td>\n",
       "      <td>14</td>\n",
       "      <td>15</td>\n",
       "    </tr>\n",
       "    <tr>\n",
       "      <th>4</th>\n",
       "      <td>GP</td>\n",
       "      <td>F</td>\n",
       "      <td>16</td>\n",
       "      <td>U</td>\n",
       "      <td>GT3</td>\n",
       "      <td>T</td>\n",
       "      <td>3</td>\n",
       "      <td>3</td>\n",
       "      <td>other</td>\n",
       "      <td>other</td>\n",
       "      <td>...</td>\n",
       "      <td>4</td>\n",
       "      <td>3</td>\n",
       "      <td>2</td>\n",
       "      <td>1</td>\n",
       "      <td>2</td>\n",
       "      <td>5</td>\n",
       "      <td>4</td>\n",
       "      <td>6</td>\n",
       "      <td>10</td>\n",
       "      <td>10</td>\n",
       "    </tr>\n",
       "    <tr>\n",
       "      <th>5</th>\n",
       "      <td>GP</td>\n",
       "      <td>M</td>\n",
       "      <td>16</td>\n",
       "      <td>U</td>\n",
       "      <td>LE3</td>\n",
       "      <td>T</td>\n",
       "      <td>4</td>\n",
       "      <td>3</td>\n",
       "      <td>services</td>\n",
       "      <td>other</td>\n",
       "      <td>...</td>\n",
       "      <td>5</td>\n",
       "      <td>4</td>\n",
       "      <td>2</td>\n",
       "      <td>1</td>\n",
       "      <td>2</td>\n",
       "      <td>5</td>\n",
       "      <td>10</td>\n",
       "      <td>15</td>\n",
       "      <td>15</td>\n",
       "      <td>15</td>\n",
       "    </tr>\n",
       "    <tr>\n",
       "      <th>6</th>\n",
       "      <td>GP</td>\n",
       "      <td>M</td>\n",
       "      <td>16</td>\n",
       "      <td>U</td>\n",
       "      <td>LE3</td>\n",
       "      <td>T</td>\n",
       "      <td>2</td>\n",
       "      <td>2</td>\n",
       "      <td>other</td>\n",
       "      <td>other</td>\n",
       "      <td>...</td>\n",
       "      <td>4</td>\n",
       "      <td>4</td>\n",
       "      <td>4</td>\n",
       "      <td>1</td>\n",
       "      <td>1</td>\n",
       "      <td>3</td>\n",
       "      <td>0</td>\n",
       "      <td>12</td>\n",
       "      <td>12</td>\n",
       "      <td>11</td>\n",
       "    </tr>\n",
       "    <tr>\n",
       "      <th>7</th>\n",
       "      <td>GP</td>\n",
       "      <td>F</td>\n",
       "      <td>17</td>\n",
       "      <td>U</td>\n",
       "      <td>GT3</td>\n",
       "      <td>A</td>\n",
       "      <td>4</td>\n",
       "      <td>4</td>\n",
       "      <td>other</td>\n",
       "      <td>teacher</td>\n",
       "      <td>...</td>\n",
       "      <td>4</td>\n",
       "      <td>1</td>\n",
       "      <td>4</td>\n",
       "      <td>1</td>\n",
       "      <td>1</td>\n",
       "      <td>1</td>\n",
       "      <td>6</td>\n",
       "      <td>6</td>\n",
       "      <td>5</td>\n",
       "      <td>6</td>\n",
       "    </tr>\n",
       "    <tr>\n",
       "      <th>8</th>\n",
       "      <td>GP</td>\n",
       "      <td>M</td>\n",
       "      <td>15</td>\n",
       "      <td>U</td>\n",
       "      <td>LE3</td>\n",
       "      <td>A</td>\n",
       "      <td>3</td>\n",
       "      <td>2</td>\n",
       "      <td>services</td>\n",
       "      <td>other</td>\n",
       "      <td>...</td>\n",
       "      <td>4</td>\n",
       "      <td>2</td>\n",
       "      <td>2</td>\n",
       "      <td>1</td>\n",
       "      <td>1</td>\n",
       "      <td>1</td>\n",
       "      <td>0</td>\n",
       "      <td>16</td>\n",
       "      <td>18</td>\n",
       "      <td>19</td>\n",
       "    </tr>\n",
       "    <tr>\n",
       "      <th>9</th>\n",
       "      <td>GP</td>\n",
       "      <td>M</td>\n",
       "      <td>15</td>\n",
       "      <td>U</td>\n",
       "      <td>GT3</td>\n",
       "      <td>T</td>\n",
       "      <td>3</td>\n",
       "      <td>4</td>\n",
       "      <td>other</td>\n",
       "      <td>other</td>\n",
       "      <td>...</td>\n",
       "      <td>5</td>\n",
       "      <td>5</td>\n",
       "      <td>1</td>\n",
       "      <td>1</td>\n",
       "      <td>1</td>\n",
       "      <td>5</td>\n",
       "      <td>0</td>\n",
       "      <td>14</td>\n",
       "      <td>15</td>\n",
       "      <td>15</td>\n",
       "    </tr>\n",
       "  </tbody>\n",
       "</table>\n",
       "<p>10 rows × 33 columns</p>\n",
       "</div>"
      ],
      "text/plain": [
       "  school sex  age address famsize Pstatus  Medu  Fedu      Mjob      Fjob  \\\n",
       "0     GP   F   18       U     GT3       A     4     4   at_home   teacher   \n",
       "1     GP   F   17       U     GT3       T     1     1   at_home     other   \n",
       "2     GP   F   15       U     LE3       T     1     1   at_home     other   \n",
       "3     GP   F   15       U     GT3       T     4     2    health  services   \n",
       "4     GP   F   16       U     GT3       T     3     3     other     other   \n",
       "5     GP   M   16       U     LE3       T     4     3  services     other   \n",
       "6     GP   M   16       U     LE3       T     2     2     other     other   \n",
       "7     GP   F   17       U     GT3       A     4     4     other   teacher   \n",
       "8     GP   M   15       U     LE3       A     3     2  services     other   \n",
       "9     GP   M   15       U     GT3       T     3     4     other     other   \n",
       "\n",
       "   ... famrel freetime  goout  Dalc  Walc health absences  G1  G2  G3  \n",
       "0  ...      4        3      4     1     1      3        6   5   6   6  \n",
       "1  ...      5        3      3     1     1      3        4   5   5   6  \n",
       "2  ...      4        3      2     2     3      3       10   7   8  10  \n",
       "3  ...      3        2      2     1     1      5        2  15  14  15  \n",
       "4  ...      4        3      2     1     2      5        4   6  10  10  \n",
       "5  ...      5        4      2     1     2      5       10  15  15  15  \n",
       "6  ...      4        4      4     1     1      3        0  12  12  11  \n",
       "7  ...      4        1      4     1     1      1        6   6   5   6  \n",
       "8  ...      4        2      2     1     1      1        0  16  18  19  \n",
       "9  ...      5        5      1     1     1      5        0  14  15  15  \n",
       "\n",
       "[10 rows x 33 columns]"
      ]
     },
     "execution_count": 3,
     "metadata": {},
     "output_type": "execute_result"
    }
   ],
   "source": [
    "# looking for the top 10 observations of the dataset\n",
    "\n",
    "# We see a mix of categorical and numeric continuous variables\n",
    "\n",
    "stu.head(10)"
   ]
  },
  {
   "cell_type": "code",
   "execution_count": 4,
   "metadata": {},
   "outputs": [
    {
     "data": {
      "text/plain": [
       "(395, 33)"
      ]
     },
     "execution_count": 4,
     "metadata": {},
     "output_type": "execute_result"
    }
   ],
   "source": [
    "stu.shape\n",
    "\n",
    "# Basis the shape of the dataset, we could be dealing with the curse of dimentionality\n",
    "    # 32 input columns variability would be difficult to get captured by 395 observations\n",
    "    \n",
    "# We will still go forward with the data"
   ]
  },
  {
   "cell_type": "markdown",
   "metadata": {
    "colab_type": "text",
    "id": "BuwsTmYuuHPu"
   },
   "source": [
    "## Question 3\n",
    "## Drop missing values\n",
    "*Set the index name of the dataframe to **\"number\"**. Check sample of data to drop if any missing values are there.*\n",
    "\n",
    "#### Answer:"
   ]
  },
  {
   "cell_type": "code",
   "execution_count": 5,
   "metadata": {
    "colab": {},
    "colab_type": "code",
    "id": "EWbnH1HIuHPv",
    "scrolled": true
   },
   "outputs": [
    {
     "data": {
      "text/html": [
       "<div>\n",
       "<style scoped>\n",
       "    .dataframe tbody tr th:only-of-type {\n",
       "        vertical-align: middle;\n",
       "    }\n",
       "\n",
       "    .dataframe tbody tr th {\n",
       "        vertical-align: top;\n",
       "    }\n",
       "\n",
       "    .dataframe thead th {\n",
       "        text-align: right;\n",
       "    }\n",
       "</style>\n",
       "<table border=\"1\" class=\"dataframe\">\n",
       "  <thead>\n",
       "    <tr style=\"text-align: right;\">\n",
       "      <th></th>\n",
       "      <th>school</th>\n",
       "      <th>sex</th>\n",
       "      <th>age</th>\n",
       "      <th>address</th>\n",
       "      <th>famsize</th>\n",
       "      <th>Pstatus</th>\n",
       "      <th>Medu</th>\n",
       "      <th>Fedu</th>\n",
       "      <th>Mjob</th>\n",
       "      <th>Fjob</th>\n",
       "      <th>...</th>\n",
       "      <th>famrel</th>\n",
       "      <th>freetime</th>\n",
       "      <th>goout</th>\n",
       "      <th>Dalc</th>\n",
       "      <th>Walc</th>\n",
       "      <th>health</th>\n",
       "      <th>absences</th>\n",
       "      <th>G1</th>\n",
       "      <th>G2</th>\n",
       "      <th>G3</th>\n",
       "    </tr>\n",
       "    <tr>\n",
       "      <th>number</th>\n",
       "      <th></th>\n",
       "      <th></th>\n",
       "      <th></th>\n",
       "      <th></th>\n",
       "      <th></th>\n",
       "      <th></th>\n",
       "      <th></th>\n",
       "      <th></th>\n",
       "      <th></th>\n",
       "      <th></th>\n",
       "      <th></th>\n",
       "      <th></th>\n",
       "      <th></th>\n",
       "      <th></th>\n",
       "      <th></th>\n",
       "      <th></th>\n",
       "      <th></th>\n",
       "      <th></th>\n",
       "      <th></th>\n",
       "      <th></th>\n",
       "      <th></th>\n",
       "    </tr>\n",
       "  </thead>\n",
       "  <tbody>\n",
       "    <tr>\n",
       "      <th>0</th>\n",
       "      <td>GP</td>\n",
       "      <td>F</td>\n",
       "      <td>18</td>\n",
       "      <td>U</td>\n",
       "      <td>GT3</td>\n",
       "      <td>A</td>\n",
       "      <td>4</td>\n",
       "      <td>4</td>\n",
       "      <td>at_home</td>\n",
       "      <td>teacher</td>\n",
       "      <td>...</td>\n",
       "      <td>4</td>\n",
       "      <td>3</td>\n",
       "      <td>4</td>\n",
       "      <td>1</td>\n",
       "      <td>1</td>\n",
       "      <td>3</td>\n",
       "      <td>6</td>\n",
       "      <td>5</td>\n",
       "      <td>6</td>\n",
       "      <td>6</td>\n",
       "    </tr>\n",
       "    <tr>\n",
       "      <th>1</th>\n",
       "      <td>GP</td>\n",
       "      <td>F</td>\n",
       "      <td>17</td>\n",
       "      <td>U</td>\n",
       "      <td>GT3</td>\n",
       "      <td>T</td>\n",
       "      <td>1</td>\n",
       "      <td>1</td>\n",
       "      <td>at_home</td>\n",
       "      <td>other</td>\n",
       "      <td>...</td>\n",
       "      <td>5</td>\n",
       "      <td>3</td>\n",
       "      <td>3</td>\n",
       "      <td>1</td>\n",
       "      <td>1</td>\n",
       "      <td>3</td>\n",
       "      <td>4</td>\n",
       "      <td>5</td>\n",
       "      <td>5</td>\n",
       "      <td>6</td>\n",
       "    </tr>\n",
       "    <tr>\n",
       "      <th>2</th>\n",
       "      <td>GP</td>\n",
       "      <td>F</td>\n",
       "      <td>15</td>\n",
       "      <td>U</td>\n",
       "      <td>LE3</td>\n",
       "      <td>T</td>\n",
       "      <td>1</td>\n",
       "      <td>1</td>\n",
       "      <td>at_home</td>\n",
       "      <td>other</td>\n",
       "      <td>...</td>\n",
       "      <td>4</td>\n",
       "      <td>3</td>\n",
       "      <td>2</td>\n",
       "      <td>2</td>\n",
       "      <td>3</td>\n",
       "      <td>3</td>\n",
       "      <td>10</td>\n",
       "      <td>7</td>\n",
       "      <td>8</td>\n",
       "      <td>10</td>\n",
       "    </tr>\n",
       "    <tr>\n",
       "      <th>3</th>\n",
       "      <td>GP</td>\n",
       "      <td>F</td>\n",
       "      <td>15</td>\n",
       "      <td>U</td>\n",
       "      <td>GT3</td>\n",
       "      <td>T</td>\n",
       "      <td>4</td>\n",
       "      <td>2</td>\n",
       "      <td>health</td>\n",
       "      <td>services</td>\n",
       "      <td>...</td>\n",
       "      <td>3</td>\n",
       "      <td>2</td>\n",
       "      <td>2</td>\n",
       "      <td>1</td>\n",
       "      <td>1</td>\n",
       "      <td>5</td>\n",
       "      <td>2</td>\n",
       "      <td>15</td>\n",
       "      <td>14</td>\n",
       "      <td>15</td>\n",
       "    </tr>\n",
       "    <tr>\n",
       "      <th>4</th>\n",
       "      <td>GP</td>\n",
       "      <td>F</td>\n",
       "      <td>16</td>\n",
       "      <td>U</td>\n",
       "      <td>GT3</td>\n",
       "      <td>T</td>\n",
       "      <td>3</td>\n",
       "      <td>3</td>\n",
       "      <td>other</td>\n",
       "      <td>other</td>\n",
       "      <td>...</td>\n",
       "      <td>4</td>\n",
       "      <td>3</td>\n",
       "      <td>2</td>\n",
       "      <td>1</td>\n",
       "      <td>2</td>\n",
       "      <td>5</td>\n",
       "      <td>4</td>\n",
       "      <td>6</td>\n",
       "      <td>10</td>\n",
       "      <td>10</td>\n",
       "    </tr>\n",
       "  </tbody>\n",
       "</table>\n",
       "<p>5 rows × 33 columns</p>\n",
       "</div>"
      ],
      "text/plain": [
       "       school sex  age address famsize Pstatus  Medu  Fedu     Mjob      Fjob  \\\n",
       "number                                                                          \n",
       "0          GP   F   18       U     GT3       A     4     4  at_home   teacher   \n",
       "1          GP   F   17       U     GT3       T     1     1  at_home     other   \n",
       "2          GP   F   15       U     LE3       T     1     1  at_home     other   \n",
       "3          GP   F   15       U     GT3       T     4     2   health  services   \n",
       "4          GP   F   16       U     GT3       T     3     3    other     other   \n",
       "\n",
       "        ... famrel freetime  goout  Dalc  Walc health absences  G1  G2  G3  \n",
       "number  ...                                                                 \n",
       "0       ...      4        3      4     1     1      3        6   5   6   6  \n",
       "1       ...      5        3      3     1     1      3        4   5   5   6  \n",
       "2       ...      4        3      2     2     3      3       10   7   8  10  \n",
       "3       ...      3        2      2     1     1      5        2  15  14  15  \n",
       "4       ...      4        3      2     1     2      5        4   6  10  10  \n",
       "\n",
       "[5 rows x 33 columns]"
      ]
     },
     "execution_count": 5,
     "metadata": {},
     "output_type": "execute_result"
    }
   ],
   "source": [
    "#giving the index a label: \"number\"\n",
    "\n",
    "stu.index.name='number'\n",
    "stu.head()"
   ]
  },
  {
   "cell_type": "code",
   "execution_count": 6,
   "metadata": {
    "scrolled": true
   },
   "outputs": [
    {
     "name": "stdout",
     "output_type": "stream",
     "text": [
      "<class 'pandas.core.frame.DataFrame'>\n",
      "RangeIndex: 395 entries, 0 to 394\n",
      "Data columns (total 33 columns):\n",
      "school        395 non-null object\n",
      "sex           395 non-null object\n",
      "age           395 non-null int64\n",
      "address       395 non-null object\n",
      "famsize       395 non-null object\n",
      "Pstatus       395 non-null object\n",
      "Medu          395 non-null int64\n",
      "Fedu          395 non-null int64\n",
      "Mjob          395 non-null object\n",
      "Fjob          395 non-null object\n",
      "reason        395 non-null object\n",
      "guardian      395 non-null object\n",
      "traveltime    395 non-null int64\n",
      "studytime     395 non-null int64\n",
      "failures      395 non-null int64\n",
      "schoolsup     395 non-null object\n",
      "famsup        395 non-null object\n",
      "paid          395 non-null object\n",
      "activities    395 non-null object\n",
      "nursery       395 non-null object\n",
      "higher        395 non-null object\n",
      "internet      395 non-null object\n",
      "romantic      395 non-null object\n",
      "famrel        395 non-null int64\n",
      "freetime      395 non-null int64\n",
      "goout         395 non-null int64\n",
      "Dalc          395 non-null int64\n",
      "Walc          395 non-null int64\n",
      "health        395 non-null int64\n",
      "absences      395 non-null int64\n",
      "G1            395 non-null int64\n",
      "G2            395 non-null int64\n",
      "G3            395 non-null int64\n",
      "dtypes: int64(16), object(17)\n",
      "memory usage: 101.9+ KB\n"
     ]
    }
   ],
   "source": [
    "stu.info()\n",
    "\n",
    "# out of the 33 variables,\n",
    "#     17 are classified as object (either nominal or binary[string]) or int64(either continuous or binary[numeric])\n",
    "    \n",
    "# Also, there seems to be no null value in any of the variables as all have 395 entries\n",
    "#    and righly tagged as per the UCI page\n",
    "\n",
    "# But we still need to check if are there any character entry present in a column making it as an object "
   ]
  },
  {
   "cell_type": "code",
   "execution_count": 7,
   "metadata": {
    "scrolled": true
   },
   "outputs": [
    {
     "name": "stdout",
     "output_type": "stream",
     "text": [
      "Empty DataFrame\n",
      "Columns: [school]\n",
      "Index: []\n",
      "Empty DataFrame\n",
      "Columns: [sex]\n",
      "Index: []\n",
      "Empty DataFrame\n",
      "Columns: [address]\n",
      "Index: []\n",
      "Empty DataFrame\n",
      "Columns: [famsize]\n",
      "Index: []\n",
      "Empty DataFrame\n",
      "Columns: [Pstatus]\n",
      "Index: []\n",
      "Empty DataFrame\n",
      "Columns: [Mjob]\n",
      "Index: []\n",
      "Empty DataFrame\n",
      "Columns: [Fjob]\n",
      "Index: []\n",
      "Empty DataFrame\n",
      "Columns: [reason]\n",
      "Index: []\n",
      "Empty DataFrame\n",
      "Columns: [guardian]\n",
      "Index: []\n",
      "Empty DataFrame\n",
      "Columns: [schoolsup]\n",
      "Index: []\n",
      "Empty DataFrame\n",
      "Columns: [famsup]\n",
      "Index: []\n",
      "Empty DataFrame\n",
      "Columns: [paid]\n",
      "Index: []\n",
      "Empty DataFrame\n",
      "Columns: [activities]\n",
      "Index: []\n",
      "Empty DataFrame\n",
      "Columns: [nursery]\n",
      "Index: []\n",
      "Empty DataFrame\n",
      "Columns: [higher]\n",
      "Index: []\n",
      "Empty DataFrame\n",
      "Columns: [internet]\n",
      "Index: []\n",
      "Empty DataFrame\n",
      "Columns: [romantic]\n",
      "Index: []\n"
     ]
    }
   ],
   "source": [
    "#Checking for any numeric value in the object defined variables\n",
    "\n",
    "col = stu.select_dtypes(include= object).columns\n",
    "\n",
    "for i in col:\n",
    "    Temp = pd.DataFrame(stu[i].str.isdigit())\n",
    "    print(Temp[Temp[i] == True])\n",
    "\n",
    "#We see that no digit is present into the object defined variables. Thus, no missing values are present in the dataset"
   ]
  },
  {
   "cell_type": "code",
   "execution_count": 8,
   "metadata": {
    "scrolled": true
   },
   "outputs": [
    {
     "data": {
      "text/html": [
       "<div>\n",
       "<style scoped>\n",
       "    .dataframe tbody tr th:only-of-type {\n",
       "        vertical-align: middle;\n",
       "    }\n",
       "\n",
       "    .dataframe tbody tr th {\n",
       "        vertical-align: top;\n",
       "    }\n",
       "\n",
       "    .dataframe thead th {\n",
       "        text-align: right;\n",
       "    }\n",
       "</style>\n",
       "<table border=\"1\" class=\"dataframe\">\n",
       "  <thead>\n",
       "    <tr style=\"text-align: right;\">\n",
       "      <th></th>\n",
       "      <th>count</th>\n",
       "      <th>mean</th>\n",
       "      <th>std</th>\n",
       "      <th>min</th>\n",
       "      <th>25%</th>\n",
       "      <th>50%</th>\n",
       "      <th>75%</th>\n",
       "      <th>max</th>\n",
       "    </tr>\n",
       "  </thead>\n",
       "  <tbody>\n",
       "    <tr>\n",
       "      <th>age</th>\n",
       "      <td>395.0</td>\n",
       "      <td>16.696203</td>\n",
       "      <td>1.276043</td>\n",
       "      <td>15.0</td>\n",
       "      <td>16.0</td>\n",
       "      <td>17.0</td>\n",
       "      <td>18.0</td>\n",
       "      <td>22.0</td>\n",
       "    </tr>\n",
       "    <tr>\n",
       "      <th>Medu</th>\n",
       "      <td>395.0</td>\n",
       "      <td>2.749367</td>\n",
       "      <td>1.094735</td>\n",
       "      <td>0.0</td>\n",
       "      <td>2.0</td>\n",
       "      <td>3.0</td>\n",
       "      <td>4.0</td>\n",
       "      <td>4.0</td>\n",
       "    </tr>\n",
       "    <tr>\n",
       "      <th>Fedu</th>\n",
       "      <td>395.0</td>\n",
       "      <td>2.521519</td>\n",
       "      <td>1.088201</td>\n",
       "      <td>0.0</td>\n",
       "      <td>2.0</td>\n",
       "      <td>2.0</td>\n",
       "      <td>3.0</td>\n",
       "      <td>4.0</td>\n",
       "    </tr>\n",
       "    <tr>\n",
       "      <th>traveltime</th>\n",
       "      <td>395.0</td>\n",
       "      <td>1.448101</td>\n",
       "      <td>0.697505</td>\n",
       "      <td>1.0</td>\n",
       "      <td>1.0</td>\n",
       "      <td>1.0</td>\n",
       "      <td>2.0</td>\n",
       "      <td>4.0</td>\n",
       "    </tr>\n",
       "    <tr>\n",
       "      <th>studytime</th>\n",
       "      <td>395.0</td>\n",
       "      <td>2.035443</td>\n",
       "      <td>0.839240</td>\n",
       "      <td>1.0</td>\n",
       "      <td>1.0</td>\n",
       "      <td>2.0</td>\n",
       "      <td>2.0</td>\n",
       "      <td>4.0</td>\n",
       "    </tr>\n",
       "    <tr>\n",
       "      <th>failures</th>\n",
       "      <td>395.0</td>\n",
       "      <td>0.334177</td>\n",
       "      <td>0.743651</td>\n",
       "      <td>0.0</td>\n",
       "      <td>0.0</td>\n",
       "      <td>0.0</td>\n",
       "      <td>0.0</td>\n",
       "      <td>3.0</td>\n",
       "    </tr>\n",
       "    <tr>\n",
       "      <th>famrel</th>\n",
       "      <td>395.0</td>\n",
       "      <td>3.944304</td>\n",
       "      <td>0.896659</td>\n",
       "      <td>1.0</td>\n",
       "      <td>4.0</td>\n",
       "      <td>4.0</td>\n",
       "      <td>5.0</td>\n",
       "      <td>5.0</td>\n",
       "    </tr>\n",
       "    <tr>\n",
       "      <th>freetime</th>\n",
       "      <td>395.0</td>\n",
       "      <td>3.235443</td>\n",
       "      <td>0.998862</td>\n",
       "      <td>1.0</td>\n",
       "      <td>3.0</td>\n",
       "      <td>3.0</td>\n",
       "      <td>4.0</td>\n",
       "      <td>5.0</td>\n",
       "    </tr>\n",
       "    <tr>\n",
       "      <th>goout</th>\n",
       "      <td>395.0</td>\n",
       "      <td>3.108861</td>\n",
       "      <td>1.113278</td>\n",
       "      <td>1.0</td>\n",
       "      <td>2.0</td>\n",
       "      <td>3.0</td>\n",
       "      <td>4.0</td>\n",
       "      <td>5.0</td>\n",
       "    </tr>\n",
       "    <tr>\n",
       "      <th>Dalc</th>\n",
       "      <td>395.0</td>\n",
       "      <td>1.481013</td>\n",
       "      <td>0.890741</td>\n",
       "      <td>1.0</td>\n",
       "      <td>1.0</td>\n",
       "      <td>1.0</td>\n",
       "      <td>2.0</td>\n",
       "      <td>5.0</td>\n",
       "    </tr>\n",
       "    <tr>\n",
       "      <th>Walc</th>\n",
       "      <td>395.0</td>\n",
       "      <td>2.291139</td>\n",
       "      <td>1.287897</td>\n",
       "      <td>1.0</td>\n",
       "      <td>1.0</td>\n",
       "      <td>2.0</td>\n",
       "      <td>3.0</td>\n",
       "      <td>5.0</td>\n",
       "    </tr>\n",
       "    <tr>\n",
       "      <th>health</th>\n",
       "      <td>395.0</td>\n",
       "      <td>3.554430</td>\n",
       "      <td>1.390303</td>\n",
       "      <td>1.0</td>\n",
       "      <td>3.0</td>\n",
       "      <td>4.0</td>\n",
       "      <td>5.0</td>\n",
       "      <td>5.0</td>\n",
       "    </tr>\n",
       "    <tr>\n",
       "      <th>absences</th>\n",
       "      <td>395.0</td>\n",
       "      <td>5.708861</td>\n",
       "      <td>8.003096</td>\n",
       "      <td>0.0</td>\n",
       "      <td>0.0</td>\n",
       "      <td>4.0</td>\n",
       "      <td>8.0</td>\n",
       "      <td>75.0</td>\n",
       "    </tr>\n",
       "    <tr>\n",
       "      <th>G1</th>\n",
       "      <td>395.0</td>\n",
       "      <td>10.908861</td>\n",
       "      <td>3.319195</td>\n",
       "      <td>3.0</td>\n",
       "      <td>8.0</td>\n",
       "      <td>11.0</td>\n",
       "      <td>13.0</td>\n",
       "      <td>19.0</td>\n",
       "    </tr>\n",
       "    <tr>\n",
       "      <th>G2</th>\n",
       "      <td>395.0</td>\n",
       "      <td>10.713924</td>\n",
       "      <td>3.761505</td>\n",
       "      <td>0.0</td>\n",
       "      <td>9.0</td>\n",
       "      <td>11.0</td>\n",
       "      <td>13.0</td>\n",
       "      <td>19.0</td>\n",
       "    </tr>\n",
       "    <tr>\n",
       "      <th>G3</th>\n",
       "      <td>395.0</td>\n",
       "      <td>10.415190</td>\n",
       "      <td>4.581443</td>\n",
       "      <td>0.0</td>\n",
       "      <td>8.0</td>\n",
       "      <td>11.0</td>\n",
       "      <td>14.0</td>\n",
       "      <td>20.0</td>\n",
       "    </tr>\n",
       "  </tbody>\n",
       "</table>\n",
       "</div>"
      ],
      "text/plain": [
       "            count       mean       std   min   25%   50%   75%   max\n",
       "age         395.0  16.696203  1.276043  15.0  16.0  17.0  18.0  22.0\n",
       "Medu        395.0   2.749367  1.094735   0.0   2.0   3.0   4.0   4.0\n",
       "Fedu        395.0   2.521519  1.088201   0.0   2.0   2.0   3.0   4.0\n",
       "traveltime  395.0   1.448101  0.697505   1.0   1.0   1.0   2.0   4.0\n",
       "studytime   395.0   2.035443  0.839240   1.0   1.0   2.0   2.0   4.0\n",
       "failures    395.0   0.334177  0.743651   0.0   0.0   0.0   0.0   3.0\n",
       "famrel      395.0   3.944304  0.896659   1.0   4.0   4.0   5.0   5.0\n",
       "freetime    395.0   3.235443  0.998862   1.0   3.0   3.0   4.0   5.0\n",
       "goout       395.0   3.108861  1.113278   1.0   2.0   3.0   4.0   5.0\n",
       "Dalc        395.0   1.481013  0.890741   1.0   1.0   1.0   2.0   5.0\n",
       "Walc        395.0   2.291139  1.287897   1.0   1.0   2.0   3.0   5.0\n",
       "health      395.0   3.554430  1.390303   1.0   3.0   4.0   5.0   5.0\n",
       "absences    395.0   5.708861  8.003096   0.0   0.0   4.0   8.0  75.0\n",
       "G1          395.0  10.908861  3.319195   3.0   8.0  11.0  13.0  19.0\n",
       "G2          395.0  10.713924  3.761505   0.0   9.0  11.0  13.0  19.0\n",
       "G3          395.0  10.415190  4.581443   0.0   8.0  11.0  14.0  20.0"
      ]
     },
     "execution_count": 8,
     "metadata": {},
     "output_type": "execute_result"
    }
   ],
   "source": [
    "stu.describe().T\n",
    "\n",
    "# All variables looks in the range except the \"absences\" variable. THere seems to be a outlier with 75 days absent"
   ]
  },
  {
   "cell_type": "code",
   "execution_count": 9,
   "metadata": {
    "scrolled": true
   },
   "outputs": [
    {
     "name": "stdout",
     "output_type": "stream",
     "text": [
      "unique value of school is ['GP' 'MS']\n",
      "unique value of sex is ['F' 'M']\n",
      "unique value of age is [18 17 15 16 19 22 20 21]\n",
      "unique value of address is ['U' 'R']\n",
      "unique value of famsize is ['GT3' 'LE3']\n",
      "unique value of Pstatus is ['A' 'T']\n",
      "unique value of Medu is [4 1 3 2 0]\n",
      "unique value of Fedu is [4 1 2 3 0]\n",
      "unique value of Mjob is ['at_home' 'health' 'other' 'services' 'teacher']\n",
      "unique value of Fjob is ['teacher' 'other' 'services' 'health' 'at_home']\n",
      "unique value of reason is ['course' 'other' 'home' 'reputation']\n",
      "unique value of guardian is ['mother' 'father' 'other']\n",
      "unique value of traveltime is [2 1 3 4]\n",
      "unique value of studytime is [2 3 1 4]\n",
      "unique value of failures is [0 3 2 1]\n",
      "unique value of schoolsup is ['yes' 'no']\n",
      "unique value of famsup is ['no' 'yes']\n",
      "unique value of paid is ['no' 'yes']\n",
      "unique value of activities is ['no' 'yes']\n",
      "unique value of nursery is ['yes' 'no']\n",
      "unique value of higher is ['yes' 'no']\n",
      "unique value of internet is ['no' 'yes']\n",
      "unique value of romantic is ['no' 'yes']\n",
      "unique value of famrel is [4 5 3 1 2]\n",
      "unique value of freetime is [3 2 4 1 5]\n",
      "unique value of goout is [4 3 2 1 5]\n",
      "unique value of Dalc is [1 2 5 3 4]\n",
      "unique value of Walc is [1 3 2 4 5]\n",
      "unique value of health is [3 5 1 2 4]\n",
      "unique value of absences is [ 6  4 10  2  0 16 14  7  8 25 12 54 18 26 20 56 24 28  5 13 15 22  3 21\n",
      "  1 75 30 19  9 11 38 40 23 17]\n",
      "unique value of G1 is [ 5  7 15  6 12 16 14 10 13  8 11  9 17 19 18  4  3]\n",
      "unique value of G2 is [ 6  5  8 14 10 15 12 18 16 13  9 11  7 19 17  4  0]\n",
      "unique value of G3 is [ 6 10 15 11 19  9 12 14 16  5  8 17 18 13 20  7  0  4]\n"
     ]
    }
   ],
   "source": [
    "# Checking Unique values\n",
    "\n",
    "col = stu.columns\n",
    "\n",
    "for i in col:\n",
    "    print(\"unique value of\" , i , \"is\" , stu[i].unique())\n",
    "    \n",
    "# just checking and getting an idea how the data looks like,\n",
    "    # we find that even though there are numerical variables, they corrospond to a category encoded as a numeric\n",
    "    \n",
    "# descriptive stats like like variance and others will depend on the units in which they are defined. Thus\n",
    "    # inferencing basic the descriptive stats will not be completely correct"
   ]
  },
  {
   "cell_type": "markdown",
   "metadata": {
    "colab_type": "text",
    "id": "2_P3ODMKuHP2"
   },
   "source": [
    "## Transform Data\n",
    "\n",
    "*Print all the attribute names which are not numerical.*\n",
    "\n",
    "**Hint:** check **select_dtypes()** and its **include** and **exclude** parameters.**\n",
    "\n",
    "#### Answer:"
   ]
  },
  {
   "cell_type": "code",
   "execution_count": 10,
   "metadata": {
    "colab": {},
    "colab_type": "code",
    "id": "bW1v3TuZuHP3"
   },
   "outputs": [
    {
     "name": "stdout",
     "output_type": "stream",
     "text": [
      "Index(['school', 'sex', 'address', 'famsize', 'Pstatus', 'Mjob', 'Fjob',\n",
      "       'reason', 'guardian', 'schoolsup', 'famsup', 'paid', 'activities',\n",
      "       'nursery', 'higher', 'internet', 'romantic'],\n",
      "      dtype='object')\n"
     ]
    }
   ],
   "source": [
    "col = stu.select_dtypes(include= object).columns\n",
    "print(col)\n",
    "\n",
    "# we get the list of the variables which are of the type \"object\""
   ]
  },
  {
   "cell_type": "markdown",
   "metadata": {
    "colab_type": "text",
    "id": "zTXZpxq5uHP7"
   },
   "source": [
    "## Drop variables with less variance\n",
    "\n",
    "*Find the variance of each numerical independent variable and drop whose variance is less than 1.*"
   ]
  },
  {
   "cell_type": "code",
   "execution_count": 11,
   "metadata": {
    "colab": {},
    "colab_type": "code",
    "id": "0Soz0W4vuHP8",
    "scrolled": true
   },
   "outputs": [
    {
     "name": "stdout",
     "output_type": "stream",
     "text": [
      "Index(['age', 'Medu', 'Fedu', 'traveltime', 'studytime', 'failures', 'famrel',\n",
      "       'freetime', 'goout', 'Dalc', 'Walc', 'health', 'absences', 'G1', 'G2'],\n",
      "      dtype='object')\n",
      "<class 'list'>\n",
      "Variance of age is 1.6282850350189455\n",
      "Variance of Medu is 1.1984450298785598\n",
      "Variance of Fedu is 1.184180427938061\n",
      "Variance of traveltime is 0.4865128831202245\n",
      "Variance of studytime is 0.704324359056738\n",
      "Variance of failures is 0.553016770545522\n",
      "Variance of famrel is 0.8039966587418893\n",
      "Variance of freetime is 0.9977253742851635\n",
      "Variance of goout is 1.2393882927456121\n",
      "Variance of Dalc is 0.7934202917175335\n",
      "Variance of Walc is 1.6586776328471353\n",
      "Variance of health is 1.9329435198869143\n",
      "Variance of absences is 64.04954057700951\n",
      "Variance of G1 is 11.017053267364899\n",
      "Variance of G2 is 14.148917303861756\n",
      "['traveltime', 'studytime', 'failures', 'famrel', 'freetime', 'Dalc']\n"
     ]
    },
    {
     "data": {
      "text/html": [
       "<div>\n",
       "<style scoped>\n",
       "    .dataframe tbody tr th:only-of-type {\n",
       "        vertical-align: middle;\n",
       "    }\n",
       "\n",
       "    .dataframe tbody tr th {\n",
       "        vertical-align: top;\n",
       "    }\n",
       "\n",
       "    .dataframe thead th {\n",
       "        text-align: right;\n",
       "    }\n",
       "</style>\n",
       "<table border=\"1\" class=\"dataframe\">\n",
       "  <thead>\n",
       "    <tr style=\"text-align: right;\">\n",
       "      <th></th>\n",
       "      <th>school</th>\n",
       "      <th>sex</th>\n",
       "      <th>age</th>\n",
       "      <th>address</th>\n",
       "      <th>famsize</th>\n",
       "      <th>Pstatus</th>\n",
       "      <th>Medu</th>\n",
       "      <th>Fedu</th>\n",
       "      <th>Mjob</th>\n",
       "      <th>Fjob</th>\n",
       "      <th>...</th>\n",
       "      <th>higher</th>\n",
       "      <th>internet</th>\n",
       "      <th>romantic</th>\n",
       "      <th>goout</th>\n",
       "      <th>Walc</th>\n",
       "      <th>health</th>\n",
       "      <th>absences</th>\n",
       "      <th>G1</th>\n",
       "      <th>G2</th>\n",
       "      <th>G3</th>\n",
       "    </tr>\n",
       "    <tr>\n",
       "      <th>number</th>\n",
       "      <th></th>\n",
       "      <th></th>\n",
       "      <th></th>\n",
       "      <th></th>\n",
       "      <th></th>\n",
       "      <th></th>\n",
       "      <th></th>\n",
       "      <th></th>\n",
       "      <th></th>\n",
       "      <th></th>\n",
       "      <th></th>\n",
       "      <th></th>\n",
       "      <th></th>\n",
       "      <th></th>\n",
       "      <th></th>\n",
       "      <th></th>\n",
       "      <th></th>\n",
       "      <th></th>\n",
       "      <th></th>\n",
       "      <th></th>\n",
       "      <th></th>\n",
       "    </tr>\n",
       "  </thead>\n",
       "  <tbody>\n",
       "    <tr>\n",
       "      <th>0</th>\n",
       "      <td>GP</td>\n",
       "      <td>F</td>\n",
       "      <td>18</td>\n",
       "      <td>U</td>\n",
       "      <td>GT3</td>\n",
       "      <td>A</td>\n",
       "      <td>4</td>\n",
       "      <td>4</td>\n",
       "      <td>at_home</td>\n",
       "      <td>teacher</td>\n",
       "      <td>...</td>\n",
       "      <td>yes</td>\n",
       "      <td>no</td>\n",
       "      <td>no</td>\n",
       "      <td>4</td>\n",
       "      <td>1</td>\n",
       "      <td>3</td>\n",
       "      <td>6</td>\n",
       "      <td>5</td>\n",
       "      <td>6</td>\n",
       "      <td>6</td>\n",
       "    </tr>\n",
       "    <tr>\n",
       "      <th>1</th>\n",
       "      <td>GP</td>\n",
       "      <td>F</td>\n",
       "      <td>17</td>\n",
       "      <td>U</td>\n",
       "      <td>GT3</td>\n",
       "      <td>T</td>\n",
       "      <td>1</td>\n",
       "      <td>1</td>\n",
       "      <td>at_home</td>\n",
       "      <td>other</td>\n",
       "      <td>...</td>\n",
       "      <td>yes</td>\n",
       "      <td>yes</td>\n",
       "      <td>no</td>\n",
       "      <td>3</td>\n",
       "      <td>1</td>\n",
       "      <td>3</td>\n",
       "      <td>4</td>\n",
       "      <td>5</td>\n",
       "      <td>5</td>\n",
       "      <td>6</td>\n",
       "    </tr>\n",
       "    <tr>\n",
       "      <th>2</th>\n",
       "      <td>GP</td>\n",
       "      <td>F</td>\n",
       "      <td>15</td>\n",
       "      <td>U</td>\n",
       "      <td>LE3</td>\n",
       "      <td>T</td>\n",
       "      <td>1</td>\n",
       "      <td>1</td>\n",
       "      <td>at_home</td>\n",
       "      <td>other</td>\n",
       "      <td>...</td>\n",
       "      <td>yes</td>\n",
       "      <td>yes</td>\n",
       "      <td>no</td>\n",
       "      <td>2</td>\n",
       "      <td>3</td>\n",
       "      <td>3</td>\n",
       "      <td>10</td>\n",
       "      <td>7</td>\n",
       "      <td>8</td>\n",
       "      <td>10</td>\n",
       "    </tr>\n",
       "    <tr>\n",
       "      <th>3</th>\n",
       "      <td>GP</td>\n",
       "      <td>F</td>\n",
       "      <td>15</td>\n",
       "      <td>U</td>\n",
       "      <td>GT3</td>\n",
       "      <td>T</td>\n",
       "      <td>4</td>\n",
       "      <td>2</td>\n",
       "      <td>health</td>\n",
       "      <td>services</td>\n",
       "      <td>...</td>\n",
       "      <td>yes</td>\n",
       "      <td>yes</td>\n",
       "      <td>yes</td>\n",
       "      <td>2</td>\n",
       "      <td>1</td>\n",
       "      <td>5</td>\n",
       "      <td>2</td>\n",
       "      <td>15</td>\n",
       "      <td>14</td>\n",
       "      <td>15</td>\n",
       "    </tr>\n",
       "    <tr>\n",
       "      <th>4</th>\n",
       "      <td>GP</td>\n",
       "      <td>F</td>\n",
       "      <td>16</td>\n",
       "      <td>U</td>\n",
       "      <td>GT3</td>\n",
       "      <td>T</td>\n",
       "      <td>3</td>\n",
       "      <td>3</td>\n",
       "      <td>other</td>\n",
       "      <td>other</td>\n",
       "      <td>...</td>\n",
       "      <td>yes</td>\n",
       "      <td>no</td>\n",
       "      <td>no</td>\n",
       "      <td>2</td>\n",
       "      <td>2</td>\n",
       "      <td>5</td>\n",
       "      <td>4</td>\n",
       "      <td>6</td>\n",
       "      <td>10</td>\n",
       "      <td>10</td>\n",
       "    </tr>\n",
       "  </tbody>\n",
       "</table>\n",
       "<p>5 rows × 27 columns</p>\n",
       "</div>"
      ],
      "text/plain": [
       "       school sex  age address famsize Pstatus  Medu  Fedu     Mjob      Fjob  \\\n",
       "number                                                                          \n",
       "0          GP   F   18       U     GT3       A     4     4  at_home   teacher   \n",
       "1          GP   F   17       U     GT3       T     1     1  at_home     other   \n",
       "2          GP   F   15       U     LE3       T     1     1  at_home     other   \n",
       "3          GP   F   15       U     GT3       T     4     2   health  services   \n",
       "4          GP   F   16       U     GT3       T     3     3    other     other   \n",
       "\n",
       "        ... higher internet romantic goout Walc health absences  G1  G2  G3  \n",
       "number  ...                                                                  \n",
       "0       ...    yes       no       no     4    1      3        6   5   6   6  \n",
       "1       ...    yes      yes       no     3    1      3        4   5   5   6  \n",
       "2       ...    yes      yes       no     2    3      3       10   7   8  10  \n",
       "3       ...    yes      yes      yes     2    1      5        2  15  14  15  \n",
       "4       ...    yes       no       no     2    2      5        4   6  10  10  \n",
       "\n",
       "[5 rows x 27 columns]"
      ]
     },
     "execution_count": 11,
     "metadata": {},
     "output_type": "execute_result"
    }
   ],
   "source": [
    "\n",
    "ind = stu.select_dtypes(exclude = object).columns[0:-1]\n",
    "print(ind)\n",
    "# it gives us the list of variables which are non-object in nature (numeric in our case) and we drop the last variable\n",
    "#     as it is our dependent variable\n",
    "\n",
    "# to identify the low variance variable and to store them in a array, we are defining a array called \"Low_var\"\n",
    "Low_Var = []\n",
    "print(type(Low_Var))\n",
    "\n",
    "# Variance of each variable can be found by using var() function and variables with variance < 1 are stored in Low_var\n",
    "for i in ind:\n",
    "    print(\"Variance of\", i , \"is\", stu[i].var())\n",
    "    \n",
    "    if stu[i].var() < 1:\n",
    "        Low_Var.append(i)        \n",
    "print(Low_Var)\n",
    "\n",
    "# Variables with var() < 1 are droped and the remaining variables are stored into a new dataframe \" Stu_2\"\n",
    "Stu_2 = stu.drop(Low_Var, axis = 1)\n",
    "Stu_2.head()\n",
    "\n",
    "# We are left with 27 variables including the dependent variable"
   ]
  },
  {
   "cell_type": "code",
   "execution_count": 12,
   "metadata": {
    "colab": {},
    "colab_type": "code",
    "id": "u8Qm0728uHQA",
    "scrolled": true
   },
   "outputs": [
    {
     "data": {
      "image/png": "[encoded data removed]",
      "text/plain": [
       "<Figure size 432x288 with 1 Axes>"
      ]
     },
     "metadata": {
      "needs_background": "light"
     },
     "output_type": "display_data"
    },
    {
     "data": {
      "image/png": "[encoded data removed]",
      "text/plain": [
       "<Figure size 432x288 with 1 Axes>"
      ]
     },
     "metadata": {
      "needs_background": "light"
     },
     "output_type": "display_data"
    },
    {
     "data": {
      "image/png": "[encoded data removed]",
      "text/plain": [
       "<Figure size 432x288 with 1 Axes>"
      ]
     },
     "metadata": {
      "needs_background": "light"
     },
     "output_type": "display_data"
    },
    {
     "data": {
      "image/png": "[encoded data removed]",
      "text/plain": [
       "<Figure size 432x288 with 1 Axes>"
      ]
     },
     "metadata": {
      "needs_background": "light"
     },
     "output_type": "display_data"
    },
    {
     "data": {
      "image/png": "[encoded data removed]",
      "text/plain": [
       "<Figure size 432x288 with 1 Axes>"
      ]
     },
     "metadata": {
      "needs_background": "light"
     },
     "output_type": "display_data"
    },
    {
     "data": {
      "image/png": "[encoded data removed]",
      "text/plain": [
       "<Figure size 432x288 with 1 Axes>"
      ]
     },
     "metadata": {
      "needs_background": "light"
     },
     "output_type": "display_data"
    },
    {
     "data": {
      "image/png": "[encoded data removed]",
      "text/plain": [
       "<Figure size 432x288 with 1 Axes>"
      ]
     },
     "metadata": {
      "needs_background": "light"
     },
     "output_type": "display_data"
    },
    {
     "data": {
      "image/png": "[encoded data removed]",
      "text/plain": [
       "<Figure size 432x288 with 1 Axes>"
      ]
     },
     "metadata": {
      "needs_background": "light"
     },
     "output_type": "display_data"
    },
    {
     "data": {
      "image/png": "[encoded data removed]",
      "text/plain": [
       "<Figure size 432x288 with 1 Axes>"
      ]
     },
     "metadata": {
      "needs_background": "light"
     },
     "output_type": "display_data"
    },
    {
     "data": {
      "image/png": "[encoded data removed]",
      "text/plain": [
       "<Figure size 432x288 with 1 Axes>"
      ]
     },
     "metadata": {
      "needs_background": "light"
     },
     "output_type": "display_data"
    },
    {
     "data": {
      "image/png": "[encoded data removed]",
      "text/plain": [
       "<Figure size 432x288 with 1 Axes>"
      ]
     },
     "metadata": {
      "needs_background": "light"
     },
     "output_type": "display_data"
    },
    {
     "data": {
      "image/png": "[encoded data removed]",
      "text/plain": [
       "<Figure size 432x288 with 1 Axes>"
      ]
     },
     "metadata": {
      "needs_background": "light"
     },
     "output_type": "display_data"
    },
    {
     "data": {
      "image/png": "[encoded data removed]",
      "text/plain": [
       "<Figure size 432x288 with 1 Axes>"
      ]
     },
     "metadata": {
      "needs_background": "light"
     },
     "output_type": "display_data"
    },
    {
     "data": {
      "image/png": "[encoded data removed]",
      "text/plain": [
       "<Figure size 432x288 with 1 Axes>"
      ]
     },
     "metadata": {
      "needs_background": "light"
     },
     "output_type": "display_data"
    },
    {
     "data": {
      "image/png": "[encoded data removed]",
      "text/plain": [
       "<Figure size 432x288 with 1 Axes>"
      ]
     },
     "metadata": {
      "needs_background": "light"
     },
     "output_type": "display_data"
    },
    {
     "data": {
      "image/png": "[encoded data removed]",
      "text/plain": [
       "<Figure size 432x288 with 1 Axes>"
      ]
     },
     "metadata": {
      "needs_background": "light"
     },
     "output_type": "display_data"
    },
    {
     "data": {
      "image/png": "[encoded data removed]",
      "text/plain": [
       "<Figure size 432x288 with 1 Axes>"
      ]
     },
     "metadata": {
      "needs_background": "light"
     },
     "output_type": "display_data"
    },
    {
     "data": {
      "image/png": "[encoded data removed]",
      "text/plain": [
       "<Figure size 432x288 with 1 Axes>"
      ]
     },
     "metadata": {
      "needs_background": "light"
     },
     "output_type": "display_data"
    },
    {
     "data": {
      "image/png": "[encoded data removed]",
      "text/plain": [
       "<Figure size 432x288 with 1 Axes>"
      ]
     },
     "metadata": {
      "needs_background": "light"
     },
     "output_type": "display_data"
    },
    {
     "data": {
      "image/png": "[encoded data removed]",
      "text/plain": [
       "<Figure size 432x288 with 1 Axes>"
      ]
     },
     "metadata": {
      "needs_background": "light"
     },
     "output_type": "display_data"
    },
    {
     "data": {
      "image/png": "[encoded data removed]",
      "text/plain": [
       "<Figure size 432x288 with 1 Axes>"
      ]
     },
     "metadata": {
      "needs_background": "light"
     },
     "output_type": "display_data"
    },
    {
     "data": {
      "image/png": "[encoded data removed]",
      "text/plain": [
       "<Figure size 432x288 with 1 Axes>"
      ]
     },
     "metadata": {
      "needs_background": "light"
     },
     "output_type": "display_data"
    },
    {
     "data": {
      "image/png": "[encoded data removed]",
      "text/plain": [
       "<Figure size 432x288 with 1 Axes>"
      ]
     },
     "metadata": {
      "needs_background": "light"
     },
     "output_type": "display_data"
    },
    {
     "data": {
      "image/png": "[encoded data removed]",
      "text/plain": [
       "<Figure size 432x288 with 1 Axes>"
      ]
     },
     "metadata": {
      "needs_background": "light"
     },
     "output_type": "display_data"
    },
    {
     "data": {
      "image/png": "[encoded data removed]",
      "text/plain": [
       "<Figure size 432x288 with 1 Axes>"
      ]
     },
     "metadata": {
      "needs_background": "light"
     },
     "output_type": "display_data"
    },
    {
     "data": {
      "image/png": "[encoded data removed]",
      "text/plain": [
       "<Figure size 432x288 with 1 Axes>"
      ]
     },
     "metadata": {
      "needs_background": "light"
     },
     "output_type": "display_data"
    },
    {
     "data": {
      "image/png": "[encoded data removed]",
      "text/plain": [
       "<Figure size 432x288 with 1 Axes>"
      ]
     },
     "metadata": {
      "needs_background": "light"
     },
     "output_type": "display_data"
    },
    {
     "data": {
      "image/png": "[encoded data removed]",
      "text/plain": [
       "<Figure size 432x288 with 1 Axes>"
      ]
     },
     "metadata": {
      "needs_background": "light"
     },
     "output_type": "display_data"
    },
    {
     "data": {
      "image/png": "[encoded data removed]",
      "text/plain": [
       "<Figure size 432x288 with 1 Axes>"
      ]
     },
     "metadata": {
      "needs_background": "light"
     },
     "output_type": "display_data"
    },
    {
     "data": {
      "image/png": "[encoded data removed]",
      "text/plain": [
       "<Figure size 432x288 with 1 Axes>"
      ]
     },
     "metadata": {
      "needs_background": "light"
     },
     "output_type": "display_data"
    },
    {
     "data": {
      "image/png": "[encoded data removed]",
      "text/plain": [
       "<Figure size 432x288 with 1 Axes>"
      ]
     },
     "metadata": {
      "needs_background": "light"
     },
     "output_type": "display_data"
    },
    {
     "data": {
      "image/png": "[encoded data removed]",
      "text/plain": [
       "<Figure size 432x288 with 1 Axes>"
      ]
     },
     "metadata": {
      "needs_background": "light"
     },
     "output_type": "display_data"
    }
   ],
   "source": [
    "# To get a sense of the frequesncy distribution of all the varaibles, we are ploting the countplot for all variables\n",
    "\n",
    "# Please not, we are doing this operation on the original dataset (\"stu\") and not on the new one (\"Stu_2\")\n",
    "\n",
    "# Also, to perform this, we have assumed all the variables as a categorical variables basis the unique value seen before\n",
    "\n",
    "ind = stu.columns[0:-1];\n",
    "for i in ind:\n",
    "    sns.countplot(x = i, data= stu)\n",
    "    plt.show()\n",
    "    \n",
    "# Observations:\n",
    "        # Variables like \"School\", \"Pstatus\", \"failures\",\"schoolsup\", \"nursury\",\"higher\", \"internet\" are highly\n",
    "        # biased in one category which could be a potential differenciator in the grades\n",
    "        \n",
    "        # Other variables like \"activities\" and \"paid\" have almost equal distribuion among the 2 categories\n",
    "        \n",
    "        # We might want to look at a comparitive understanding of the variables"
   ]
  },
  {
   "cell_type": "code",
   "execution_count": 13,
   "metadata": {
    "colab": {},
    "colab_type": "code",
    "id": "a0NDh0lTuHQE",
    "scrolled": true
   },
   "outputs": [
    {
     "name": "stdout",
     "output_type": "stream",
     "text": [
      "school and age are corelated\n",
      "school and address are corelated\n",
      "school and Medu are corelated\n",
      "school and traveltime are corelated\n",
      "school and famsup are corelated\n",
      "sex and Mjob are corelated\n",
      "sex and studytime are corelated\n",
      "sex and famsup are corelated\n",
      "sex and freetime are corelated\n",
      "sex and Dalc are corelated\n",
      "sex and Walc are corelated\n",
      "age and address are corelated\n",
      "age and guardian are corelated\n",
      "age and failures are corelated\n",
      "age and schoolsup are corelated\n",
      "age and higher are corelated\n",
      "age and Dalc are corelated\n",
      "age and Walc are corelated\n",
      "age and absences are corelated\n",
      "address and traveltime are corelated\n",
      "address and internet are corelated\n",
      "Medu and Fedu are corelated\n",
      "Medu and Mjob are corelated\n",
      "Medu and Fjob are corelated\n",
      "Medu and failures are corelated\n",
      "Medu and nursery are corelated\n",
      "Medu and internet are corelated\n",
      "Fedu and Mjob are corelated\n",
      "Fedu and Fjob are corelated\n",
      "Fedu and failures are corelated\n",
      "Mjob and Fjob are corelated\n",
      "Mjob and internet are corelated\n",
      "reason and studytime are corelated\n",
      "guardian and failures are corelated\n",
      "guardian and nursery are corelated\n",
      "guardian and health are corelated\n",
      "traveltime and Dalc are corelated\n",
      "traveltime and Walc are corelated\n",
      "studytime and paid are corelated\n",
      "studytime and higher are corelated\n",
      "studytime and Dalc are corelated\n",
      "studytime and Walc are corelated\n",
      "failures and paid are corelated\n",
      "failures and higher are corelated\n",
      "failures and goout are corelated\n",
      "failures and G1 are corelated\n",
      "failures and G2 are corelated\n",
      "schoolsup and G1 are corelated\n",
      "famsup and paid are corelated\n",
      "paid and higher are corelated\n",
      "paid and internet are corelated\n",
      "freetime and goout are corelated\n",
      "freetime and Walc are corelated\n",
      "goout and Dalc are corelated\n",
      "goout and Walc are corelated\n",
      "Dalc and Walc are corelated\n",
      "Dalc and absences are corelated\n",
      "G1 and G2 are corelated\n",
      "['studytime', 'Medu', 'age', 'goout', 'sex', 'freetime', 'address', 'Dalc', 'G1', 'traveltime', 'paid', 'guardian', 'school', 'reason', 'failures', 'Fedu', 'schoolsup', 'famsup', 'Mjob']\n"
     ]
    }
   ],
   "source": [
    "# To understand the dependency of the variables onto each other, and going forward with the assumption of all variable\n",
    "#     be categorical variables, we are performing a Chi-square test of Independence on all variable combinations\n",
    "    \n",
    "# Alternate hypothesis will be if the p-value of the Chi2 Test is less than 0.005 then the two variables are corelated\n",
    "\n",
    "# Excluding the variables which are corelated to the other variables could be a method to select the variables \n",
    "#    rather purely considering variables with variance > 1\n",
    "    \n",
    "\n",
    "#***************************************************************************#\n",
    "\n",
    "# From all the columns, creating a list with all the possible combinations (nCr: where n = # of variables, r = 2)\n",
    "import itertools\n",
    "col = stu.columns[0:-1];\n",
    "A = list(itertools.combinations(col, 2))\n",
    "\n",
    "# Dummy varaible to store all the variables with are corelated\n",
    "ditch = [];\n",
    "\n",
    "# Performing Chi2 test of Independence on the all possible pairs and storing the corelated variables into \"ditch\"\n",
    "import scipy\n",
    "\n",
    "for (x,y) in A:\n",
    "    TT = pd.crosstab(stu[x],stu[y])\n",
    "    \n",
    "    chi2, p, ddof, expected = scipy.stats.chi2_contingency(TT)\n",
    "    if p <= 0.005:\n",
    "        print(x,\"and\",y,\"are corelated\")\n",
    "        ditch.append(x)\n",
    "        \n",
    "ditch = set(ditch)\n",
    "ditch = list(ditch)\n",
    "print(ditch)\n",
    "\n",
    "# We find there are 19 variables which seems to be corealated with other variablea among all 32 independent variables"
   ]
  },
  {
   "cell_type": "markdown",
   "metadata": {
    "colab_type": "text",
    "id": "3Y2CYTIXuHQJ"
   },
   "source": [
    "## Question 4 - Encode all categorical variables to numerical\n",
    "\n",
    "Take the list of categorical attributes(from the above result) and convert them into neumerical variables. After that, print the head of dataframe and check the values.\n",
    "\n",
    "**Hint:** check **sklearn LabelEncoder()**\n",
    "\n",
    "#### Answer:"
   ]
  },
  {
   "cell_type": "code",
   "execution_count": 14,
   "metadata": {
    "colab": {},
    "colab_type": "code",
    "id": "ZmNpYg_WuHQK"
   },
   "outputs": [
    {
     "data": {
      "text/plain": [
       "(395, 27)"
      ]
     },
     "execution_count": 14,
     "metadata": {},
     "output_type": "execute_result"
    }
   ],
   "source": [
    "# Going forward we are going to use \"Stu_2\" as the main dataset as it has variables with var >= 1\n",
    "\n",
    "# Shape of the dataframe: 395 x 27\n",
    "Stu_2 = stu.drop(Low_Var, axis = 1)\n",
    "Stu_2.head()\n",
    "\n",
    "Stu_2.head()\n",
    "Stu_2.shape"
   ]
  },
  {
   "cell_type": "code",
   "execution_count": 15,
   "metadata": {
    "scrolled": true
   },
   "outputs": [
    {
     "name": "stdout",
     "output_type": "stream",
     "text": [
      "Index(['school', 'sex', 'address', 'famsize', 'Pstatus', 'Mjob', 'Fjob',\n",
      "       'reason', 'guardian', 'schoolsup', 'famsup', 'paid', 'activities',\n",
      "       'nursery', 'higher', 'internet', 'romantic'],\n",
      "      dtype='object')\n",
      "school [0 1]\n",
      "sex [0 1]\n",
      "address [1 0]\n",
      "famsize [0 1]\n",
      "Pstatus [0 1]\n",
      "Mjob [0 1 2 3 4]\n",
      "Fjob [4 2 3 1 0]\n",
      "reason [0 2 1 3]\n",
      "guardian [1 0 2]\n",
      "schoolsup [1 0]\n",
      "famsup [0 1]\n",
      "paid [0 1]\n",
      "activities [0 1]\n",
      "nursery [1 0]\n",
      "higher [1 0]\n",
      "internet [0 1]\n",
      "romantic [0 1]\n",
      "<class 'pandas.core.frame.DataFrame'>\n",
      "RangeIndex: 395 entries, 0 to 394\n",
      "Data columns (total 27 columns):\n",
      "school        395 non-null int32\n",
      "sex           395 non-null int32\n",
      "age           395 non-null int64\n",
      "address       395 non-null int32\n",
      "famsize       395 non-null int32\n",
      "Pstatus       395 non-null int32\n",
      "Medu          395 non-null int64\n",
      "Fedu          395 non-null int64\n",
      "Mjob          395 non-null int32\n",
      "Fjob          395 non-null int32\n",
      "reason        395 non-null int32\n",
      "guardian      395 non-null int32\n",
      "schoolsup     395 non-null int32\n",
      "famsup        395 non-null int32\n",
      "paid          395 non-null int32\n",
      "activities    395 non-null int32\n",
      "nursery       395 non-null int32\n",
      "higher        395 non-null int32\n",
      "internet      395 non-null int32\n",
      "romantic      395 non-null int32\n",
      "goout         395 non-null int64\n",
      "Walc          395 non-null int64\n",
      "health        395 non-null int64\n",
      "absences      395 non-null int64\n",
      "G1            395 non-null int64\n",
      "G2            395 non-null int64\n",
      "G3            395 non-null int64\n",
      "dtypes: int32(17), int64(10)\n",
      "memory usage: 57.2 KB\n"
     ]
    },
    {
     "data": {
      "text/html": [
       "<div>\n",
       "<style scoped>\n",
       "    .dataframe tbody tr th:only-of-type {\n",
       "        vertical-align: middle;\n",
       "    }\n",
       "\n",
       "    .dataframe tbody tr th {\n",
       "        vertical-align: top;\n",
       "    }\n",
       "\n",
       "    .dataframe thead th {\n",
       "        text-align: right;\n",
       "    }\n",
       "</style>\n",
       "<table border=\"1\" class=\"dataframe\">\n",
       "  <thead>\n",
       "    <tr style=\"text-align: right;\">\n",
       "      <th></th>\n",
       "      <th>school</th>\n",
       "      <th>sex</th>\n",
       "      <th>age</th>\n",
       "      <th>address</th>\n",
       "      <th>famsize</th>\n",
       "      <th>Pstatus</th>\n",
       "      <th>Medu</th>\n",
       "      <th>Fedu</th>\n",
       "      <th>Mjob</th>\n",
       "      <th>Fjob</th>\n",
       "      <th>...</th>\n",
       "      <th>higher</th>\n",
       "      <th>internet</th>\n",
       "      <th>romantic</th>\n",
       "      <th>goout</th>\n",
       "      <th>Walc</th>\n",
       "      <th>health</th>\n",
       "      <th>absences</th>\n",
       "      <th>G1</th>\n",
       "      <th>G2</th>\n",
       "      <th>G3</th>\n",
       "    </tr>\n",
       "    <tr>\n",
       "      <th>number</th>\n",
       "      <th></th>\n",
       "      <th></th>\n",
       "      <th></th>\n",
       "      <th></th>\n",
       "      <th></th>\n",
       "      <th></th>\n",
       "      <th></th>\n",
       "      <th></th>\n",
       "      <th></th>\n",
       "      <th></th>\n",
       "      <th></th>\n",
       "      <th></th>\n",
       "      <th></th>\n",
       "      <th></th>\n",
       "      <th></th>\n",
       "      <th></th>\n",
       "      <th></th>\n",
       "      <th></th>\n",
       "      <th></th>\n",
       "      <th></th>\n",
       "      <th></th>\n",
       "    </tr>\n",
       "  </thead>\n",
       "  <tbody>\n",
       "    <tr>\n",
       "      <th>0</th>\n",
       "      <td>0</td>\n",
       "      <td>0</td>\n",
       "      <td>18</td>\n",
       "      <td>1</td>\n",
       "      <td>0</td>\n",
       "      <td>0</td>\n",
       "      <td>4</td>\n",
       "      <td>4</td>\n",
       "      <td>0</td>\n",
       "      <td>4</td>\n",
       "      <td>...</td>\n",
       "      <td>1</td>\n",
       "      <td>0</td>\n",
       "      <td>0</td>\n",
       "      <td>4</td>\n",
       "      <td>1</td>\n",
       "      <td>3</td>\n",
       "      <td>6</td>\n",
       "      <td>5</td>\n",
       "      <td>6</td>\n",
       "      <td>6</td>\n",
       "    </tr>\n",
       "    <tr>\n",
       "      <th>1</th>\n",
       "      <td>0</td>\n",
       "      <td>0</td>\n",
       "      <td>17</td>\n",
       "      <td>1</td>\n",
       "      <td>0</td>\n",
       "      <td>1</td>\n",
       "      <td>1</td>\n",
       "      <td>1</td>\n",
       "      <td>0</td>\n",
       "      <td>2</td>\n",
       "      <td>...</td>\n",
       "      <td>1</td>\n",
       "      <td>1</td>\n",
       "      <td>0</td>\n",
       "      <td>3</td>\n",
       "      <td>1</td>\n",
       "      <td>3</td>\n",
       "      <td>4</td>\n",
       "      <td>5</td>\n",
       "      <td>5</td>\n",
       "      <td>6</td>\n",
       "    </tr>\n",
       "    <tr>\n",
       "      <th>2</th>\n",
       "      <td>0</td>\n",
       "      <td>0</td>\n",
       "      <td>15</td>\n",
       "      <td>1</td>\n",
       "      <td>1</td>\n",
       "      <td>1</td>\n",
       "      <td>1</td>\n",
       "      <td>1</td>\n",
       "      <td>0</td>\n",
       "      <td>2</td>\n",
       "      <td>...</td>\n",
       "      <td>1</td>\n",
       "      <td>1</td>\n",
       "      <td>0</td>\n",
       "      <td>2</td>\n",
       "      <td>3</td>\n",
       "      <td>3</td>\n",
       "      <td>10</td>\n",
       "      <td>7</td>\n",
       "      <td>8</td>\n",
       "      <td>10</td>\n",
       "    </tr>\n",
       "    <tr>\n",
       "      <th>3</th>\n",
       "      <td>0</td>\n",
       "      <td>0</td>\n",
       "      <td>15</td>\n",
       "      <td>1</td>\n",
       "      <td>0</td>\n",
       "      <td>1</td>\n",
       "      <td>4</td>\n",
       "      <td>2</td>\n",
       "      <td>1</td>\n",
       "      <td>3</td>\n",
       "      <td>...</td>\n",
       "      <td>1</td>\n",
       "      <td>1</td>\n",
       "      <td>1</td>\n",
       "      <td>2</td>\n",
       "      <td>1</td>\n",
       "      <td>5</td>\n",
       "      <td>2</td>\n",
       "      <td>15</td>\n",
       "      <td>14</td>\n",
       "      <td>15</td>\n",
       "    </tr>\n",
       "    <tr>\n",
       "      <th>4</th>\n",
       "      <td>0</td>\n",
       "      <td>0</td>\n",
       "      <td>16</td>\n",
       "      <td>1</td>\n",
       "      <td>0</td>\n",
       "      <td>1</td>\n",
       "      <td>3</td>\n",
       "      <td>3</td>\n",
       "      <td>2</td>\n",
       "      <td>2</td>\n",
       "      <td>...</td>\n",
       "      <td>1</td>\n",
       "      <td>0</td>\n",
       "      <td>0</td>\n",
       "      <td>2</td>\n",
       "      <td>2</td>\n",
       "      <td>5</td>\n",
       "      <td>4</td>\n",
       "      <td>6</td>\n",
       "      <td>10</td>\n",
       "      <td>10</td>\n",
       "    </tr>\n",
       "  </tbody>\n",
       "</table>\n",
       "<p>5 rows × 27 columns</p>\n",
       "</div>"
      ],
      "text/plain": [
       "        school  sex  age  address  famsize  Pstatus  Medu  Fedu  Mjob  Fjob  \\\n",
       "number                                                                        \n",
       "0            0    0   18        1        0        0     4     4     0     4   \n",
       "1            0    0   17        1        0        1     1     1     0     2   \n",
       "2            0    0   15        1        1        1     1     1     0     2   \n",
       "3            0    0   15        1        0        1     4     2     1     3   \n",
       "4            0    0   16        1        0        1     3     3     2     2   \n",
       "\n",
       "        ...  higher  internet  romantic  goout  Walc  health  absences  G1  \\\n",
       "number  ...                                                                  \n",
       "0       ...       1         0         0      4     1       3         6   5   \n",
       "1       ...       1         1         0      3     1       3         4   5   \n",
       "2       ...       1         1         0      2     3       3        10   7   \n",
       "3       ...       1         1         1      2     1       5         2  15   \n",
       "4       ...       1         0         0      2     2       5         4   6   \n",
       "\n",
       "        G2  G3  \n",
       "number          \n",
       "0        6   6  \n",
       "1        5   6  \n",
       "2        8  10  \n",
       "3       14  15  \n",
       "4       10  10  \n",
       "\n",
       "[5 rows x 27 columns]"
      ]
     },
     "execution_count": 15,
     "metadata": {},
     "output_type": "execute_result"
    }
   ],
   "source": [
    "# As observed before with the unique values, all the current categorical variables doesnot have a order, so we can\n",
    "#    go froward with labelEncoder() rather than ordinalEncoder\n",
    "    \n",
    "from sklearn.preprocessing import LabelEncoder\n",
    "\n",
    "inc = Stu_2.select_dtypes(include = object).columns\n",
    "print(inc)\n",
    "le = LabelEncoder()\n",
    "\n",
    "for i in inc:\n",
    "    Stu_2[i]= le.fit_transform(Stu_2[i]) \n",
    "    print(i,Stu_2[i].unique()) \n",
    "\n",
    "Stu_2.info()\n",
    "Stu_2.head()"
   ]
  },
  {
   "cell_type": "markdown",
   "metadata": {
    "colab_type": "text",
    "id": "4W-GbCYXuHQO"
   },
   "source": [
    "## Question 5 - Convert the continuous values of grades into classes\n",
    "\n",
    "*Consider the values in G1, G2 and G3 with >= 10 as pass(1) and < 10 as fail(0) and encode them into binary values. Print head of dataframe to check the values.*\n",
    "\n",
    "#### Answer:"
   ]
  },
  {
   "cell_type": "code",
   "execution_count": 16,
   "metadata": {
    "colab": {},
    "colab_type": "code",
    "id": "SlELxBQ0uHQP"
   },
   "outputs": [
    {
     "name": "stdout",
     "output_type": "stream",
     "text": [
      "Index(['G1', 'G2', 'G3'], dtype='object')\n",
      "Unique values of G1 is [0 1]\n",
      "Unique values of G2 is [0 1]\n",
      "Unique values of G3 is [0 1]\n"
     ]
    },
    {
     "data": {
      "text/html": [
       "<div>\n",
       "<style scoped>\n",
       "    .dataframe tbody tr th:only-of-type {\n",
       "        vertical-align: middle;\n",
       "    }\n",
       "\n",
       "    .dataframe tbody tr th {\n",
       "        vertical-align: top;\n",
       "    }\n",
       "\n",
       "    .dataframe thead th {\n",
       "        text-align: right;\n",
       "    }\n",
       "</style>\n",
       "<table border=\"1\" class=\"dataframe\">\n",
       "  <thead>\n",
       "    <tr style=\"text-align: right;\">\n",
       "      <th></th>\n",
       "      <th>school</th>\n",
       "      <th>sex</th>\n",
       "      <th>age</th>\n",
       "      <th>address</th>\n",
       "      <th>famsize</th>\n",
       "      <th>Pstatus</th>\n",
       "      <th>Medu</th>\n",
       "      <th>Fedu</th>\n",
       "      <th>Mjob</th>\n",
       "      <th>Fjob</th>\n",
       "      <th>...</th>\n",
       "      <th>higher</th>\n",
       "      <th>internet</th>\n",
       "      <th>romantic</th>\n",
       "      <th>goout</th>\n",
       "      <th>Walc</th>\n",
       "      <th>health</th>\n",
       "      <th>absences</th>\n",
       "      <th>G1</th>\n",
       "      <th>G2</th>\n",
       "      <th>G3</th>\n",
       "    </tr>\n",
       "    <tr>\n",
       "      <th>number</th>\n",
       "      <th></th>\n",
       "      <th></th>\n",
       "      <th></th>\n",
       "      <th></th>\n",
       "      <th></th>\n",
       "      <th></th>\n",
       "      <th></th>\n",
       "      <th></th>\n",
       "      <th></th>\n",
       "      <th></th>\n",
       "      <th></th>\n",
       "      <th></th>\n",
       "      <th></th>\n",
       "      <th></th>\n",
       "      <th></th>\n",
       "      <th></th>\n",
       "      <th></th>\n",
       "      <th></th>\n",
       "      <th></th>\n",
       "      <th></th>\n",
       "      <th></th>\n",
       "    </tr>\n",
       "  </thead>\n",
       "  <tbody>\n",
       "    <tr>\n",
       "      <th>0</th>\n",
       "      <td>0</td>\n",
       "      <td>0</td>\n",
       "      <td>18</td>\n",
       "      <td>1</td>\n",
       "      <td>0</td>\n",
       "      <td>0</td>\n",
       "      <td>4</td>\n",
       "      <td>4</td>\n",
       "      <td>0</td>\n",
       "      <td>4</td>\n",
       "      <td>...</td>\n",
       "      <td>1</td>\n",
       "      <td>0</td>\n",
       "      <td>0</td>\n",
       "      <td>4</td>\n",
       "      <td>1</td>\n",
       "      <td>3</td>\n",
       "      <td>6</td>\n",
       "      <td>0</td>\n",
       "      <td>0</td>\n",
       "      <td>0</td>\n",
       "    </tr>\n",
       "    <tr>\n",
       "      <th>1</th>\n",
       "      <td>0</td>\n",
       "      <td>0</td>\n",
       "      <td>17</td>\n",
       "      <td>1</td>\n",
       "      <td>0</td>\n",
       "      <td>1</td>\n",
       "      <td>1</td>\n",
       "      <td>1</td>\n",
       "      <td>0</td>\n",
       "      <td>2</td>\n",
       "      <td>...</td>\n",
       "      <td>1</td>\n",
       "      <td>1</td>\n",
       "      <td>0</td>\n",
       "      <td>3</td>\n",
       "      <td>1</td>\n",
       "      <td>3</td>\n",
       "      <td>4</td>\n",
       "      <td>0</td>\n",
       "      <td>0</td>\n",
       "      <td>0</td>\n",
       "    </tr>\n",
       "    <tr>\n",
       "      <th>2</th>\n",
       "      <td>0</td>\n",
       "      <td>0</td>\n",
       "      <td>15</td>\n",
       "      <td>1</td>\n",
       "      <td>1</td>\n",
       "      <td>1</td>\n",
       "      <td>1</td>\n",
       "      <td>1</td>\n",
       "      <td>0</td>\n",
       "      <td>2</td>\n",
       "      <td>...</td>\n",
       "      <td>1</td>\n",
       "      <td>1</td>\n",
       "      <td>0</td>\n",
       "      <td>2</td>\n",
       "      <td>3</td>\n",
       "      <td>3</td>\n",
       "      <td>10</td>\n",
       "      <td>0</td>\n",
       "      <td>0</td>\n",
       "      <td>1</td>\n",
       "    </tr>\n",
       "    <tr>\n",
       "      <th>3</th>\n",
       "      <td>0</td>\n",
       "      <td>0</td>\n",
       "      <td>15</td>\n",
       "      <td>1</td>\n",
       "      <td>0</td>\n",
       "      <td>1</td>\n",
       "      <td>4</td>\n",
       "      <td>2</td>\n",
       "      <td>1</td>\n",
       "      <td>3</td>\n",
       "      <td>...</td>\n",
       "      <td>1</td>\n",
       "      <td>1</td>\n",
       "      <td>1</td>\n",
       "      <td>2</td>\n",
       "      <td>1</td>\n",
       "      <td>5</td>\n",
       "      <td>2</td>\n",
       "      <td>1</td>\n",
       "      <td>1</td>\n",
       "      <td>1</td>\n",
       "    </tr>\n",
       "    <tr>\n",
       "      <th>4</th>\n",
       "      <td>0</td>\n",
       "      <td>0</td>\n",
       "      <td>16</td>\n",
       "      <td>1</td>\n",
       "      <td>0</td>\n",
       "      <td>1</td>\n",
       "      <td>3</td>\n",
       "      <td>3</td>\n",
       "      <td>2</td>\n",
       "      <td>2</td>\n",
       "      <td>...</td>\n",
       "      <td>1</td>\n",
       "      <td>0</td>\n",
       "      <td>0</td>\n",
       "      <td>2</td>\n",
       "      <td>2</td>\n",
       "      <td>5</td>\n",
       "      <td>4</td>\n",
       "      <td>0</td>\n",
       "      <td>1</td>\n",
       "      <td>1</td>\n",
       "    </tr>\n",
       "  </tbody>\n",
       "</table>\n",
       "<p>5 rows × 27 columns</p>\n",
       "</div>"
      ],
      "text/plain": [
       "        school  sex  age  address  famsize  Pstatus  Medu  Fedu  Mjob  Fjob  \\\n",
       "number                                                                        \n",
       "0            0    0   18        1        0        0     4     4     0     4   \n",
       "1            0    0   17        1        0        1     1     1     0     2   \n",
       "2            0    0   15        1        1        1     1     1     0     2   \n",
       "3            0    0   15        1        0        1     4     2     1     3   \n",
       "4            0    0   16        1        0        1     3     3     2     2   \n",
       "\n",
       "        ...  higher  internet  romantic  goout  Walc  health  absences  G1  \\\n",
       "number  ...                                                                  \n",
       "0       ...       1         0         0      4     1       3         6   0   \n",
       "1       ...       1         1         0      3     1       3         4   0   \n",
       "2       ...       1         1         0      2     3       3        10   0   \n",
       "3       ...       1         1         1      2     1       5         2   1   \n",
       "4       ...       1         0         0      2     2       5         4   0   \n",
       "\n",
       "        G2  G3  \n",
       "number          \n",
       "0        0   0  \n",
       "1        0   0  \n",
       "2        0   1  \n",
       "3        1   1  \n",
       "4        1   1  \n",
       "\n",
       "[5 rows x 27 columns]"
      ]
     },
     "execution_count": 16,
     "metadata": {},
     "output_type": "execute_result"
    }
   ],
   "source": [
    "# Encolding the \"G1\", \"G2\" and \"G3\" into \"0 & 1\"\n",
    "\n",
    "col = Stu_2.columns[-3:]\n",
    "print(col)\n",
    "\n",
    "for i in col:\n",
    "    aa = (Stu_2[i].unique())\n",
    "    #print(type(aa))\n",
    "    bb = aa[aa>=10]\n",
    "    cc = aa[aa<10]\n",
    "    #print(bb)\n",
    "    Stu_2[i].replace(cc,0, inplace = True)\n",
    "    Stu_2[i].replace(bb,1, inplace = True)\n",
    "    print(\"Unique values of\",i,\"is\",Stu_2[i].unique())\n",
    "\n",
    "Stu_2.head()"
   ]
  },
  {
   "cell_type": "markdown",
   "metadata": {
    "colab_type": "text",
    "id": "kO7O6UW3uHQU"
   },
   "source": [
    "## Question 6 \n",
    "*Consider G3 is the target attribute and remaining all attributes as features to predict G3. Now, separate features and target into separate dataframes and name them X and y respectively.*"
   ]
  },
  {
   "cell_type": "code",
   "execution_count": 17,
   "metadata": {
    "colab": {},
    "colab_type": "code",
    "id": "vCvntE0YuHQW",
    "scrolled": true
   },
   "outputs": [
    {
     "name": "stdout",
     "output_type": "stream",
     "text": [
      "        school  sex  age  address  famsize  Pstatus  Medu  Fedu  Mjob  Fjob  \\\n",
      "number                                                                        \n",
      "0            0    0   18        1        0        0     4     4     0     4   \n",
      "1            0    0   17        1        0        1     1     1     0     2   \n",
      "2            0    0   15        1        1        1     1     1     0     2   \n",
      "3            0    0   15        1        0        1     4     2     1     3   \n",
      "4            0    0   16        1        0        1     3     3     2     2   \n",
      "\n",
      "        ...  nursery  higher  internet  romantic  goout  Walc  health  \\\n",
      "number  ...                                                             \n",
      "0       ...        1       1         0         0      4     1       3   \n",
      "1       ...        0       1         1         0      3     1       3   \n",
      "2       ...        1       1         1         0      2     3       3   \n",
      "3       ...        1       1         1         1      2     1       5   \n",
      "4       ...        1       1         0         0      2     2       5   \n",
      "\n",
      "        absences  G1  G2  \n",
      "number                    \n",
      "0              6   0   0  \n",
      "1              4   0   0  \n",
      "2             10   0   0  \n",
      "3              2   1   1  \n",
      "4              4   0   1  \n",
      "\n",
      "[5 rows x 26 columns]\n",
      "number\n",
      "0    0\n",
      "1    0\n",
      "2    1\n",
      "3    1\n",
      "4    1\n",
      "Name: G3, dtype: int64\n",
      "(395, 26)\n",
      "(395,)\n"
     ]
    }
   ],
   "source": [
    "# Seperating the feature and target variables into 2 different datasets\n",
    "\n",
    "X = Stu_2.iloc[:,0:-1];\n",
    "y = Stu_2.iloc[:,-1];\n",
    "\n",
    "print(X.head())\n",
    "print(y.head())\n",
    "print(X.shape)\n",
    "print(y.shape)"
   ]
  },
  {
   "cell_type": "markdown",
   "metadata": {
    "colab_type": "text",
    "id": "_CP-ZqsPuHQa"
   },
   "source": [
    "## Visualization\n",
    "\n",
    "## Question 7\n",
    "\n",
    "*Plot G2 and G3 and give your understanding on relation between both variables.*"
   ]
  },
  {
   "cell_type": "code",
   "execution_count": 18,
   "metadata": {
    "colab": {},
    "colab_type": "code",
    "id": "eh8o8rW_uHQb",
    "scrolled": true
   },
   "outputs": [
    {
     "data": {
      "image/png": "[encoded data removed]",
      "text/plain": [
       "<Figure size 432x288 with 1 Axes>"
      ]
     },
     "metadata": {
      "needs_background": "light"
     },
     "output_type": "display_data"
    },
    {
     "data": {
      "image/png": "[encoded data removed]",
      "text/plain": [
       "<Figure size 432x288 with 1 Axes>"
      ]
     },
     "metadata": {
      "needs_background": "light"
     },
     "output_type": "display_data"
    },
    {
     "name": "stdout",
     "output_type": "stream",
     "text": [
      "1.0985791994647682e-59\n",
      "G2 and G3 are corelated\n"
     ]
    },
    {
     "data": {
      "text/html": [
       "<div>\n",
       "<style scoped>\n",
       "    .dataframe tbody tr th:only-of-type {\n",
       "        vertical-align: middle;\n",
       "    }\n",
       "\n",
       "    .dataframe tbody tr th {\n",
       "        vertical-align: top;\n",
       "    }\n",
       "\n",
       "    .dataframe thead th {\n",
       "        text-align: right;\n",
       "    }\n",
       "</style>\n",
       "<table border=\"1\" class=\"dataframe\">\n",
       "  <thead>\n",
       "    <tr style=\"text-align: right;\">\n",
       "      <th>G3</th>\n",
       "      <th>0</th>\n",
       "      <th>1</th>\n",
       "    </tr>\n",
       "    <tr>\n",
       "      <th>G2</th>\n",
       "      <th></th>\n",
       "      <th></th>\n",
       "    </tr>\n",
       "  </thead>\n",
       "  <tbody>\n",
       "    <tr>\n",
       "      <th>0</th>\n",
       "      <td>122</td>\n",
       "      <td>24</td>\n",
       "    </tr>\n",
       "    <tr>\n",
       "      <th>1</th>\n",
       "      <td>8</td>\n",
       "      <td>241</td>\n",
       "    </tr>\n",
       "  </tbody>\n",
       "</table>\n",
       "</div>"
      ],
      "text/plain": [
       "G3    0    1\n",
       "G2          \n",
       "0   122   24\n",
       "1     8  241"
      ]
     },
     "execution_count": 18,
     "metadata": {},
     "output_type": "execute_result"
    },
    {
     "data": {
      "image/png": "[encoded data removed]",
      "text/plain": [
       "<Figure size 720x720 with 2 Axes>"
      ]
     },
     "metadata": {
      "needs_background": "light"
     },
     "output_type": "display_data"
    }
   ],
   "source": [
    "# PLoting  \"G2\" - frequency plot\n",
    "sns.countplot(x= \"G2\", data=Stu_2)\n",
    "plt.show()\n",
    "\n",
    "# Ploting \"G3\" - frequency plot\n",
    "sns.countplot(x = \"G3\", data = Stu_2)\n",
    "plt.show()\n",
    "\n",
    "# Making a crosstab between the two variables to understand the similarity\n",
    "cross = pd.crosstab(Stu_2[\"G2\"],Stu_2[\"G3\"])\n",
    "\n",
    "# Making a heatmap of the crosstab for easy visualization\n",
    "df = cross;\n",
    "\n",
    "f = plt.figure(figsize=(10, 10))\n",
    "plt.matshow(df, fignum=f.number)\n",
    "plt.xticks(Stu_2[\"G2\"].unique(),labels=[\"G2<10\",\"G2>10\"], fontsize=14, rotation=45)\n",
    "plt.yticks(Stu_2[\"G3\"].unique(),labels=[\"G3<10\",\"G3>10\"], fontsize=14)\n",
    "cb = plt.colorbar()\n",
    "cb.ax.tick_params(labelsize=14)\n",
    "plt.title('Cross Tab of G2 & G3', fontsize=16);\n",
    "\n",
    "\n",
    "# Performing a Chi2 test on the two variables to statistically infer on the dependency  \n",
    "import scipy\n",
    "\n",
    "chi2, p, ddof, expected = scipy.stats.chi2_contingency(cross)\n",
    "print(p)\n",
    "if p <= 0.005:\n",
    "    print(\"G2\",\"and\",\"G3\",\"are corelated\")\n",
    "\n",
    "cross"
   ]
  },
  {
   "cell_type": "markdown",
   "metadata": {
    "colab_type": "text",
    "id": "8O10W9U6uHQh"
   },
   "source": [
    "## Question 8\n",
    "\n",
    "*Plot the number of students in each school and number of students with different ages in separate plots.*"
   ]
  },
  {
   "cell_type": "code",
   "execution_count": 19,
   "metadata": {
    "colab": {},
    "colab_type": "code",
    "id": "FPBcJEPvuHQj"
   },
   "outputs": [
    {
     "data": {
      "image/png": "[encoded data removed]",
      "text/plain": [
       "<Figure size 432x288 with 1 Axes>"
      ]
     },
     "metadata": {
      "needs_background": "light"
     },
     "output_type": "display_data"
    }
   ],
   "source": [
    "# Ploting \"school\" variable - frequency plot\n",
    "# We see that it is skewed to one category (Gabriel Pereira school)\n",
    "\n",
    "sns.countplot(x= \"school\", data=Stu_2)\n",
    "plt.show()\n"
   ]
  },
  {
   "cell_type": "code",
   "execution_count": 20,
   "metadata": {
    "colab": {},
    "colab_type": "code",
    "id": "zpl9q12IuHQo"
   },
   "outputs": [
    {
     "data": {
      "image/png": "[encoded data removed]",
      "text/plain": [
       "<Figure size 432x288 with 1 Axes>"
      ]
     },
     "metadata": {
      "needs_background": "light"
     },
     "output_type": "display_data"
    }
   ],
   "source": [
    "# Ploting \"age\" variable - frequency plot\n",
    "# We see that students largly fall ina age bracket between [15,19] with few outliers\n",
    "\n",
    "sns.countplot(x = \"age\", data = Stu_2)\n",
    "plt.show()"
   ]
  },
  {
   "cell_type": "markdown",
   "metadata": {
    "colab_type": "text",
    "id": "8UP-m3juuHQv"
   },
   "source": [
    "## Question 9 - Training and testing data split"
   ]
  },
  {
   "cell_type": "markdown",
   "metadata": {
    "colab_type": "text",
    "id": "ePBT0v6TuHQw"
   },
   "source": [
    "*So far, you have converted all categorical features into numeric values. Now, split the data into training and test sets with training size of 300 records. Print the number of train and test records.*\n",
    "\n",
    "**Hint:** check **train_test_split()** from **sklearn**\n",
    "\n",
    "#### Answer:"
   ]
  },
  {
   "cell_type": "code",
   "execution_count": 21,
   "metadata": {
    "colab": {},
    "colab_type": "code",
    "id": "Nu5ULZAVuHQz"
   },
   "outputs": [
    {
     "name": "stdout",
     "output_type": "stream",
     "text": [
      "(300, 26)\n",
      "(95, 26)\n",
      "(300,)\n",
      "(95,)\n"
     ]
    }
   ],
   "source": [
    "# Splitting the dataset into 300 train and rest test\n",
    "\n",
    "obs = 395;\n",
    "train = 300;\n",
    "\n",
    "test_size = (obs - train)/(obs);\n",
    "seed = 1;\n",
    "\n",
    "X_train, X_test, y_train, y_test = train_test_split(X, y, test_size=test_size, random_state=seed)\n",
    "\n",
    "print(X_train.shape)\n",
    "print(X_test.shape)\n",
    "print(y_train.shape)\n",
    "print(y_test.shape)"
   ]
  },
  {
   "cell_type": "markdown",
   "metadata": {
    "colab_type": "text",
    "id": "GHYII1QjuHQ3"
   },
   "source": [
    "## Question 10 - Model Implementation and Testing the Accuracy\n",
    "\n",
    "*Build a **LogisticRegression** classifier using **fit()** and **predict()** functions in sklearn. Print Accuracy and F1 score of Training and Test sets.*\n",
    "\n",
    "#### Answer:"
   ]
  },
  {
   "cell_type": "code",
   "execution_count": 22,
   "metadata": {
    "colab": {},
    "colab_type": "code",
    "id": "ne88xLZQuHQ4"
   },
   "outputs": [
    {
     "name": "stdout",
     "output_type": "stream",
     "text": [
      "0.9052631578947369\n",
      "[[25  3]\n",
      " [ 6 61]]\n",
      "              precision    recall  f1-score   support\n",
      "\n",
      "           0       0.81      0.89      0.85        28\n",
      "           1       0.95      0.91      0.93        67\n",
      "\n",
      "   micro avg       0.91      0.91      0.91        95\n",
      "   macro avg       0.88      0.90      0.89        95\n",
      "weighted avg       0.91      0.91      0.91        95\n",
      "\n"
     ]
    },
    {
     "name": "stderr",
     "output_type": "stream",
     "text": [
      "C:\\ProgramData\\Anaconda3\\lib\\site-packages\\sklearn\\linear_model\\logistic.py:433: FutureWarning: Default solver will be changed to 'lbfgs' in 0.22. Specify a solver to silence this warning.\n",
      "  FutureWarning)\n"
     ]
    }
   ],
   "source": [
    "from sklearn.linear_model import LogisticRegression\n",
    "\n",
    "# Calling the LogicticRegression object adn storing it into \"model\"\n",
    "model = LogisticRegression()\n",
    "\n",
    "# Fiting out dataset into the model\n",
    "# By default regularized by L2\n",
    "model.fit(X_train, y_train)\n",
    "\n",
    "# Predicting the y variable using hte model fit and \"x_test\"\n",
    "y_predict = model.predict(X_test)\n",
    "\n",
    "#Measuring the model score/accuracy\n",
    "model_score = model.score(X_test, y_test)\n",
    "print(model_score)\n",
    "\n",
    "#Looking at other attributes of the model accuracy like recall and f1-score\n",
    "print(metrics.confusion_matrix(y_test, y_predict))\n",
    "print(metrics.classification_report(y_test, y_predict))\n",
    "\n",
    "# Observations:\n",
    "#    The model accuracy is 91% in the test dataset\n",
    "#    tHE Recall is also 91% i.e. we predicted the students with 'G3>=10' by 91%"
   ]
  },
  {
   "cell_type": "code",
   "execution_count": 23,
   "metadata": {
    "colab": {},
    "colab_type": "code",
    "id": "sTNrahjVuHQ6"
   },
   "outputs": [
    {
     "name": "stdout",
     "output_type": "stream",
     "text": [
      "Optimization terminated successfully.\n",
      "         Current function value: 0.185962\n",
      "         Iterations 9\n",
      "                          MNLogit Regression Results                          \n",
      "==============================================================================\n",
      "Dep. Variable:                     G3   No. Observations:                  300\n",
      "Model:                        MNLogit   Df Residuals:                      274\n",
      "Method:                           MLE   Df Model:                           25\n",
      "Date:                Sun, 06 Oct 2019   Pseudo R-squ.:                  0.7099\n",
      "Time:                        14:06:58   Log-Likelihood:                -55.789\n",
      "converged:                       True   LL-Null:                       -192.31\n",
      "                                        LLR p-value:                 1.465e-43\n",
      "==============================================================================\n",
      "      G3=1       coef    std err          z      P>|z|      [0.025      0.975]\n",
      "------------------------------------------------------------------------------\n",
      "school         0.3350      0.955      0.351      0.726      -1.537       2.207\n",
      "sex           -0.3578      0.691     -0.518      0.605      -1.712       0.997\n",
      "age           -0.3131      0.153     -2.047      0.041      -0.613      -0.013\n",
      "address        0.0028      0.703      0.004      0.997      -1.374       1.380\n",
      "famsize        0.0985      0.616      0.160      0.873      -1.109       1.306\n",
      "Pstatus       -0.6836      0.859     -0.796      0.426      -2.367       1.000\n",
      "Medu           0.3053      0.443      0.689      0.491      -0.563       1.174\n",
      "Fedu          -0.7798      0.376     -2.076      0.038      -1.516      -0.044\n",
      "Mjob          -0.1320      0.255     -0.518      0.605      -0.632       0.368\n",
      "Fjob           0.5220      0.338      1.545      0.122      -0.140       1.184\n",
      "reason         0.3667      0.238      1.539      0.124      -0.100       0.834\n",
      "guardian      -0.1377      0.598     -0.230      0.818      -1.309       1.034\n",
      "schoolsup     -0.9925      0.816     -1.217      0.224      -2.591       0.606\n",
      "famsup        -0.6786      0.587     -1.156      0.248      -1.829       0.472\n",
      "paid           0.4554      0.611      0.745      0.456      -0.742       1.653\n",
      "activities    -0.4146      0.583     -0.711      0.477      -1.557       0.728\n",
      "nursery       -0.1127      0.746     -0.151      0.880      -1.574       1.349\n",
      "higher         4.0233      1.664      2.418      0.016       0.762       7.285\n",
      "internet      -0.0105      0.736     -0.014      0.989      -1.453       1.432\n",
      "romantic      -0.9532      0.631     -1.512      0.131      -2.189       0.283\n",
      "goout         -0.1250      0.287     -0.435      0.664      -0.688       0.438\n",
      "Walc           0.5954      0.288      2.064      0.039       0.030       1.161\n",
      "health        -0.1070      0.195     -0.550      0.582      -0.488       0.274\n",
      "absences      -0.0416      0.039     -1.066      0.286      -0.118       0.035\n",
      "G1             1.4881      0.657      2.266      0.023       0.201       2.775\n",
      "G2             5.7722      0.847      6.812      0.000       4.111       7.433\n",
      "==============================================================================\n"
     ]
    }
   ],
   "source": [
    "# Also trying to score the model using the stats model\n",
    "\n",
    "import statsmodels.api as sm\n",
    "log_mod = sm.MNLogit(y_train, X_train).fit()\n",
    "\n",
    "print(log_mod.summary())"
   ]
  },
  {
   "cell_type": "markdown",
   "metadata": {
    "colab_type": "text",
    "id": "Vpy90Xe150sV"
   },
   "source": [
    "# Naive bayes with Iris data"
   ]
  },
  {
   "cell_type": "markdown",
   "metadata": {
    "colab_type": "text",
    "id": "Ymp7UMwnOgm0"
   },
   "source": [
    "### Import Iris.csv"
   ]
  },
  {
   "cell_type": "code",
   "execution_count": 24,
   "metadata": {
    "colab": {},
    "colab_type": "code",
    "id": "GNnaUGrjOgm1"
   },
   "outputs": [
    {
     "data": {
      "text/html": [
       "<div>\n",
       "<style scoped>\n",
       "    .dataframe tbody tr th:only-of-type {\n",
       "        vertical-align: middle;\n",
       "    }\n",
       "\n",
       "    .dataframe tbody tr th {\n",
       "        vertical-align: top;\n",
       "    }\n",
       "\n",
       "    .dataframe thead th {\n",
       "        text-align: right;\n",
       "    }\n",
       "</style>\n",
       "<table border=\"1\" class=\"dataframe\">\n",
       "  <thead>\n",
       "    <tr style=\"text-align: right;\">\n",
       "      <th></th>\n",
       "      <th>Id</th>\n",
       "      <th>SepalLengthCm</th>\n",
       "      <th>SepalWidthCm</th>\n",
       "      <th>PetalLengthCm</th>\n",
       "      <th>PetalWidthCm</th>\n",
       "      <th>Species</th>\n",
       "    </tr>\n",
       "  </thead>\n",
       "  <tbody>\n",
       "    <tr>\n",
       "      <th>0</th>\n",
       "      <td>1</td>\n",
       "      <td>5.1</td>\n",
       "      <td>3.5</td>\n",
       "      <td>1.4</td>\n",
       "      <td>0.2</td>\n",
       "      <td>Iris-setosa</td>\n",
       "    </tr>\n",
       "    <tr>\n",
       "      <th>1</th>\n",
       "      <td>2</td>\n",
       "      <td>4.9</td>\n",
       "      <td>3.0</td>\n",
       "      <td>1.4</td>\n",
       "      <td>0.2</td>\n",
       "      <td>Iris-setosa</td>\n",
       "    </tr>\n",
       "    <tr>\n",
       "      <th>2</th>\n",
       "      <td>3</td>\n",
       "      <td>4.7</td>\n",
       "      <td>3.2</td>\n",
       "      <td>1.3</td>\n",
       "      <td>0.2</td>\n",
       "      <td>Iris-setosa</td>\n",
       "    </tr>\n",
       "    <tr>\n",
       "      <th>3</th>\n",
       "      <td>4</td>\n",
       "      <td>4.6</td>\n",
       "      <td>3.1</td>\n",
       "      <td>1.5</td>\n",
       "      <td>0.2</td>\n",
       "      <td>Iris-setosa</td>\n",
       "    </tr>\n",
       "    <tr>\n",
       "      <th>4</th>\n",
       "      <td>5</td>\n",
       "      <td>5.0</td>\n",
       "      <td>3.6</td>\n",
       "      <td>1.4</td>\n",
       "      <td>0.2</td>\n",
       "      <td>Iris-setosa</td>\n",
       "    </tr>\n",
       "  </tbody>\n",
       "</table>\n",
       "</div>"
      ],
      "text/plain": [
       "   Id  SepalLengthCm  SepalWidthCm  PetalLengthCm  PetalWidthCm      Species\n",
       "0   1            5.1           3.5            1.4           0.2  Iris-setosa\n",
       "1   2            4.9           3.0            1.4           0.2  Iris-setosa\n",
       "2   3            4.7           3.2            1.3           0.2  Iris-setosa\n",
       "3   4            4.6           3.1            1.5           0.2  Iris-setosa\n",
       "4   5            5.0           3.6            1.4           0.2  Iris-setosa"
      ]
     },
     "execution_count": 24,
     "metadata": {},
     "output_type": "execute_result"
    }
   ],
   "source": [
    "# Importing Iris dataset and eyeballing the top 10 observations\n",
    "iris = pd.read_csv(\"iris.csv\")\n",
    "iris.head()\n"
   ]
  },
  {
   "cell_type": "code",
   "execution_count": 25,
   "metadata": {
    "colab": {},
    "colab_type": "code",
    "id": "-o6lAxL3OgnC"
   },
   "outputs": [
    {
     "name": "stdout",
     "output_type": "stream",
     "text": [
      "<class 'pandas.core.frame.DataFrame'>\n",
      "RangeIndex: 152 entries, 0 to 151\n",
      "Data columns (total 6 columns):\n",
      "Id               152 non-null int64\n",
      "SepalLengthCm    151 non-null float64\n",
      "SepalWidthCm     150 non-null float64\n",
      "PetalLengthCm    150 non-null float64\n",
      "PetalWidthCm     151 non-null float64\n",
      "Species          152 non-null object\n",
      "dtypes: float64(4), int64(1), object(1)\n",
      "memory usage: 7.2+ KB\n"
     ]
    }
   ],
   "source": [
    "# Trying to understand the variable type and if any missing vaues are present or not\n",
    "iris.info()\n",
    "\n",
    "# We see that \"SepalLengthCm\",\"SepalWidthCm\",\"PetalLengthCm\",\"PetalWidthCm\" have missing values which need to be treated "
   ]
  },
  {
   "cell_type": "code",
   "execution_count": 26,
   "metadata": {
    "colab": {},
    "colab_type": "code",
    "id": "XVanNOb7OgnI"
   },
   "outputs": [
    {
     "data": {
      "text/plain": [
       "array(['Iris-setosa', 'Iris-versicolor', 'Iris-virginica'], dtype=object)"
      ]
     },
     "execution_count": 26,
     "metadata": {},
     "output_type": "execute_result"
    }
   ],
   "source": [
    "# Trying to look at the unique classes in the datasets which needs to be predicted \n",
    "iris[\"Species\"].unique()"
   ]
  },
  {
   "cell_type": "code",
   "execution_count": 27,
   "metadata": {},
   "outputs": [
    {
     "name": "stdout",
     "output_type": "stream",
     "text": [
      "Empty DataFrame\n",
      "Columns: [Id, SepalLengthCm, SepalWidthCm, PetalLengthCm, PetalWidthCm, Species]\n",
      "Index: []\n",
      "      Id  SepalLengthCm  SepalWidthCm  PetalLengthCm  PetalWidthCm  \\\n",
      "151  152            NaN           NaN            NaN           1.8   \n",
      "\n",
      "            Species  \n",
      "151  Iris-virginica  \n",
      "      Id  SepalLengthCm  SepalWidthCm  PetalLengthCm  PetalWidthCm  \\\n",
      "150  151            5.9           NaN            NaN           NaN   \n",
      "151  152            NaN           NaN            NaN           1.8   \n",
      "\n",
      "            Species  \n",
      "150  Iris-virginica  \n",
      "151  Iris-virginica  \n",
      "      Id  SepalLengthCm  SepalWidthCm  PetalLengthCm  PetalWidthCm  \\\n",
      "150  151            5.9           NaN            NaN           NaN   \n",
      "151  152            NaN           NaN            NaN           1.8   \n",
      "\n",
      "            Species  \n",
      "150  Iris-virginica  \n",
      "151  Iris-virginica  \n",
      "      Id  SepalLengthCm  SepalWidthCm  PetalLengthCm  PetalWidthCm  \\\n",
      "150  151            5.9           NaN            NaN           NaN   \n",
      "\n",
      "            Species  \n",
      "150  Iris-virginica  \n",
      "Empty DataFrame\n",
      "Columns: [Id, SepalLengthCm, SepalWidthCm, PetalLengthCm, PetalWidthCm, Species]\n",
      "Index: []\n"
     ]
    }
   ],
   "source": [
    "# Capturing the index of the missing observations\n",
    "\n",
    "Col = iris.columns\n",
    "\n",
    "for i in Col:\n",
    "    print(iris[iris[i].isna() == True])\n",
    "\n",
    "    \n",
    "# Last 2 observations have Missing values which are flowing as NaN into the dataset"
   ]
  },
  {
   "cell_type": "code",
   "execution_count": 28,
   "metadata": {},
   "outputs": [
    {
     "name": "stdout",
     "output_type": "stream",
     "text": [
      "                    Id  SepalLengthCm  SepalWidthCm  PetalLengthCm  \\\n",
      "Species                                                              \n",
      "Iris-setosa       25.5        5.00600         3.418          1.464   \n",
      "Iris-versicolor   75.5        5.93600         2.770          4.260   \n",
      "Iris-virginica   126.5        6.57451         2.974          5.552   \n",
      "\n",
      "                 PetalWidthCm  \n",
      "Species                        \n",
      "Iris-setosa          0.244000  \n",
      "Iris-versicolor      1.326000  \n",
      "Iris-virginica       2.021569  \n",
      "['Iris-setosa' 'Iris-versicolor' 'Iris-virginica']\n"
     ]
    },
    {
     "name": "stderr",
     "output_type": "stream",
     "text": [
      "C:\\ProgramData\\Anaconda3\\lib\\site-packages\\ipykernel_launcher.py:19: SettingWithCopyWarning: \n",
      "A value is trying to be set on a copy of a slice from a DataFrame.\n",
      "Try using .loc[row_indexer,col_indexer] = value instead\n",
      "\n",
      "See the caveats in the documentation: http://pandas.pydata.org/pandas-docs/stable/indexing.html#indexing-view-versus-copy\n"
     ]
    },
    {
     "name": "stdout",
     "output_type": "stream",
     "text": [
      "               Id  SepalLengthCm  SepalWidthCm  PetalLengthCm  PetalWidthCm\n",
      "count  152.000000     152.000000    152.000000     152.000000    152.000000\n",
      "mean    76.500000       5.848517      3.052947       3.782263      1.208037\n",
      "std     44.022721       0.824710      0.430810       1.764648      0.762556\n",
      "min      1.000000       4.300000      2.000000       1.000000      0.100000\n",
      "25%     38.750000       5.100000      2.800000       1.600000      0.300000\n",
      "50%     76.500000       5.800000      3.000000       4.400000      1.300000\n",
      "75%    114.250000       6.400000      3.300000       5.100000      1.800000\n",
      "max    152.000000       7.900000      4.400000       6.900000      2.500000\n"
     ]
    },
    {
     "data": {
      "text/html": [
       "<div>\n",
       "<style scoped>\n",
       "    .dataframe tbody tr th:only-of-type {\n",
       "        vertical-align: middle;\n",
       "    }\n",
       "\n",
       "    .dataframe tbody tr th {\n",
       "        vertical-align: top;\n",
       "    }\n",
       "\n",
       "    .dataframe thead th {\n",
       "        text-align: right;\n",
       "    }\n",
       "</style>\n",
       "<table border=\"1\" class=\"dataframe\">\n",
       "  <thead>\n",
       "    <tr style=\"text-align: right;\">\n",
       "      <th></th>\n",
       "      <th>SepalLengthCm</th>\n",
       "      <th>SepalWidthCm</th>\n",
       "      <th>PetalLengthCm</th>\n",
       "      <th>PetalWidthCm</th>\n",
       "      <th>Species</th>\n",
       "    </tr>\n",
       "  </thead>\n",
       "  <tbody>\n",
       "    <tr>\n",
       "      <th>147</th>\n",
       "      <td>6.50000</td>\n",
       "      <td>3.000</td>\n",
       "      <td>5.200</td>\n",
       "      <td>2.000000</td>\n",
       "      <td>Iris-virginica</td>\n",
       "    </tr>\n",
       "    <tr>\n",
       "      <th>148</th>\n",
       "      <td>6.20000</td>\n",
       "      <td>3.400</td>\n",
       "      <td>5.400</td>\n",
       "      <td>2.300000</td>\n",
       "      <td>Iris-virginica</td>\n",
       "    </tr>\n",
       "    <tr>\n",
       "      <th>149</th>\n",
       "      <td>5.90000</td>\n",
       "      <td>3.000</td>\n",
       "      <td>5.100</td>\n",
       "      <td>1.800000</td>\n",
       "      <td>Iris-virginica</td>\n",
       "    </tr>\n",
       "    <tr>\n",
       "      <th>150</th>\n",
       "      <td>5.90000</td>\n",
       "      <td>2.974</td>\n",
       "      <td>5.552</td>\n",
       "      <td>2.021569</td>\n",
       "      <td>Iris-virginica</td>\n",
       "    </tr>\n",
       "    <tr>\n",
       "      <th>151</th>\n",
       "      <td>6.57451</td>\n",
       "      <td>2.974</td>\n",
       "      <td>5.552</td>\n",
       "      <td>1.800000</td>\n",
       "      <td>Iris-virginica</td>\n",
       "    </tr>\n",
       "  </tbody>\n",
       "</table>\n",
       "</div>"
      ],
      "text/plain": [
       "     SepalLengthCm  SepalWidthCm  PetalLengthCm  PetalWidthCm         Species\n",
       "147        6.50000         3.000          5.200      2.000000  Iris-virginica\n",
       "148        6.20000         3.400          5.400      2.300000  Iris-virginica\n",
       "149        5.90000         3.000          5.100      1.800000  Iris-virginica\n",
       "150        5.90000         2.974          5.552      2.021569  Iris-virginica\n",
       "151        6.57451         2.974          5.552      1.800000  Iris-virginica"
      ]
     },
     "execution_count": 28,
     "metadata": {},
     "output_type": "execute_result"
    }
   ],
   "source": [
    "# calculating the grouped mean of various Classes\n",
    "\n",
    "t2 = iris.groupby(\"Species\").mean()\n",
    "print(t2)\n",
    "\n",
    "# Storing the Classes into a variable to be used as a comparator or itrator\n",
    "zz = iris[\"Species\"].unique()\n",
    "print(zz)\n",
    "\n",
    "# Creating a dummy dataframe\n",
    "DF = pd.DataFrame()\n",
    "DF\n",
    "\n",
    "# replacing the null values with the mean of the the class/label \n",
    "for j in range(0,3,1):\n",
    "    tt = iris[iris[Col[5]] == zz[j]]\n",
    "    #print(tt)\n",
    "    for i in range(1,5,1):       \n",
    "        tt[Col[i]] = tt[Col[i]].replace(np.NaN,tt[Col[i]].mean())\n",
    "    #print(tt)\n",
    "    DF = DF.append(tt, ignore_index=True)\n",
    "    #print(DF)\n",
    "\n",
    "    \n",
    "iris = DF;\n",
    "print(iris.describe())\n",
    "iris.tail()\n",
    "\n",
    "# Dropping ID column from the dataset\n",
    "iris1 = iris.drop(\"Id\", axis = 1)\n",
    "iris1.head()\n",
    "iris1.tail()\n",
    "\n",
    "# All the NaN values has been replaced withe their respective Class and variable mean value"
   ]
  },
  {
   "cell_type": "markdown",
   "metadata": {
    "colab_type": "text",
    "id": "6UMrLVa9OgnM"
   },
   "source": [
    "### Slice data set for Independent variables and dependent variables\n",
    "#### Please note 'Species' is my dependent variables, name it y and independent set data as X"
   ]
  },
  {
   "cell_type": "code",
   "execution_count": 29,
   "metadata": {
    "colab": {},
    "colab_type": "code",
    "id": "YuqCZK2-OgnN"
   },
   "outputs": [
    {
     "name": "stdout",
     "output_type": "stream",
     "text": [
      "   SepalLengthCm  SepalWidthCm  PetalLengthCm  PetalWidthCm\n",
      "0            5.1           3.5            1.4           0.2\n",
      "1            4.9           3.0            1.4           0.2\n",
      "2            4.7           3.2            1.3           0.2\n",
      "3            4.6           3.1            1.5           0.2\n",
      "4            5.0           3.6            1.4           0.2\n",
      "0    Iris-setosa\n",
      "1    Iris-setosa\n",
      "2    Iris-setosa\n",
      "3    Iris-setosa\n",
      "4    Iris-setosa\n",
      "Name: Species, dtype: object\n",
      "(152, 4)\n",
      "(152,)\n"
     ]
    }
   ],
   "source": [
    "# Splitting the dataset into the feature space and the target variable\n",
    "\n",
    "X = iris1.iloc[:,0:-1];\n",
    "y = iris1.iloc[:,-1];\n",
    "\n",
    "print(X.head())\n",
    "print(y.head())\n",
    "print(X.shape)\n",
    "print(y.shape)"
   ]
  },
  {
   "cell_type": "markdown",
   "metadata": {
    "colab_type": "text",
    "id": "oe4YSXwkOgnV"
   },
   "source": [
    "### Find the distribution of target variable (Class)"
   ]
  },
  {
   "cell_type": "code",
   "execution_count": 30,
   "metadata": {
    "colab": {},
    "colab_type": "code",
    "id": "65wA_xofOgnW"
   },
   "outputs": [
    {
     "data": {
      "text/plain": [
       "Iris-virginica     52\n",
       "Iris-setosa        50\n",
       "Iris-versicolor    50\n",
       "Name: Species, dtype: int64"
      ]
     },
     "execution_count": 30,
     "metadata": {},
     "output_type": "execute_result"
    }
   ],
   "source": [
    "# Distribution of Species across its unoque values\n",
    "pd.value_counts(iris1[\"Species\"])\n",
    "\n",
    "# Class 1 - \"Iris-virginica\" have 2 more observations than other 2 classes"
   ]
  },
  {
   "cell_type": "markdown",
   "metadata": {
    "colab_type": "text",
    "id": "t386HtyCOgnb"
   },
   "source": [
    "\n",
    "### Plot the distribution of target variable using histogram"
   ]
  },
  {
   "cell_type": "code",
   "execution_count": 31,
   "metadata": {
    "colab": {},
    "colab_type": "code",
    "id": "1FbADzabOgnc"
   },
   "outputs": [
    {
     "data": {
      "text/plain": [
       "<matplotlib.axes._subplots.AxesSubplot at 0x2b1cfdfc9b0>"
      ]
     },
     "execution_count": 31,
     "metadata": {},
     "output_type": "execute_result"
    },
    {
     "data": {
      "image/png": "[encoded data removed]",
      "text/plain": [
       "<Figure size 432x288 with 1 Axes>"
      ]
     },
     "metadata": {
      "needs_background": "light"
     },
     "output_type": "display_data"
    }
   ],
   "source": [
    "#Visual representation of the above distribution\n",
    "\n",
    "pd.value_counts(iris1[\"Species\"]).plot(kind=\"bar\")"
   ]
  },
  {
   "cell_type": "markdown",
   "metadata": {
    "colab_type": "text",
    "id": "AvPOo-YKOgng"
   },
   "source": [
    "### Plot Scatter Matrix to understand the distribution of variables and give insights from it( 1 Marks)"
   ]
  },
  {
   "cell_type": "code",
   "execution_count": 32,
   "metadata": {
    "colab": {},
    "colab_type": "code",
    "id": "JgvP1rbgOgnh"
   },
   "outputs": [
    {
     "data": {
      "text/plain": [
       "<seaborn.axisgrid.PairGrid at 0x2b1ce05aef0>"
      ]
     },
     "execution_count": 32,
     "metadata": {},
     "output_type": "execute_result"
    },
    {
     "data": {
      "image/png": "[encoded data removed]",
      "text/plain": [
       "<Figure size 823.5x720 with 20 Axes>"
      ]
     },
     "metadata": {
      "needs_background": "light"
     },
     "output_type": "display_data"
    }
   ],
   "source": [
    "# Doing a bi-variate analysis on the independent variables within difrerent classes\n",
    "sns.pairplot(iris1, hue = \"Species\")\n",
    "\n",
    "# Observations:\n",
    "#    Sepal_Length, Petal_Length and Petal_Width looks to be a good seperator of the 3 different calsses \n",
    "#    Sepal_Width overlaps in all the 3 classes so wount act as a good classifying variable"
   ]
  },
  {
   "cell_type": "markdown",
   "metadata": {
    "colab_type": "text",
    "id": "vkV6DZSLOgnm"
   },
   "source": [
    "### Summary Statistics and explain insights for at least 2 variables"
   ]
  },
  {
   "cell_type": "code",
   "execution_count": 33,
   "metadata": {
    "colab": {},
    "colab_type": "code",
    "id": "NFpTN29OOgnn"
   },
   "outputs": [
    {
     "data": {
      "text/html": [
       "<div>\n",
       "<style scoped>\n",
       "    .dataframe tbody tr th:only-of-type {\n",
       "        vertical-align: middle;\n",
       "    }\n",
       "\n",
       "    .dataframe tbody tr th {\n",
       "        vertical-align: top;\n",
       "    }\n",
       "\n",
       "    .dataframe thead th {\n",
       "        text-align: right;\n",
       "    }\n",
       "</style>\n",
       "<table border=\"1\" class=\"dataframe\">\n",
       "  <thead>\n",
       "    <tr style=\"text-align: right;\">\n",
       "      <th></th>\n",
       "      <th>SepalLengthCm</th>\n",
       "      <th>SepalWidthCm</th>\n",
       "      <th>PetalLengthCm</th>\n",
       "      <th>PetalWidthCm</th>\n",
       "    </tr>\n",
       "  </thead>\n",
       "  <tbody>\n",
       "    <tr>\n",
       "      <th>count</th>\n",
       "      <td>152.000000</td>\n",
       "      <td>152.000000</td>\n",
       "      <td>152.000000</td>\n",
       "      <td>152.000000</td>\n",
       "    </tr>\n",
       "    <tr>\n",
       "      <th>mean</th>\n",
       "      <td>5.848517</td>\n",
       "      <td>3.052947</td>\n",
       "      <td>3.782263</td>\n",
       "      <td>1.208037</td>\n",
       "    </tr>\n",
       "    <tr>\n",
       "      <th>std</th>\n",
       "      <td>0.824710</td>\n",
       "      <td>0.430810</td>\n",
       "      <td>1.764648</td>\n",
       "      <td>0.762556</td>\n",
       "    </tr>\n",
       "    <tr>\n",
       "      <th>min</th>\n",
       "      <td>4.300000</td>\n",
       "      <td>2.000000</td>\n",
       "      <td>1.000000</td>\n",
       "      <td>0.100000</td>\n",
       "    </tr>\n",
       "    <tr>\n",
       "      <th>25%</th>\n",
       "      <td>5.100000</td>\n",
       "      <td>2.800000</td>\n",
       "      <td>1.600000</td>\n",
       "      <td>0.300000</td>\n",
       "    </tr>\n",
       "    <tr>\n",
       "      <th>50%</th>\n",
       "      <td>5.800000</td>\n",
       "      <td>3.000000</td>\n",
       "      <td>4.400000</td>\n",
       "      <td>1.300000</td>\n",
       "    </tr>\n",
       "    <tr>\n",
       "      <th>75%</th>\n",
       "      <td>6.400000</td>\n",
       "      <td>3.300000</td>\n",
       "      <td>5.100000</td>\n",
       "      <td>1.800000</td>\n",
       "    </tr>\n",
       "    <tr>\n",
       "      <th>max</th>\n",
       "      <td>7.900000</td>\n",
       "      <td>4.400000</td>\n",
       "      <td>6.900000</td>\n",
       "      <td>2.500000</td>\n",
       "    </tr>\n",
       "  </tbody>\n",
       "</table>\n",
       "</div>"
      ],
      "text/plain": [
       "       SepalLengthCm  SepalWidthCm  PetalLengthCm  PetalWidthCm\n",
       "count     152.000000    152.000000     152.000000    152.000000\n",
       "mean        5.848517      3.052947       3.782263      1.208037\n",
       "std         0.824710      0.430810       1.764648      0.762556\n",
       "min         4.300000      2.000000       1.000000      0.100000\n",
       "25%         5.100000      2.800000       1.600000      0.300000\n",
       "50%         5.800000      3.000000       4.400000      1.300000\n",
       "75%         6.400000      3.300000       5.100000      1.800000\n",
       "max         7.900000      4.400000       6.900000      2.500000"
      ]
     },
     "execution_count": 33,
     "metadata": {},
     "output_type": "execute_result"
    }
   ],
   "source": [
    "# Understanding the summary statistics of the data:\n",
    "\n",
    "iris1.describe()\n",
    "\n",
    "# Observation:\n",
    "#   Mean and Median of Sepal_Length nad Petal_Width doesnot vary much\n",
    "#   Large Standard deviation is seen for Petal_Length\n",
    "#   Petal_Lengh might have a right tail as its \"Q3 - Q2\" is larger than \"Q2 - Q1\""
   ]
  },
  {
   "cell_type": "markdown",
   "metadata": {
    "colab_type": "text",
    "id": "_MsXi4JROgnv"
   },
   "source": [
    "### Correlation among all variables and give your insights"
   ]
  },
  {
   "cell_type": "code",
   "execution_count": 34,
   "metadata": {},
   "outputs": [],
   "source": [
    "# Encoding the Classes into a numeric format\n",
    "\n",
    "iris1[\"Species\"] = iris1[\"Species\"].replace({'Iris-setosa': 0, 'Iris-versicolor': 1, 'Iris-virginica': 2})"
   ]
  },
  {
   "cell_type": "code",
   "execution_count": 35,
   "metadata": {
    "colab": {},
    "colab_type": "code",
    "id": "ENUi26odOgnx"
   },
   "outputs": [
    {
     "data": {
      "image/png": "[encoded data removed]",
      "text/plain": [
       "<Figure size 1368x1080 with 2 Axes>"
      ]
     },
     "metadata": {
      "needs_background": "light"
     },
     "output_type": "display_data"
    }
   ],
   "source": [
    "# Ploting a corelation matrix between the dependent and independent variables\n",
    "\n",
    "df = iris1;\n",
    "\n",
    "f = plt.figure(figsize=(19, 15))\n",
    "plt.matshow(df.corr(), fignum=f.number)\n",
    "plt.xticks(range(df.shape[1]), df.columns, fontsize=14, rotation=45)\n",
    "plt.yticks(range(df.shape[1]), df.columns, fontsize=14)\n",
    "cb = plt.colorbar()\n",
    "cb.ax.tick_params(labelsize=14)\n",
    "plt.title('Correlation Matrix', fontsize=16);\n",
    "\n",
    "#Observations:\n",
    "#    No corelation is seen between Septal_Width and Septal_Length\n",
    "#    Spetal_Width have light negative coreation with other 3 indeoendent variables\n",
    "#    Petal_Length and Petal_Width are highly corelated"
   ]
  },
  {
   "cell_type": "markdown",
   "metadata": {
    "colab_type": "text",
    "id": "ciKj4Zf6Ogn8"
   },
   "source": [
    "### Split data in Training and Validation in 80:20"
   ]
  },
  {
   "cell_type": "code",
   "execution_count": 36,
   "metadata": {
    "colab": {},
    "colab_type": "code",
    "id": "UAeLAItYOgn9"
   },
   "outputs": [
    {
     "name": "stdout",
     "output_type": "stream",
     "text": [
      "(152, 4)\n",
      "(152,)\n",
      "(121, 4)\n",
      "(31, 4)\n",
      "(121,)\n",
      "(31,)\n"
     ]
    }
   ],
   "source": [
    "# Normalizing the feature space using the z-score\n",
    "from scipy.stats import zscore\n",
    "X_z = X.apply(zscore)\n",
    "print(X_z.shape)\n",
    "print(y.shape)\n",
    "\n",
    "# Spliting the training and test dataset into 80:20 ratio \n",
    "test_size = 0.20;\n",
    "seed = 1;\n",
    "\n",
    "X_train, X_test, y_train, y_test = train_test_split(X_z, y, test_size=test_size, random_state=seed)\n",
    "\n",
    "print(X_train.shape)\n",
    "print(X_test.shape)\n",
    "print(y_train.shape)\n",
    "print(y_test.shape)"
   ]
  },
  {
   "cell_type": "markdown",
   "metadata": {
    "colab_type": "text",
    "id": "1-a4C3w9OgoA"
   },
   "source": [
    "### Do Feature Scaling"
   ]
  },
  {
   "cell_type": "code",
   "execution_count": 37,
   "metadata": {
    "colab": {},
    "colab_type": "code",
    "id": "6-9z1toUOgoC"
   },
   "outputs": [],
   "source": [
    "#Done in the above step"
   ]
  },
  {
   "cell_type": "markdown",
   "metadata": {
    "colab_type": "text",
    "id": "miK8grUROgoI"
   },
   "source": [
    "### Train and Fit NaiveBayes Model"
   ]
  },
  {
   "cell_type": "code",
   "execution_count": 38,
   "metadata": {
    "colab": {},
    "colab_type": "code",
    "id": "29HTCg2POgoL"
   },
   "outputs": [
    {
     "data": {
      "text/plain": [
       "GaussianNB(priors=None, var_smoothing=1e-09)"
      ]
     },
     "execution_count": 38,
     "metadata": {},
     "output_type": "execute_result"
    }
   ],
   "source": [
    "from sklearn.naive_bayes import GaussianNB\n",
    "\n",
    "\n",
    "# Invoking the NB Gaussian function to create the model\n",
    "# fitting the model in the training data set\n",
    "model = GaussianNB()\n",
    "model.fit(X_train, y_train)"
   ]
  },
  {
   "cell_type": "code",
   "execution_count": 39,
   "metadata": {
    "colab": {},
    "colab_type": "code",
    "id": "96wnWGX8OgoR"
   },
   "outputs": [
    {
     "data": {
      "text/plain": [
       "0.9504132231404959"
      ]
     },
     "execution_count": 39,
     "metadata": {},
     "output_type": "execute_result"
    }
   ],
   "source": [
    "# Scoring he model on the training dataset\n",
    "model.score(X_train, y_train)"
   ]
  },
  {
   "cell_type": "code",
   "execution_count": null,
   "metadata": {
    "colab": {},
    "colab_type": "code",
    "id": "aLOFqj44OgoT"
   },
   "outputs": [],
   "source": []
  },
  {
   "cell_type": "markdown",
   "metadata": {
    "colab_type": "text",
    "id": "zkbFn_g-OgoY"
   },
   "source": [
    "### Print Accuracy and Confusion Matrix and Conclude your findings"
   ]
  },
  {
   "cell_type": "code",
   "execution_count": 40,
   "metadata": {
    "colab": {},
    "colab_type": "code",
    "id": "y2kBUikzOgoZ"
   },
   "outputs": [],
   "source": [
    "# Predicting the Classes using the built model and the test features\n",
    "y_pred = model.predict(X_test)"
   ]
  },
  {
   "cell_type": "code",
   "execution_count": 41,
   "metadata": {},
   "outputs": [
    {
     "name": "stdout",
     "output_type": "stream",
     "text": [
      "                 precision    recall  f1-score   support\n",
      "\n",
      "    Iris-setosa       1.00      1.00      1.00        10\n",
      "Iris-versicolor       1.00      1.00      1.00        13\n",
      " Iris-virginica       1.00      1.00      1.00         8\n",
      "\n",
      "      micro avg       1.00      1.00      1.00        31\n",
      "      macro avg       1.00      1.00      1.00        31\n",
      "   weighted avg       1.00      1.00      1.00        31\n",
      "\n",
      "[[10  0  0]\n",
      " [ 0 13  0]\n",
      " [ 0  0  8]]\n"
     ]
    }
   ],
   "source": [
    "# ALso looking at the confusion matrix and sensitivity of the model\n",
    "\n",
    "print(metrics.classification_report(y_test, y_pred))\n",
    "print(metrics.confusion_matrix(y_test, y_pred))\n",
    "\n",
    "# We find the model have predicted the Classes with 100% accuracy with 100% recall and F1-score"
   ]
  },
  {
   "cell_type": "code",
   "execution_count": 42,
   "metadata": {
    "colab": {},
    "colab_type": "code",
    "id": "mQZ7Xz8SOgoe"
   },
   "outputs": [
    {
     "name": "stdout",
     "output_type": "stream",
     "text": [
      "Cross-validated scores: [0.92307692 0.92307692 1.         0.92307692 1.         0.83333333\n",
      " 1.         0.90909091 0.90909091 0.90909091] [0.92307692 0.92307692 1.         0.92307692 1.         0.83333333\n",
      " 1.         0.90909091 0.90909091 0.90909091]\n",
      "Average score: 0.9329836829836828\n"
     ]
    }
   ],
   "source": [
    "# Performing K-fold validation on the model built\n",
    "\n",
    "from sklearn.model_selection import cross_val_score, cross_val_predict\n",
    "\n",
    "scores = cross_val_score(model, X_train, y_train, cv=10)\n",
    "print(\"Cross-validated scores:\", scores , scores)\n",
    "print(\"Average score:\" , np.average(scores))\n",
    "\n",
    "# The model prediction accuracy cons to be 93%"
   ]
  },
  {
   "cell_type": "code",
   "execution_count": 43,
   "metadata": {
    "colab": {},
    "colab_type": "code",
    "id": "fy7LN9ZuOgoi"
   },
   "outputs": [
    {
     "name": "stdout",
     "output_type": "stream",
     "text": [
      "                 precision    recall  f1-score   support\n",
      "\n",
      "    Iris-setosa       1.00      1.00      1.00        10\n",
      "Iris-versicolor       1.00      1.00      1.00        13\n",
      " Iris-virginica       1.00      1.00      1.00         8\n",
      "\n",
      "      micro avg       1.00      1.00      1.00        31\n",
      "      macro avg       1.00      1.00      1.00        31\n",
      "   weighted avg       1.00      1.00      1.00        31\n",
      "\n",
      "[[10  0  0]\n",
      " [ 0 13  0]\n",
      " [ 0  0  8]]\n"
     ]
    }
   ],
   "source": [
    "print(metrics.classification_report(y_test, y_pred))\n",
    "print(metrics.confusion_matrix(y_test, y_pred))"
   ]
  },
  {
   "cell_type": "code",
   "execution_count": null,
   "metadata": {},
   "outputs": [],
   "source": []
  }
 ],
 "metadata": {
  "colab": {
   "name": "R3_External_Lab_Logistic_and_Naive_bayes_questions.ipynb",
   "provenance": [],
   "version": "0.3.2"
  },
  "kernelspec": {
   "display_name": "Python 3",
   "language": "python",
   "name": "python3"
  },
  "language_info": {
   "codemirror_mode": {
    "name": "ipython",
    "version": 3
   },
   "file_extension": ".py",
   "mimetype": "text/x-python",
   "name": "python",
   "nbconvert_exporter": "python",
   "pygments_lexer": "ipython3",
   "version": "3.7.3"
  }
 },
 "nbformat": 4,
 "nbformat_minor": 1
}
